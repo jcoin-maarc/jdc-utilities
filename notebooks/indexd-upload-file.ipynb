{
 "cells": [
  {
   "cell_type": "code",
   "execution_count": 17,
   "metadata": {},
   "outputs": [],
   "source": [
    "from gen3.auth import Gen3Auth\n",
    "#NOTE: using the Gen3File object to get presigned url so no need for these \n",
    "# (previously used to call directly from fence API)\n",
    "#from urllib.parse import parse_qsl, urlencode, urlparse, urlunparse\n",
    "from gen3.file import Gen3File\n",
    "from gen3.index import Gen3Index\n",
    "from gen3.submission import Gen3Submission\n",
    "import os\n",
    "import requests\n",
    "import hashlib"
   ]
  },
  {
   "cell_type": "code",
   "execution_count": 18,
   "metadata": {},
   "outputs": [],
   "source": [
    "COMMONS = 'https://jcoin.datacommons.io/'\n",
    "CREDS_PATH = 'credentials.json'\n",
    "AWS_BUCKET = \"s3://jcoinprod-default-258867494168-upload\"\n"
   ]
  },
  {
   "cell_type": "code",
   "execution_count": 19,
   "metadata": {},
   "outputs": [],
   "source": [
    "program = \"JCOIN\"\n",
    "project = \"\" #project as it appears in fence (ie profile)\n",
    "uploader = \"\" #uploader identifier (ie email)"
   ]
  },
  {
   "cell_type": "code",
   "execution_count": 20,
   "metadata": {},
   "outputs": [],
   "source": [
    "auth = Gen3Auth(COMMONS,CREDS_PATH)\n",
    "index = Gen3Index(auth)\n",
    "sub = Gen3Submission(auth)"
   ]
  },
  {
   "cell_type": "markdown",
   "metadata": {},
   "source": [
    "## Prototype code for one file upload"
   ]
  },
  {
   "cell_type": "markdown",
   "metadata": {},
   "source": [
    "Current gen3 file information \n",
    "(this includes current_object_id of core measures mapped to sheepdog and \n",
    "the indexed info of this sheepdog record)"
   ]
  },
  {
   "cell_type": "code",
   "execution_count": 21,
   "metadata": {},
   "outputs": [
    {
     "name": "stdout",
     "output_type": "stream",
     "text": [
      "[2022-11-20 16:50:01,414][WARNING] failed to write token cache file: C:\\Users\\kranz-michael/.cache/gen3/token_cache_e0c34db1a31432a1762ea4828d951154\n",
      "[2022-11-20 16:50:01,415][WARNING] [WinError 183] Cannot create a file when that file already exists: 'C:\\\\Users\\\\kranz-michael/.cache/gen3/token_cache_e0c34db1a31432a1762ea4828d951154.tmp_eraseme_46717_1668984601' -> 'C:\\\\Users\\\\kranz-michael/.cache/gen3/token_cache_e0c34db1a31432a1762ea4828d951154'\n",
      "[2022-11-20 16:50:01,416][WARNING] backoff: call gen3.auth._write_to_file(<gen3.auth.Gen3Auth object at 0x000001B3D96D41F0>, C:\\Users\\kranz-michael/.cache/gen3/token_cache_e0c34db1a31432a1762ea4828d951154, eyJ0eXAiOiJKV1QiLCJhbGciOiJSUzI1NiIsImtpZCI6ImZlbmNlX2tleV8yMDIwLTAxLTAyVDA2OjM1OjA4WiJ9.eyJwdXIiOiJhY2Nlc3MiLCJpc3MiOiJodHRwczovL2pjb2luLmRhdGFjb21tb25zLmlvL3VzZXIiLCJhdWQiOlsiaHR0cHM6Ly9qY29pbi5kYXRhY29tbW9ucy5pby91c2VyIiwiZmVuY2UiLCJnb29nbGVfc2VydmljZV9hY2NvdW50IiwiZ29vZ2xlX2NyZWRlbnRpYWxzIiwiYWRtaW4iLCJvcGVuaWQiLCJkYXRhIiwidXNlciIsImdvb2dsZV9saW5rIl0sImlhdCI6MTY2ODk4NDYwMSwiZXhwIjoxNjY4OTg4MjAxLCJqdGkiOiJmNzJlZmVlZS01ZTIwLTQ5N2QtYjM5Mi1kNGJiZGJmNjU4ZGMiLCJzY29wZSI6WyJmZW5jZSIsImdvb2dsZV9zZXJ2aWNlX2FjY291bnQiLCJnb29nbGVfY3JlZGVudGlhbHMiLCJhZG1pbiIsIm9wZW5pZCIsImRhdGEiLCJ1c2VyIiwiZ29vZ2xlX2xpbmsiXSwiY29udGV4dCI6eyJ1c2VyIjp7Im5hbWUiOiJtYmtyYW56QGdtYWlsLmNvbSIsImlzX2FkbWluIjpmYWxzZSwiZ29vZ2xlIjp7InByb3h5X2dyb3VwIjpudWxsfX19LCJhenAiOiIiLCJzdWIiOiI3OSJ9.X3WJbo5h3MSX7FV2DV0jg82OLdy401WqZgI2qwpheXSiLg-eMJapDGA1SWYXPym31Vh3-NKc9fPakB26505xZ8yyFpQuDzQHjftBNDBzGS_s9YAXJAGdPA2VLW8y44_IHZRJkj5s9u3-BcbVzoN10Sukqk4PaFMvAAacSl2x7gWDpokoYnFG9j-ESLiOwAnU6FdfUEmGjofkT6Ui9rE9inc-RtIPMvzs0R_Kr6dvd4tX-549r5cDX3biwR8NzVOtqVnqBMMPlkau8rNQg4ilS7Btuh6mX-Rmhkyn-5n_41q7ATTfkXGcAnKnBo44u9ZdFfmBFIbiaiJr3t8FkTUdhg) delay 0.4 seconds after 1 tries\n",
      "[2022-11-20 16:50:01,800][WARNING] failed to write token cache file: C:\\Users\\kranz-michael/.cache/gen3/token_cache_e0c34db1a31432a1762ea4828d951154\n",
      "[2022-11-20 16:50:01,801][WARNING] [WinError 183] Cannot create a file when that file already exists: 'C:\\\\Users\\\\kranz-michael/.cache/gen3/token_cache_e0c34db1a31432a1762ea4828d951154.tmp_eraseme_71871_1668984601' -> 'C:\\\\Users\\\\kranz-michael/.cache/gen3/token_cache_e0c34db1a31432a1762ea4828d951154'\n",
      "[2022-11-20 16:50:01,801][WARNING] backoff: call gen3.auth._write_to_file(<gen3.auth.Gen3Auth object at 0x000001B3D96D41F0>, C:\\Users\\kranz-michael/.cache/gen3/token_cache_e0c34db1a31432a1762ea4828d951154, eyJ0eXAiOiJKV1QiLCJhbGciOiJSUzI1NiIsImtpZCI6ImZlbmNlX2tleV8yMDIwLTAxLTAyVDA2OjM1OjA4WiJ9.eyJwdXIiOiJhY2Nlc3MiLCJpc3MiOiJodHRwczovL2pjb2luLmRhdGFjb21tb25zLmlvL3VzZXIiLCJhdWQiOlsiaHR0cHM6Ly9qY29pbi5kYXRhY29tbW9ucy5pby91c2VyIiwiZmVuY2UiLCJnb29nbGVfc2VydmljZV9hY2NvdW50IiwiZ29vZ2xlX2NyZWRlbnRpYWxzIiwiYWRtaW4iLCJvcGVuaWQiLCJkYXRhIiwidXNlciIsImdvb2dsZV9saW5rIl0sImlhdCI6MTY2ODk4NDYwMSwiZXhwIjoxNjY4OTg4MjAxLCJqdGkiOiJmNzJlZmVlZS01ZTIwLTQ5N2QtYjM5Mi1kNGJiZGJmNjU4ZGMiLCJzY29wZSI6WyJmZW5jZSIsImdvb2dsZV9zZXJ2aWNlX2FjY291bnQiLCJnb29nbGVfY3JlZGVudGlhbHMiLCJhZG1pbiIsIm9wZW5pZCIsImRhdGEiLCJ1c2VyIiwiZ29vZ2xlX2xpbmsiXSwiY29udGV4dCI6eyJ1c2VyIjp7Im5hbWUiOiJtYmtyYW56QGdtYWlsLmNvbSIsImlzX2FkbWluIjpmYWxzZSwiZ29vZ2xlIjp7InByb3h5X2dyb3VwIjpudWxsfX19LCJhenAiOiIiLCJzdWIiOiI3OSJ9.X3WJbo5h3MSX7FV2DV0jg82OLdy401WqZgI2qwpheXSiLg-eMJapDGA1SWYXPym31Vh3-NKc9fPakB26505xZ8yyFpQuDzQHjftBNDBzGS_s9YAXJAGdPA2VLW8y44_IHZRJkj5s9u3-BcbVzoN10Sukqk4PaFMvAAacSl2x7gWDpokoYnFG9j-ESLiOwAnU6FdfUEmGjofkT6Ui9rE9inc-RtIPMvzs0R_Kr6dvd4tX-549r5cDX3biwR8NzVOtqVnqBMMPlkau8rNQg4ilS7Btuh6mX-Rmhkyn-5n_41q7ATTfkXGcAnKnBo44u9ZdFfmBFIbiaiJr3t8FkTUdhg) delay 0.9 seconds after 2 tries\n",
      "[2022-11-20 16:50:02,738][WARNING] failed to write token cache file: C:\\Users\\kranz-michael/.cache/gen3/token_cache_e0c34db1a31432a1762ea4828d951154\n",
      "[2022-11-20 16:50:02,739][WARNING] [WinError 183] Cannot create a file when that file already exists: 'C:\\\\Users\\\\kranz-michael/.cache/gen3/token_cache_e0c34db1a31432a1762ea4828d951154.tmp_eraseme_32411_1668984602' -> 'C:\\\\Users\\\\kranz-michael/.cache/gen3/token_cache_e0c34db1a31432a1762ea4828d951154'\n",
      "[2022-11-20 16:50:02,740][  ERROR] backoff: gave up call gen3.auth._write_to_file(<gen3.auth.Gen3Auth object at 0x000001B3D96D41F0>, C:\\Users\\kranz-michael/.cache/gen3/token_cache_e0c34db1a31432a1762ea4828d951154, eyJ0eXAiOiJKV1QiLCJhbGciOiJSUzI1NiIsImtpZCI6ImZlbmNlX2tleV8yMDIwLTAxLTAyVDA2OjM1OjA4WiJ9.eyJwdXIiOiJhY2Nlc3MiLCJpc3MiOiJodHRwczovL2pjb2luLmRhdGFjb21tb25zLmlvL3VzZXIiLCJhdWQiOlsiaHR0cHM6Ly9qY29pbi5kYXRhY29tbW9ucy5pby91c2VyIiwiZmVuY2UiLCJnb29nbGVfc2VydmljZV9hY2NvdW50IiwiZ29vZ2xlX2NyZWRlbnRpYWxzIiwiYWRtaW4iLCJvcGVuaWQiLCJkYXRhIiwidXNlciIsImdvb2dsZV9saW5rIl0sImlhdCI6MTY2ODk4NDYwMSwiZXhwIjoxNjY4OTg4MjAxLCJqdGkiOiJmNzJlZmVlZS01ZTIwLTQ5N2QtYjM5Mi1kNGJiZGJmNjU4ZGMiLCJzY29wZSI6WyJmZW5jZSIsImdvb2dsZV9zZXJ2aWNlX2FjY291bnQiLCJnb29nbGVfY3JlZGVudGlhbHMiLCJhZG1pbiIsIm9wZW5pZCIsImRhdGEiLCJ1c2VyIiwiZ29vZ2xlX2xpbmsiXSwiY29udGV4dCI6eyJ1c2VyIjp7Im5hbWUiOiJtYmtyYW56QGdtYWlsLmNvbSIsImlzX2FkbWluIjpmYWxzZSwiZ29vZ2xlIjp7InByb3h5X2dyb3VwIjpudWxsfX19LCJhenAiOiIiLCJzdWIiOiI3OSJ9.X3WJbo5h3MSX7FV2DV0jg82OLdy401WqZgI2qwpheXSiLg-eMJapDGA1SWYXPym31Vh3-NKc9fPakB26505xZ8yyFpQuDzQHjftBNDBzGS_s9YAXJAGdPA2VLW8y44_IHZRJkj5s9u3-BcbVzoN10Sukqk4PaFMvAAacSl2x7gWDpokoYnFG9j-ESLiOwAnU6FdfUEmGjofkT6Ui9rE9inc-RtIPMvzs0R_Kr6dvd4tX-549r5cDX3biwR8NzVOtqVnqBMMPlkau8rNQg4ilS7Btuh6mX-Rmhkyn-5n_41q7ATTfkXGcAnKnBo44u9ZdFfmBFIbiaiJr3t8FkTUdhg) after 3 tries; exception: (<class 'FileExistsError'>, FileExistsError(17, 'Cannot create a file when that file already exists'), <traceback object at 0x000001B3D96C5700>)\n",
      "[2022-11-20 16:50:02,740][WARNING] Unable to write access token to cache file. Exceeded number of retries.\n"
     ]
    }
   ],
   "source": [
    "for record in sub.export_node(program,project,\"reference_file\",fileformat='json')['data']:\n",
    "    if f\"core-measures\" in record.get(\"submitter_id\",\"\"):\n",
    "        current_record = record.copy()"
   ]
  },
  {
   "cell_type": "code",
   "execution_count": 22,
   "metadata": {},
   "outputs": [],
   "source": [
    "current_object_id = current_record['object_id']\n",
    "file_name = current_record['file_name']\n",
    "\n",
    "current_index = index.get_record(current_object_id)"
   ]
  },
  {
   "cell_type": "markdown",
   "metadata": {},
   "source": [
    "Local file information"
   ]
  },
  {
   "cell_type": "code",
   "execution_count": 23,
   "metadata": {},
   "outputs": [],
   "source": [
    "file_path = f\"core-measures/{file_name}\"\n",
    "with open(file_path, 'rb') as f:\n",
    "    data = f.read()\n",
    "    \n",
    "# get file info\n",
    "new_md5sum = hashlib.md5(data).hexdigest()\n",
    "new_filesize = os.path.getsize(file_path)"
   ]
  },
  {
   "cell_type": "code",
   "execution_count": 24,
   "metadata": {},
   "outputs": [],
   "source": [
    "#generate new version num\n",
    "if current_index['version']:\n",
    "    #make this a command (eg indicating which of the 3 version enhancements it is)\n",
    "    pass\n",
    "else:\n",
    "    new_version_num = '.'.join([\"0\",\"0\",\"1\"]) #form of incremental version change code in above if statemnt \n"
   ]
  },
  {
   "cell_type": "markdown",
   "metadata": {},
   "source": [
    "Check if new version locally"
   ]
  },
  {
   "cell_type": "code",
   "execution_count": 25,
   "metadata": {},
   "outputs": [],
   "source": [
    "#TODO: check if new version of file\n",
    "is_new_version = new_md5sum!=current_index['hashes']['md5']"
   ]
  },
  {
   "cell_type": "code",
   "execution_count": 26,
   "metadata": {},
   "outputs": [
    {
     "data": {
      "text/plain": [
       "True"
      ]
     },
     "execution_count": 26,
     "metadata": {},
     "output_type": "execute_result"
    }
   ],
   "source": [
    "is_new_version"
   ]
  },
  {
   "cell_type": "markdown",
   "metadata": {},
   "source": [
    "Mint new GUID"
   ]
  },
  {
   "cell_type": "code",
   "execution_count": 27,
   "metadata": {},
   "outputs": [],
   "source": [
    "new_object_id = requests.get(f\"{COMMONS}/index/guid/mint?count=1\").json()[\"guids\"][0]"
   ]
  },
  {
   "cell_type": "markdown",
   "metadata": {},
   "source": [
    "Create new indexd record"
   ]
  },
  {
   "cell_type": "code",
   "execution_count": 28,
   "metadata": {},
   "outputs": [],
   "source": [
    "# update new record more index metadata\n",
    "#TODO: add version string\n",
    "default_authz = '/programs/{}/projects/{}'.format(program, project)\n",
    "authz= [default_authz]\n",
    "\n",
    "new_index = index.create_new_version(\n",
    "    guid=current_object_id,\n",
    "    hashes={'md5':new_md5sum},\n",
    "    size=new_filesize,\n",
    "    did=new_object_id, \n",
    "    authz=authz\n",
    ")"
   ]
  },
  {
   "cell_type": "markdown",
   "metadata": {},
   "source": [
    "Upload new version of file"
   ]
  },
  {
   "cell_type": "code",
   "execution_count": 29,
   "metadata": {},
   "outputs": [],
   "source": [
    "#get presigned url to upload\n",
    "gen3files = Gen3File(auth)\n",
    "new_file_presign = gen3files.upload_file_to_guid(new_object_id, file_name, expires_in=3600)\n",
    "new_file_url = new_file_presign['url']\n",
    "headers = {\n",
    "    \"Content-Type\":\"application/binary\",\n",
    "}\n",
    "upload = requests.put(new_file_url, data=data, headers=headers)\n",
    "upload.raise_for_status()"
   ]
  },
  {
   "cell_type": "code",
   "execution_count": 30,
   "metadata": {},
   "outputs": [
    {
     "data": {
      "text/plain": [
       "{'acl': [],\n",
       " 'authz': ['/programs/JCOIN/projects/NYU'],\n",
       " 'baseid': 'c34ef61a-5369-44ae-ba22-84b5c7df25f1',\n",
       " 'created_date': '2022-11-20T22:50:39.133153',\n",
       " 'did': 'dg.6VTS/233fb7a3-f074-4451-8fa2-f3a658a860ed',\n",
       " 'file_name': None,\n",
       " 'form': 'object',\n",
       " 'hashes': {'md5': '7954e74bb124ae401cb9d828306e4b2f'},\n",
       " 'metadata': {},\n",
       " 'rev': '7b4855d8',\n",
       " 'size': 1066220,\n",
       " 'updated_date': '2022-11-20T22:50:52.388955',\n",
       " 'uploader': None,\n",
       " 'urls': ['s3://jcoinprod-default-258867494168-upload/dg.6VTS/233fb7a3-f074-4451-8fa2-f3a658a860ed/core-measures-nyu.zip'],\n",
       " 'urls_metadata': {'s3://jcoinprod-default-258867494168-upload/dg.6VTS/233fb7a3-f074-4451-8fa2-f3a658a860ed/core-measures-nyu.zip': {}},\n",
       " 'version': None}"
      ]
     },
     "execution_count": 30,
     "metadata": {},
     "output_type": "execute_result"
    }
   ],
   "source": [
    "file_url = f\"{AWS_BUCKET}/{new_object_id}/{file_name}\"\n",
    "index.update_record(\n",
    "    new_object_id,\n",
    "    urls=[file_url],\n",
    "    # urls_metadata={file_url:{}}\n",
    ")"
   ]
  },
  {
   "cell_type": "markdown",
   "metadata": {},
   "source": [
    "Map to sheepdog"
   ]
  },
  {
   "cell_type": "code",
   "execution_count": 31,
   "metadata": {},
   "outputs": [],
   "source": [
    "  sheepdog_rec = {\n",
    "    \"core_metadata_collections\": [\n",
    "      {\n",
    "        \"submitter_id\": f\"core-measures-{project}\"\n",
    "      }\n",
    "  ],\n",
    "  \"type\": \"reference_file\",\n",
    "  \"project_id\": f\"{program}-{project}\",\n",
    "  \"submitter_id\": f\"core-measures-{project}\",\n",
    "  \"data_category\": \"Core Measures\",\n",
    "  \"data_format\": \"ZIP\",\n",
    "  \"data_type\": \"Interview\",\n",
    "  \"md5sum\":new_md5sum,\n",
    "  \"file_size\":new_filesize,\n",
    "  \"file_name\":file_name,\n",
    "  \"object_id\":new_object_id,\n",
    "}"
   ]
  },
  {
   "cell_type": "code",
   "execution_count": 32,
   "metadata": {},
   "outputs": [
    {
     "name": "stdout",
     "output_type": "stream",
     "text": [
      "[2022-11-20 16:50:55,168][   INFO] \n",
      "Using the Sheepdog API URL https://jcoin.datacommons.io/api/v0/submission/JCOIN/NYU\n",
      "\n"
     ]
    },
    {
     "data": {
      "text/plain": [
       "{'code': 200,\n",
       " 'created_entity_count': 1,\n",
       " 'entities': [{'action': 'create',\n",
       "   'errors': [],\n",
       "   'id': 'bca16800-0e59-4f40-baca-23262dc20a61',\n",
       "   'type': 'reference_file',\n",
       "   'unique_keys': [{'project_id': 'JCOIN-NYU',\n",
       "     'submitter_id': 'core-measures-NYU'}],\n",
       "   'valid': True,\n",
       "   'warnings': []}],\n",
       " 'entity_error_count': 0,\n",
       " 'message': 'Transaction successful.',\n",
       " 'success': True,\n",
       " 'transaction_id': 9351,\n",
       " 'transactional_error_count': 0,\n",
       " 'transactional_errors': [],\n",
       " 'updated_entity_count': 0}"
      ]
     },
     "execution_count": 32,
     "metadata": {},
     "output_type": "execute_result"
    }
   ],
   "source": [
    "sub.submit_record(program,project,json=sheepdog_rec)"
   ]
  }
 ],
 "metadata": {
  "kernelspec": {
   "display_name": "Python 3.10.5 ('jdc-utils')",
   "language": "python",
   "name": "python3"
  },
  "language_info": {
   "codemirror_mode": {
    "name": "ipython",
    "version": 3
   },
   "file_extension": ".py",
   "mimetype": "text/x-python",
   "name": "python",
   "nbconvert_exporter": "python",
   "pygments_lexer": "ipython3",
   "version": "3.10.5"
  },
  "orig_nbformat": 4,
  "vscode": {
   "interpreter": {
    "hash": "b8703766e0eea0266513ec6bdab0dac9f88eac8cefc00ed0b139b384718afabe"
   }
  }
 },
 "nbformat": 4,
 "nbformat_minor": 2
}

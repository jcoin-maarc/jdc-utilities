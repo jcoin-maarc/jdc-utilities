{
 "cells": [
  {
   "cell_type": "code",
   "execution_count": 1,
   "metadata": {},
   "outputs": [],
   "source": [
    "from jdc_utils.promis import Promis\n",
    "from pathlib import Path\n",
    "import os"
   ]
  },
  {
   "cell_type": "code",
   "execution_count": 2,
   "metadata": {},
   "outputs": [],
   "source": [
    "package_path = \"../../data/core-measures-test/data-package.json\""
   ]
  },
  {
   "cell_type": "code",
   "execution_count": 3,
   "metadata": {},
   "outputs": [
    {
     "data": {
      "text/plain": [
       "['data', 'data-package.json', 'report-summary.txt', 'report.json', 'schemas']"
      ]
     },
     "execution_count": 3,
     "metadata": {},
     "output_type": "execute_result"
    }
   ],
   "source": [
    "os.listdir(Path(package_path).parent)"
   ]
  },
  {
   "cell_type": "code",
   "execution_count": 4,
   "metadata": {},
   "outputs": [
    {
     "ename": "KeyError",
     "evalue": "'global_pain'",
     "output_type": "error",
     "traceback": [
      "\u001b[1;31m---------------------------------------------------------------------------\u001b[0m",
      "\u001b[1;31mKeyError\u001b[0m                                  Traceback (most recent call last)",
      "File \u001b[1;32mc:\\Users\\kranz-michael\\miniconda3_v2\\envs\\jdc-utils\\lib\\site-packages\\pandas\\core\\indexes\\base.py:3621\u001b[0m, in \u001b[0;36mIndex.get_loc\u001b[1;34m(self, key, method, tolerance)\u001b[0m\n\u001b[0;32m   3620\u001b[0m \u001b[39mtry\u001b[39;00m:\n\u001b[1;32m-> 3621\u001b[0m     \u001b[39mreturn\u001b[39;00m \u001b[39mself\u001b[39;49m\u001b[39m.\u001b[39;49m_engine\u001b[39m.\u001b[39;49mget_loc(casted_key)\n\u001b[0;32m   3622\u001b[0m \u001b[39mexcept\u001b[39;00m \u001b[39mKeyError\u001b[39;00m \u001b[39mas\u001b[39;00m err:\n",
      "File \u001b[1;32mc:\\Users\\kranz-michael\\miniconda3_v2\\envs\\jdc-utils\\lib\\site-packages\\pandas\\_libs\\index.pyx:136\u001b[0m, in \u001b[0;36mpandas._libs.index.IndexEngine.get_loc\u001b[1;34m()\u001b[0m\n",
      "File \u001b[1;32mc:\\Users\\kranz-michael\\miniconda3_v2\\envs\\jdc-utils\\lib\\site-packages\\pandas\\_libs\\index.pyx:163\u001b[0m, in \u001b[0;36mpandas._libs.index.IndexEngine.get_loc\u001b[1;34m()\u001b[0m\n",
      "File \u001b[1;32mc:\\Users\\kranz-michael\\miniconda3_v2\\envs\\jdc-utils\\lib\\site-packages\\pandas\\_libs\\hashtable_class_helper.pxi:5198\u001b[0m, in \u001b[0;36mpandas._libs.hashtable.PyObjectHashTable.get_item\u001b[1;34m()\u001b[0m\n",
      "File \u001b[1;32mc:\\Users\\kranz-michael\\miniconda3_v2\\envs\\jdc-utils\\lib\\site-packages\\pandas\\_libs\\hashtable_class_helper.pxi:5206\u001b[0m, in \u001b[0;36mpandas._libs.hashtable.PyObjectHashTable.get_item\u001b[1;34m()\u001b[0m\n",
      "\u001b[1;31mKeyError\u001b[0m: 'global_pain'",
      "\nThe above exception was the direct cause of the following exception:\n",
      "\u001b[1;31mKeyError\u001b[0m                                  Traceback (most recent call last)",
      "\u001b[1;32mc:\\Users\\kranz-michael\\projects\\jdc-utilities\\notebooks\\core_measures\\promis-data-product.ipynb Cell 4\u001b[0m in \u001b[0;36m<cell line: 1>\u001b[1;34m()\u001b[0m\n\u001b[1;32m----> <a href='vscode-notebook-cell:/c%3A/Users/kranz-michael/projects/jdc-utilities/notebooks/core_measures/promis-data-product.ipynb#W5sZmlsZQ%3D%3D?line=0'>1</a>\u001b[0m promis \u001b[39m=\u001b[39m Promis(package_path)\n",
      "File \u001b[1;32mc:\\users\\kranz-michael\\projects\\jdc-utilities\\jdc_utils\\promis\\__init__.py:31\u001b[0m, in \u001b[0;36mPromis.__init__\u001b[1;34m(self, data_package_descriptor)\u001b[0m\n\u001b[0;32m     29\u001b[0m \u001b[39mself\u001b[39m\u001b[39m.\u001b[39mpackage \u001b[39m=\u001b[39m Package()\n\u001b[0;32m     30\u001b[0m \u001b[39mself\u001b[39m\u001b[39m.\u001b[39madd_baseline(baseline_resource)\n\u001b[1;32m---> 31\u001b[0m \u001b[39mself\u001b[39;49m\u001b[39m.\u001b[39;49madd_timepoints(timepoints_resource)\n\u001b[0;32m     33\u001b[0m os\u001b[39m.\u001b[39mchdir(start_path)\n",
      "File \u001b[1;32mc:\\users\\kranz-michael\\projects\\jdc-utilities\\jdc_utils\\promis\\__init__.py:64\u001b[0m, in \u001b[0;36mPromis.add_timepoints\u001b[1;34m(self, resource)\u001b[0m\n\u001b[0;32m     54\u001b[0m fieldnames \u001b[39m=\u001b[39m [f[\u001b[39m\"\u001b[39m\u001b[39mname\u001b[39m\u001b[39m\"\u001b[39m] \u001b[39mfor\u001b[39;00m f \u001b[39min\u001b[39;00m schema[\u001b[39m\"\u001b[39m\u001b[39mfields\u001b[39m\u001b[39m\"\u001b[39m]]\n\u001b[0;32m     55\u001b[0m individual_scores_resource \u001b[39m=\u001b[39m resource\u001b[39m.\u001b[39mtransform(\n\u001b[0;32m     56\u001b[0m             steps\u001b[39m=\u001b[39m[\n\u001b[0;32m     57\u001b[0m                 encode_table(\n\u001b[1;32m   (...)\u001b[0m\n\u001b[0;32m     62\u001b[0m             ]\n\u001b[0;32m     63\u001b[0m         )\n\u001b[1;32m---> 64\u001b[0m promis_df \u001b[39m=\u001b[39m compute_scores(individual_scores_resource)\n\u001b[0;32m     65\u001b[0m promis_resource \u001b[39m=\u001b[39m Resource(name\u001b[39m=\u001b[39mname,data\u001b[39m=\u001b[39mpromis_df,schema\u001b[39m=\u001b[39mschema)\n\u001b[0;32m     66\u001b[0m \u001b[39mself\u001b[39m\u001b[39m.\u001b[39mpackage\u001b[39m.\u001b[39madd_resource(promis_resource)\n",
      "File \u001b[1;32mc:\\users\\kranz-michael\\projects\\jdc-utilities\\jdc_utils\\promis\\__init__.py:177\u001b[0m, in \u001b[0;36mcompute_scores\u001b[1;34m(resource)\u001b[0m\n\u001b[0;32m    166\u001b[0m tscores \u001b[39m=\u001b[39m rawscores\u001b[39m.\u001b[39mreplace(raw_to_tscore_map)\n\u001b[0;32m    167\u001b[0m \u001b[39m# compute theta utility scores\u001b[39;00m\n\u001b[0;32m    168\u001b[0m scores \u001b[39m=\u001b[39m get_propr_from_tscores(\n\u001b[0;32m    169\u001b[0m     t_dep\u001b[39m=\u001b[39mtscores[\u001b[39m\"\u001b[39m\u001b[39mdepression\u001b[39m\u001b[39m\"\u001b[39m],\n\u001b[0;32m    170\u001b[0m     t_fat\u001b[39m=\u001b[39mtscores[\u001b[39m\"\u001b[39m\u001b[39mfatigue\u001b[39m\u001b[39m\"\u001b[39m],\n\u001b[0;32m    171\u001b[0m     t_pain\u001b[39m=\u001b[39mtscores[\u001b[39m\"\u001b[39m\u001b[39mpain\u001b[39m\u001b[39m\"\u001b[39m],\n\u001b[0;32m    172\u001b[0m     t_phys\u001b[39m=\u001b[39mtscores[\u001b[39m\"\u001b[39m\u001b[39mphysical\u001b[39m\u001b[39m\"\u001b[39m],\n\u001b[0;32m    173\u001b[0m     t_slp\u001b[39m=\u001b[39mtscores[\u001b[39m\"\u001b[39m\u001b[39msleep\u001b[39m\u001b[39m\"\u001b[39m],\n\u001b[0;32m    174\u001b[0m     t_sr\u001b[39m=\u001b[39mtscores[\u001b[39m\"\u001b[39m\u001b[39msocial\u001b[39m\u001b[39m\"\u001b[39m],\n\u001b[0;32m    175\u001b[0m     t_ax\u001b[39m=\u001b[39mtscores[\u001b[39m\"\u001b[39m\u001b[39manxiety\u001b[39m\u001b[39m\"\u001b[39m],\n\u001b[0;32m    176\u001b[0m     \u001b[39m#t_cog=tscores[\"cognitive\"],\u001b[39;00m\n\u001b[1;32m--> 177\u001b[0m     score_pi\u001b[39m=\u001b[39mtscores[\u001b[39m\"\u001b[39;49m\u001b[39mglobal_pain\u001b[39;49m\u001b[39m\"\u001b[39;49m],\n\u001b[0;32m    178\u001b[0m )\n\u001b[0;32m    179\u001b[0m \u001b[39m# return a copy of the resource data (dataframe) of utility scores\u001b[39;00m\n\u001b[0;32m    180\u001b[0m \u001b[39m# PROPr, (cognition_utility, depression_utility, fatigue_utility, pain_utility, physical_utility, sleep_utility, social_utility)\u001b[39;00m\n\u001b[0;32m    181\u001b[0m \u001b[39mif\u001b[39;00m \u001b[39mhasattr\u001b[39m(resource,\u001b[39m\"\u001b[39m\u001b[39mdata\u001b[39m\u001b[39m\"\u001b[39m):\n",
      "File \u001b[1;32mc:\\Users\\kranz-michael\\miniconda3_v2\\envs\\jdc-utils\\lib\\site-packages\\pandas\\core\\frame.py:3505\u001b[0m, in \u001b[0;36mDataFrame.__getitem__\u001b[1;34m(self, key)\u001b[0m\n\u001b[0;32m   3503\u001b[0m \u001b[39mif\u001b[39;00m \u001b[39mself\u001b[39m\u001b[39m.\u001b[39mcolumns\u001b[39m.\u001b[39mnlevels \u001b[39m>\u001b[39m \u001b[39m1\u001b[39m:\n\u001b[0;32m   3504\u001b[0m     \u001b[39mreturn\u001b[39;00m \u001b[39mself\u001b[39m\u001b[39m.\u001b[39m_getitem_multilevel(key)\n\u001b[1;32m-> 3505\u001b[0m indexer \u001b[39m=\u001b[39m \u001b[39mself\u001b[39;49m\u001b[39m.\u001b[39;49mcolumns\u001b[39m.\u001b[39;49mget_loc(key)\n\u001b[0;32m   3506\u001b[0m \u001b[39mif\u001b[39;00m is_integer(indexer):\n\u001b[0;32m   3507\u001b[0m     indexer \u001b[39m=\u001b[39m [indexer]\n",
      "File \u001b[1;32mc:\\Users\\kranz-michael\\miniconda3_v2\\envs\\jdc-utils\\lib\\site-packages\\pandas\\core\\indexes\\base.py:3623\u001b[0m, in \u001b[0;36mIndex.get_loc\u001b[1;34m(self, key, method, tolerance)\u001b[0m\n\u001b[0;32m   3621\u001b[0m     \u001b[39mreturn\u001b[39;00m \u001b[39mself\u001b[39m\u001b[39m.\u001b[39m_engine\u001b[39m.\u001b[39mget_loc(casted_key)\n\u001b[0;32m   3622\u001b[0m \u001b[39mexcept\u001b[39;00m \u001b[39mKeyError\u001b[39;00m \u001b[39mas\u001b[39;00m err:\n\u001b[1;32m-> 3623\u001b[0m     \u001b[39mraise\u001b[39;00m \u001b[39mKeyError\u001b[39;00m(key) \u001b[39mfrom\u001b[39;00m \u001b[39merr\u001b[39;00m\n\u001b[0;32m   3624\u001b[0m \u001b[39mexcept\u001b[39;00m \u001b[39mTypeError\u001b[39;00m:\n\u001b[0;32m   3625\u001b[0m     \u001b[39m# If we have a listlike key, _check_indexing_error will raise\u001b[39;00m\n\u001b[0;32m   3626\u001b[0m     \u001b[39m#  InvalidIndexError. Otherwise we fall through and re-raise\u001b[39;00m\n\u001b[0;32m   3627\u001b[0m     \u001b[39m#  the TypeError.\u001b[39;00m\n\u001b[0;32m   3628\u001b[0m     \u001b[39mself\u001b[39m\u001b[39m.\u001b[39m_check_indexing_error(key)\n",
      "\u001b[1;31mKeyError\u001b[0m: 'global_pain'"
     ]
    }
   ],
   "source": [
    "promis = Promis(package_path)"
   ]
  },
  {
   "cell_type": "code",
   "execution_count": 5,
   "metadata": {},
   "outputs": [
    {
     "data": {
      "text/plain": [
       "['baseline', 'timepoints']"
      ]
     },
     "execution_count": 5,
     "metadata": {},
     "output_type": "execute_result"
    }
   ],
   "source": [
    "promis.package.resource_names"
   ]
  },
  {
   "attachments": {},
   "cell_type": "markdown",
   "metadata": {},
   "source": [
    "Validate and write your package to the standardized packaging format your core measures"
   ]
  },
  {
   "cell_type": "code",
   "execution_count": 6,
   "metadata": {},
   "outputs": [
    {
     "data": {
      "text/plain": [
       "<jdc_utils.core_measures.core_measures.CoreMeasures at 0x2bd684f3e80>"
      ]
     },
     "execution_count": 6,
     "metadata": {},
     "output_type": "execute_result"
    }
   ],
   "source": [
    "core_measures.write(\"../../data/core-measures-test\")"
   ]
  },
  {
   "cell_type": "code",
   "execution_count": 7,
   "metadata": {},
   "outputs": [
    {
     "name": "stdout",
     "output_type": "stream",
     "text": [
      "\n",
      "# -----\n",
      "# valid: data/baseline.csv \n",
      "# -----\n",
      "\n",
      "## Summary \n",
      "\n",
      "+------------------------+-------------------+\n",
      "| Description            | Size/Name/Count   |\n",
      "+========================+===================+\n",
      "| File name              | data/baseline.csv |\n",
      "+------------------------+-------------------+\n",
      "| File size (KB)         | 2018              |\n",
      "+------------------------+-------------------+\n",
      "| Total Time Taken (sec) | 0.073             |\n",
      "+------------------------+-------------------+\n",
      "\n",
      "\n",
      "# -----\n",
      "# valid: data/timepoints.csv \n",
      "# -----\n",
      "\n",
      "## Summary \n",
      "\n",
      "+------------------------+---------------------+\n",
      "| Description            | Size/Name/Count     |\n",
      "+========================+=====================+\n",
      "| File name              | data/timepoints.csv |\n",
      "+------------------------+---------------------+\n",
      "| File size (KB)         | 27463               |\n",
      "+------------------------+---------------------+\n",
      "| Total Time Taken (sec) | 0.347               |\n",
      "+------------------------+---------------------+\n",
      "\n",
      "\n"
     ]
    }
   ],
   "source": [
    "print(core_measures.written_package_report.to_summary())"
   ]
  },
  {
   "cell_type": "code",
   "execution_count": 8,
   "metadata": {},
   "outputs": [
    {
     "data": {
      "text/plain": [
       "<jdc_utils.core_measures.core_measures.CoreMeasures at 0x2bd684f3e80>"
      ]
     },
     "execution_count": 8,
     "metadata": {},
     "output_type": "execute_result"
    }
   ],
   "source": [
    "core_measures.zip()"
   ]
  },
  {
   "cell_type": "code",
   "execution_count": null,
   "metadata": {},
   "outputs": [],
   "source": []
  },
  {
   "attachments": {},
   "cell_type": "markdown",
   "metadata": {},
   "source": [
    "## Uploading and mapping data package to JDC"
   ]
  },
  {
   "attachments": {},
   "cell_type": "markdown",
   "metadata": {},
   "source": [
    "Once you've run created a validated data package,  you are ready to upload to the JDC. To upload (and update) a core measure you can then use the `.submit()` method. This will create a new version of the correspoinding file. Or, if it is your first time uploading and you do not have a file guid minted, run without a file guid to initiate new file record."
   ]
  },
  {
   "cell_type": "code",
   "execution_count": 9,
   "metadata": {},
   "outputs": [],
   "source": [
    "commons_project = \"TEST\"\n",
    "file_guid = \"dg.6VTS/7422e052-042c-457e-90cd-cd317bbd09df\"\n",
    "\n",
    "# file_guid = None\n",
    "commons_file_submitter_id = 'core-measures-test'\n",
    "credentials_path=\"../../credentials.json\"\n",
    "zip_path = \"../../data/core-measures-test.zip\""
   ]
  },
  {
   "attachments": {},
   "cell_type": "markdown",
   "metadata": {},
   "source": [
    "If first time, run the generic function that submits a package and maps to sheepdog (commented out for now)"
   ]
  },
  {
   "cell_type": "code",
   "execution_count": 21,
   "metadata": {},
   "outputs": [],
   "source": [
    "# from jdc_utils.submission import submit_package_to_jdc\n",
    "\n",
    "# gen3_file = submit_package_to_jdc(\n",
    "#     package_path=zip_path,\n",
    "#     commons_project=commons_project,\n",
    "#     sheepdog_file_submitter_id=commons_file_submitter_id,\n",
    "#     sheepdog_data_type=\"Interview\",\n",
    "#     sheepdog_data_category=\"Core Measures\",\n",
    "#     sheepdog_data_format=\"ZIP\",\n",
    "#     submission_type=\"create\",\n",
    "#     sheepdog_other_cmc_node_metadata={\"title\":\"Core Measures\"},\n",
    "#     credentials_path=credentials_path,\n",
    "# )\n",
    "# core_measures.commons_project_code = commons_project\n",
    "# core_measures.map_to_sheepdog(commons_project,credentials_path)"
   ]
  },
  {
   "cell_type": "code",
   "execution_count": 22,
   "metadata": {},
   "outputs": [
    {
     "data": {
      "text/plain": [
       "WindowsPath('C:/Users/kranz-michael/projects/jdc-utilities/credentials.json')"
      ]
     },
     "execution_count": 22,
     "metadata": {},
     "output_type": "execute_result"
    }
   ],
   "source": [
    "Path(credentials_path).resolve()"
   ]
  },
  {
   "cell_type": "code",
   "execution_count": 10,
   "metadata": {},
   "outputs": [
    {
     "name": "stdout",
     "output_type": "stream",
     "text": [
      "[2023-06-07 14:51:34,590][WARNING] failed to write token cache file: C:\\Users\\kranz-michael/.cache/gen3/token_cache_2d7175bafd293e88f4b428a5be444fd2\n",
      "[2023-06-07 14:51:34,591][WARNING] [WinError 183] Cannot create a file when that file already exists: 'C:\\\\Users\\\\kranz-michael/.cache/gen3/token_cache_2d7175bafd293e88f4b428a5be444fd2.tmp_eraseme_81715_1686167494' -> 'C:\\\\Users\\\\kranz-michael/.cache/gen3/token_cache_2d7175bafd293e88f4b428a5be444fd2'\n",
      "[2023-06-07 14:51:34,592][WARNING] backoff: call gen3.auth._write_to_file(<gen3.auth.Gen3Auth object at 0x000002BD7BBBBE20>, C:\\Users\\kranz-michael/.cache/gen3/token_cache_2d7175bafd293e88f4b428a5be444fd2, eyJhbGciOiJSUzI1NiIsImtpZCI6ImZlbmNlX2tleV8yMDIwLTAxLTAyVDA2OjM1OjA4WiIsInR5cCI6IkpXVCJ9.eyJwdXIiOiJhY2Nlc3MiLCJpc3MiOiJodHRwczovL2pjb2luLmRhdGFjb21tb25zLmlvL3VzZXIiLCJhdWQiOlsiaHR0cHM6Ly9qY29pbi5kYXRhY29tbW9ucy5pby91c2VyIiwiZ29vZ2xlX2xpbmsiLCJ1c2VyIiwiZGF0YSIsImZlbmNlIiwiYWRtaW4iLCJnb29nbGVfY3JlZGVudGlhbHMiLCJnb29nbGVfc2VydmljZV9hY2NvdW50Iiwib3BlbmlkIl0sImlhdCI6MTY4NjE2NzQ5NCwiZXhwIjoxNjg2MTcxMDk0LCJqdGkiOiI1YzJjODcxMS00YTM2LTRiM2UtYjU3NS05N2YxYTY4NTgxMjUiLCJzY29wZSI6WyJnb29nbGVfbGluayIsInVzZXIiLCJkYXRhIiwiZmVuY2UiLCJhZG1pbiIsImdvb2dsZV9jcmVkZW50aWFscyIsImdvb2dsZV9zZXJ2aWNlX2FjY291bnQiLCJvcGVuaWQiXSwiY29udGV4dCI6eyJ1c2VyIjp7Im5hbWUiOiJtYmtyYW56QGdtYWlsLmNvbSIsImlzX2FkbWluIjpmYWxzZSwiZ29vZ2xlIjp7InByb3h5X2dyb3VwIjpudWxsfX19LCJhenAiOiIiLCJzdWIiOiI3OSJ9.Gi0pCO6Gp03Op0TXcWA2ERULaZq09JRp68Y52auyN4BpUA4FahBpFamb134fID2557DbOcybelpizueYx9lGXbkDH0w8O6xqU5pVeSdUrrIFQ6mtnrsfQgB6qw8kAuTCyIywSptPscGhMuber_L6DQC0PLuOcot6kIbRoGX0uDoq9EipGIX8SU8GPGnVB8-jA0s58w0ULHyDQZaTL4uqh-RFbGExmHVkSS_oE-UzqzXE8Ycc8JTMaX7tZSlZrbvSG5uXozQWm0WY7xjDyG55lCpHSKyOLOu_6k8bTYiUKjlaBCGB0HwpdkGHbsen98zcr8NxX56yJUyankIIrAJ3Aw) delay 0.9 seconds after 1 tries\n",
      "[2023-06-07 14:51:35,466][WARNING] failed to write token cache file: C:\\Users\\kranz-michael/.cache/gen3/token_cache_2d7175bafd293e88f4b428a5be444fd2\n",
      "[2023-06-07 14:51:35,466][WARNING] [WinError 183] Cannot create a file when that file already exists: 'C:\\\\Users\\\\kranz-michael/.cache/gen3/token_cache_2d7175bafd293e88f4b428a5be444fd2.tmp_eraseme_48018_1686167495' -> 'C:\\\\Users\\\\kranz-michael/.cache/gen3/token_cache_2d7175bafd293e88f4b428a5be444fd2'\n",
      "[2023-06-07 14:51:35,467][WARNING] backoff: call gen3.auth._write_to_file(<gen3.auth.Gen3Auth object at 0x000002BD7BBBBE20>, C:\\Users\\kranz-michael/.cache/gen3/token_cache_2d7175bafd293e88f4b428a5be444fd2, eyJhbGciOiJSUzI1NiIsImtpZCI6ImZlbmNlX2tleV8yMDIwLTAxLTAyVDA2OjM1OjA4WiIsInR5cCI6IkpXVCJ9.eyJwdXIiOiJhY2Nlc3MiLCJpc3MiOiJodHRwczovL2pjb2luLmRhdGFjb21tb25zLmlvL3VzZXIiLCJhdWQiOlsiaHR0cHM6Ly9qY29pbi5kYXRhY29tbW9ucy5pby91c2VyIiwiZ29vZ2xlX2xpbmsiLCJ1c2VyIiwiZGF0YSIsImZlbmNlIiwiYWRtaW4iLCJnb29nbGVfY3JlZGVudGlhbHMiLCJnb29nbGVfc2VydmljZV9hY2NvdW50Iiwib3BlbmlkIl0sImlhdCI6MTY4NjE2NzQ5NCwiZXhwIjoxNjg2MTcxMDk0LCJqdGkiOiI1YzJjODcxMS00YTM2LTRiM2UtYjU3NS05N2YxYTY4NTgxMjUiLCJzY29wZSI6WyJnb29nbGVfbGluayIsInVzZXIiLCJkYXRhIiwiZmVuY2UiLCJhZG1pbiIsImdvb2dsZV9jcmVkZW50aWFscyIsImdvb2dsZV9zZXJ2aWNlX2FjY291bnQiLCJvcGVuaWQiXSwiY29udGV4dCI6eyJ1c2VyIjp7Im5hbWUiOiJtYmtyYW56QGdtYWlsLmNvbSIsImlzX2FkbWluIjpmYWxzZSwiZ29vZ2xlIjp7InByb3h5X2dyb3VwIjpudWxsfX19LCJhenAiOiIiLCJzdWIiOiI3OSJ9.Gi0pCO6Gp03Op0TXcWA2ERULaZq09JRp68Y52auyN4BpUA4FahBpFamb134fID2557DbOcybelpizueYx9lGXbkDH0w8O6xqU5pVeSdUrrIFQ6mtnrsfQgB6qw8kAuTCyIywSptPscGhMuber_L6DQC0PLuOcot6kIbRoGX0uDoq9EipGIX8SU8GPGnVB8-jA0s58w0ULHyDQZaTL4uqh-RFbGExmHVkSS_oE-UzqzXE8Ycc8JTMaX7tZSlZrbvSG5uXozQWm0WY7xjDyG55lCpHSKyOLOu_6k8bTYiUKjlaBCGB0HwpdkGHbsen98zcr8NxX56yJUyankIIrAJ3Aw) delay 0.5 seconds after 2 tries\n",
      "[2023-06-07 14:51:36,018][WARNING] failed to write token cache file: C:\\Users\\kranz-michael/.cache/gen3/token_cache_2d7175bafd293e88f4b428a5be444fd2\n",
      "[2023-06-07 14:51:36,019][WARNING] [WinError 183] Cannot create a file when that file already exists: 'C:\\\\Users\\\\kranz-michael/.cache/gen3/token_cache_2d7175bafd293e88f4b428a5be444fd2.tmp_eraseme_92390_1686167496' -> 'C:\\\\Users\\\\kranz-michael/.cache/gen3/token_cache_2d7175bafd293e88f4b428a5be444fd2'\n",
      "[2023-06-07 14:51:36,020][  ERROR] backoff: gave up call gen3.auth._write_to_file(<gen3.auth.Gen3Auth object at 0x000002BD7BBBBE20>, C:\\Users\\kranz-michael/.cache/gen3/token_cache_2d7175bafd293e88f4b428a5be444fd2, eyJhbGciOiJSUzI1NiIsImtpZCI6ImZlbmNlX2tleV8yMDIwLTAxLTAyVDA2OjM1OjA4WiIsInR5cCI6IkpXVCJ9.eyJwdXIiOiJhY2Nlc3MiLCJpc3MiOiJodHRwczovL2pjb2luLmRhdGFjb21tb25zLmlvL3VzZXIiLCJhdWQiOlsiaHR0cHM6Ly9qY29pbi5kYXRhY29tbW9ucy5pby91c2VyIiwiZ29vZ2xlX2xpbmsiLCJ1c2VyIiwiZGF0YSIsImZlbmNlIiwiYWRtaW4iLCJnb29nbGVfY3JlZGVudGlhbHMiLCJnb29nbGVfc2VydmljZV9hY2NvdW50Iiwib3BlbmlkIl0sImlhdCI6MTY4NjE2NzQ5NCwiZXhwIjoxNjg2MTcxMDk0LCJqdGkiOiI1YzJjODcxMS00YTM2LTRiM2UtYjU3NS05N2YxYTY4NTgxMjUiLCJzY29wZSI6WyJnb29nbGVfbGluayIsInVzZXIiLCJkYXRhIiwiZmVuY2UiLCJhZG1pbiIsImdvb2dsZV9jcmVkZW50aWFscyIsImdvb2dsZV9zZXJ2aWNlX2FjY291bnQiLCJvcGVuaWQiXSwiY29udGV4dCI6eyJ1c2VyIjp7Im5hbWUiOiJtYmtyYW56QGdtYWlsLmNvbSIsImlzX2FkbWluIjpmYWxzZSwiZ29vZ2xlIjp7InByb3h5X2dyb3VwIjpudWxsfX19LCJhenAiOiIiLCJzdWIiOiI3OSJ9.Gi0pCO6Gp03Op0TXcWA2ERULaZq09JRp68Y52auyN4BpUA4FahBpFamb134fID2557DbOcybelpizueYx9lGXbkDH0w8O6xqU5pVeSdUrrIFQ6mtnrsfQgB6qw8kAuTCyIywSptPscGhMuber_L6DQC0PLuOcot6kIbRoGX0uDoq9EipGIX8SU8GPGnVB8-jA0s58w0ULHyDQZaTL4uqh-RFbGExmHVkSS_oE-UzqzXE8Ycc8JTMaX7tZSlZrbvSG5uXozQWm0WY7xjDyG55lCpHSKyOLOu_6k8bTYiUKjlaBCGB0HwpdkGHbsen98zcr8NxX56yJUyankIIrAJ3Aw) after 3 tries; exception: (<class 'FileExistsError'>, FileExistsError(17, 'Cannot create a file when that file already exists'), <traceback object at 0x000002BD7B2DE640>)\n",
      "[2023-06-07 14:51:36,020][WARNING] Unable to write access token to cache file. Exceeded number of retries.\n",
      "The latest sheepdog and indexd have same file:GOOD\n",
      "  Submitting 12 records in batches of 100\n",
      "Submission progress: 1/1\n",
      "Validating records for participant\n",
      "Validating records for enrollment\n",
      "Validating records for demographic\n",
      "Validating records for time_point\n",
      "Deleting records for time_point\n",
      "[2023-06-07 14:52:08,604][WARNING] failed to write token cache file: C:\\Users\\kranz-michael/.cache/gen3/token_cache_2d7175bafd293e88f4b428a5be444fd2\n",
      "[2023-06-07 14:52:08,605][WARNING] [WinError 183] Cannot create a file when that file already exists: 'C:\\\\Users\\\\kranz-michael/.cache/gen3/token_cache_2d7175bafd293e88f4b428a5be444fd2.tmp_eraseme_27119_1686167528' -> 'C:\\\\Users\\\\kranz-michael/.cache/gen3/token_cache_2d7175bafd293e88f4b428a5be444fd2'\n",
      "[2023-06-07 14:52:08,605][WARNING] backoff: call gen3.auth._write_to_file(<gen3.auth.Gen3Auth object at 0x000002BD7BA38BE0>, C:\\Users\\kranz-michael/.cache/gen3/token_cache_2d7175bafd293e88f4b428a5be444fd2, eyJhbGciOiJSUzI1NiIsImtpZCI6ImZlbmNlX2tleV8yMDIwLTAxLTAyVDA2OjM1OjA4WiIsInR5cCI6IkpXVCJ9.eyJwdXIiOiJhY2Nlc3MiLCJpc3MiOiJodHRwczovL2pjb2luLmRhdGFjb21tb25zLmlvL3VzZXIiLCJhdWQiOlsiaHR0cHM6Ly9qY29pbi5kYXRhY29tbW9ucy5pby91c2VyIiwiZ29vZ2xlX2xpbmsiLCJ1c2VyIiwiZGF0YSIsImZlbmNlIiwiYWRtaW4iLCJnb29nbGVfY3JlZGVudGlhbHMiLCJnb29nbGVfc2VydmljZV9hY2NvdW50Iiwib3BlbmlkIl0sImlhdCI6MTY4NjE2NzUyOCwiZXhwIjoxNjg2MTcxMTI4LCJqdGkiOiI5YWQxOTk3ZS02MzFjLTQ1NjItOGZiZi04NTgwMmFlYzk1YWYiLCJzY29wZSI6WyJnb29nbGVfbGluayIsInVzZXIiLCJkYXRhIiwiZmVuY2UiLCJhZG1pbiIsImdvb2dsZV9jcmVkZW50aWFscyIsImdvb2dsZV9zZXJ2aWNlX2FjY291bnQiLCJvcGVuaWQiXSwiY29udGV4dCI6eyJ1c2VyIjp7Im5hbWUiOiJtYmtyYW56QGdtYWlsLmNvbSIsImlzX2FkbWluIjpmYWxzZSwiZ29vZ2xlIjp7InByb3h5X2dyb3VwIjpudWxsfX19LCJhenAiOiIiLCJzdWIiOiI3OSJ9.Ccf5_1xXPFjeFL8vGlyZ1faFjmJuBdqLCDrQC835df5txlm7pGk0A745T1jZ1U9XSzxSqbsTYN0SkvJOzQOLTo5GUFNHqjwR1DCKJZAN4jLx9YX8hrM2aBubTcXa1XvY30T3sTgxhqYUmvugX1z3zoo5L4ekIH2-a5z9IVTdyVPfYdlFD9M59CJVpGz-3aACCvckD1lKCkdangKKfn9J3fVJWx-4_wTSqyiblBInG_TDkC6aMpZ_8tuXbQE_yp1bcRKPzXrzNL_SH2ER9__Z76ME1SXLYE9L2dADDG3YRdx-0UspdFoXaysIOyGJKW1CP7_uiCUp6kDKXaVtDEs_Bg) delay 0.4 seconds after 1 tries\n",
      "[2023-06-07 14:52:09,076][WARNING] failed to write token cache file: C:\\Users\\kranz-michael/.cache/gen3/token_cache_2d7175bafd293e88f4b428a5be444fd2\n",
      "[2023-06-07 14:52:09,078][WARNING] [WinError 183] Cannot create a file when that file already exists: 'C:\\\\Users\\\\kranz-michael/.cache/gen3/token_cache_2d7175bafd293e88f4b428a5be444fd2.tmp_eraseme_40838_1686167529' -> 'C:\\\\Users\\\\kranz-michael/.cache/gen3/token_cache_2d7175bafd293e88f4b428a5be444fd2'\n",
      "[2023-06-07 14:52:09,078][WARNING] backoff: call gen3.auth._write_to_file(<gen3.auth.Gen3Auth object at 0x000002BD7BA38BE0>, C:\\Users\\kranz-michael/.cache/gen3/token_cache_2d7175bafd293e88f4b428a5be444fd2, eyJhbGciOiJSUzI1NiIsImtpZCI6ImZlbmNlX2tleV8yMDIwLTAxLTAyVDA2OjM1OjA4WiIsInR5cCI6IkpXVCJ9.eyJwdXIiOiJhY2Nlc3MiLCJpc3MiOiJodHRwczovL2pjb2luLmRhdGFjb21tb25zLmlvL3VzZXIiLCJhdWQiOlsiaHR0cHM6Ly9qY29pbi5kYXRhY29tbW9ucy5pby91c2VyIiwiZ29vZ2xlX2xpbmsiLCJ1c2VyIiwiZGF0YSIsImZlbmNlIiwiYWRtaW4iLCJnb29nbGVfY3JlZGVudGlhbHMiLCJnb29nbGVfc2VydmljZV9hY2NvdW50Iiwib3BlbmlkIl0sImlhdCI6MTY4NjE2NzUyOCwiZXhwIjoxNjg2MTcxMTI4LCJqdGkiOiI5YWQxOTk3ZS02MzFjLTQ1NjItOGZiZi04NTgwMmFlYzk1YWYiLCJzY29wZSI6WyJnb29nbGVfbGluayIsInVzZXIiLCJkYXRhIiwiZmVuY2UiLCJhZG1pbiIsImdvb2dsZV9jcmVkZW50aWFscyIsImdvb2dsZV9zZXJ2aWNlX2FjY291bnQiLCJvcGVuaWQiXSwiY29udGV4dCI6eyJ1c2VyIjp7Im5hbWUiOiJtYmtyYW56QGdtYWlsLmNvbSIsImlzX2FkbWluIjpmYWxzZSwiZ29vZ2xlIjp7InByb3h5X2dyb3VwIjpudWxsfX19LCJhenAiOiIiLCJzdWIiOiI3OSJ9.Ccf5_1xXPFjeFL8vGlyZ1faFjmJuBdqLCDrQC835df5txlm7pGk0A745T1jZ1U9XSzxSqbsTYN0SkvJOzQOLTo5GUFNHqjwR1DCKJZAN4jLx9YX8hrM2aBubTcXa1XvY30T3sTgxhqYUmvugX1z3zoo5L4ekIH2-a5z9IVTdyVPfYdlFD9M59CJVpGz-3aACCvckD1lKCkdangKKfn9J3fVJWx-4_wTSqyiblBInG_TDkC6aMpZ_8tuXbQE_yp1bcRKPzXrzNL_SH2ER9__Z76ME1SXLYE9L2dADDG3YRdx-0UspdFoXaysIOyGJKW1CP7_uiCUp6kDKXaVtDEs_Bg) delay 0.2 seconds after 2 tries\n",
      "[2023-06-07 14:52:09,295][WARNING] failed to write token cache file: C:\\Users\\kranz-michael/.cache/gen3/token_cache_2d7175bafd293e88f4b428a5be444fd2\n",
      "[2023-06-07 14:52:09,297][WARNING] [WinError 183] Cannot create a file when that file already exists: 'C:\\\\Users\\\\kranz-michael/.cache/gen3/token_cache_2d7175bafd293e88f4b428a5be444fd2.tmp_eraseme_5988_1686167529' -> 'C:\\\\Users\\\\kranz-michael/.cache/gen3/token_cache_2d7175bafd293e88f4b428a5be444fd2'\n",
      "[2023-06-07 14:52:09,298][  ERROR] backoff: gave up call gen3.auth._write_to_file(<gen3.auth.Gen3Auth object at 0x000002BD7BA38BE0>, C:\\Users\\kranz-michael/.cache/gen3/token_cache_2d7175bafd293e88f4b428a5be444fd2, eyJhbGciOiJSUzI1NiIsImtpZCI6ImZlbmNlX2tleV8yMDIwLTAxLTAyVDA2OjM1OjA4WiIsInR5cCI6IkpXVCJ9.eyJwdXIiOiJhY2Nlc3MiLCJpc3MiOiJodHRwczovL2pjb2luLmRhdGFjb21tb25zLmlvL3VzZXIiLCJhdWQiOlsiaHR0cHM6Ly9qY29pbi5kYXRhY29tbW9ucy5pby91c2VyIiwiZ29vZ2xlX2xpbmsiLCJ1c2VyIiwiZGF0YSIsImZlbmNlIiwiYWRtaW4iLCJnb29nbGVfY3JlZGVudGlhbHMiLCJnb29nbGVfc2VydmljZV9hY2NvdW50Iiwib3BlbmlkIl0sImlhdCI6MTY4NjE2NzUyOCwiZXhwIjoxNjg2MTcxMTI4LCJqdGkiOiI5YWQxOTk3ZS02MzFjLTQ1NjItOGZiZi04NTgwMmFlYzk1YWYiLCJzY29wZSI6WyJnb29nbGVfbGluayIsInVzZXIiLCJkYXRhIiwiZmVuY2UiLCJhZG1pbiIsImdvb2dsZV9jcmVkZW50aWFscyIsImdvb2dsZV9zZXJ2aWNlX2FjY291bnQiLCJvcGVuaWQiXSwiY29udGV4dCI6eyJ1c2VyIjp7Im5hbWUiOiJtYmtyYW56QGdtYWlsLmNvbSIsImlzX2FkbWluIjpmYWxzZSwiZ29vZ2xlIjp7InByb3h5X2dyb3VwIjpudWxsfX19LCJhenAiOiIiLCJzdWIiOiI3OSJ9.Ccf5_1xXPFjeFL8vGlyZ1faFjmJuBdqLCDrQC835df5txlm7pGk0A745T1jZ1U9XSzxSqbsTYN0SkvJOzQOLTo5GUFNHqjwR1DCKJZAN4jLx9YX8hrM2aBubTcXa1XvY30T3sTgxhqYUmvugX1z3zoo5L4ekIH2-a5z9IVTdyVPfYdlFD9M59CJVpGz-3aACCvckD1lKCkdangKKfn9J3fVJWx-4_wTSqyiblBInG_TDkC6aMpZ_8tuXbQE_yp1bcRKPzXrzNL_SH2ER9__Z76ME1SXLYE9L2dADDG3YRdx-0UspdFoXaysIOyGJKW1CP7_uiCUp6kDKXaVtDEs_Bg) after 3 tries; exception: (<class 'FileExistsError'>, FileExistsError(17, 'Cannot create a file when that file already exists'), <traceback object at 0x000002BD7B7D6680>)\n",
      "[2023-06-07 14:52:09,299][WARNING] Unable to write access token to cache file. Exceeded number of retries.\n",
      "\n",
      "Output written to file: tmp/sheepdog/time_point.json\n",
      "time_point.\n",
      "Deleting records for demographic\n",
      "[2023-06-07 14:52:21,512][WARNING] failed to write token cache file: C:\\Users\\kranz-michael/.cache/gen3/token_cache_2d7175bafd293e88f4b428a5be444fd2\n",
      "[2023-06-07 14:52:21,512][WARNING] [WinError 183] Cannot create a file when that file already exists: 'C:\\\\Users\\\\kranz-michael/.cache/gen3/token_cache_2d7175bafd293e88f4b428a5be444fd2.tmp_eraseme_15744_1686167541' -> 'C:\\\\Users\\\\kranz-michael/.cache/gen3/token_cache_2d7175bafd293e88f4b428a5be444fd2'\n",
      "[2023-06-07 14:52:21,513][WARNING] backoff: call gen3.auth._write_to_file(<gen3.auth.Gen3Auth object at 0x000002BD7B86E7A0>, C:\\Users\\kranz-michael/.cache/gen3/token_cache_2d7175bafd293e88f4b428a5be444fd2, eyJhbGciOiJSUzI1NiIsImtpZCI6ImZlbmNlX2tleV8yMDIwLTAxLTAyVDA2OjM1OjA4WiIsInR5cCI6IkpXVCJ9.eyJwdXIiOiJhY2Nlc3MiLCJpc3MiOiJodHRwczovL2pjb2luLmRhdGFjb21tb25zLmlvL3VzZXIiLCJhdWQiOlsiaHR0cHM6Ly9qY29pbi5kYXRhY29tbW9ucy5pby91c2VyIiwiZ29vZ2xlX2xpbmsiLCJ1c2VyIiwiZGF0YSIsImZlbmNlIiwiYWRtaW4iLCJnb29nbGVfY3JlZGVudGlhbHMiLCJnb29nbGVfc2VydmljZV9hY2NvdW50Iiwib3BlbmlkIl0sImlhdCI6MTY4NjE2NzU0MSwiZXhwIjoxNjg2MTcxMTQxLCJqdGkiOiJmNzNmNWMyNy1mODY0LTQxMjctYjhjYi0yYTg2NzIzMDVjOGQiLCJzY29wZSI6WyJnb29nbGVfbGluayIsInVzZXIiLCJkYXRhIiwiZmVuY2UiLCJhZG1pbiIsImdvb2dsZV9jcmVkZW50aWFscyIsImdvb2dsZV9zZXJ2aWNlX2FjY291bnQiLCJvcGVuaWQiXSwiY29udGV4dCI6eyJ1c2VyIjp7Im5hbWUiOiJtYmtyYW56QGdtYWlsLmNvbSIsImlzX2FkbWluIjpmYWxzZSwiZ29vZ2xlIjp7InByb3h5X2dyb3VwIjpudWxsfX19LCJhenAiOiIiLCJzdWIiOiI3OSJ9.v1gTT-zJ1r8tKIwRFMxXI9j_hdx9rURZ0Rvx6-FmBcUXIZ-u_EOuoRJOBXX8V2eY7opEaPasskDL0Ywleoy8VSjZCfo779UyBGUkXD7QLsSiOB5ttvc1JFF_tFCVjopTr9slte1G15QVCY9G8Ezkkh1n6kZrbXVbH9GsLviJ0ucdJOgziXrSHBvNFDn-EAsmUJtjd16vylxXUF5p9_XP2bACqbyfcsLTFicGiSphgnjCGB6SjN_YWuJZ0Ni4x-K0GqeTxpit8lTIAcugrkdu5Qasb_cjSy73vrTHS7bhIxMxdyJ97TGemRt6XKZSL8VMXltRbEr6TpvT3KgD9Hj5ng) delay 0.7 seconds after 1 tries\n",
      "[2023-06-07 14:52:22,226][WARNING] failed to write token cache file: C:\\Users\\kranz-michael/.cache/gen3/token_cache_2d7175bafd293e88f4b428a5be444fd2\n",
      "[2023-06-07 14:52:22,227][WARNING] [WinError 183] Cannot create a file when that file already exists: 'C:\\\\Users\\\\kranz-michael/.cache/gen3/token_cache_2d7175bafd293e88f4b428a5be444fd2.tmp_eraseme_87933_1686167542' -> 'C:\\\\Users\\\\kranz-michael/.cache/gen3/token_cache_2d7175bafd293e88f4b428a5be444fd2'\n",
      "[2023-06-07 14:52:22,228][WARNING] backoff: call gen3.auth._write_to_file(<gen3.auth.Gen3Auth object at 0x000002BD7B86E7A0>, C:\\Users\\kranz-michael/.cache/gen3/token_cache_2d7175bafd293e88f4b428a5be444fd2, eyJhbGciOiJSUzI1NiIsImtpZCI6ImZlbmNlX2tleV8yMDIwLTAxLTAyVDA2OjM1OjA4WiIsInR5cCI6IkpXVCJ9.eyJwdXIiOiJhY2Nlc3MiLCJpc3MiOiJodHRwczovL2pjb2luLmRhdGFjb21tb25zLmlvL3VzZXIiLCJhdWQiOlsiaHR0cHM6Ly9qY29pbi5kYXRhY29tbW9ucy5pby91c2VyIiwiZ29vZ2xlX2xpbmsiLCJ1c2VyIiwiZGF0YSIsImZlbmNlIiwiYWRtaW4iLCJnb29nbGVfY3JlZGVudGlhbHMiLCJnb29nbGVfc2VydmljZV9hY2NvdW50Iiwib3BlbmlkIl0sImlhdCI6MTY4NjE2NzU0MSwiZXhwIjoxNjg2MTcxMTQxLCJqdGkiOiJmNzNmNWMyNy1mODY0LTQxMjctYjhjYi0yYTg2NzIzMDVjOGQiLCJzY29wZSI6WyJnb29nbGVfbGluayIsInVzZXIiLCJkYXRhIiwiZmVuY2UiLCJhZG1pbiIsImdvb2dsZV9jcmVkZW50aWFscyIsImdvb2dsZV9zZXJ2aWNlX2FjY291bnQiLCJvcGVuaWQiXSwiY29udGV4dCI6eyJ1c2VyIjp7Im5hbWUiOiJtYmtyYW56QGdtYWlsLmNvbSIsImlzX2FkbWluIjpmYWxzZSwiZ29vZ2xlIjp7InByb3h5X2dyb3VwIjpudWxsfX19LCJhenAiOiIiLCJzdWIiOiI3OSJ9.v1gTT-zJ1r8tKIwRFMxXI9j_hdx9rURZ0Rvx6-FmBcUXIZ-u_EOuoRJOBXX8V2eY7opEaPasskDL0Ywleoy8VSjZCfo779UyBGUkXD7QLsSiOB5ttvc1JFF_tFCVjopTr9slte1G15QVCY9G8Ezkkh1n6kZrbXVbH9GsLviJ0ucdJOgziXrSHBvNFDn-EAsmUJtjd16vylxXUF5p9_XP2bACqbyfcsLTFicGiSphgnjCGB6SjN_YWuJZ0Ni4x-K0GqeTxpit8lTIAcugrkdu5Qasb_cjSy73vrTHS7bhIxMxdyJ97TGemRt6XKZSL8VMXltRbEr6TpvT3KgD9Hj5ng) delay 1.7 seconds after 2 tries\n",
      "[2023-06-07 14:52:23,983][WARNING] failed to write token cache file: C:\\Users\\kranz-michael/.cache/gen3/token_cache_2d7175bafd293e88f4b428a5be444fd2\n",
      "[2023-06-07 14:52:23,984][WARNING] [WinError 183] Cannot create a file when that file already exists: 'C:\\\\Users\\\\kranz-michael/.cache/gen3/token_cache_2d7175bafd293e88f4b428a5be444fd2.tmp_eraseme_91043_1686167543' -> 'C:\\\\Users\\\\kranz-michael/.cache/gen3/token_cache_2d7175bafd293e88f4b428a5be444fd2'\n",
      "[2023-06-07 14:52:23,985][  ERROR] backoff: gave up call gen3.auth._write_to_file(<gen3.auth.Gen3Auth object at 0x000002BD7B86E7A0>, C:\\Users\\kranz-michael/.cache/gen3/token_cache_2d7175bafd293e88f4b428a5be444fd2, eyJhbGciOiJSUzI1NiIsImtpZCI6ImZlbmNlX2tleV8yMDIwLTAxLTAyVDA2OjM1OjA4WiIsInR5cCI6IkpXVCJ9.eyJwdXIiOiJhY2Nlc3MiLCJpc3MiOiJodHRwczovL2pjb2luLmRhdGFjb21tb25zLmlvL3VzZXIiLCJhdWQiOlsiaHR0cHM6Ly9qY29pbi5kYXRhY29tbW9ucy5pby91c2VyIiwiZ29vZ2xlX2xpbmsiLCJ1c2VyIiwiZGF0YSIsImZlbmNlIiwiYWRtaW4iLCJnb29nbGVfY3JlZGVudGlhbHMiLCJnb29nbGVfc2VydmljZV9hY2NvdW50Iiwib3BlbmlkIl0sImlhdCI6MTY4NjE2NzU0MSwiZXhwIjoxNjg2MTcxMTQxLCJqdGkiOiJmNzNmNWMyNy1mODY0LTQxMjctYjhjYi0yYTg2NzIzMDVjOGQiLCJzY29wZSI6WyJnb29nbGVfbGluayIsInVzZXIiLCJkYXRhIiwiZmVuY2UiLCJhZG1pbiIsImdvb2dsZV9jcmVkZW50aWFscyIsImdvb2dsZV9zZXJ2aWNlX2FjY291bnQiLCJvcGVuaWQiXSwiY29udGV4dCI6eyJ1c2VyIjp7Im5hbWUiOiJtYmtyYW56QGdtYWlsLmNvbSIsImlzX2FkbWluIjpmYWxzZSwiZ29vZ2xlIjp7InByb3h5X2dyb3VwIjpudWxsfX19LCJhenAiOiIiLCJzdWIiOiI3OSJ9.v1gTT-zJ1r8tKIwRFMxXI9j_hdx9rURZ0Rvx6-FmBcUXIZ-u_EOuoRJOBXX8V2eY7opEaPasskDL0Ywleoy8VSjZCfo779UyBGUkXD7QLsSiOB5ttvc1JFF_tFCVjopTr9slte1G15QVCY9G8Ezkkh1n6kZrbXVbH9GsLviJ0ucdJOgziXrSHBvNFDn-EAsmUJtjd16vylxXUF5p9_XP2bACqbyfcsLTFicGiSphgnjCGB6SjN_YWuJZ0Ni4x-K0GqeTxpit8lTIAcugrkdu5Qasb_cjSy73vrTHS7bhIxMxdyJ97TGemRt6XKZSL8VMXltRbEr6TpvT3KgD9Hj5ng) after 3 tries; exception: (<class 'FileExistsError'>, FileExistsError(17, 'Cannot create a file when that file already exists'), <traceback object at 0x000002BD7B6B8240>)\n",
      "[2023-06-07 14:52:23,986][WARNING] Unable to write access token to cache file. Exceeded number of retries.\n",
      "\n",
      "Output written to file: tmp/sheepdog/demographic.json\n",
      "demographic.\n",
      "Deleting records for enrollment\n",
      "[2023-06-07 14:52:37,829][WARNING] failed to write token cache file: C:\\Users\\kranz-michael/.cache/gen3/token_cache_2d7175bafd293e88f4b428a5be444fd2\n",
      "[2023-06-07 14:52:37,830][WARNING] [WinError 183] Cannot create a file when that file already exists: 'C:\\\\Users\\\\kranz-michael/.cache/gen3/token_cache_2d7175bafd293e88f4b428a5be444fd2.tmp_eraseme_80877_1686167557' -> 'C:\\\\Users\\\\kranz-michael/.cache/gen3/token_cache_2d7175bafd293e88f4b428a5be444fd2'\n",
      "[2023-06-07 14:52:37,831][WARNING] backoff: call gen3.auth._write_to_file(<gen3.auth.Gen3Auth object at 0x000002BD7B86D690>, C:\\Users\\kranz-michael/.cache/gen3/token_cache_2d7175bafd293e88f4b428a5be444fd2, eyJhbGciOiJSUzI1NiIsImtpZCI6ImZlbmNlX2tleV8yMDIwLTAxLTAyVDA2OjM1OjA4WiIsInR5cCI6IkpXVCJ9.eyJwdXIiOiJhY2Nlc3MiLCJpc3MiOiJodHRwczovL2pjb2luLmRhdGFjb21tb25zLmlvL3VzZXIiLCJhdWQiOlsiaHR0cHM6Ly9qY29pbi5kYXRhY29tbW9ucy5pby91c2VyIiwiZ29vZ2xlX2xpbmsiLCJ1c2VyIiwiZGF0YSIsImZlbmNlIiwiYWRtaW4iLCJnb29nbGVfY3JlZGVudGlhbHMiLCJnb29nbGVfc2VydmljZV9hY2NvdW50Iiwib3BlbmlkIl0sImlhdCI6MTY4NjE2NzU1NywiZXhwIjoxNjg2MTcxMTU3LCJqdGkiOiIyOGZlNmM4NC04YjZjLTQwNTEtYTVlMy04OTczNThiYTczNjMiLCJzY29wZSI6WyJnb29nbGVfbGluayIsInVzZXIiLCJkYXRhIiwiZmVuY2UiLCJhZG1pbiIsImdvb2dsZV9jcmVkZW50aWFscyIsImdvb2dsZV9zZXJ2aWNlX2FjY291bnQiLCJvcGVuaWQiXSwiY29udGV4dCI6eyJ1c2VyIjp7Im5hbWUiOiJtYmtyYW56QGdtYWlsLmNvbSIsImlzX2FkbWluIjpmYWxzZSwiZ29vZ2xlIjp7InByb3h5X2dyb3VwIjpudWxsfX19LCJhenAiOiIiLCJzdWIiOiI3OSJ9.qwcMXmLtgIQVnePZIXCBTZs1AhyA5sFE3mLVRZ9ieISOn2eGT9HoMRkN_cRI8kRMpManUE0Lr5-ARoca4zPhU9WQIf53JfR3Ns3OAzf1cgsbyqYYMahlC_QrRKAUxjSvhONhgnsPs7rEcyntAMk8g7BXY94dkoXiyp-AHMj7S2OtRhptSF29NxnY_eXf_CuzlA-zMW00BN2KGfWI8vibVgqGRfPQ6FzKJQheMTiEETASd1e0Fz_WSmgPe89KcbaVPxxiR4DPad6BvegXsSVbojBPbNmRyiOZe6zu1-1Acy21mKQ4O9te0QoUhulfNbwcadT9C5ZaSSROvtdB7ygGxw) delay 0.3 seconds after 1 tries\n",
      "[2023-06-07 14:52:38,200][WARNING] failed to write token cache file: C:\\Users\\kranz-michael/.cache/gen3/token_cache_2d7175bafd293e88f4b428a5be444fd2\n",
      "[2023-06-07 14:52:38,201][WARNING] [WinError 183] Cannot create a file when that file already exists: 'C:\\\\Users\\\\kranz-michael/.cache/gen3/token_cache_2d7175bafd293e88f4b428a5be444fd2.tmp_eraseme_88052_1686167558' -> 'C:\\\\Users\\\\kranz-michael/.cache/gen3/token_cache_2d7175bafd293e88f4b428a5be444fd2'\n",
      "[2023-06-07 14:52:38,203][WARNING] backoff: call gen3.auth._write_to_file(<gen3.auth.Gen3Auth object at 0x000002BD7B86D690>, C:\\Users\\kranz-michael/.cache/gen3/token_cache_2d7175bafd293e88f4b428a5be444fd2, eyJhbGciOiJSUzI1NiIsImtpZCI6ImZlbmNlX2tleV8yMDIwLTAxLTAyVDA2OjM1OjA4WiIsInR5cCI6IkpXVCJ9.eyJwdXIiOiJhY2Nlc3MiLCJpc3MiOiJodHRwczovL2pjb2luLmRhdGFjb21tb25zLmlvL3VzZXIiLCJhdWQiOlsiaHR0cHM6Ly9qY29pbi5kYXRhY29tbW9ucy5pby91c2VyIiwiZ29vZ2xlX2xpbmsiLCJ1c2VyIiwiZGF0YSIsImZlbmNlIiwiYWRtaW4iLCJnb29nbGVfY3JlZGVudGlhbHMiLCJnb29nbGVfc2VydmljZV9hY2NvdW50Iiwib3BlbmlkIl0sImlhdCI6MTY4NjE2NzU1NywiZXhwIjoxNjg2MTcxMTU3LCJqdGkiOiIyOGZlNmM4NC04YjZjLTQwNTEtYTVlMy04OTczNThiYTczNjMiLCJzY29wZSI6WyJnb29nbGVfbGluayIsInVzZXIiLCJkYXRhIiwiZmVuY2UiLCJhZG1pbiIsImdvb2dsZV9jcmVkZW50aWFscyIsImdvb2dsZV9zZXJ2aWNlX2FjY291bnQiLCJvcGVuaWQiXSwiY29udGV4dCI6eyJ1c2VyIjp7Im5hbWUiOiJtYmtyYW56QGdtYWlsLmNvbSIsImlzX2FkbWluIjpmYWxzZSwiZ29vZ2xlIjp7InByb3h5X2dyb3VwIjpudWxsfX19LCJhenAiOiIiLCJzdWIiOiI3OSJ9.qwcMXmLtgIQVnePZIXCBTZs1AhyA5sFE3mLVRZ9ieISOn2eGT9HoMRkN_cRI8kRMpManUE0Lr5-ARoca4zPhU9WQIf53JfR3Ns3OAzf1cgsbyqYYMahlC_QrRKAUxjSvhONhgnsPs7rEcyntAMk8g7BXY94dkoXiyp-AHMj7S2OtRhptSF29NxnY_eXf_CuzlA-zMW00BN2KGfWI8vibVgqGRfPQ6FzKJQheMTiEETASd1e0Fz_WSmgPe89KcbaVPxxiR4DPad6BvegXsSVbojBPbNmRyiOZe6zu1-1Acy21mKQ4O9te0QoUhulfNbwcadT9C5ZaSSROvtdB7ygGxw) delay 0.8 seconds after 2 tries\n",
      "[2023-06-07 14:52:39,066][WARNING] failed to write token cache file: C:\\Users\\kranz-michael/.cache/gen3/token_cache_2d7175bafd293e88f4b428a5be444fd2\n",
      "[2023-06-07 14:52:39,067][WARNING] [WinError 183] Cannot create a file when that file already exists: 'C:\\\\Users\\\\kranz-michael/.cache/gen3/token_cache_2d7175bafd293e88f4b428a5be444fd2.tmp_eraseme_3431_1686167559' -> 'C:\\\\Users\\\\kranz-michael/.cache/gen3/token_cache_2d7175bafd293e88f4b428a5be444fd2'\n",
      "[2023-06-07 14:52:39,069][  ERROR] backoff: gave up call gen3.auth._write_to_file(<gen3.auth.Gen3Auth object at 0x000002BD7B86D690>, C:\\Users\\kranz-michael/.cache/gen3/token_cache_2d7175bafd293e88f4b428a5be444fd2, eyJhbGciOiJSUzI1NiIsImtpZCI6ImZlbmNlX2tleV8yMDIwLTAxLTAyVDA2OjM1OjA4WiIsInR5cCI6IkpXVCJ9.eyJwdXIiOiJhY2Nlc3MiLCJpc3MiOiJodHRwczovL2pjb2luLmRhdGFjb21tb25zLmlvL3VzZXIiLCJhdWQiOlsiaHR0cHM6Ly9qY29pbi5kYXRhY29tbW9ucy5pby91c2VyIiwiZ29vZ2xlX2xpbmsiLCJ1c2VyIiwiZGF0YSIsImZlbmNlIiwiYWRtaW4iLCJnb29nbGVfY3JlZGVudGlhbHMiLCJnb29nbGVfc2VydmljZV9hY2NvdW50Iiwib3BlbmlkIl0sImlhdCI6MTY4NjE2NzU1NywiZXhwIjoxNjg2MTcxMTU3LCJqdGkiOiIyOGZlNmM4NC04YjZjLTQwNTEtYTVlMy04OTczNThiYTczNjMiLCJzY29wZSI6WyJnb29nbGVfbGluayIsInVzZXIiLCJkYXRhIiwiZmVuY2UiLCJhZG1pbiIsImdvb2dsZV9jcmVkZW50aWFscyIsImdvb2dsZV9zZXJ2aWNlX2FjY291bnQiLCJvcGVuaWQiXSwiY29udGV4dCI6eyJ1c2VyIjp7Im5hbWUiOiJtYmtyYW56QGdtYWlsLmNvbSIsImlzX2FkbWluIjpmYWxzZSwiZ29vZ2xlIjp7InByb3h5X2dyb3VwIjpudWxsfX19LCJhenAiOiIiLCJzdWIiOiI3OSJ9.qwcMXmLtgIQVnePZIXCBTZs1AhyA5sFE3mLVRZ9ieISOn2eGT9HoMRkN_cRI8kRMpManUE0Lr5-ARoca4zPhU9WQIf53JfR3Ns3OAzf1cgsbyqYYMahlC_QrRKAUxjSvhONhgnsPs7rEcyntAMk8g7BXY94dkoXiyp-AHMj7S2OtRhptSF29NxnY_eXf_CuzlA-zMW00BN2KGfWI8vibVgqGRfPQ6FzKJQheMTiEETASd1e0Fz_WSmgPe89KcbaVPxxiR4DPad6BvegXsSVbojBPbNmRyiOZe6zu1-1Acy21mKQ4O9te0QoUhulfNbwcadT9C5ZaSSROvtdB7ygGxw) after 3 tries; exception: (<class 'FileExistsError'>, FileExistsError(17, 'Cannot create a file when that file already exists'), <traceback object at 0x000002BD7BA1D000>)\n",
      "[2023-06-07 14:52:39,071][WARNING] Unable to write access token to cache file. Exceeded number of retries.\n",
      "\n",
      "Output written to file: tmp/sheepdog/enrollment.json\n",
      "enrollment.\n",
      "Deleting records for participant\n",
      "[2023-06-07 14:52:53,710][WARNING] failed to write token cache file: C:\\Users\\kranz-michael/.cache/gen3/token_cache_2d7175bafd293e88f4b428a5be444fd2\n",
      "[2023-06-07 14:52:53,711][WARNING] [WinError 183] Cannot create a file when that file already exists: 'C:\\\\Users\\\\kranz-michael/.cache/gen3/token_cache_2d7175bafd293e88f4b428a5be444fd2.tmp_eraseme_659_1686167573' -> 'C:\\\\Users\\\\kranz-michael/.cache/gen3/token_cache_2d7175bafd293e88f4b428a5be444fd2'\n",
      "[2023-06-07 14:52:53,712][WARNING] backoff: call gen3.auth._write_to_file(<gen3.auth.Gen3Auth object at 0x000002BD7B86CC40>, C:\\Users\\kranz-michael/.cache/gen3/token_cache_2d7175bafd293e88f4b428a5be444fd2, eyJhbGciOiJSUzI1NiIsImtpZCI6ImZlbmNlX2tleV8yMDIwLTAxLTAyVDA2OjM1OjA4WiIsInR5cCI6IkpXVCJ9.eyJwdXIiOiJhY2Nlc3MiLCJpc3MiOiJodHRwczovL2pjb2luLmRhdGFjb21tb25zLmlvL3VzZXIiLCJhdWQiOlsiaHR0cHM6Ly9qY29pbi5kYXRhY29tbW9ucy5pby91c2VyIiwiZ29vZ2xlX2xpbmsiLCJ1c2VyIiwiZGF0YSIsImZlbmNlIiwiYWRtaW4iLCJnb29nbGVfY3JlZGVudGlhbHMiLCJnb29nbGVfc2VydmljZV9hY2NvdW50Iiwib3BlbmlkIl0sImlhdCI6MTY4NjE2NzU3MywiZXhwIjoxNjg2MTcxMTczLCJqdGkiOiIwNjNmNjRjMC1iNTViLTQ4YmMtOGM3My01MWNmNjhmNmMxZjQiLCJzY29wZSI6WyJnb29nbGVfbGluayIsInVzZXIiLCJkYXRhIiwiZmVuY2UiLCJhZG1pbiIsImdvb2dsZV9jcmVkZW50aWFscyIsImdvb2dsZV9zZXJ2aWNlX2FjY291bnQiLCJvcGVuaWQiXSwiY29udGV4dCI6eyJ1c2VyIjp7Im5hbWUiOiJtYmtyYW56QGdtYWlsLmNvbSIsImlzX2FkbWluIjpmYWxzZSwiZ29vZ2xlIjp7InByb3h5X2dyb3VwIjpudWxsfX19LCJhenAiOiIiLCJzdWIiOiI3OSJ9.cx7BXbi4erJt02V5BNWPZGBVugX0B0GCJ5-9RcA3eaGpSKjPg7tHy57fHv6D5wzw7_BYkGAkmtZaQlr2jIeAB45dIWlAJElh5KB1KkrW6p_jZbXQZi-cLdCsergi7QudrO7u3xg1mkmTXP3rhVxtOpiS3wi4sYyrLdnPOc2z0RoflYepBAzctEMrmFH0eQq6XiCtuyihx5ApD-5kYiBTlyEZG1rEPr0NczgeqT7I8IrJmNOQZOIq__Z6YPpTlUBFW3vvy0Au45Gy-sTxHcOwjafBXGNhoPaIPLSmDempepMVOadRTPOPFCy3yXUaxthnhyTozRnQ4XLN-qx06SOyFQ) delay 0.0 seconds after 1 tries\n",
      "[2023-06-07 14:52:53,755][WARNING] failed to write token cache file: C:\\Users\\kranz-michael/.cache/gen3/token_cache_2d7175bafd293e88f4b428a5be444fd2\n",
      "[2023-06-07 14:52:53,755][WARNING] [WinError 183] Cannot create a file when that file already exists: 'C:\\\\Users\\\\kranz-michael/.cache/gen3/token_cache_2d7175bafd293e88f4b428a5be444fd2.tmp_eraseme_29549_1686167573' -> 'C:\\\\Users\\\\kranz-michael/.cache/gen3/token_cache_2d7175bafd293e88f4b428a5be444fd2'\n",
      "[2023-06-07 14:52:53,756][WARNING] backoff: call gen3.auth._write_to_file(<gen3.auth.Gen3Auth object at 0x000002BD7B86CC40>, C:\\Users\\kranz-michael/.cache/gen3/token_cache_2d7175bafd293e88f4b428a5be444fd2, eyJhbGciOiJSUzI1NiIsImtpZCI6ImZlbmNlX2tleV8yMDIwLTAxLTAyVDA2OjM1OjA4WiIsInR5cCI6IkpXVCJ9.eyJwdXIiOiJhY2Nlc3MiLCJpc3MiOiJodHRwczovL2pjb2luLmRhdGFjb21tb25zLmlvL3VzZXIiLCJhdWQiOlsiaHR0cHM6Ly9qY29pbi5kYXRhY29tbW9ucy5pby91c2VyIiwiZ29vZ2xlX2xpbmsiLCJ1c2VyIiwiZGF0YSIsImZlbmNlIiwiYWRtaW4iLCJnb29nbGVfY3JlZGVudGlhbHMiLCJnb29nbGVfc2VydmljZV9hY2NvdW50Iiwib3BlbmlkIl0sImlhdCI6MTY4NjE2NzU3MywiZXhwIjoxNjg2MTcxMTczLCJqdGkiOiIwNjNmNjRjMC1iNTViLTQ4YmMtOGM3My01MWNmNjhmNmMxZjQiLCJzY29wZSI6WyJnb29nbGVfbGluayIsInVzZXIiLCJkYXRhIiwiZmVuY2UiLCJhZG1pbiIsImdvb2dsZV9jcmVkZW50aWFscyIsImdvb2dsZV9zZXJ2aWNlX2FjY291bnQiLCJvcGVuaWQiXSwiY29udGV4dCI6eyJ1c2VyIjp7Im5hbWUiOiJtYmtyYW56QGdtYWlsLmNvbSIsImlzX2FkbWluIjpmYWxzZSwiZ29vZ2xlIjp7InByb3h5X2dyb3VwIjpudWxsfX19LCJhenAiOiIiLCJzdWIiOiI3OSJ9.cx7BXbi4erJt02V5BNWPZGBVugX0B0GCJ5-9RcA3eaGpSKjPg7tHy57fHv6D5wzw7_BYkGAkmtZaQlr2jIeAB45dIWlAJElh5KB1KkrW6p_jZbXQZi-cLdCsergi7QudrO7u3xg1mkmTXP3rhVxtOpiS3wi4sYyrLdnPOc2z0RoflYepBAzctEMrmFH0eQq6XiCtuyihx5ApD-5kYiBTlyEZG1rEPr0NczgeqT7I8IrJmNOQZOIq__Z6YPpTlUBFW3vvy0Au45Gy-sTxHcOwjafBXGNhoPaIPLSmDempepMVOadRTPOPFCy3yXUaxthnhyTozRnQ4XLN-qx06SOyFQ) delay 0.8 seconds after 2 tries\n",
      "[2023-06-07 14:52:54,597][WARNING] failed to write token cache file: C:\\Users\\kranz-michael/.cache/gen3/token_cache_2d7175bafd293e88f4b428a5be444fd2\n",
      "[2023-06-07 14:52:54,599][WARNING] [WinError 183] Cannot create a file when that file already exists: 'C:\\\\Users\\\\kranz-michael/.cache/gen3/token_cache_2d7175bafd293e88f4b428a5be444fd2.tmp_eraseme_80527_1686167574' -> 'C:\\\\Users\\\\kranz-michael/.cache/gen3/token_cache_2d7175bafd293e88f4b428a5be444fd2'\n",
      "[2023-06-07 14:52:54,601][  ERROR] backoff: gave up call gen3.auth._write_to_file(<gen3.auth.Gen3Auth object at 0x000002BD7B86CC40>, C:\\Users\\kranz-michael/.cache/gen3/token_cache_2d7175bafd293e88f4b428a5be444fd2, eyJhbGciOiJSUzI1NiIsImtpZCI6ImZlbmNlX2tleV8yMDIwLTAxLTAyVDA2OjM1OjA4WiIsInR5cCI6IkpXVCJ9.eyJwdXIiOiJhY2Nlc3MiLCJpc3MiOiJodHRwczovL2pjb2luLmRhdGFjb21tb25zLmlvL3VzZXIiLCJhdWQiOlsiaHR0cHM6Ly9qY29pbi5kYXRhY29tbW9ucy5pby91c2VyIiwiZ29vZ2xlX2xpbmsiLCJ1c2VyIiwiZGF0YSIsImZlbmNlIiwiYWRtaW4iLCJnb29nbGVfY3JlZGVudGlhbHMiLCJnb29nbGVfc2VydmljZV9hY2NvdW50Iiwib3BlbmlkIl0sImlhdCI6MTY4NjE2NzU3MywiZXhwIjoxNjg2MTcxMTczLCJqdGkiOiIwNjNmNjRjMC1iNTViLTQ4YmMtOGM3My01MWNmNjhmNmMxZjQiLCJzY29wZSI6WyJnb29nbGVfbGluayIsInVzZXIiLCJkYXRhIiwiZmVuY2UiLCJhZG1pbiIsImdvb2dsZV9jcmVkZW50aWFscyIsImdvb2dsZV9zZXJ2aWNlX2FjY291bnQiLCJvcGVuaWQiXSwiY29udGV4dCI6eyJ1c2VyIjp7Im5hbWUiOiJtYmtyYW56QGdtYWlsLmNvbSIsImlzX2FkbWluIjpmYWxzZSwiZ29vZ2xlIjp7InByb3h5X2dyb3VwIjpudWxsfX19LCJhenAiOiIiLCJzdWIiOiI3OSJ9.cx7BXbi4erJt02V5BNWPZGBVugX0B0GCJ5-9RcA3eaGpSKjPg7tHy57fHv6D5wzw7_BYkGAkmtZaQlr2jIeAB45dIWlAJElh5KB1KkrW6p_jZbXQZi-cLdCsergi7QudrO7u3xg1mkmTXP3rhVxtOpiS3wi4sYyrLdnPOc2z0RoflYepBAzctEMrmFH0eQq6XiCtuyihx5ApD-5kYiBTlyEZG1rEPr0NczgeqT7I8IrJmNOQZOIq__Z6YPpTlUBFW3vvy0Au45Gy-sTxHcOwjafBXGNhoPaIPLSmDempepMVOadRTPOPFCy3yXUaxthnhyTozRnQ4XLN-qx06SOyFQ) after 3 tries; exception: (<class 'FileExistsError'>, FileExistsError(17, 'Cannot create a file when that file already exists'), <traceback object at 0x000002BD7B7D7C00>)\n",
      "[2023-06-07 14:52:54,601][WARNING] Unable to write access token to cache file. Exceeded number of retries.\n",
      "\n",
      "Output written to file: tmp/sheepdog/participant.json\n",
      "participant.\n",
      "Submitting records for participant\n",
      "  Submitting 5 records in batches of 100\n",
      "[2023-06-07 14:53:15,030][WARNING] failed to write token cache file: C:\\Users\\kranz-michael/.cache/gen3/token_cache_2d7175bafd293e88f4b428a5be444fd2\n",
      "[2023-06-07 14:53:15,031][WARNING] [WinError 183] Cannot create a file when that file already exists: 'C:\\\\Users\\\\kranz-michael/.cache/gen3/token_cache_2d7175bafd293e88f4b428a5be444fd2.tmp_eraseme_71306_1686167595' -> 'C:\\\\Users\\\\kranz-michael/.cache/gen3/token_cache_2d7175bafd293e88f4b428a5be444fd2'\n",
      "[2023-06-07 14:53:15,032][WARNING] backoff: call gen3.auth._write_to_file(<gen3.auth.Gen3Auth object at 0x000002BD7B9A7E20>, C:\\Users\\kranz-michael/.cache/gen3/token_cache_2d7175bafd293e88f4b428a5be444fd2, eyJhbGciOiJSUzI1NiIsImtpZCI6ImZlbmNlX2tleV8yMDIwLTAxLTAyVDA2OjM1OjA4WiIsInR5cCI6IkpXVCJ9.eyJwdXIiOiJhY2Nlc3MiLCJpc3MiOiJodHRwczovL2pjb2luLmRhdGFjb21tb25zLmlvL3VzZXIiLCJhdWQiOlsiaHR0cHM6Ly9qY29pbi5kYXRhY29tbW9ucy5pby91c2VyIiwiZ29vZ2xlX2xpbmsiLCJ1c2VyIiwiZGF0YSIsImZlbmNlIiwiYWRtaW4iLCJnb29nbGVfY3JlZGVudGlhbHMiLCJnb29nbGVfc2VydmljZV9hY2NvdW50Iiwib3BlbmlkIl0sImlhdCI6MTY4NjE2NzU5NCwiZXhwIjoxNjg2MTcxMTk0LCJqdGkiOiJiN2Q4ODNmNy1iZDcyLTQ4NGItYjkwMi0xNDRiZGQxYTU4NDYiLCJzY29wZSI6WyJnb29nbGVfbGluayIsInVzZXIiLCJkYXRhIiwiZmVuY2UiLCJhZG1pbiIsImdvb2dsZV9jcmVkZW50aWFscyIsImdvb2dsZV9zZXJ2aWNlX2FjY291bnQiLCJvcGVuaWQiXSwiY29udGV4dCI6eyJ1c2VyIjp7Im5hbWUiOiJtYmtyYW56QGdtYWlsLmNvbSIsImlzX2FkbWluIjpmYWxzZSwiZ29vZ2xlIjp7InByb3h5X2dyb3VwIjpudWxsfX19LCJhenAiOiIiLCJzdWIiOiI3OSJ9.XJ7ObbkOb-SSHn0b0U6xFkfZX0dxn-s5qyLv_c9fZtXRnqJmLJxwXWjyBYDHY1SdR1NZ099Bz2dzCDe4vjgnwP07tZuGzOM1PMzmtfWkUMNr7ltRaJOodx4GTrwFQ4mjBsDNcptdljrgk4UDMR6VRBr2XPyEa0mfeZZAhOyKHfFsui83aO6dXIVEgFkQtIPAU1kE_80GtQmB51BoT3dzJw11VFFT51xQyP49LFxODDb53TZx-v5PsugdCRWuVkPlBr3q_-58paYiiniTKxFS1jU6bb998w5OUC8jPrsOruMeZF3993eTW84XB25qU9EDSAfmJBdOf_kMyn74CaZUCA) delay 0.2 seconds after 1 tries\n",
      "[2023-06-07 14:53:15,205][WARNING] failed to write token cache file: C:\\Users\\kranz-michael/.cache/gen3/token_cache_2d7175bafd293e88f4b428a5be444fd2\n",
      "[2023-06-07 14:53:15,206][WARNING] [WinError 183] Cannot create a file when that file already exists: 'C:\\\\Users\\\\kranz-michael/.cache/gen3/token_cache_2d7175bafd293e88f4b428a5be444fd2.tmp_eraseme_39335_1686167595' -> 'C:\\\\Users\\\\kranz-michael/.cache/gen3/token_cache_2d7175bafd293e88f4b428a5be444fd2'\n",
      "[2023-06-07 14:53:15,206][WARNING] backoff: call gen3.auth._write_to_file(<gen3.auth.Gen3Auth object at 0x000002BD7B9A7E20>, C:\\Users\\kranz-michael/.cache/gen3/token_cache_2d7175bafd293e88f4b428a5be444fd2, eyJhbGciOiJSUzI1NiIsImtpZCI6ImZlbmNlX2tleV8yMDIwLTAxLTAyVDA2OjM1OjA4WiIsInR5cCI6IkpXVCJ9.eyJwdXIiOiJhY2Nlc3MiLCJpc3MiOiJodHRwczovL2pjb2luLmRhdGFjb21tb25zLmlvL3VzZXIiLCJhdWQiOlsiaHR0cHM6Ly9qY29pbi5kYXRhY29tbW9ucy5pby91c2VyIiwiZ29vZ2xlX2xpbmsiLCJ1c2VyIiwiZGF0YSIsImZlbmNlIiwiYWRtaW4iLCJnb29nbGVfY3JlZGVudGlhbHMiLCJnb29nbGVfc2VydmljZV9hY2NvdW50Iiwib3BlbmlkIl0sImlhdCI6MTY4NjE2NzU5NCwiZXhwIjoxNjg2MTcxMTk0LCJqdGkiOiJiN2Q4ODNmNy1iZDcyLTQ4NGItYjkwMi0xNDRiZGQxYTU4NDYiLCJzY29wZSI6WyJnb29nbGVfbGluayIsInVzZXIiLCJkYXRhIiwiZmVuY2UiLCJhZG1pbiIsImdvb2dsZV9jcmVkZW50aWFscyIsImdvb2dsZV9zZXJ2aWNlX2FjY291bnQiLCJvcGVuaWQiXSwiY29udGV4dCI6eyJ1c2VyIjp7Im5hbWUiOiJtYmtyYW56QGdtYWlsLmNvbSIsImlzX2FkbWluIjpmYWxzZSwiZ29vZ2xlIjp7InByb3h5X2dyb3VwIjpudWxsfX19LCJhenAiOiIiLCJzdWIiOiI3OSJ9.XJ7ObbkOb-SSHn0b0U6xFkfZX0dxn-s5qyLv_c9fZtXRnqJmLJxwXWjyBYDHY1SdR1NZ099Bz2dzCDe4vjgnwP07tZuGzOM1PMzmtfWkUMNr7ltRaJOodx4GTrwFQ4mjBsDNcptdljrgk4UDMR6VRBr2XPyEa0mfeZZAhOyKHfFsui83aO6dXIVEgFkQtIPAU1kE_80GtQmB51BoT3dzJw11VFFT51xQyP49LFxODDb53TZx-v5PsugdCRWuVkPlBr3q_-58paYiiniTKxFS1jU6bb998w5OUC8jPrsOruMeZF3993eTW84XB25qU9EDSAfmJBdOf_kMyn74CaZUCA) delay 1.4 seconds after 2 tries\n",
      "[2023-06-07 14:53:16,660][WARNING] failed to write token cache file: C:\\Users\\kranz-michael/.cache/gen3/token_cache_2d7175bafd293e88f4b428a5be444fd2\n",
      "[2023-06-07 14:53:16,662][WARNING] [WinError 183] Cannot create a file when that file already exists: 'C:\\\\Users\\\\kranz-michael/.cache/gen3/token_cache_2d7175bafd293e88f4b428a5be444fd2.tmp_eraseme_87380_1686167596' -> 'C:\\\\Users\\\\kranz-michael/.cache/gen3/token_cache_2d7175bafd293e88f4b428a5be444fd2'\n",
      "[2023-06-07 14:53:16,662][  ERROR] backoff: gave up call gen3.auth._write_to_file(<gen3.auth.Gen3Auth object at 0x000002BD7B9A7E20>, C:\\Users\\kranz-michael/.cache/gen3/token_cache_2d7175bafd293e88f4b428a5be444fd2, eyJhbGciOiJSUzI1NiIsImtpZCI6ImZlbmNlX2tleV8yMDIwLTAxLTAyVDA2OjM1OjA4WiIsInR5cCI6IkpXVCJ9.eyJwdXIiOiJhY2Nlc3MiLCJpc3MiOiJodHRwczovL2pjb2luLmRhdGFjb21tb25zLmlvL3VzZXIiLCJhdWQiOlsiaHR0cHM6Ly9qY29pbi5kYXRhY29tbW9ucy5pby91c2VyIiwiZ29vZ2xlX2xpbmsiLCJ1c2VyIiwiZGF0YSIsImZlbmNlIiwiYWRtaW4iLCJnb29nbGVfY3JlZGVudGlhbHMiLCJnb29nbGVfc2VydmljZV9hY2NvdW50Iiwib3BlbmlkIl0sImlhdCI6MTY4NjE2NzU5NCwiZXhwIjoxNjg2MTcxMTk0LCJqdGkiOiJiN2Q4ODNmNy1iZDcyLTQ4NGItYjkwMi0xNDRiZGQxYTU4NDYiLCJzY29wZSI6WyJnb29nbGVfbGluayIsInVzZXIiLCJkYXRhIiwiZmVuY2UiLCJhZG1pbiIsImdvb2dsZV9jcmVkZW50aWFscyIsImdvb2dsZV9zZXJ2aWNlX2FjY291bnQiLCJvcGVuaWQiXSwiY29udGV4dCI6eyJ1c2VyIjp7Im5hbWUiOiJtYmtyYW56QGdtYWlsLmNvbSIsImlzX2FkbWluIjpmYWxzZSwiZ29vZ2xlIjp7InByb3h5X2dyb3VwIjpudWxsfX19LCJhenAiOiIiLCJzdWIiOiI3OSJ9.XJ7ObbkOb-SSHn0b0U6xFkfZX0dxn-s5qyLv_c9fZtXRnqJmLJxwXWjyBYDHY1SdR1NZ099Bz2dzCDe4vjgnwP07tZuGzOM1PMzmtfWkUMNr7ltRaJOodx4GTrwFQ4mjBsDNcptdljrgk4UDMR6VRBr2XPyEa0mfeZZAhOyKHfFsui83aO6dXIVEgFkQtIPAU1kE_80GtQmB51BoT3dzJw11VFFT51xQyP49LFxODDb53TZx-v5PsugdCRWuVkPlBr3q_-58paYiiniTKxFS1jU6bb998w5OUC8jPrsOruMeZF3993eTW84XB25qU9EDSAfmJBdOf_kMyn74CaZUCA) after 3 tries; exception: (<class 'FileExistsError'>, FileExistsError(17, 'Cannot create a file when that file already exists'), <traceback object at 0x000002BD7BDE0940>)\n",
      "[2023-06-07 14:53:16,663][WARNING] Unable to write access token to cache file. Exceeded number of retries.\n",
      "Submission progress: 1/1\n",
      "Submitting records for enrollment\n",
      "  Submitting 5 records in batches of 100\n",
      "[2023-06-07 14:53:32,270][WARNING] failed to write token cache file: C:\\Users\\kranz-michael/.cache/gen3/token_cache_2d7175bafd293e88f4b428a5be444fd2\n",
      "[2023-06-07 14:53:32,270][WARNING] [WinError 183] Cannot create a file when that file already exists: 'C:\\\\Users\\\\kranz-michael/.cache/gen3/token_cache_2d7175bafd293e88f4b428a5be444fd2.tmp_eraseme_30084_1686167612' -> 'C:\\\\Users\\\\kranz-michael/.cache/gen3/token_cache_2d7175bafd293e88f4b428a5be444fd2'\n",
      "[2023-06-07 14:53:32,272][WARNING] backoff: call gen3.auth._write_to_file(<gen3.auth.Gen3Auth object at 0x000002BD7BB6C9A0>, C:\\Users\\kranz-michael/.cache/gen3/token_cache_2d7175bafd293e88f4b428a5be444fd2, eyJhbGciOiJSUzI1NiIsImtpZCI6ImZlbmNlX2tleV8yMDIwLTAxLTAyVDA2OjM1OjA4WiIsInR5cCI6IkpXVCJ9.eyJwdXIiOiJhY2Nlc3MiLCJpc3MiOiJodHRwczovL2pjb2luLmRhdGFjb21tb25zLmlvL3VzZXIiLCJhdWQiOlsiaHR0cHM6Ly9qY29pbi5kYXRhY29tbW9ucy5pby91c2VyIiwiZ29vZ2xlX2xpbmsiLCJ1c2VyIiwiZGF0YSIsImZlbmNlIiwiYWRtaW4iLCJnb29nbGVfY3JlZGVudGlhbHMiLCJnb29nbGVfc2VydmljZV9hY2NvdW50Iiwib3BlbmlkIl0sImlhdCI6MTY4NjE2NzYxMiwiZXhwIjoxNjg2MTcxMjEyLCJqdGkiOiI2YjcwMzZhZi0wNzhmLTQ1NDQtYjU0Mi1lNTJmYjQwYzFiZGQiLCJzY29wZSI6WyJnb29nbGVfbGluayIsInVzZXIiLCJkYXRhIiwiZmVuY2UiLCJhZG1pbiIsImdvb2dsZV9jcmVkZW50aWFscyIsImdvb2dsZV9zZXJ2aWNlX2FjY291bnQiLCJvcGVuaWQiXSwiY29udGV4dCI6eyJ1c2VyIjp7Im5hbWUiOiJtYmtyYW56QGdtYWlsLmNvbSIsImlzX2FkbWluIjpmYWxzZSwiZ29vZ2xlIjp7InByb3h5X2dyb3VwIjpudWxsfX19LCJhenAiOiIiLCJzdWIiOiI3OSJ9.OmQJNcf8eJtVdFZX6PwYQ8ym7hT_lusPzvxB5ze4yxYdP5EhNuw0QOJeiA3L8UEMP-nyeczDPnqZCu748KfHMl9RYwrACVzpjaK3WaXi-9ffSOeG-u5kLtRWqCSLXXTlpHenAJ3pQTUEqL_xv5X6ri1e8ouWDvuRsHassIibg1-IuibAUNejgM-eG5EanP6OH3ULJpoOaiHeN9WPDNWCDr2Y3-MmLXRyWcEMgbDdZzgLwli3nkSHOAdUO0rWUGm7um7CxbfCrbwTzCXeCgv35A_rNoidlWgtQFPW4OIGYWuD5V0zRdhq8F-2UHsqN0oq2Gru_B1SLJ7XqsPmSrD20A) delay 0.4 seconds after 1 tries\n",
      "[2023-06-07 14:53:32,711][WARNING] failed to write token cache file: C:\\Users\\kranz-michael/.cache/gen3/token_cache_2d7175bafd293e88f4b428a5be444fd2\n",
      "[2023-06-07 14:53:32,712][WARNING] [WinError 183] Cannot create a file when that file already exists: 'C:\\\\Users\\\\kranz-michael/.cache/gen3/token_cache_2d7175bafd293e88f4b428a5be444fd2.tmp_eraseme_98299_1686167612' -> 'C:\\\\Users\\\\kranz-michael/.cache/gen3/token_cache_2d7175bafd293e88f4b428a5be444fd2'\n",
      "[2023-06-07 14:53:32,713][WARNING] backoff: call gen3.auth._write_to_file(<gen3.auth.Gen3Auth object at 0x000002BD7BB6C9A0>, C:\\Users\\kranz-michael/.cache/gen3/token_cache_2d7175bafd293e88f4b428a5be444fd2, eyJhbGciOiJSUzI1NiIsImtpZCI6ImZlbmNlX2tleV8yMDIwLTAxLTAyVDA2OjM1OjA4WiIsInR5cCI6IkpXVCJ9.eyJwdXIiOiJhY2Nlc3MiLCJpc3MiOiJodHRwczovL2pjb2luLmRhdGFjb21tb25zLmlvL3VzZXIiLCJhdWQiOlsiaHR0cHM6Ly9qY29pbi5kYXRhY29tbW9ucy5pby91c2VyIiwiZ29vZ2xlX2xpbmsiLCJ1c2VyIiwiZGF0YSIsImZlbmNlIiwiYWRtaW4iLCJnb29nbGVfY3JlZGVudGlhbHMiLCJnb29nbGVfc2VydmljZV9hY2NvdW50Iiwib3BlbmlkIl0sImlhdCI6MTY4NjE2NzYxMiwiZXhwIjoxNjg2MTcxMjEyLCJqdGkiOiI2YjcwMzZhZi0wNzhmLTQ1NDQtYjU0Mi1lNTJmYjQwYzFiZGQiLCJzY29wZSI6WyJnb29nbGVfbGluayIsInVzZXIiLCJkYXRhIiwiZmVuY2UiLCJhZG1pbiIsImdvb2dsZV9jcmVkZW50aWFscyIsImdvb2dsZV9zZXJ2aWNlX2FjY291bnQiLCJvcGVuaWQiXSwiY29udGV4dCI6eyJ1c2VyIjp7Im5hbWUiOiJtYmtyYW56QGdtYWlsLmNvbSIsImlzX2FkbWluIjpmYWxzZSwiZ29vZ2xlIjp7InByb3h5X2dyb3VwIjpudWxsfX19LCJhenAiOiIiLCJzdWIiOiI3OSJ9.OmQJNcf8eJtVdFZX6PwYQ8ym7hT_lusPzvxB5ze4yxYdP5EhNuw0QOJeiA3L8UEMP-nyeczDPnqZCu748KfHMl9RYwrACVzpjaK3WaXi-9ffSOeG-u5kLtRWqCSLXXTlpHenAJ3pQTUEqL_xv5X6ri1e8ouWDvuRsHassIibg1-IuibAUNejgM-eG5EanP6OH3ULJpoOaiHeN9WPDNWCDr2Y3-MmLXRyWcEMgbDdZzgLwli3nkSHOAdUO0rWUGm7um7CxbfCrbwTzCXeCgv35A_rNoidlWgtQFPW4OIGYWuD5V0zRdhq8F-2UHsqN0oq2Gru_B1SLJ7XqsPmSrD20A) delay 0.2 seconds after 2 tries\n",
      "[2023-06-07 14:53:32,900][WARNING] failed to write token cache file: C:\\Users\\kranz-michael/.cache/gen3/token_cache_2d7175bafd293e88f4b428a5be444fd2\n",
      "[2023-06-07 14:53:32,902][WARNING] [WinError 183] Cannot create a file when that file already exists: 'C:\\\\Users\\\\kranz-michael/.cache/gen3/token_cache_2d7175bafd293e88f4b428a5be444fd2.tmp_eraseme_80175_1686167612' -> 'C:\\\\Users\\\\kranz-michael/.cache/gen3/token_cache_2d7175bafd293e88f4b428a5be444fd2'\n",
      "[2023-06-07 14:53:32,902][  ERROR] backoff: gave up call gen3.auth._write_to_file(<gen3.auth.Gen3Auth object at 0x000002BD7BB6C9A0>, C:\\Users\\kranz-michael/.cache/gen3/token_cache_2d7175bafd293e88f4b428a5be444fd2, eyJhbGciOiJSUzI1NiIsImtpZCI6ImZlbmNlX2tleV8yMDIwLTAxLTAyVDA2OjM1OjA4WiIsInR5cCI6IkpXVCJ9.eyJwdXIiOiJhY2Nlc3MiLCJpc3MiOiJodHRwczovL2pjb2luLmRhdGFjb21tb25zLmlvL3VzZXIiLCJhdWQiOlsiaHR0cHM6Ly9qY29pbi5kYXRhY29tbW9ucy5pby91c2VyIiwiZ29vZ2xlX2xpbmsiLCJ1c2VyIiwiZGF0YSIsImZlbmNlIiwiYWRtaW4iLCJnb29nbGVfY3JlZGVudGlhbHMiLCJnb29nbGVfc2VydmljZV9hY2NvdW50Iiwib3BlbmlkIl0sImlhdCI6MTY4NjE2NzYxMiwiZXhwIjoxNjg2MTcxMjEyLCJqdGkiOiI2YjcwMzZhZi0wNzhmLTQ1NDQtYjU0Mi1lNTJmYjQwYzFiZGQiLCJzY29wZSI6WyJnb29nbGVfbGluayIsInVzZXIiLCJkYXRhIiwiZmVuY2UiLCJhZG1pbiIsImdvb2dsZV9jcmVkZW50aWFscyIsImdvb2dsZV9zZXJ2aWNlX2FjY291bnQiLCJvcGVuaWQiXSwiY29udGV4dCI6eyJ1c2VyIjp7Im5hbWUiOiJtYmtyYW56QGdtYWlsLmNvbSIsImlzX2FkbWluIjpmYWxzZSwiZ29vZ2xlIjp7InByb3h5X2dyb3VwIjpudWxsfX19LCJhenAiOiIiLCJzdWIiOiI3OSJ9.OmQJNcf8eJtVdFZX6PwYQ8ym7hT_lusPzvxB5ze4yxYdP5EhNuw0QOJeiA3L8UEMP-nyeczDPnqZCu748KfHMl9RYwrACVzpjaK3WaXi-9ffSOeG-u5kLtRWqCSLXXTlpHenAJ3pQTUEqL_xv5X6ri1e8ouWDvuRsHassIibg1-IuibAUNejgM-eG5EanP6OH3ULJpoOaiHeN9WPDNWCDr2Y3-MmLXRyWcEMgbDdZzgLwli3nkSHOAdUO0rWUGm7um7CxbfCrbwTzCXeCgv35A_rNoidlWgtQFPW4OIGYWuD5V0zRdhq8F-2UHsqN0oq2Gru_B1SLJ7XqsPmSrD20A) after 3 tries; exception: (<class 'FileExistsError'>, FileExistsError(17, 'Cannot create a file when that file already exists'), <traceback object at 0x000002BD7B0FCEC0>)\n",
      "[2023-06-07 14:53:32,903][WARNING] Unable to write access token to cache file. Exceeded number of retries.\n",
      "Submission progress: 1/1\n",
      "Submitting records for demographic\n",
      "  Submitting 5 records in batches of 100\n",
      "[2023-06-07 14:53:43,413][WARNING] failed to write token cache file: C:\\Users\\kranz-michael/.cache/gen3/token_cache_2d7175bafd293e88f4b428a5be444fd2\n",
      "[2023-06-07 14:53:43,414][WARNING] [WinError 183] Cannot create a file when that file already exists: 'C:\\\\Users\\\\kranz-michael/.cache/gen3/token_cache_2d7175bafd293e88f4b428a5be444fd2.tmp_eraseme_21496_1686167623' -> 'C:\\\\Users\\\\kranz-michael/.cache/gen3/token_cache_2d7175bafd293e88f4b428a5be444fd2'\n",
      "[2023-06-07 14:53:43,415][WARNING] backoff: call gen3.auth._write_to_file(<gen3.auth.Gen3Auth object at 0x000002BD7B9F9660>, C:\\Users\\kranz-michael/.cache/gen3/token_cache_2d7175bafd293e88f4b428a5be444fd2, eyJhbGciOiJSUzI1NiIsImtpZCI6ImZlbmNlX2tleV8yMDIwLTAxLTAyVDA2OjM1OjA4WiIsInR5cCI6IkpXVCJ9.eyJwdXIiOiJhY2Nlc3MiLCJpc3MiOiJodHRwczovL2pjb2luLmRhdGFjb21tb25zLmlvL3VzZXIiLCJhdWQiOlsiaHR0cHM6Ly9qY29pbi5kYXRhY29tbW9ucy5pby91c2VyIiwiZ29vZ2xlX2xpbmsiLCJ1c2VyIiwiZGF0YSIsImZlbmNlIiwiYWRtaW4iLCJnb29nbGVfY3JlZGVudGlhbHMiLCJnb29nbGVfc2VydmljZV9hY2NvdW50Iiwib3BlbmlkIl0sImlhdCI6MTY4NjE2NzYyMywiZXhwIjoxNjg2MTcxMjIzLCJqdGkiOiJhZTg3YzQzNy1jZjI0LTQ5NWMtODU0OS0wMzA1ZDgwODg2NzMiLCJzY29wZSI6WyJnb29nbGVfbGluayIsInVzZXIiLCJkYXRhIiwiZmVuY2UiLCJhZG1pbiIsImdvb2dsZV9jcmVkZW50aWFscyIsImdvb2dsZV9zZXJ2aWNlX2FjY291bnQiLCJvcGVuaWQiXSwiY29udGV4dCI6eyJ1c2VyIjp7Im5hbWUiOiJtYmtyYW56QGdtYWlsLmNvbSIsImlzX2FkbWluIjpmYWxzZSwiZ29vZ2xlIjp7InByb3h5X2dyb3VwIjpudWxsfX19LCJhenAiOiIiLCJzdWIiOiI3OSJ9.MKIRFjoWlBvtNiN63R837bmQmWEwM9Xm1NgNWbQygf3vF0npTe9gwfhL6vfoRioLQZHBS_DCLyvYLRaOmXwTfPPmM2TLFFri3JwDfkrX79UMMehE00t4oJWoyGn03devAr8M9WoJRwacnU3iZdhnroFXkSmFSTlmTJDj4c6X2Iqsj-LqZI_8ooksH2moTEgStGBQ7eOzjLB92CxsEN-jWm7dHGWbsYHTk3K9hdeezF8ZokIbje016PQ0Hi7kqDyMtRk4NSArN5I0PjUNBUzY1jEKYBCCmKcNUKZml4Gc5yUGy1qGH2eyq_Nu71aSVCLzgLzVsRWbYFq6ZREpFJThjA) delay 0.4 seconds after 1 tries\n",
      "[2023-06-07 14:53:43,807][WARNING] failed to write token cache file: C:\\Users\\kranz-michael/.cache/gen3/token_cache_2d7175bafd293e88f4b428a5be444fd2\n",
      "[2023-06-07 14:53:43,809][WARNING] [WinError 183] Cannot create a file when that file already exists: 'C:\\\\Users\\\\kranz-michael/.cache/gen3/token_cache_2d7175bafd293e88f4b428a5be444fd2.tmp_eraseme_6006_1686167623' -> 'C:\\\\Users\\\\kranz-michael/.cache/gen3/token_cache_2d7175bafd293e88f4b428a5be444fd2'\n",
      "[2023-06-07 14:53:43,810][WARNING] backoff: call gen3.auth._write_to_file(<gen3.auth.Gen3Auth object at 0x000002BD7B9F9660>, C:\\Users\\kranz-michael/.cache/gen3/token_cache_2d7175bafd293e88f4b428a5be444fd2, eyJhbGciOiJSUzI1NiIsImtpZCI6ImZlbmNlX2tleV8yMDIwLTAxLTAyVDA2OjM1OjA4WiIsInR5cCI6IkpXVCJ9.eyJwdXIiOiJhY2Nlc3MiLCJpc3MiOiJodHRwczovL2pjb2luLmRhdGFjb21tb25zLmlvL3VzZXIiLCJhdWQiOlsiaHR0cHM6Ly9qY29pbi5kYXRhY29tbW9ucy5pby91c2VyIiwiZ29vZ2xlX2xpbmsiLCJ1c2VyIiwiZGF0YSIsImZlbmNlIiwiYWRtaW4iLCJnb29nbGVfY3JlZGVudGlhbHMiLCJnb29nbGVfc2VydmljZV9hY2NvdW50Iiwib3BlbmlkIl0sImlhdCI6MTY4NjE2NzYyMywiZXhwIjoxNjg2MTcxMjIzLCJqdGkiOiJhZTg3YzQzNy1jZjI0LTQ5NWMtODU0OS0wMzA1ZDgwODg2NzMiLCJzY29wZSI6WyJnb29nbGVfbGluayIsInVzZXIiLCJkYXRhIiwiZmVuY2UiLCJhZG1pbiIsImdvb2dsZV9jcmVkZW50aWFscyIsImdvb2dsZV9zZXJ2aWNlX2FjY291bnQiLCJvcGVuaWQiXSwiY29udGV4dCI6eyJ1c2VyIjp7Im5hbWUiOiJtYmtyYW56QGdtYWlsLmNvbSIsImlzX2FkbWluIjpmYWxzZSwiZ29vZ2xlIjp7InByb3h5X2dyb3VwIjpudWxsfX19LCJhenAiOiIiLCJzdWIiOiI3OSJ9.MKIRFjoWlBvtNiN63R837bmQmWEwM9Xm1NgNWbQygf3vF0npTe9gwfhL6vfoRioLQZHBS_DCLyvYLRaOmXwTfPPmM2TLFFri3JwDfkrX79UMMehE00t4oJWoyGn03devAr8M9WoJRwacnU3iZdhnroFXkSmFSTlmTJDj4c6X2Iqsj-LqZI_8ooksH2moTEgStGBQ7eOzjLB92CxsEN-jWm7dHGWbsYHTk3K9hdeezF8ZokIbje016PQ0Hi7kqDyMtRk4NSArN5I0PjUNBUzY1jEKYBCCmKcNUKZml4Gc5yUGy1qGH2eyq_Nu71aSVCLzgLzVsRWbYFq6ZREpFJThjA) delay 1.0 seconds after 2 tries\n",
      "[2023-06-07 14:53:44,849][WARNING] failed to write token cache file: C:\\Users\\kranz-michael/.cache/gen3/token_cache_2d7175bafd293e88f4b428a5be444fd2\n",
      "[2023-06-07 14:53:44,853][WARNING] [WinError 183] Cannot create a file when that file already exists: 'C:\\\\Users\\\\kranz-michael/.cache/gen3/token_cache_2d7175bafd293e88f4b428a5be444fd2.tmp_eraseme_72544_1686167624' -> 'C:\\\\Users\\\\kranz-michael/.cache/gen3/token_cache_2d7175bafd293e88f4b428a5be444fd2'\n",
      "[2023-06-07 14:53:44,854][  ERROR] backoff: gave up call gen3.auth._write_to_file(<gen3.auth.Gen3Auth object at 0x000002BD7B9F9660>, C:\\Users\\kranz-michael/.cache/gen3/token_cache_2d7175bafd293e88f4b428a5be444fd2, eyJhbGciOiJSUzI1NiIsImtpZCI6ImZlbmNlX2tleV8yMDIwLTAxLTAyVDA2OjM1OjA4WiIsInR5cCI6IkpXVCJ9.eyJwdXIiOiJhY2Nlc3MiLCJpc3MiOiJodHRwczovL2pjb2luLmRhdGFjb21tb25zLmlvL3VzZXIiLCJhdWQiOlsiaHR0cHM6Ly9qY29pbi5kYXRhY29tbW9ucy5pby91c2VyIiwiZ29vZ2xlX2xpbmsiLCJ1c2VyIiwiZGF0YSIsImZlbmNlIiwiYWRtaW4iLCJnb29nbGVfY3JlZGVudGlhbHMiLCJnb29nbGVfc2VydmljZV9hY2NvdW50Iiwib3BlbmlkIl0sImlhdCI6MTY4NjE2NzYyMywiZXhwIjoxNjg2MTcxMjIzLCJqdGkiOiJhZTg3YzQzNy1jZjI0LTQ5NWMtODU0OS0wMzA1ZDgwODg2NzMiLCJzY29wZSI6WyJnb29nbGVfbGluayIsInVzZXIiLCJkYXRhIiwiZmVuY2UiLCJhZG1pbiIsImdvb2dsZV9jcmVkZW50aWFscyIsImdvb2dsZV9zZXJ2aWNlX2FjY291bnQiLCJvcGVuaWQiXSwiY29udGV4dCI6eyJ1c2VyIjp7Im5hbWUiOiJtYmtyYW56QGdtYWlsLmNvbSIsImlzX2FkbWluIjpmYWxzZSwiZ29vZ2xlIjp7InByb3h5X2dyb3VwIjpudWxsfX19LCJhenAiOiIiLCJzdWIiOiI3OSJ9.MKIRFjoWlBvtNiN63R837bmQmWEwM9Xm1NgNWbQygf3vF0npTe9gwfhL6vfoRioLQZHBS_DCLyvYLRaOmXwTfPPmM2TLFFri3JwDfkrX79UMMehE00t4oJWoyGn03devAr8M9WoJRwacnU3iZdhnroFXkSmFSTlmTJDj4c6X2Iqsj-LqZI_8ooksH2moTEgStGBQ7eOzjLB92CxsEN-jWm7dHGWbsYHTk3K9hdeezF8ZokIbje016PQ0Hi7kqDyMtRk4NSArN5I0PjUNBUzY1jEKYBCCmKcNUKZml4Gc5yUGy1qGH2eyq_Nu71aSVCLzgLzVsRWbYFq6ZREpFJThjA) after 3 tries; exception: (<class 'FileExistsError'>, FileExistsError(17, 'Cannot create a file when that file already exists'), <traceback object at 0x000002BD7B9FDA80>)\n",
      "[2023-06-07 14:53:44,855][WARNING] Unable to write access token to cache file. Exceeded number of retries.\n",
      "Submission progress: 1/1\n",
      "Submitting records for time_point\n",
      "  Submitting 11 records in batches of 100\n",
      "[2023-06-07 14:53:56,411][WARNING] failed to write token cache file: C:\\Users\\kranz-michael/.cache/gen3/token_cache_2d7175bafd293e88f4b428a5be444fd2\n",
      "[2023-06-07 14:53:56,412][WARNING] [WinError 183] Cannot create a file when that file already exists: 'C:\\\\Users\\\\kranz-michael/.cache/gen3/token_cache_2d7175bafd293e88f4b428a5be444fd2.tmp_eraseme_8801_1686167636' -> 'C:\\\\Users\\\\kranz-michael/.cache/gen3/token_cache_2d7175bafd293e88f4b428a5be444fd2'\n",
      "[2023-06-07 14:53:56,412][WARNING] backoff: call gen3.auth._write_to_file(<gen3.auth.Gen3Auth object at 0x000002BD7BA3B7C0>, C:\\Users\\kranz-michael/.cache/gen3/token_cache_2d7175bafd293e88f4b428a5be444fd2, eyJhbGciOiJSUzI1NiIsImtpZCI6ImZlbmNlX2tleV8yMDIwLTAxLTAyVDA2OjM1OjA4WiIsInR5cCI6IkpXVCJ9.eyJwdXIiOiJhY2Nlc3MiLCJpc3MiOiJodHRwczovL2pjb2luLmRhdGFjb21tb25zLmlvL3VzZXIiLCJhdWQiOlsiaHR0cHM6Ly9qY29pbi5kYXRhY29tbW9ucy5pby91c2VyIiwiZ29vZ2xlX2xpbmsiLCJ1c2VyIiwiZGF0YSIsImZlbmNlIiwiYWRtaW4iLCJnb29nbGVfY3JlZGVudGlhbHMiLCJnb29nbGVfc2VydmljZV9hY2NvdW50Iiwib3BlbmlkIl0sImlhdCI6MTY4NjE2NzYzNiwiZXhwIjoxNjg2MTcxMjM2LCJqdGkiOiI5NWJjZGFkYi1mYzA0LTRiM2ItYjZhOS0yY2VmYmI3NWVhNzciLCJzY29wZSI6WyJnb29nbGVfbGluayIsInVzZXIiLCJkYXRhIiwiZmVuY2UiLCJhZG1pbiIsImdvb2dsZV9jcmVkZW50aWFscyIsImdvb2dsZV9zZXJ2aWNlX2FjY291bnQiLCJvcGVuaWQiXSwiY29udGV4dCI6eyJ1c2VyIjp7Im5hbWUiOiJtYmtyYW56QGdtYWlsLmNvbSIsImlzX2FkbWluIjpmYWxzZSwiZ29vZ2xlIjp7InByb3h5X2dyb3VwIjpudWxsfX19LCJhenAiOiIiLCJzdWIiOiI3OSJ9.vqw-1I387i4nS7SnB3rCrdXEp_psW2aWyTt9S9uxboHhyXsclLNv3ZxQt_awPQUX3gjJ2QBIskerYNJiy-3-mb9lHFRqetJ-F1bYtEzaNhuRbbXMuooqGmAhvVRwjVxJ1TEXLpN3h8vxLF5n1te0GwUjR8jSY9AMTa9oBTjHbDytbpZNjQR4VcOhS22vqLnpPXtN7lmcwmFLdIZ_zYx3QXXoHLpmVdj-2clmlun1E_ZR3EC_MeKrPVXYtUWKoFIMqgVr2LI41bitJG-IFdsPGJp6jibzH4dITXZpk32JnPjxOCqL_vAB-8jkHBz9eTX4e3PAWc_dgzUTFx4Mbhu6qQ) delay 0.8 seconds after 1 tries\n",
      "[2023-06-07 14:53:57,261][WARNING] failed to write token cache file: C:\\Users\\kranz-michael/.cache/gen3/token_cache_2d7175bafd293e88f4b428a5be444fd2\n",
      "[2023-06-07 14:53:57,262][WARNING] [WinError 183] Cannot create a file when that file already exists: 'C:\\\\Users\\\\kranz-michael/.cache/gen3/token_cache_2d7175bafd293e88f4b428a5be444fd2.tmp_eraseme_68556_1686167637' -> 'C:\\\\Users\\\\kranz-michael/.cache/gen3/token_cache_2d7175bafd293e88f4b428a5be444fd2'\n",
      "[2023-06-07 14:53:57,263][WARNING] backoff: call gen3.auth._write_to_file(<gen3.auth.Gen3Auth object at 0x000002BD7BA3B7C0>, C:\\Users\\kranz-michael/.cache/gen3/token_cache_2d7175bafd293e88f4b428a5be444fd2, eyJhbGciOiJSUzI1NiIsImtpZCI6ImZlbmNlX2tleV8yMDIwLTAxLTAyVDA2OjM1OjA4WiIsInR5cCI6IkpXVCJ9.eyJwdXIiOiJhY2Nlc3MiLCJpc3MiOiJodHRwczovL2pjb2luLmRhdGFjb21tb25zLmlvL3VzZXIiLCJhdWQiOlsiaHR0cHM6Ly9qY29pbi5kYXRhY29tbW9ucy5pby91c2VyIiwiZ29vZ2xlX2xpbmsiLCJ1c2VyIiwiZGF0YSIsImZlbmNlIiwiYWRtaW4iLCJnb29nbGVfY3JlZGVudGlhbHMiLCJnb29nbGVfc2VydmljZV9hY2NvdW50Iiwib3BlbmlkIl0sImlhdCI6MTY4NjE2NzYzNiwiZXhwIjoxNjg2MTcxMjM2LCJqdGkiOiI5NWJjZGFkYi1mYzA0LTRiM2ItYjZhOS0yY2VmYmI3NWVhNzciLCJzY29wZSI6WyJnb29nbGVfbGluayIsInVzZXIiLCJkYXRhIiwiZmVuY2UiLCJhZG1pbiIsImdvb2dsZV9jcmVkZW50aWFscyIsImdvb2dsZV9zZXJ2aWNlX2FjY291bnQiLCJvcGVuaWQiXSwiY29udGV4dCI6eyJ1c2VyIjp7Im5hbWUiOiJtYmtyYW56QGdtYWlsLmNvbSIsImlzX2FkbWluIjpmYWxzZSwiZ29vZ2xlIjp7InByb3h5X2dyb3VwIjpudWxsfX19LCJhenAiOiIiLCJzdWIiOiI3OSJ9.vqw-1I387i4nS7SnB3rCrdXEp_psW2aWyTt9S9uxboHhyXsclLNv3ZxQt_awPQUX3gjJ2QBIskerYNJiy-3-mb9lHFRqetJ-F1bYtEzaNhuRbbXMuooqGmAhvVRwjVxJ1TEXLpN3h8vxLF5n1te0GwUjR8jSY9AMTa9oBTjHbDytbpZNjQR4VcOhS22vqLnpPXtN7lmcwmFLdIZ_zYx3QXXoHLpmVdj-2clmlun1E_ZR3EC_MeKrPVXYtUWKoFIMqgVr2LI41bitJG-IFdsPGJp6jibzH4dITXZpk32JnPjxOCqL_vAB-8jkHBz9eTX4e3PAWc_dgzUTFx4Mbhu6qQ) delay 0.7 seconds after 2 tries\n",
      "[2023-06-07 14:53:57,981][WARNING] failed to write token cache file: C:\\Users\\kranz-michael/.cache/gen3/token_cache_2d7175bafd293e88f4b428a5be444fd2\n",
      "[2023-06-07 14:53:57,982][WARNING] [WinError 183] Cannot create a file when that file already exists: 'C:\\\\Users\\\\kranz-michael/.cache/gen3/token_cache_2d7175bafd293e88f4b428a5be444fd2.tmp_eraseme_74271_1686167637' -> 'C:\\\\Users\\\\kranz-michael/.cache/gen3/token_cache_2d7175bafd293e88f4b428a5be444fd2'\n",
      "[2023-06-07 14:53:57,983][  ERROR] backoff: gave up call gen3.auth._write_to_file(<gen3.auth.Gen3Auth object at 0x000002BD7BA3B7C0>, C:\\Users\\kranz-michael/.cache/gen3/token_cache_2d7175bafd293e88f4b428a5be444fd2, eyJhbGciOiJSUzI1NiIsImtpZCI6ImZlbmNlX2tleV8yMDIwLTAxLTAyVDA2OjM1OjA4WiIsInR5cCI6IkpXVCJ9.eyJwdXIiOiJhY2Nlc3MiLCJpc3MiOiJodHRwczovL2pjb2luLmRhdGFjb21tb25zLmlvL3VzZXIiLCJhdWQiOlsiaHR0cHM6Ly9qY29pbi5kYXRhY29tbW9ucy5pby91c2VyIiwiZ29vZ2xlX2xpbmsiLCJ1c2VyIiwiZGF0YSIsImZlbmNlIiwiYWRtaW4iLCJnb29nbGVfY3JlZGVudGlhbHMiLCJnb29nbGVfc2VydmljZV9hY2NvdW50Iiwib3BlbmlkIl0sImlhdCI6MTY4NjE2NzYzNiwiZXhwIjoxNjg2MTcxMjM2LCJqdGkiOiI5NWJjZGFkYi1mYzA0LTRiM2ItYjZhOS0yY2VmYmI3NWVhNzciLCJzY29wZSI6WyJnb29nbGVfbGluayIsInVzZXIiLCJkYXRhIiwiZmVuY2UiLCJhZG1pbiIsImdvb2dsZV9jcmVkZW50aWFscyIsImdvb2dsZV9zZXJ2aWNlX2FjY291bnQiLCJvcGVuaWQiXSwiY29udGV4dCI6eyJ1c2VyIjp7Im5hbWUiOiJtYmtyYW56QGdtYWlsLmNvbSIsImlzX2FkbWluIjpmYWxzZSwiZ29vZ2xlIjp7InByb3h5X2dyb3VwIjpudWxsfX19LCJhenAiOiIiLCJzdWIiOiI3OSJ9.vqw-1I387i4nS7SnB3rCrdXEp_psW2aWyTt9S9uxboHhyXsclLNv3ZxQt_awPQUX3gjJ2QBIskerYNJiy-3-mb9lHFRqetJ-F1bYtEzaNhuRbbXMuooqGmAhvVRwjVxJ1TEXLpN3h8vxLF5n1te0GwUjR8jSY9AMTa9oBTjHbDytbpZNjQR4VcOhS22vqLnpPXtN7lmcwmFLdIZ_zYx3QXXoHLpmVdj-2clmlun1E_ZR3EC_MeKrPVXYtUWKoFIMqgVr2LI41bitJG-IFdsPGJp6jibzH4dITXZpk32JnPjxOCqL_vAB-8jkHBz9eTX4e3PAWc_dgzUTFx4Mbhu6qQ) after 3 tries; exception: (<class 'FileExistsError'>, FileExistsError(17, 'Cannot create a file when that file already exists'), <traceback object at 0x000002BD7B7E1A40>)\n",
      "[2023-06-07 14:53:57,984][WARNING] Unable to write access token to cache file. Exceeded number of retries.\n",
      "Submission progress: 1/1\n"
     ]
    }
   ],
   "source": [
    "core_measures.commons_project_code = commons_project\n",
    "core_measures.submit(\n",
    "    commons_project_code=commons_project,\n",
    "    commons_file_guid=file_guid, #comment out if creating a new version\n",
    "    commons_file_submitter_id=commons_file_submitter_id,\n",
    "    commons_credentials_path=str(Path(credentials_path).resolve()),\n",
    "    \n",
    ")"
   ]
  },
  {
   "attachments": {},
   "cell_type": "markdown",
   "metadata": {},
   "source": [
    "## Deleting test files and records\n",
    "\n",
    "First grab the most recent records from indexd and sheepdog. Confirm this is indeed the file you just created and uploaded:\n",
    "\n",
    "Note, need you need to update the file guid if wanting to test update function after creating a new record."
   ]
  },
  {
   "cell_type": "code",
   "execution_count": 11,
   "metadata": {},
   "outputs": [
    {
     "name": "stdout",
     "output_type": "stream",
     "text": [
      "[2023-06-07 10:23:59,324][WARNING] failed to write token cache file: C:\\Users\\kranz-michael/.cache/gen3/token_cache_2d7175bafd293e88f4b428a5be444fd2\n",
      "[2023-06-07 10:23:59,326][WARNING] [WinError 183] Cannot create a file when that file already exists: 'C:\\\\Users\\\\kranz-michael/.cache/gen3/token_cache_2d7175bafd293e88f4b428a5be444fd2.tmp_eraseme_11655_1686151439' -> 'C:\\\\Users\\\\kranz-michael/.cache/gen3/token_cache_2d7175bafd293e88f4b428a5be444fd2'\n",
      "[2023-06-07 10:23:59,327][WARNING] backoff: call gen3.auth._write_to_file(<gen3.auth.Gen3Auth object at 0x00000260B5AA4580>, C:\\Users\\kranz-michael/.cache/gen3/token_cache_2d7175bafd293e88f4b428a5be444fd2, eyJhbGciOiJSUzI1NiIsImtpZCI6ImZlbmNlX2tleV8yMDIwLTAxLTAyVDA2OjM1OjA4WiIsInR5cCI6IkpXVCJ9.eyJwdXIiOiJhY2Nlc3MiLCJpc3MiOiJodHRwczovL2pjb2luLmRhdGFjb21tb25zLmlvL3VzZXIiLCJhdWQiOlsiaHR0cHM6Ly9qY29pbi5kYXRhY29tbW9ucy5pby91c2VyIiwiZ29vZ2xlX2xpbmsiLCJ1c2VyIiwiZGF0YSIsImZlbmNlIiwiYWRtaW4iLCJnb29nbGVfY3JlZGVudGlhbHMiLCJnb29nbGVfc2VydmljZV9hY2NvdW50Iiwib3BlbmlkIl0sImlhdCI6MTY4NjE1MTQzOSwiZXhwIjoxNjg2MTU1MDM5LCJqdGkiOiI2MTc4MjE0MS05ZWU3LTQ3ODktYTQ3ZS0zNzg4MTdkMWVlYzMiLCJzY29wZSI6WyJnb29nbGVfbGluayIsInVzZXIiLCJkYXRhIiwiZmVuY2UiLCJhZG1pbiIsImdvb2dsZV9jcmVkZW50aWFscyIsImdvb2dsZV9zZXJ2aWNlX2FjY291bnQiLCJvcGVuaWQiXSwiY29udGV4dCI6eyJ1c2VyIjp7Im5hbWUiOiJtYmtyYW56QGdtYWlsLmNvbSIsImlzX2FkbWluIjpmYWxzZSwiZ29vZ2xlIjp7InByb3h5X2dyb3VwIjpudWxsfX19LCJhenAiOiIiLCJzdWIiOiI3OSJ9.sbW3PfuucNIPBo91K2IKedtC5IGQd06brjc53rj7xDt0gPrmKWQxxB5k_8OZ2l7aYtr54PyKa1lxKCKA9GpYhSOTLO5q_dUJhf9MCm67_z4EzFyPGmXVgC5BOtttBg37bUGdHVhpUNgC_GPbrWFZTVD2VSTieAByOgSql-gBKSvhsm9yf7h9etu3aCovy20nbTMKQKGhYCH8yfHfqVJNIZOhTwgKdsXsI9PbFmmrL3GtEZkwqXVrFCnTbz0O5K1V1ee9KuADKGWEC-c8HTG-QdxhY4a-ZGrZ9uTGyuq7Ric9nozxl3aJ1rkUo5sENNAstOJdqDNv2DL3MK-Wbp5gow) delay 0.4 seconds after 1 tries\n",
      "[2023-06-07 10:23:59,699][WARNING] failed to write token cache file: C:\\Users\\kranz-michael/.cache/gen3/token_cache_2d7175bafd293e88f4b428a5be444fd2\n",
      "[2023-06-07 10:23:59,700][WARNING] [WinError 183] Cannot create a file when that file already exists: 'C:\\\\Users\\\\kranz-michael/.cache/gen3/token_cache_2d7175bafd293e88f4b428a5be444fd2.tmp_eraseme_58542_1686151439' -> 'C:\\\\Users\\\\kranz-michael/.cache/gen3/token_cache_2d7175bafd293e88f4b428a5be444fd2'\n",
      "[2023-06-07 10:23:59,700][WARNING] backoff: call gen3.auth._write_to_file(<gen3.auth.Gen3Auth object at 0x00000260B5AA4580>, C:\\Users\\kranz-michael/.cache/gen3/token_cache_2d7175bafd293e88f4b428a5be444fd2, eyJhbGciOiJSUzI1NiIsImtpZCI6ImZlbmNlX2tleV8yMDIwLTAxLTAyVDA2OjM1OjA4WiIsInR5cCI6IkpXVCJ9.eyJwdXIiOiJhY2Nlc3MiLCJpc3MiOiJodHRwczovL2pjb2luLmRhdGFjb21tb25zLmlvL3VzZXIiLCJhdWQiOlsiaHR0cHM6Ly9qY29pbi5kYXRhY29tbW9ucy5pby91c2VyIiwiZ29vZ2xlX2xpbmsiLCJ1c2VyIiwiZGF0YSIsImZlbmNlIiwiYWRtaW4iLCJnb29nbGVfY3JlZGVudGlhbHMiLCJnb29nbGVfc2VydmljZV9hY2NvdW50Iiwib3BlbmlkIl0sImlhdCI6MTY4NjE1MTQzOSwiZXhwIjoxNjg2MTU1MDM5LCJqdGkiOiI2MTc4MjE0MS05ZWU3LTQ3ODktYTQ3ZS0zNzg4MTdkMWVlYzMiLCJzY29wZSI6WyJnb29nbGVfbGluayIsInVzZXIiLCJkYXRhIiwiZmVuY2UiLCJhZG1pbiIsImdvb2dsZV9jcmVkZW50aWFscyIsImdvb2dsZV9zZXJ2aWNlX2FjY291bnQiLCJvcGVuaWQiXSwiY29udGV4dCI6eyJ1c2VyIjp7Im5hbWUiOiJtYmtyYW56QGdtYWlsLmNvbSIsImlzX2FkbWluIjpmYWxzZSwiZ29vZ2xlIjp7InByb3h5X2dyb3VwIjpudWxsfX19LCJhenAiOiIiLCJzdWIiOiI3OSJ9.sbW3PfuucNIPBo91K2IKedtC5IGQd06brjc53rj7xDt0gPrmKWQxxB5k_8OZ2l7aYtr54PyKa1lxKCKA9GpYhSOTLO5q_dUJhf9MCm67_z4EzFyPGmXVgC5BOtttBg37bUGdHVhpUNgC_GPbrWFZTVD2VSTieAByOgSql-gBKSvhsm9yf7h9etu3aCovy20nbTMKQKGhYCH8yfHfqVJNIZOhTwgKdsXsI9PbFmmrL3GtEZkwqXVrFCnTbz0O5K1V1ee9KuADKGWEC-c8HTG-QdxhY4a-ZGrZ9uTGyuq7Ric9nozxl3aJ1rkUo5sENNAstOJdqDNv2DL3MK-Wbp5gow) delay 1.1 seconds after 2 tries\n",
      "[2023-06-07 10:24:00,821][WARNING] failed to write token cache file: C:\\Users\\kranz-michael/.cache/gen3/token_cache_2d7175bafd293e88f4b428a5be444fd2\n",
      "[2023-06-07 10:24:00,822][WARNING] [WinError 183] Cannot create a file when that file already exists: 'C:\\\\Users\\\\kranz-michael/.cache/gen3/token_cache_2d7175bafd293e88f4b428a5be444fd2.tmp_eraseme_40636_1686151440' -> 'C:\\\\Users\\\\kranz-michael/.cache/gen3/token_cache_2d7175bafd293e88f4b428a5be444fd2'\n",
      "[2023-06-07 10:24:00,823][  ERROR] backoff: gave up call gen3.auth._write_to_file(<gen3.auth.Gen3Auth object at 0x00000260B5AA4580>, C:\\Users\\kranz-michael/.cache/gen3/token_cache_2d7175bafd293e88f4b428a5be444fd2, eyJhbGciOiJSUzI1NiIsImtpZCI6ImZlbmNlX2tleV8yMDIwLTAxLTAyVDA2OjM1OjA4WiIsInR5cCI6IkpXVCJ9.eyJwdXIiOiJhY2Nlc3MiLCJpc3MiOiJodHRwczovL2pjb2luLmRhdGFjb21tb25zLmlvL3VzZXIiLCJhdWQiOlsiaHR0cHM6Ly9qY29pbi5kYXRhY29tbW9ucy5pby91c2VyIiwiZ29vZ2xlX2xpbmsiLCJ1c2VyIiwiZGF0YSIsImZlbmNlIiwiYWRtaW4iLCJnb29nbGVfY3JlZGVudGlhbHMiLCJnb29nbGVfc2VydmljZV9hY2NvdW50Iiwib3BlbmlkIl0sImlhdCI6MTY4NjE1MTQzOSwiZXhwIjoxNjg2MTU1MDM5LCJqdGkiOiI2MTc4MjE0MS05ZWU3LTQ3ODktYTQ3ZS0zNzg4MTdkMWVlYzMiLCJzY29wZSI6WyJnb29nbGVfbGluayIsInVzZXIiLCJkYXRhIiwiZmVuY2UiLCJhZG1pbiIsImdvb2dsZV9jcmVkZW50aWFscyIsImdvb2dsZV9zZXJ2aWNlX2FjY291bnQiLCJvcGVuaWQiXSwiY29udGV4dCI6eyJ1c2VyIjp7Im5hbWUiOiJtYmtyYW56QGdtYWlsLmNvbSIsImlzX2FkbWluIjpmYWxzZSwiZ29vZ2xlIjp7InByb3h5X2dyb3VwIjpudWxsfX19LCJhenAiOiIiLCJzdWIiOiI3OSJ9.sbW3PfuucNIPBo91K2IKedtC5IGQd06brjc53rj7xDt0gPrmKWQxxB5k_8OZ2l7aYtr54PyKa1lxKCKA9GpYhSOTLO5q_dUJhf9MCm67_z4EzFyPGmXVgC5BOtttBg37bUGdHVhpUNgC_GPbrWFZTVD2VSTieAByOgSql-gBKSvhsm9yf7h9etu3aCovy20nbTMKQKGhYCH8yfHfqVJNIZOhTwgKdsXsI9PbFmmrL3GtEZkwqXVrFCnTbz0O5K1V1ee9KuADKGWEC-c8HTG-QdxhY4a-ZGrZ9uTGyuq7Ric9nozxl3aJ1rkUo5sENNAstOJdqDNv2DL3MK-Wbp5gow) after 3 tries; exception: (<class 'FileExistsError'>, FileExistsError(17, 'Cannot create a file when that file already exists'), <traceback object at 0x00000260B5A308C0>)\n",
      "[2023-06-07 10:24:00,825][WARNING] Unable to write access token to cache file. Exceeded number of retries.\n"
     ]
    }
   ],
   "source": [
    "from gen3.auth import Gen3Auth\n",
    "from gen3.submission import Gen3Submission\n",
    "from gen3.index import Gen3Index\n",
    "from gen3.file import Gen3File\n",
    "\n",
    "index = Gen3Index(Gen3Auth(refresh_file=credentials_path))\n",
    "sub = Gen3Submission(Gen3Auth(refresh_file=credentials_path))\n",
    "files = Gen3File(Gen3Auth(refresh_file=credentials_path))\n",
    "sheepdog_rec = sub.export_node(\"JCOIN\",\"TEST\",\"reference_file\",fileformat=\"json\")\n",
    "index_rec = index.get_record(sheepdog_rec[\"data\"][-1][\"object_id\"])"
   ]
  },
  {
   "attachments": {},
   "cell_type": "markdown",
   "metadata": {},
   "source": [
    "Then delete all file locations and the sheepdog record:"
   ]
  },
  {
   "cell_type": "code",
   "execution_count": 24,
   "metadata": {},
   "outputs": [
    {
     "name": "stdout",
     "output_type": "stream",
     "text": [
      "[2023-06-01 13:04:25,531][WARNING] failed to write token cache file: C:\\Users\\kranz-michael/.cache/gen3/token_cache_23fa6b0896aef79de0ce457aa59b87e0\n",
      "[2023-06-01 13:04:25,532][WARNING] [WinError 183] Cannot create a file when that file already exists: 'C:\\\\Users\\\\kranz-michael/.cache/gen3/token_cache_23fa6b0896aef79de0ce457aa59b87e0.tmp_eraseme_46911_1685642665' -> 'C:\\\\Users\\\\kranz-michael/.cache/gen3/token_cache_23fa6b0896aef79de0ce457aa59b87e0'\n",
      "[2023-06-01 13:04:25,532][WARNING] backoff: call gen3.auth._write_to_file(<gen3.auth.Gen3Auth object at 0x000001CB9FF916F0>, C:\\Users\\kranz-michael/.cache/gen3/token_cache_23fa6b0896aef79de0ce457aa59b87e0, eyJhbGciOiJSUzI1NiIsImtpZCI6ImZlbmNlX2tleV8yMDIwLTAxLTAyVDA2OjM1OjA4WiIsInR5cCI6IkpXVCJ9.eyJwdXIiOiJhY2Nlc3MiLCJpc3MiOiJodHRwczovL2pjb2luLmRhdGFjb21tb25zLmlvL3VzZXIiLCJhdWQiOlsiaHR0cHM6Ly9qY29pbi5kYXRhY29tbW9ucy5pby91c2VyIiwiZmVuY2UiLCJvcGVuaWQiLCJ1c2VyIiwiZGF0YSIsImFkbWluIiwiZ29vZ2xlX2xpbmsiLCJnb29nbGVfc2VydmljZV9hY2NvdW50IiwiZ29vZ2xlX2NyZWRlbnRpYWxzIl0sImlhdCI6MTY4NTY0MjY2NCwiZXhwIjoxNjg1NjQ2MjY0LCJqdGkiOiJlNTQ4NDBmMi1kMGRmLTRlMjQtYmY2Mi02M2FmYTBhZTM4ZTgiLCJzY29wZSI6WyJmZW5jZSIsIm9wZW5pZCIsInVzZXIiLCJkYXRhIiwiYWRtaW4iLCJnb29nbGVfbGluayIsImdvb2dsZV9zZXJ2aWNlX2FjY291bnQiLCJnb29nbGVfY3JlZGVudGlhbHMiXSwiY29udGV4dCI6eyJ1c2VyIjp7Im5hbWUiOiJtYmtyYW56QGdtYWlsLmNvbSIsImlzX2FkbWluIjpmYWxzZSwiZ29vZ2xlIjp7InByb3h5X2dyb3VwIjpudWxsfX19LCJhenAiOiIiLCJzdWIiOiI3OSJ9.TJfQi6RC2si25Kzv3oyFvtJVi66OUVhUW17m4tLV57ORUgSm19IC2MAcPpro_fZCtD8EL2u8DSWyX2lHHb-TD9bhCRg4xhEtFHV0zCLVipxL5nkRQ5yHmEj_8w6SgtOUeK--ifpVm6kjL5owtIx61V3pWKgOR9sNx41kC4RUF8CqQTukeuRRFnXQ4pqibDukB6u9dFQcAA6vDu3LwQkkWtrAjNUBRLe0GZG7uZzC9HkihAtX0R16G9olJuCsDCd8hMdmZqhV8H9tnYzqfj1msx__eWwBPXPJJMrpw_4fMMXhy5kV-u1cexeSPhFjcJvxqcaWb2wQKuBxrySgDNRt5g) delay 0.4 seconds after 1 tries\n",
      "[2023-06-01 13:04:25,987][WARNING] failed to write token cache file: C:\\Users\\kranz-michael/.cache/gen3/token_cache_23fa6b0896aef79de0ce457aa59b87e0\n",
      "[2023-06-01 13:04:25,987][WARNING] [WinError 183] Cannot create a file when that file already exists: 'C:\\\\Users\\\\kranz-michael/.cache/gen3/token_cache_23fa6b0896aef79de0ce457aa59b87e0.tmp_eraseme_51748_1685642665' -> 'C:\\\\Users\\\\kranz-michael/.cache/gen3/token_cache_23fa6b0896aef79de0ce457aa59b87e0'\n",
      "[2023-06-01 13:04:25,989][WARNING] backoff: call gen3.auth._write_to_file(<gen3.auth.Gen3Auth object at 0x000001CB9FF916F0>, C:\\Users\\kranz-michael/.cache/gen3/token_cache_23fa6b0896aef79de0ce457aa59b87e0, eyJhbGciOiJSUzI1NiIsImtpZCI6ImZlbmNlX2tleV8yMDIwLTAxLTAyVDA2OjM1OjA4WiIsInR5cCI6IkpXVCJ9.eyJwdXIiOiJhY2Nlc3MiLCJpc3MiOiJodHRwczovL2pjb2luLmRhdGFjb21tb25zLmlvL3VzZXIiLCJhdWQiOlsiaHR0cHM6Ly9qY29pbi5kYXRhY29tbW9ucy5pby91c2VyIiwiZmVuY2UiLCJvcGVuaWQiLCJ1c2VyIiwiZGF0YSIsImFkbWluIiwiZ29vZ2xlX2xpbmsiLCJnb29nbGVfc2VydmljZV9hY2NvdW50IiwiZ29vZ2xlX2NyZWRlbnRpYWxzIl0sImlhdCI6MTY4NTY0MjY2NCwiZXhwIjoxNjg1NjQ2MjY0LCJqdGkiOiJlNTQ4NDBmMi1kMGRmLTRlMjQtYmY2Mi02M2FmYTBhZTM4ZTgiLCJzY29wZSI6WyJmZW5jZSIsIm9wZW5pZCIsInVzZXIiLCJkYXRhIiwiYWRtaW4iLCJnb29nbGVfbGluayIsImdvb2dsZV9zZXJ2aWNlX2FjY291bnQiLCJnb29nbGVfY3JlZGVudGlhbHMiXSwiY29udGV4dCI6eyJ1c2VyIjp7Im5hbWUiOiJtYmtyYW56QGdtYWlsLmNvbSIsImlzX2FkbWluIjpmYWxzZSwiZ29vZ2xlIjp7InByb3h5X2dyb3VwIjpudWxsfX19LCJhenAiOiIiLCJzdWIiOiI3OSJ9.TJfQi6RC2si25Kzv3oyFvtJVi66OUVhUW17m4tLV57ORUgSm19IC2MAcPpro_fZCtD8EL2u8DSWyX2lHHb-TD9bhCRg4xhEtFHV0zCLVipxL5nkRQ5yHmEj_8w6SgtOUeK--ifpVm6kjL5owtIx61V3pWKgOR9sNx41kC4RUF8CqQTukeuRRFnXQ4pqibDukB6u9dFQcAA6vDu3LwQkkWtrAjNUBRLe0GZG7uZzC9HkihAtX0R16G9olJuCsDCd8hMdmZqhV8H9tnYzqfj1msx__eWwBPXPJJMrpw_4fMMXhy5kV-u1cexeSPhFjcJvxqcaWb2wQKuBxrySgDNRt5g) delay 0.5 seconds after 2 tries\n",
      "[2023-06-01 13:04:26,474][WARNING] failed to write token cache file: C:\\Users\\kranz-michael/.cache/gen3/token_cache_23fa6b0896aef79de0ce457aa59b87e0\n",
      "[2023-06-01 13:04:26,475][WARNING] [WinError 183] Cannot create a file when that file already exists: 'C:\\\\Users\\\\kranz-michael/.cache/gen3/token_cache_23fa6b0896aef79de0ce457aa59b87e0.tmp_eraseme_37657_1685642666' -> 'C:\\\\Users\\\\kranz-michael/.cache/gen3/token_cache_23fa6b0896aef79de0ce457aa59b87e0'\n",
      "[2023-06-01 13:04:26,476][  ERROR] backoff: gave up call gen3.auth._write_to_file(<gen3.auth.Gen3Auth object at 0x000001CB9FF916F0>, C:\\Users\\kranz-michael/.cache/gen3/token_cache_23fa6b0896aef79de0ce457aa59b87e0, eyJhbGciOiJSUzI1NiIsImtpZCI6ImZlbmNlX2tleV8yMDIwLTAxLTAyVDA2OjM1OjA4WiIsInR5cCI6IkpXVCJ9.eyJwdXIiOiJhY2Nlc3MiLCJpc3MiOiJodHRwczovL2pjb2luLmRhdGFjb21tb25zLmlvL3VzZXIiLCJhdWQiOlsiaHR0cHM6Ly9qY29pbi5kYXRhY29tbW9ucy5pby91c2VyIiwiZmVuY2UiLCJvcGVuaWQiLCJ1c2VyIiwiZGF0YSIsImFkbWluIiwiZ29vZ2xlX2xpbmsiLCJnb29nbGVfc2VydmljZV9hY2NvdW50IiwiZ29vZ2xlX2NyZWRlbnRpYWxzIl0sImlhdCI6MTY4NTY0MjY2NCwiZXhwIjoxNjg1NjQ2MjY0LCJqdGkiOiJlNTQ4NDBmMi1kMGRmLTRlMjQtYmY2Mi02M2FmYTBhZTM4ZTgiLCJzY29wZSI6WyJmZW5jZSIsIm9wZW5pZCIsInVzZXIiLCJkYXRhIiwiYWRtaW4iLCJnb29nbGVfbGluayIsImdvb2dsZV9zZXJ2aWNlX2FjY291bnQiLCJnb29nbGVfY3JlZGVudGlhbHMiXSwiY29udGV4dCI6eyJ1c2VyIjp7Im5hbWUiOiJtYmtyYW56QGdtYWlsLmNvbSIsImlzX2FkbWluIjpmYWxzZSwiZ29vZ2xlIjp7InByb3h5X2dyb3VwIjpudWxsfX19LCJhenAiOiIiLCJzdWIiOiI3OSJ9.TJfQi6RC2si25Kzv3oyFvtJVi66OUVhUW17m4tLV57ORUgSm19IC2MAcPpro_fZCtD8EL2u8DSWyX2lHHb-TD9bhCRg4xhEtFHV0zCLVipxL5nkRQ5yHmEj_8w6SgtOUeK--ifpVm6kjL5owtIx61V3pWKgOR9sNx41kC4RUF8CqQTukeuRRFnXQ4pqibDukB6u9dFQcAA6vDu3LwQkkWtrAjNUBRLe0GZG7uZzC9HkihAtX0R16G9olJuCsDCd8hMdmZqhV8H9tnYzqfj1msx__eWwBPXPJJMrpw_4fMMXhy5kV-u1cexeSPhFjcJvxqcaWb2wQKuBxrySgDNRt5g) after 3 tries; exception: (<class 'FileExistsError'>, FileExistsError(17, 'Cannot create a file when that file already exists'), <traceback object at 0x000001CB9F4BE680>)\n",
      "[2023-06-01 13:04:26,476][WARNING] Unable to write access token to cache file. Exceeded number of retries.\n"
     ]
    },
    {
     "data": {
      "text/plain": [
       "<Response [200]>"
      ]
     },
     "execution_count": 24,
     "metadata": {},
     "output_type": "execute_result"
    }
   ],
   "source": [
    "files.delete_file_locations(index_rec[\"did\"])\n",
    "sub.delete_record(\"JCOIN\",\"TEST\",sheepdog_rec[\"data\"][-1][\"id\"])"
   ]
  }
 ],
 "metadata": {
  "kernelspec": {
   "display_name": "jdc-utils",
   "language": "python",
   "name": "python3"
  },
  "language_info": {
   "codemirror_mode": {
    "name": "ipython",
    "version": 3
   },
   "file_extension": ".py",
   "mimetype": "text/x-python",
   "name": "python",
   "nbconvert_exporter": "python",
   "pygments_lexer": "ipython3",
   "version": "3.10.5"
  },
  "orig_nbformat": 4
 },
 "nbformat": 4,
 "nbformat_minor": 2
}

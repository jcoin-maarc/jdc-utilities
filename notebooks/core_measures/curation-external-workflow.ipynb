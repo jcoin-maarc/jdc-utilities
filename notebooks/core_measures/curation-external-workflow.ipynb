{
 "cells": [
  {
   "attachments": {},
   "cell_type": "markdown",
   "metadata": {},
   "source": [
    "You've done all your processing and transformations. Now it's time to validate, package, and submit! (dont worry if you dont have some of the core measures, we will add a placeholder field with `Missing`). You also can check your errors and add to your external workflow by checking the `data/core-measures-test/report-summary.txt` file. "
   ]
  },
  {
   "attachments": {},
   "cell_type": "markdown",
   "metadata": {},
   "source": [
    "Import the CoreMeasures object which provides the functionality for the \n",
    "core measure pipeline"
   ]
  },
  {
   "cell_type": "code",
   "execution_count": 1,
   "metadata": {},
   "outputs": [],
   "source": [
    "from jdc_utils import CoreMeasures\n",
    "from pathlib import Path\n",
    "import os"
   ]
  },
  {
   "cell_type": "code",
   "execution_count": 2,
   "metadata": {},
   "outputs": [],
   "source": [
    "datafolder = \"../../data/external_workflow\""
   ]
  },
  {
   "cell_type": "code",
   "execution_count": 3,
   "metadata": {},
   "outputs": [
    {
     "data": {
      "text/plain": [
       "['baseline.csv', 'timepoints.csv']"
      ]
     },
     "execution_count": 3,
     "metadata": {},
     "output_type": "execute_result"
    }
   ],
   "source": [
    "os.listdir(datafolder)"
   ]
  },
  {
   "cell_type": "code",
   "execution_count": 4,
   "metadata": {},
   "outputs": [],
   "source": [
    "core_measures = CoreMeasures(transform_steps=[\"add_new_names\",\"add_missing_fields\"])\n",
    "core_measures.add_baseline(Path(datafolder)/\"baseline.csv\")\n",
    "core_measures.add_timepoints(Path(datafolder)/\"timepoints.csv\")"
   ]
  },
  {
   "attachments": {},
   "cell_type": "markdown",
   "metadata": {},
   "source": [
    "Now you have read in your core measure datasets (called `resources`):"
   ]
  },
  {
   "cell_type": "code",
   "execution_count": 5,
   "metadata": {},
   "outputs": [
    {
     "data": {
      "text/plain": [
       "['baseline', 'timepoints']"
      ]
     },
     "execution_count": 5,
     "metadata": {},
     "output_type": "execute_result"
    }
   ],
   "source": [
    "core_measures.package.resource_names"
   ]
  },
  {
   "attachments": {},
   "cell_type": "markdown",
   "metadata": {},
   "source": [
    "Validate and write your package to the standardized packaging format your core measures"
   ]
  },
  {
   "cell_type": "code",
   "execution_count": 6,
   "metadata": {},
   "outputs": [
    {
     "data": {
      "text/plain": [
       "<jdc_utils.core_measures.core_measures.CoreMeasures at 0x25bc70f3ee0>"
      ]
     },
     "execution_count": 6,
     "metadata": {},
     "output_type": "execute_result"
    }
   ],
   "source": [
    "core_measures.write(\"../../data/core-measures-test\")"
   ]
  },
  {
   "cell_type": "code",
   "execution_count": 7,
   "metadata": {},
   "outputs": [
    {
     "name": "stdout",
     "output_type": "stream",
     "text": [
      "\n",
      "# -----\n",
      "# valid: data/baseline.csv \n",
      "# -----\n",
      "\n",
      "## Summary \n",
      "\n",
      "+------------------------+-------------------+\n",
      "| Description            | Size/Name/Count   |\n",
      "+========================+===================+\n",
      "| File name              | data/baseline.csv |\n",
      "+------------------------+-------------------+\n",
      "| File size (KB)         | 2018              |\n",
      "+------------------------+-------------------+\n",
      "| Total Time Taken (sec) | 0.067             |\n",
      "+------------------------+-------------------+\n",
      "\n",
      "\n",
      "# -----\n",
      "# valid: data/timepoints.csv \n",
      "# -----\n",
      "\n",
      "## Summary \n",
      "\n",
      "+------------------------+---------------------+\n",
      "| Description            | Size/Name/Count     |\n",
      "+========================+=====================+\n",
      "| File name              | data/timepoints.csv |\n",
      "+------------------------+---------------------+\n",
      "| File size (KB)         | 27463               |\n",
      "+------------------------+---------------------+\n",
      "| Total Time Taken (sec) | 0.305               |\n",
      "+------------------------+---------------------+\n",
      "\n",
      "\n"
     ]
    }
   ],
   "source": [
    "print(core_measures.written_package_report.to_summary())"
   ]
  },
  {
   "attachments": {},
   "cell_type": "markdown",
   "metadata": {},
   "source": [
    "## Uploading and mapping data package to JDC"
   ]
  },
  {
   "attachments": {},
   "cell_type": "markdown",
   "metadata": {},
   "source": [
    "Once you've run created a validated data package,  you are ready to upload to the JDC. To upload (and update) a core measure you can then use the `.submit()` method. This will create a new version of the correspoinding file. Or, if it is your first time uploading and you do not have a file guid minted, run without a file guid to initiate new file record."
   ]
  },
  {
   "cell_type": "code",
   "execution_count": 8,
   "metadata": {},
   "outputs": [],
   "source": [
    "commons_project = \"TEST\"\n",
    "file_guid = \"dg.6VTS/7422e052-042c-457e-90cd-cd317bbd09df\"\n",
    "\n",
    "# file_guid = None\n",
    "commons_file_submitter_id = 'core-measures-test'\n",
    "credentials_path=\"../../credentials.json\"\n",
    "zip_path = \"../../data/core-measures-test.zip\""
   ]
  },
  {
   "attachments": {},
   "cell_type": "markdown",
   "metadata": {},
   "source": [
    "If first time, run the generic function that submits a package and maps to sheepdog (commented out for now)"
   ]
  },
  {
   "cell_type": "code",
   "execution_count": 9,
   "metadata": {},
   "outputs": [],
   "source": [
    "# from jdc_utils.submission import submit_package_to_jdc\n",
    "\n",
    "# gen3_file = submit_package_to_jdc(\n",
    "#     package_path=zip_path,\n",
    "#     commons_project=commons_project,\n",
    "#     sheepdog_file_submitter_id=commons_file_submitter_id,\n",
    "#     sheepdog_data_type=\"Interview\",\n",
    "#     sheepdog_data_category=\"Core Measures\",\n",
    "#     sheepdog_data_format=\"ZIP\",\n",
    "#     submission_type=\"create\",\n",
    "#     sheepdog_other_cmc_node_metadata={\"title\":\"Core Measures\"},\n",
    "#     credentials_path=credentials_path,\n",
    "# )\n",
    "# core_measures.commons_project_code = commons_project\n",
    "# core_measures.map_to_sheepdog(commons_project,credentials_path)"
   ]
  },
  {
   "cell_type": "code",
   "execution_count": 10,
   "metadata": {},
   "outputs": [
    {
     "data": {
      "text/plain": [
       "WindowsPath('C:/Users/kranz-michael/projects/jdc-utilities/credentials.json')"
      ]
     },
     "execution_count": 10,
     "metadata": {},
     "output_type": "execute_result"
    }
   ],
   "source": [
    "Path(credentials_path).resolve()"
   ]
  },
  {
   "cell_type": "code",
   "execution_count": null,
   "metadata": {},
   "outputs": [],
   "source": [
    "core_measures.commons_project_code = commons_project\n",
    "core_measures.submit(\n",
    "    commons_project_code=commons_project,\n",
    "    commons_file_guid=file_guid, #comment out if creating a new version\n",
    "    commons_file_submitter_id=commons_file_submitter_id,\n",
    "    commons_credentials_path=str(Path(credentials_path).resolve()),\n",
    "    \n",
    ")"
   ]
  },
  {
   "attachments": {},
   "cell_type": "markdown",
   "metadata": {},
   "source": [
    "## Deleting test files and records\n",
    "\n",
    "First grab the most recent records from indexd and sheepdog. Confirm this is indeed the file you just created and uploaded:\n",
    "\n",
    "Note, need you need to update the file guid if wanting to test update function after creating a new record."
   ]
  },
  {
   "cell_type": "code",
   "execution_count": null,
   "metadata": {},
   "outputs": [],
   "source": [
    "from gen3.auth import Gen3Auth\n",
    "from gen3.submission import Gen3Submission\n",
    "from gen3.index import Gen3Index\n",
    "from gen3.file import Gen3File\n",
    "\n",
    "index = Gen3Index(Gen3Auth(refresh_file=credentials_path))\n",
    "sub = Gen3Submission(Gen3Auth(refresh_file=credentials_path))\n",
    "files = Gen3File(Gen3Auth(refresh_file=credentials_path))\n",
    "sheepdog_rec = sub.export_node(\"JCOIN\",\"TEST\",\"reference_file\",fileformat=\"json\")\n",
    "index_rec = index.get_record(sheepdog_rec[\"data\"][-1][\"object_id\"])"
   ]
  },
  {
   "attachments": {},
   "cell_type": "markdown",
   "metadata": {},
   "source": [
    "Then delete all file locations and the sheepdog record:"
   ]
  },
  {
   "cell_type": "code",
   "execution_count": 24,
   "metadata": {},
   "outputs": [
    {
     "name": "stdout",
     "output_type": "stream",
     "text": [
      "[2023-06-01 13:04:25,531][WARNING] failed to write token cache file: C:\\Users\\kranz-michael/.cache/gen3/token_cache_23fa6b0896aef79de0ce457aa59b87e0\n",
      "[2023-06-01 13:04:25,532][WARNING] [WinError 183] Cannot create a file when that file already exists: 'C:\\\\Users\\\\kranz-michael/.cache/gen3/token_cache_23fa6b0896aef79de0ce457aa59b87e0.tmp_eraseme_46911_1685642665' -> 'C:\\\\Users\\\\kranz-michael/.cache/gen3/token_cache_23fa6b0896aef79de0ce457aa59b87e0'\n",
      "[2023-06-01 13:04:25,532][WARNING] backoff: call gen3.auth._write_to_file(<gen3.auth.Gen3Auth object at 0x000001CB9FF916F0>, C:\\Users\\kranz-michael/.cache/gen3/token_cache_23fa6b0896aef79de0ce457aa59b87e0, eyJhbGciOiJSUzI1NiIsImtpZCI6ImZlbmNlX2tleV8yMDIwLTAxLTAyVDA2OjM1OjA4WiIsInR5cCI6IkpXVCJ9.eyJwdXIiOiJhY2Nlc3MiLCJpc3MiOiJodHRwczovL2pjb2luLmRhdGFjb21tb25zLmlvL3VzZXIiLCJhdWQiOlsiaHR0cHM6Ly9qY29pbi5kYXRhY29tbW9ucy5pby91c2VyIiwiZmVuY2UiLCJvcGVuaWQiLCJ1c2VyIiwiZGF0YSIsImFkbWluIiwiZ29vZ2xlX2xpbmsiLCJnb29nbGVfc2VydmljZV9hY2NvdW50IiwiZ29vZ2xlX2NyZWRlbnRpYWxzIl0sImlhdCI6MTY4NTY0MjY2NCwiZXhwIjoxNjg1NjQ2MjY0LCJqdGkiOiJlNTQ4NDBmMi1kMGRmLTRlMjQtYmY2Mi02M2FmYTBhZTM4ZTgiLCJzY29wZSI6WyJmZW5jZSIsIm9wZW5pZCIsInVzZXIiLCJkYXRhIiwiYWRtaW4iLCJnb29nbGVfbGluayIsImdvb2dsZV9zZXJ2aWNlX2FjY291bnQiLCJnb29nbGVfY3JlZGVudGlhbHMiXSwiY29udGV4dCI6eyJ1c2VyIjp7Im5hbWUiOiJtYmtyYW56QGdtYWlsLmNvbSIsImlzX2FkbWluIjpmYWxzZSwiZ29vZ2xlIjp7InByb3h5X2dyb3VwIjpudWxsfX19LCJhenAiOiIiLCJzdWIiOiI3OSJ9.TJfQi6RC2si25Kzv3oyFvtJVi66OUVhUW17m4tLV57ORUgSm19IC2MAcPpro_fZCtD8EL2u8DSWyX2lHHb-TD9bhCRg4xhEtFHV0zCLVipxL5nkRQ5yHmEj_8w6SgtOUeK--ifpVm6kjL5owtIx61V3pWKgOR9sNx41kC4RUF8CqQTukeuRRFnXQ4pqibDukB6u9dFQcAA6vDu3LwQkkWtrAjNUBRLe0GZG7uZzC9HkihAtX0R16G9olJuCsDCd8hMdmZqhV8H9tnYzqfj1msx__eWwBPXPJJMrpw_4fMMXhy5kV-u1cexeSPhFjcJvxqcaWb2wQKuBxrySgDNRt5g) delay 0.4 seconds after 1 tries\n",
      "[2023-06-01 13:04:25,987][WARNING] failed to write token cache file: C:\\Users\\kranz-michael/.cache/gen3/token_cache_23fa6b0896aef79de0ce457aa59b87e0\n",
      "[2023-06-01 13:04:25,987][WARNING] [WinError 183] Cannot create a file when that file already exists: 'C:\\\\Users\\\\kranz-michael/.cache/gen3/token_cache_23fa6b0896aef79de0ce457aa59b87e0.tmp_eraseme_51748_1685642665' -> 'C:\\\\Users\\\\kranz-michael/.cache/gen3/token_cache_23fa6b0896aef79de0ce457aa59b87e0'\n",
      "[2023-06-01 13:04:25,989][WARNING] backoff: call gen3.auth._write_to_file(<gen3.auth.Gen3Auth object at 0x000001CB9FF916F0>, C:\\Users\\kranz-michael/.cache/gen3/token_cache_23fa6b0896aef79de0ce457aa59b87e0, eyJhbGciOiJSUzI1NiIsImtpZCI6ImZlbmNlX2tleV8yMDIwLTAxLTAyVDA2OjM1OjA4WiIsInR5cCI6IkpXVCJ9.eyJwdXIiOiJhY2Nlc3MiLCJpc3MiOiJodHRwczovL2pjb2luLmRhdGFjb21tb25zLmlvL3VzZXIiLCJhdWQiOlsiaHR0cHM6Ly9qY29pbi5kYXRhY29tbW9ucy5pby91c2VyIiwiZmVuY2UiLCJvcGVuaWQiLCJ1c2VyIiwiZGF0YSIsImFkbWluIiwiZ29vZ2xlX2xpbmsiLCJnb29nbGVfc2VydmljZV9hY2NvdW50IiwiZ29vZ2xlX2NyZWRlbnRpYWxzIl0sImlhdCI6MTY4NTY0MjY2NCwiZXhwIjoxNjg1NjQ2MjY0LCJqdGkiOiJlNTQ4NDBmMi1kMGRmLTRlMjQtYmY2Mi02M2FmYTBhZTM4ZTgiLCJzY29wZSI6WyJmZW5jZSIsIm9wZW5pZCIsInVzZXIiLCJkYXRhIiwiYWRtaW4iLCJnb29nbGVfbGluayIsImdvb2dsZV9zZXJ2aWNlX2FjY291bnQiLCJnb29nbGVfY3JlZGVudGlhbHMiXSwiY29udGV4dCI6eyJ1c2VyIjp7Im5hbWUiOiJtYmtyYW56QGdtYWlsLmNvbSIsImlzX2FkbWluIjpmYWxzZSwiZ29vZ2xlIjp7InByb3h5X2dyb3VwIjpudWxsfX19LCJhenAiOiIiLCJzdWIiOiI3OSJ9.TJfQi6RC2si25Kzv3oyFvtJVi66OUVhUW17m4tLV57ORUgSm19IC2MAcPpro_fZCtD8EL2u8DSWyX2lHHb-TD9bhCRg4xhEtFHV0zCLVipxL5nkRQ5yHmEj_8w6SgtOUeK--ifpVm6kjL5owtIx61V3pWKgOR9sNx41kC4RUF8CqQTukeuRRFnXQ4pqibDukB6u9dFQcAA6vDu3LwQkkWtrAjNUBRLe0GZG7uZzC9HkihAtX0R16G9olJuCsDCd8hMdmZqhV8H9tnYzqfj1msx__eWwBPXPJJMrpw_4fMMXhy5kV-u1cexeSPhFjcJvxqcaWb2wQKuBxrySgDNRt5g) delay 0.5 seconds after 2 tries\n",
      "[2023-06-01 13:04:26,474][WARNING] failed to write token cache file: C:\\Users\\kranz-michael/.cache/gen3/token_cache_23fa6b0896aef79de0ce457aa59b87e0\n",
      "[2023-06-01 13:04:26,475][WARNING] [WinError 183] Cannot create a file when that file already exists: 'C:\\\\Users\\\\kranz-michael/.cache/gen3/token_cache_23fa6b0896aef79de0ce457aa59b87e0.tmp_eraseme_37657_1685642666' -> 'C:\\\\Users\\\\kranz-michael/.cache/gen3/token_cache_23fa6b0896aef79de0ce457aa59b87e0'\n",
      "[2023-06-01 13:04:26,476][  ERROR] backoff: gave up call gen3.auth._write_to_file(<gen3.auth.Gen3Auth object at 0x000001CB9FF916F0>, C:\\Users\\kranz-michael/.cache/gen3/token_cache_23fa6b0896aef79de0ce457aa59b87e0, eyJhbGciOiJSUzI1NiIsImtpZCI6ImZlbmNlX2tleV8yMDIwLTAxLTAyVDA2OjM1OjA4WiIsInR5cCI6IkpXVCJ9.eyJwdXIiOiJhY2Nlc3MiLCJpc3MiOiJodHRwczovL2pjb2luLmRhdGFjb21tb25zLmlvL3VzZXIiLCJhdWQiOlsiaHR0cHM6Ly9qY29pbi5kYXRhY29tbW9ucy5pby91c2VyIiwiZmVuY2UiLCJvcGVuaWQiLCJ1c2VyIiwiZGF0YSIsImFkbWluIiwiZ29vZ2xlX2xpbmsiLCJnb29nbGVfc2VydmljZV9hY2NvdW50IiwiZ29vZ2xlX2NyZWRlbnRpYWxzIl0sImlhdCI6MTY4NTY0MjY2NCwiZXhwIjoxNjg1NjQ2MjY0LCJqdGkiOiJlNTQ4NDBmMi1kMGRmLTRlMjQtYmY2Mi02M2FmYTBhZTM4ZTgiLCJzY29wZSI6WyJmZW5jZSIsIm9wZW5pZCIsInVzZXIiLCJkYXRhIiwiYWRtaW4iLCJnb29nbGVfbGluayIsImdvb2dsZV9zZXJ2aWNlX2FjY291bnQiLCJnb29nbGVfY3JlZGVudGlhbHMiXSwiY29udGV4dCI6eyJ1c2VyIjp7Im5hbWUiOiJtYmtyYW56QGdtYWlsLmNvbSIsImlzX2FkbWluIjpmYWxzZSwiZ29vZ2xlIjp7InByb3h5X2dyb3VwIjpudWxsfX19LCJhenAiOiIiLCJzdWIiOiI3OSJ9.TJfQi6RC2si25Kzv3oyFvtJVi66OUVhUW17m4tLV57ORUgSm19IC2MAcPpro_fZCtD8EL2u8DSWyX2lHHb-TD9bhCRg4xhEtFHV0zCLVipxL5nkRQ5yHmEj_8w6SgtOUeK--ifpVm6kjL5owtIx61V3pWKgOR9sNx41kC4RUF8CqQTukeuRRFnXQ4pqibDukB6u9dFQcAA6vDu3LwQkkWtrAjNUBRLe0GZG7uZzC9HkihAtX0R16G9olJuCsDCd8hMdmZqhV8H9tnYzqfj1msx__eWwBPXPJJMrpw_4fMMXhy5kV-u1cexeSPhFjcJvxqcaWb2wQKuBxrySgDNRt5g) after 3 tries; exception: (<class 'FileExistsError'>, FileExistsError(17, 'Cannot create a file when that file already exists'), <traceback object at 0x000001CB9F4BE680>)\n",
      "[2023-06-01 13:04:26,476][WARNING] Unable to write access token to cache file. Exceeded number of retries.\n"
     ]
    },
    {
     "data": {
      "text/plain": [
       "<Response [200]>"
      ]
     },
     "execution_count": 24,
     "metadata": {},
     "output_type": "execute_result"
    }
   ],
   "source": [
    "files.delete_file_locations(index_rec[\"did\"])\n",
    "sub.delete_record(\"JCOIN\",\"TEST\",sheepdog_rec[\"data\"][-1][\"id\"])"
   ]
  }
 ],
 "metadata": {
  "kernelspec": {
   "display_name": "jdc-utils",
   "language": "python",
   "name": "python3"
  },
  "language_info": {
   "codemirror_mode": {
    "name": "ipython",
    "version": 3
   },
   "file_extension": ".py",
   "mimetype": "text/x-python",
   "name": "python",
   "nbconvert_exporter": "python",
   "pygments_lexer": "ipython3",
   "version": "3.10.5"
  },
  "orig_nbformat": 4
 },
 "nbformat": 4,
 "nbformat_minor": 2
}

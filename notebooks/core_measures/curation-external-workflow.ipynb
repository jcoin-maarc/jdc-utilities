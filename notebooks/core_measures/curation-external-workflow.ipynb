{
 "cells": [
  {
   "attachments": {},
   "cell_type": "markdown",
   "metadata": {},
   "source": [
    "You've done all your processing and transformations. Now it's time to validate, package, and submit! (dont worry if you dont have some of the core measures, we will add a placeholder field with `Missing`). You also can check your errors and add to your external workflow by checking the `data/core-measures-test/report-summary.txt` file. "
   ]
  },
  {
   "attachments": {},
   "cell_type": "markdown",
   "metadata": {},
   "source": [
    "Import the CoreMeasures object which provides the functionality for the \n",
    "core measure pipeline"
   ]
  },
  {
   "cell_type": "code",
   "execution_count": 10,
   "metadata": {},
   "outputs": [],
   "source": [
    "from jdc_utils import CoreMeasures\n",
    "from pathlib import Path\n",
    "import os"
   ]
  },
  {
   "cell_type": "code",
   "execution_count": 11,
   "metadata": {},
   "outputs": [],
   "source": [
    "datafolder = \"../data/external_workflow\""
   ]
  },
  {
   "cell_type": "code",
   "execution_count": 3,
   "metadata": {},
   "outputs": [
    {
     "data": {
      "text/plain": [
       "['baseline.csv', 'timepoints.csv']"
      ]
     },
     "execution_count": 3,
     "metadata": {},
     "output_type": "execute_result"
    }
   ],
   "source": [
    "os.listdir(datafolder)"
   ]
  },
  {
   "cell_type": "code",
   "execution_count": 4,
   "metadata": {},
   "outputs": [
    {
     "data": {
      "text/plain": [
       "WindowsPath('C:/Users/kranz-michael/projects/jdc-utilities/data/external_workflow/baseline.csv')"
      ]
     },
     "execution_count": 4,
     "metadata": {},
     "output_type": "execute_result"
    }
   ],
   "source": [
    "Path(datafolder).resolve()/\"baseline.csv\""
   ]
  },
  {
   "cell_type": "code",
   "execution_count": 17,
   "metadata": {},
   "outputs": [],
   "source": [
    "core_measures = CoreMeasures(transform_steps=[\"add_new_names\",\"add_missing_fields\"])\n",
    "core_measures.add_baseline(Path(datafolder)/\"baseline.csv\")\n",
    "core_measures.add_timepoints(Path(datafolder)/\"timepoints.csv\")"
   ]
  },
  {
   "attachments": {},
   "cell_type": "markdown",
   "metadata": {},
   "source": [
    "Now you have read in your core measure datasets (called `resources`):"
   ]
  },
  {
   "cell_type": "code",
   "execution_count": 6,
   "metadata": {},
   "outputs": [
    {
     "data": {
      "text/plain": [
       "['baseline', 'timepoints']"
      ]
     },
     "execution_count": 6,
     "metadata": {},
     "output_type": "execute_result"
    }
   ],
   "source": [
    "core_measures.package.resource_names"
   ]
  },
  {
   "attachments": {},
   "cell_type": "markdown",
   "metadata": {},
   "source": [
    "Validate and write your package to the standardized packaging format your core measures"
   ]
  },
  {
   "cell_type": "code",
   "execution_count": 18,
   "metadata": {},
   "outputs": [
    {
     "data": {
      "text/plain": [
       "<jdc_utils.core_measures.core_measures.CoreMeasures at 0x1ac2cd20970>"
      ]
     },
     "execution_count": 18,
     "metadata": {},
     "output_type": "execute_result"
    }
   ],
   "source": [
    "core_measures.write(\"../data/core-measures-test\")"
   ]
  },
  {
   "cell_type": "code",
   "execution_count": null,
   "metadata": {},
   "outputs": [],
   "source": [
    "print(core_measures.written_package_report.to_summary())"
   ]
  },
  {
   "attachments": {},
   "cell_type": "markdown",
   "metadata": {},
   "source": [
    "## Uploading and mapping data package to JDC"
   ]
  },
  {
   "attachments": {},
   "cell_type": "markdown",
   "metadata": {},
   "source": [
    "Once you've run created a validated data package,  you are ready to upload to the JDC. To upload (and update) a core measure you can then use the `.submit()` method. This will create a new version of the correspoinding file. Or, if it is your first time uploading and you do not have a file guid minted, run without a file guid to initiate new file record."
   ]
  },
  {
   "cell_type": "code",
   "execution_count": 14,
   "metadata": {},
   "outputs": [],
   "source": [
    "commons_project = \"TEST\"\n",
    "file_guid = 'dg.6VTS/80b0372c-a90f-44f9-87a4-c699ed11d051' \n",
    "sheepdog_file_submitter_id = 'core-measures-test'\n",
    "credentials_path=\"../credentials.json\""
   ]
  },
  {
   "cell_type": "code",
   "execution_count": 19,
   "metadata": {},
   "outputs": [
    {
     "name": "stdout",
     "output_type": "stream",
     "text": [
      "[2023-05-09 16:30:28,848][WARNING] failed to write token cache file: C:\\Users\\kranz-michael/.cache/gen3/token_cache_23fa6b0896aef79de0ce457aa59b87e0\n",
      "[2023-05-09 16:30:28,848][WARNING] [WinError 183] Cannot create a file when that file already exists: 'C:\\\\Users\\\\kranz-michael/.cache/gen3/token_cache_23fa6b0896aef79de0ce457aa59b87e0.tmp_eraseme_57545_1683667828' -> 'C:\\\\Users\\\\kranz-michael/.cache/gen3/token_cache_23fa6b0896aef79de0ce457aa59b87e0'\n",
      "[2023-05-09 16:30:28,849][WARNING] backoff: call gen3.auth._write_to_file(<gen3.auth.Gen3Auth object at 0x000001AC2F187820>, C:\\Users\\kranz-michael/.cache/gen3/token_cache_23fa6b0896aef79de0ce457aa59b87e0, eyJhbGciOiJSUzI1NiIsImtpZCI6ImZlbmNlX2tleV8yMDIwLTAxLTAyVDA2OjM1OjA4WiIsInR5cCI6IkpXVCJ9.eyJwdXIiOiJhY2Nlc3MiLCJpc3MiOiJodHRwczovL2pjb2luLmRhdGFjb21tb25zLmlvL3VzZXIiLCJhdWQiOlsiaHR0cHM6Ly9qY29pbi5kYXRhY29tbW9ucy5pby91c2VyIiwiZmVuY2UiLCJvcGVuaWQiLCJ1c2VyIiwiZGF0YSIsImFkbWluIiwiZ29vZ2xlX2xpbmsiLCJnb29nbGVfc2VydmljZV9hY2NvdW50IiwiZ29vZ2xlX2NyZWRlbnRpYWxzIl0sImlhdCI6MTY4MzY2NzgyOCwiZXhwIjoxNjgzNjcxNDI4LCJqdGkiOiI2ODE4MmUyYS01N2NmLTRhODktOWZhZi1kNDY0MzRlZWE0NjAiLCJzY29wZSI6WyJmZW5jZSIsIm9wZW5pZCIsInVzZXIiLCJkYXRhIiwiYWRtaW4iLCJnb29nbGVfbGluayIsImdvb2dsZV9zZXJ2aWNlX2FjY291bnQiLCJnb29nbGVfY3JlZGVudGlhbHMiXSwiY29udGV4dCI6eyJ1c2VyIjp7Im5hbWUiOiJtYmtyYW56QGdtYWlsLmNvbSIsImlzX2FkbWluIjpmYWxzZSwiZ29vZ2xlIjp7InByb3h5X2dyb3VwIjpudWxsfX19LCJhenAiOiIiLCJzdWIiOiI3OSJ9.g-AsVfOa1Y3uYWRxohKOGVXkdEuKvgRWRFBAtKD6yqZHeC-PDP-ZkKZK-5q39eY_PiZ9NpmACJq6SSUoyJ-zn3DqmuYWvtf-SS2OmjI8v1Xuog2Iab1_lj6BUXrgEcGBbX_ThqY7n1JH7IvjEJ_JbrCrUfn7M6Vl5dXlv4t7h3JKk6UzgbIbCdhM92qeykQNgKJ3Pub6IPpbYTzHifwXw-aoi9sT8yjzA1Rd3KcaSoBRksuNmIhNLnJKsqQSiEK8mx_1sY8uazpxg4fS4o-Iw31r3Vh-fzHhZ_4GT4eOzmrKCDiB8sPuVNMaNQ78sHl4mMrLY4MWTNFPjR36luEnbA) delay 0.1 seconds after 1 tries\n",
      "[2023-05-09 16:30:28,977][WARNING] failed to write token cache file: C:\\Users\\kranz-michael/.cache/gen3/token_cache_23fa6b0896aef79de0ce457aa59b87e0\n",
      "[2023-05-09 16:30:28,978][WARNING] [WinError 183] Cannot create a file when that file already exists: 'C:\\\\Users\\\\kranz-michael/.cache/gen3/token_cache_23fa6b0896aef79de0ce457aa59b87e0.tmp_eraseme_62146_1683667828' -> 'C:\\\\Users\\\\kranz-michael/.cache/gen3/token_cache_23fa6b0896aef79de0ce457aa59b87e0'\n",
      "[2023-05-09 16:30:28,979][WARNING] backoff: call gen3.auth._write_to_file(<gen3.auth.Gen3Auth object at 0x000001AC2F187820>, C:\\Users\\kranz-michael/.cache/gen3/token_cache_23fa6b0896aef79de0ce457aa59b87e0, eyJhbGciOiJSUzI1NiIsImtpZCI6ImZlbmNlX2tleV8yMDIwLTAxLTAyVDA2OjM1OjA4WiIsInR5cCI6IkpXVCJ9.eyJwdXIiOiJhY2Nlc3MiLCJpc3MiOiJodHRwczovL2pjb2luLmRhdGFjb21tb25zLmlvL3VzZXIiLCJhdWQiOlsiaHR0cHM6Ly9qY29pbi5kYXRhY29tbW9ucy5pby91c2VyIiwiZmVuY2UiLCJvcGVuaWQiLCJ1c2VyIiwiZGF0YSIsImFkbWluIiwiZ29vZ2xlX2xpbmsiLCJnb29nbGVfc2VydmljZV9hY2NvdW50IiwiZ29vZ2xlX2NyZWRlbnRpYWxzIl0sImlhdCI6MTY4MzY2NzgyOCwiZXhwIjoxNjgzNjcxNDI4LCJqdGkiOiI2ODE4MmUyYS01N2NmLTRhODktOWZhZi1kNDY0MzRlZWE0NjAiLCJzY29wZSI6WyJmZW5jZSIsIm9wZW5pZCIsInVzZXIiLCJkYXRhIiwiYWRtaW4iLCJnb29nbGVfbGluayIsImdvb2dsZV9zZXJ2aWNlX2FjY291bnQiLCJnb29nbGVfY3JlZGVudGlhbHMiXSwiY29udGV4dCI6eyJ1c2VyIjp7Im5hbWUiOiJtYmtyYW56QGdtYWlsLmNvbSIsImlzX2FkbWluIjpmYWxzZSwiZ29vZ2xlIjp7InByb3h5X2dyb3VwIjpudWxsfX19LCJhenAiOiIiLCJzdWIiOiI3OSJ9.g-AsVfOa1Y3uYWRxohKOGVXkdEuKvgRWRFBAtKD6yqZHeC-PDP-ZkKZK-5q39eY_PiZ9NpmACJq6SSUoyJ-zn3DqmuYWvtf-SS2OmjI8v1Xuog2Iab1_lj6BUXrgEcGBbX_ThqY7n1JH7IvjEJ_JbrCrUfn7M6Vl5dXlv4t7h3JKk6UzgbIbCdhM92qeykQNgKJ3Pub6IPpbYTzHifwXw-aoi9sT8yjzA1Rd3KcaSoBRksuNmIhNLnJKsqQSiEK8mx_1sY8uazpxg4fS4o-Iw31r3Vh-fzHhZ_4GT4eOzmrKCDiB8sPuVNMaNQ78sHl4mMrLY4MWTNFPjR36luEnbA) delay 0.5 seconds after 2 tries\n",
      "[2023-05-09 16:30:29,507][WARNING] failed to write token cache file: C:\\Users\\kranz-michael/.cache/gen3/token_cache_23fa6b0896aef79de0ce457aa59b87e0\n",
      "[2023-05-09 16:30:29,508][WARNING] [WinError 183] Cannot create a file when that file already exists: 'C:\\\\Users\\\\kranz-michael/.cache/gen3/token_cache_23fa6b0896aef79de0ce457aa59b87e0.tmp_eraseme_55597_1683667829' -> 'C:\\\\Users\\\\kranz-michael/.cache/gen3/token_cache_23fa6b0896aef79de0ce457aa59b87e0'\n",
      "[2023-05-09 16:30:29,509][  ERROR] backoff: gave up call gen3.auth._write_to_file(<gen3.auth.Gen3Auth object at 0x000001AC2F187820>, C:\\Users\\kranz-michael/.cache/gen3/token_cache_23fa6b0896aef79de0ce457aa59b87e0, eyJhbGciOiJSUzI1NiIsImtpZCI6ImZlbmNlX2tleV8yMDIwLTAxLTAyVDA2OjM1OjA4WiIsInR5cCI6IkpXVCJ9.eyJwdXIiOiJhY2Nlc3MiLCJpc3MiOiJodHRwczovL2pjb2luLmRhdGFjb21tb25zLmlvL3VzZXIiLCJhdWQiOlsiaHR0cHM6Ly9qY29pbi5kYXRhY29tbW9ucy5pby91c2VyIiwiZmVuY2UiLCJvcGVuaWQiLCJ1c2VyIiwiZGF0YSIsImFkbWluIiwiZ29vZ2xlX2xpbmsiLCJnb29nbGVfc2VydmljZV9hY2NvdW50IiwiZ29vZ2xlX2NyZWRlbnRpYWxzIl0sImlhdCI6MTY4MzY2NzgyOCwiZXhwIjoxNjgzNjcxNDI4LCJqdGkiOiI2ODE4MmUyYS01N2NmLTRhODktOWZhZi1kNDY0MzRlZWE0NjAiLCJzY29wZSI6WyJmZW5jZSIsIm9wZW5pZCIsInVzZXIiLCJkYXRhIiwiYWRtaW4iLCJnb29nbGVfbGluayIsImdvb2dsZV9zZXJ2aWNlX2FjY291bnQiLCJnb29nbGVfY3JlZGVudGlhbHMiXSwiY29udGV4dCI6eyJ1c2VyIjp7Im5hbWUiOiJtYmtyYW56QGdtYWlsLmNvbSIsImlzX2FkbWluIjpmYWxzZSwiZ29vZ2xlIjp7InByb3h5X2dyb3VwIjpudWxsfX19LCJhenAiOiIiLCJzdWIiOiI3OSJ9.g-AsVfOa1Y3uYWRxohKOGVXkdEuKvgRWRFBAtKD6yqZHeC-PDP-ZkKZK-5q39eY_PiZ9NpmACJq6SSUoyJ-zn3DqmuYWvtf-SS2OmjI8v1Xuog2Iab1_lj6BUXrgEcGBbX_ThqY7n1JH7IvjEJ_JbrCrUfn7M6Vl5dXlv4t7h3JKk6UzgbIbCdhM92qeykQNgKJ3Pub6IPpbYTzHifwXw-aoi9sT8yjzA1Rd3KcaSoBRksuNmIhNLnJKsqQSiEK8mx_1sY8uazpxg4fS4o-Iw31r3Vh-fzHhZ_4GT4eOzmrKCDiB8sPuVNMaNQ78sHl4mMrLY4MWTNFPjR36luEnbA) after 3 tries; exception: (<class 'FileExistsError'>, FileExistsError(17, 'Cannot create a file when that file already exists'), <traceback object at 0x000001AC2F1FDCC0>)\n",
      "[2023-05-09 16:30:29,510][WARNING] Unable to write access token to cache file. Exceeded number of retries.\n",
      "The latest sheepdog and indexd have same file:GOOD\n",
      "  Submitting 12 records in batches of 100\n",
      "Submission progress: 1/1\n"
     ]
    }
   ],
   "source": [
    "core_measures.submit(\n",
    "    commons_project_code=commons_project,\n",
    "    commons_file_guid=file_guid, #comment out if creating a new version\n",
    "    commons_file_submitter_id=sheepdog_file_submitter_id,\n",
    "    commons_credentials_path=credentials_path\n",
    ")"
   ]
  },
  {
   "attachments": {},
   "cell_type": "markdown",
   "metadata": {},
   "source": [
    "## Deleting test files and records\n",
    "\n",
    "First grab the most recent records from indexd and sheepdog. Confirm this is indeed the file you just created and uploaded:"
   ]
  },
  {
   "cell_type": "code",
   "execution_count": null,
   "metadata": {},
   "outputs": [],
   "source": [
    "from gen3.auth import Gen3Auth\n",
    "from gen3.submission import Gen3Submission\n",
    "from gen3.index import Gen3Index\n",
    "from gen3.file import Gen3File\n",
    "\n",
    "index = Gen3Index(Gen3Auth(refresh_file=credentials_path))\n",
    "sub = Gen3Submission(Gen3Auth(refresh_file=credentials_path))\n",
    "files = Gen3File(Gen3Auth(refresh_file=credentials_path))\n",
    "sheepdog_rec = sub.export_node(\"JCOIN\",\"TEST\",\"reference_file\",fileformat=\"json\")\n",
    "index_rec = index.get_record(sheepdog_rec[\"data\"][-1][\"object_id\"])"
   ]
  },
  {
   "attachments": {},
   "cell_type": "markdown",
   "metadata": {},
   "source": [
    "Then delete all file locations and the sheepdog record:"
   ]
  },
  {
   "cell_type": "code",
   "execution_count": null,
   "metadata": {},
   "outputs": [],
   "source": [
    "files.delete_file_locations(index_rec[\"object_id\"])\n",
    "sub.delete_record(\"JCOIN\",\"TEST\",sheepdog_rec[\"data\"][-1][\"id\"])"
   ]
  }
 ],
 "metadata": {
  "kernelspec": {
   "display_name": "jdc-utils",
   "language": "python",
   "name": "python3"
  },
  "language_info": {
   "codemirror_mode": {
    "name": "ipython",
    "version": 3
   },
   "file_extension": ".py",
   "mimetype": "text/x-python",
   "name": "python",
   "nbconvert_exporter": "python",
   "pygments_lexer": "ipython3",
   "version": "3.10.5"
  },
  "orig_nbformat": 4
 },
 "nbformat": 4,
 "nbformat_minor": 2
}

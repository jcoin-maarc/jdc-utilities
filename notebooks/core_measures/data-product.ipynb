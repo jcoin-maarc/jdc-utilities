{
 "cells": [
  {
   "cell_type": "markdown",
   "metadata": {},
   "source": [
    "# Creating a core measure data product\n",
    "\n",
    "Will need to download a file manifest and have a credentials.json"
   ]
  },
  {
   "cell_type": "markdown",
   "metadata": {},
   "source": [
    "## Downloading selecting files from JDC"
   ]
  },
  {
   "cell_type": "code",
   "execution_count": 1,
   "metadata": {},
   "outputs": [],
   "source": [
    "from pathlib import Path\n",
    "import json\n",
    "from gen3 import auth,file\n",
    "import requests"
   ]
  },
  {
   "cell_type": "code",
   "execution_count": 17,
   "metadata": {},
   "outputs": [],
   "source": [
    "# manifest_path = \"../../promis-test-file-manifest.json\"\n",
    "manifest_path = \"file-manifest.json\""
   ]
  },
  {
   "cell_type": "code",
   "execution_count": 18,
   "metadata": {},
   "outputs": [
    {
     "name": "stdout",
     "output_type": "stream",
     "text": [
      "[2024-01-22 22:42:06,539][WARNING] failed to write token cache file: C:\\Users\\kranz-michael/.cache/gen3/token_cache_59a84d7ef796aef44d95e557d46cc075\n",
      "[2024-01-22 22:42:06,541][WARNING] [WinError 183] Cannot create a file when that file already exists: 'C:\\\\Users\\\\kranz-michael/.cache/gen3/token_cache_59a84d7ef796aef44d95e557d46cc075.tmp_eraseme_14406_1705984926' -> 'C:\\\\Users\\\\kranz-michael/.cache/gen3/token_cache_59a84d7ef796aef44d95e557d46cc075'\n",
      "[2024-01-22 22:42:06,542][WARNING] backoff: call gen3.auth._write_to_file(<gen3.auth.Gen3Auth object at 0x0000018ED3F8A380>, C:\\Users\\kranz-michael/.cache/gen3/token_cache_59a84d7ef796aef44d95e557d46cc075, eyJhbGciOiJSUzI1NiIsImtpZCI6ImZlbmNlX2tleV8yMDIwLTAxLTAyVDA2OjM1OjA4WiIsInR5cCI6IkpXVCJ9.eyJwdXIiOiJhY2Nlc3MiLCJpc3MiOiJodHRwczovL2pjb2luLmRhdGFjb21tb25zLmlvL3VzZXIiLCJhdWQiOlsiaHR0cHM6Ly9qY29pbi5kYXRhY29tbW9ucy5pby91c2VyIiwib3BlbmlkIiwiZ29vZ2xlX2NyZWRlbnRpYWxzIiwidXNlciIsImFkbWluIiwiZmVuY2UiLCJnb29nbGVfbGluayIsImRhdGEiLCJnb29nbGVfc2VydmljZV9hY2NvdW50Il0sImlhdCI6MTcwNTk4NDkxOSwiZXhwIjoxNzA1OTg4NTE5LCJqdGkiOiJhZDIyNDE5NS0zODZhLTRhMWYtOGE4Zi1hOTZiMjZmYjhmYTciLCJzY29wZSI6WyJvcGVuaWQiLCJnb29nbGVfY3JlZGVudGlhbHMiLCJ1c2VyIiwiYWRtaW4iLCJmZW5jZSIsImdvb2dsZV9saW5rIiwiZGF0YSIsImdvb2dsZV9zZXJ2aWNlX2FjY291bnQiXSwiY29udGV4dCI6eyJ1c2VyIjp7Im5hbWUiOiJtYmtyYW56QGdtYWlsLmNvbSIsImlzX2FkbWluIjpmYWxzZSwiZ29vZ2xlIjp7InByb3h5X2dyb3VwIjpudWxsfX19LCJhenAiOiIiLCJzdWIiOiI3OSJ9.uwzqmxKt9vyOz2urUOl8GH5eRQA_aW7fBY8jOT1TxCqDqGtxclfMm2tFAMVfrVH4wcILjkzvHihtFdY1QH8mXQ-JgsqDkgccPzFcTuSaScObrdLZkYPzDRmWqsH3OVIuQUdit0dnEInxnchX7QpzKhohmam0sKmS_LGf7W5V5HB9b3dXUqHzNt3tjCj2ug89WVxS8AK3wH8ALonCz2-wk13hVgdHnW2R1oXbFBDuEVR9VZoW27pyNeWyL4H04g1WKOhAw3lk9K3GunL8U8jrMgi7XwmdeKNSHbHx_u5RedrFBnU7Fzr6VKqfRgU3e8dl9byumMerdoQY-DsrK1dvlQ) delay 0.5 seconds after 1 tries\n",
      "[2024-01-22 22:42:07,027][WARNING] failed to write token cache file: C:\\Users\\kranz-michael/.cache/gen3/token_cache_59a84d7ef796aef44d95e557d46cc075\n",
      "[2024-01-22 22:42:07,028][WARNING] [WinError 183] Cannot create a file when that file already exists: 'C:\\\\Users\\\\kranz-michael/.cache/gen3/token_cache_59a84d7ef796aef44d95e557d46cc075.tmp_eraseme_49040_1705984927' -> 'C:\\\\Users\\\\kranz-michael/.cache/gen3/token_cache_59a84d7ef796aef44d95e557d46cc075'\n",
      "[2024-01-22 22:42:07,028][WARNING] backoff: call gen3.auth._write_to_file(<gen3.auth.Gen3Auth object at 0x0000018ED3F8A380>, C:\\Users\\kranz-michael/.cache/gen3/token_cache_59a84d7ef796aef44d95e557d46cc075, eyJhbGciOiJSUzI1NiIsImtpZCI6ImZlbmNlX2tleV8yMDIwLTAxLTAyVDA2OjM1OjA4WiIsInR5cCI6IkpXVCJ9.eyJwdXIiOiJhY2Nlc3MiLCJpc3MiOiJodHRwczovL2pjb2luLmRhdGFjb21tb25zLmlvL3VzZXIiLCJhdWQiOlsiaHR0cHM6Ly9qY29pbi5kYXRhY29tbW9ucy5pby91c2VyIiwib3BlbmlkIiwiZ29vZ2xlX2NyZWRlbnRpYWxzIiwidXNlciIsImFkbWluIiwiZmVuY2UiLCJnb29nbGVfbGluayIsImRhdGEiLCJnb29nbGVfc2VydmljZV9hY2NvdW50Il0sImlhdCI6MTcwNTk4NDkxOSwiZXhwIjoxNzA1OTg4NTE5LCJqdGkiOiJhZDIyNDE5NS0zODZhLTRhMWYtOGE4Zi1hOTZiMjZmYjhmYTciLCJzY29wZSI6WyJvcGVuaWQiLCJnb29nbGVfY3JlZGVudGlhbHMiLCJ1c2VyIiwiYWRtaW4iLCJmZW5jZSIsImdvb2dsZV9saW5rIiwiZGF0YSIsImdvb2dsZV9zZXJ2aWNlX2FjY291bnQiXSwiY29udGV4dCI6eyJ1c2VyIjp7Im5hbWUiOiJtYmtyYW56QGdtYWlsLmNvbSIsImlzX2FkbWluIjpmYWxzZSwiZ29vZ2xlIjp7InByb3h5X2dyb3VwIjpudWxsfX19LCJhenAiOiIiLCJzdWIiOiI3OSJ9.uwzqmxKt9vyOz2urUOl8GH5eRQA_aW7fBY8jOT1TxCqDqGtxclfMm2tFAMVfrVH4wcILjkzvHihtFdY1QH8mXQ-JgsqDkgccPzFcTuSaScObrdLZkYPzDRmWqsH3OVIuQUdit0dnEInxnchX7QpzKhohmam0sKmS_LGf7W5V5HB9b3dXUqHzNt3tjCj2ug89WVxS8AK3wH8ALonCz2-wk13hVgdHnW2R1oXbFBDuEVR9VZoW27pyNeWyL4H04g1WKOhAw3lk9K3GunL8U8jrMgi7XwmdeKNSHbHx_u5RedrFBnU7Fzr6VKqfRgU3e8dl9byumMerdoQY-DsrK1dvlQ) delay 0.5 seconds after 2 tries\n",
      "[2024-01-22 22:42:07,508][WARNING] failed to write token cache file: C:\\Users\\kranz-michael/.cache/gen3/token_cache_59a84d7ef796aef44d95e557d46cc075\n",
      "[2024-01-22 22:42:07,509][WARNING] [WinError 183] Cannot create a file when that file already exists: 'C:\\\\Users\\\\kranz-michael/.cache/gen3/token_cache_59a84d7ef796aef44d95e557d46cc075.tmp_eraseme_58305_1705984927' -> 'C:\\\\Users\\\\kranz-michael/.cache/gen3/token_cache_59a84d7ef796aef44d95e557d46cc075'\n",
      "[2024-01-22 22:42:07,509][  ERROR] backoff: gave up call gen3.auth._write_to_file(<gen3.auth.Gen3Auth object at 0x0000018ED3F8A380>, C:\\Users\\kranz-michael/.cache/gen3/token_cache_59a84d7ef796aef44d95e557d46cc075, eyJhbGciOiJSUzI1NiIsImtpZCI6ImZlbmNlX2tleV8yMDIwLTAxLTAyVDA2OjM1OjA4WiIsInR5cCI6IkpXVCJ9.eyJwdXIiOiJhY2Nlc3MiLCJpc3MiOiJodHRwczovL2pjb2luLmRhdGFjb21tb25zLmlvL3VzZXIiLCJhdWQiOlsiaHR0cHM6Ly9qY29pbi5kYXRhY29tbW9ucy5pby91c2VyIiwib3BlbmlkIiwiZ29vZ2xlX2NyZWRlbnRpYWxzIiwidXNlciIsImFkbWluIiwiZmVuY2UiLCJnb29nbGVfbGluayIsImRhdGEiLCJnb29nbGVfc2VydmljZV9hY2NvdW50Il0sImlhdCI6MTcwNTk4NDkxOSwiZXhwIjoxNzA1OTg4NTE5LCJqdGkiOiJhZDIyNDE5NS0zODZhLTRhMWYtOGE4Zi1hOTZiMjZmYjhmYTciLCJzY29wZSI6WyJvcGVuaWQiLCJnb29nbGVfY3JlZGVudGlhbHMiLCJ1c2VyIiwiYWRtaW4iLCJmZW5jZSIsImdvb2dsZV9saW5rIiwiZGF0YSIsImdvb2dsZV9zZXJ2aWNlX2FjY291bnQiXSwiY29udGV4dCI6eyJ1c2VyIjp7Im5hbWUiOiJtYmtyYW56QGdtYWlsLmNvbSIsImlzX2FkbWluIjpmYWxzZSwiZ29vZ2xlIjp7InByb3h5X2dyb3VwIjpudWxsfX19LCJhenAiOiIiLCJzdWIiOiI3OSJ9.uwzqmxKt9vyOz2urUOl8GH5eRQA_aW7fBY8jOT1TxCqDqGtxclfMm2tFAMVfrVH4wcILjkzvHihtFdY1QH8mXQ-JgsqDkgccPzFcTuSaScObrdLZkYPzDRmWqsH3OVIuQUdit0dnEInxnchX7QpzKhohmam0sKmS_LGf7W5V5HB9b3dXUqHzNt3tjCj2ug89WVxS8AK3wH8ALonCz2-wk13hVgdHnW2R1oXbFBDuEVR9VZoW27pyNeWyL4H04g1WKOhAw3lk9K3GunL8U8jrMgi7XwmdeKNSHbHx_u5RedrFBnU7Fzr6VKqfRgU3e8dl9byumMerdoQY-DsrK1dvlQ) after 3 tries; exception: (<class 'FileExistsError'>, FileExistsError(17, 'Cannot create a file when that file already exists'), <traceback object at 0x0000018EDD0D27C0>)\n",
      "[2024-01-22 22:42:07,510][WARNING] Unable to write access token to cache file. Exceeded number of retries.\n"
     ]
    }
   ],
   "source": [
    "# download files (get file-manifest.json from explorer UI)\n",
    "gen3auth = auth.Gen3Auth(refresh_file=\"../../credentials.json\")\n",
    "gen3file = file.Gen3File(gen3auth)\n",
    "manifest = json.loads(Path(manifest_path).read_text())\n",
    "no_guids = []\n",
    "Path(\"tmp\").mkdir(exist_ok=True)\n",
    "for params in manifest:\n",
    "    fileguid = params.get(\"object_id\")\n",
    "    if fileguid:\n",
    "        url = gen3file.get_presigned_url(fileguid)\n",
    "        pkg_bytes = requests.get(url()[\"url\"]).content\n",
    "        Path(\"tmp/\"+params[\"file_name\"]).write_bytes(pkg_bytes)"
   ]
  },
  {
   "cell_type": "markdown",
   "metadata": {},
   "source": [
    "## Creating local data product with specified variables"
   ]
  },
  {
   "cell_type": "code",
   "execution_count": 3,
   "metadata": {},
   "outputs": [],
   "source": [
    "import pandas as pd\n",
    "from jdc_utils import CoreMeasures\n",
    "import jdc_utils\n",
    "from pathlib import Path\n",
    "import json\n",
    "import zipfile\n",
    "from frictionless import Resource,steps\n",
    "import random"
   ]
  },
  {
   "cell_type": "code",
   "execution_count": 4,
   "metadata": {},
   "outputs": [],
   "source": [
    "manifest_path = \"file-manifest.json\"\n",
    "manifest = json.loads(Path(manifest_path).read_text())\n",
    "pkgs = list(Path(\"tmp/\").glob(\"core-measures*.zip\"))\n",
    "\n",
    "\n",
    "# shuffle with set state for reproducibility \n",
    "# NOTE: next iteration will have these in individual files\n",
    "hub_id_list = list(range(len(manifest))) \n",
    "random.Random(4).shuffle(hub_id_list)"
   ]
  },
  {
   "cell_type": "code",
   "execution_count": 5,
   "metadata": {},
   "outputs": [
    {
     "data": {
      "text/plain": [
       "[3, 5, 4, 0, 2, 1]"
      ]
     },
     "execution_count": 5,
     "metadata": {},
     "output_type": "execute_result"
    }
   ],
   "source": [
    "hub_id_list"
   ]
  },
  {
   "cell_type": "code",
   "execution_count": 6,
   "metadata": {},
   "outputs": [],
   "source": [
    "baselines = []\n",
    "timepoints = []\n",
    "for i,params in enumerate(manifest):\n",
    "    # NOTE: with froctionless Package with zip got error:\n",
    "    ## FrictionlessException: [package-error] The data package has an error: \n",
    "    ## cannot extract metadata \"C:\\Users\\KRANZ-~1\\AppData\\Local\\Temp\\\n",
    "    # tmp3oia90uh\\datapackage.json\" because \"[Errno 2] No such file or directory: \n",
    "    # 'C:\\\\Users\\\\KRANZ-~1\\\\AppData\\\\Local\\\\Temp\\\\tmp3oia90uh\\\\datapackage.json'\"\n",
    "    pkg = \"tmp/\"+params[\"file_name\"]\n",
    "    report = zipfile.Path(pkg).joinpath('report.json').read_text()\n",
    "    is_valid = json.loads(report)[\"valid\"]\n",
    "    baseline_file = zipfile.Path(pkg).joinpath('data/baseline.csv').read_bytes()\n",
    "    timepoints_file = zipfile.Path(pkg).joinpath('data/timepoints.csv').read_bytes()\n",
    "\n",
    "    baseline_df = Resource(baseline_file,format=\"csv\").to_petl().todf()\n",
    "    timepoints_df = Resource(timepoints_file,format=\"csv\").to_petl().todf()\n",
    "    baseline_df[\"hub_id\"] = hub_id_list[i]\n",
    "\n",
    "\n",
    "    baselines.append(baseline_df)\n",
    "    timepoints.append(timepoints_df)\n",
    "\n",
    "core_measures = CoreMeasures(transform_steps=[]) #get config params\n",
    "core_measures.add_baseline(pd.concat(baselines))\n",
    "core_measures.add_timepoints(pd.concat(timepoints))"
   ]
  },
  {
   "cell_type": "code",
   "execution_count": 10,
   "metadata": {},
   "outputs": [],
   "source": [
    "#filter modules and add annotation about filtering and description\n",
    "\n",
    "version = \"0.1.0\"\n",
    "README = \"\"\"\n",
    "This data package was structured in accordance with the (data package standards (i.e., frictionless))[https://specs.frictionlessdata.io/].\n",
    "\n",
    "A Data Package is a simple container format used to describe and package a collection of data (a dataset). \n",
    "\n",
    "For tabular data, the data package standard consists of:\n",
    "1. resource, or file-level metadata (e.g., the `path` to the files in this package)\n",
    "2. table, or schema-level metadata (e.g, the `fields` or variables in the file)\n",
    "\n",
    "See the metadata describing this in `data-package.json`.\n",
    "\n",
    "- Note, for python and R users, software toolkits make the data and metadata easy to use (but feel free to read in using any tool):\n",
    "\n",
    "    1. [`frictionless-R`](https://github.com/frictionlessdata/frictionless-r): an R implementation of the data package standard\n",
    "    2. [`frictionless-py`](https://github.com/frictionlessdata/frictionless-py): a python implementation of the data package standard\n",
    "\n",
    "- For SPSS, Stata, and SAS users, see the `sav` and `dta` versions of each data file.\n",
    "\n",
    "For values that do not conform to the schema (e.g., missing values), see `report-summary.txt` (and the `report.json`). For more\n",
    "information on reports, [click on each of the `Data Error` sections here](https://framework.frictionlessdata.io/docs/errors/header.html)\n",
    "\n",
    "\n",
    "\"\"\""
   ]
  },
  {
   "cell_type": "code",
   "execution_count": 11,
   "metadata": {},
   "outputs": [],
   "source": [
    "baseline_sections = [\"Record and linkage\",\"Demographics\"]\n",
    "timepoints_sections = [\"Record and linkage\",\"PROMIS 29+2/ PROPr\"]\n",
    "included_sections = {\"baseline\":baseline_sections,\"timepoints\":timepoints_sections}\n",
    "excluded_names = [\"quarter_enrolled\",\"current_study_status\"]\n",
    "targetresources = []\n",
    "for name in core_measures.package.resource_names:\n",
    "    source = core_measures.package.get_resource(name)\n",
    "    fields = source.schema[\"fields\"]\n",
    "    fieldnames = [\n",
    "        field[\"name\"] for field in fields \n",
    "        if field[\"section\"] in included_sections[name]\n",
    "        and not field[\"name\"] in excluded_names]\n",
    "    target = source.transform(steps=[steps.field_filter(names=fieldnames)])\n",
    "    targetresources.append(target)\n",
    "\n",
    "sections_str = \"\"\n",
    "for resourcename in included_sections:\n",
    "    sections_str += f\"**{resourcename}**\\n\\n\"\n",
    "    for sectionname in included_sections[resourcename]:\n",
    "        sections_str += \"- \" + sectionname + \"\\n\"\n",
    "    sections_str += \"\\n\"\n",
    "\n",
    "excluded_names_str = \"\\n\".join(excluded_names)\n",
    "\n",
    "core_measures.package.resources = targetresources"
   ]
  },
  {
   "cell_type": "code",
   "execution_count": 12,
   "metadata": {},
   "outputs": [],
   "source": [
    "# write subsetted package to file\n",
    "package_name = \"core-measures-promis\""
   ]
  },
  {
   "cell_type": "code",
   "execution_count": 13,
   "metadata": {},
   "outputs": [
    {
     "data": {
      "text/plain": [
       "<jdc_utils.core_measures.core_measures.CoreMeasures at 0x25374426f80>"
      ]
     },
     "execution_count": 13,
     "metadata": {},
     "output_type": "execute_result"
    }
   ],
   "source": [
    "core_measures.write(outdir=package_name)"
   ]
  },
  {
   "cell_type": "code",
   "execution_count": 16,
   "metadata": {},
   "outputs": [
    {
     "data": {
      "text/plain": [
       "1538"
      ]
     },
     "execution_count": 16,
     "metadata": {},
     "output_type": "execute_result"
    }
   ],
   "source": [
    "# add currently missing elements to data package\n",
    "path = Path(package_name+\"/data-package.json\")\n",
    "datapackage = json.loads(path.read_text())\n",
    "new_datapackage = {}\n",
    "readme = \"\"\n",
    "new_datapackage[\"title\"] =  \"JCOIN Hub Core Measures: PROMIS subset\"\n",
    "readme += \"# \" + new_datapackage[\"title\"]\n",
    "readme += \"\\n\\n\"\n",
    "new_datapackage[\"version\"] = version\n",
    "readme += \"__version\" + version + \"__\"\n",
    "readme += \"\\n\\n\"\n",
    "new_datapackage[\"description\"] = (\n",
    "\n",
    "   \"This data package is a subset of JCOIN Hub Core Measures consisting of:\\n\\n\"\n",
    "    \"## Sections:\\n\\n \"\n",
    "    f'{sections_str}'\n",
    "\n",
    "    \n",
    "    f\"{README}\"\n",
    ")\n",
    "readme += new_datapackage[\"description\"]\n",
    "new_datapackage.update(datapackage)\n",
    "\n",
    "\n",
    "path.write_text(json.dumps(new_datapackage,indent=2))\n",
    "path.with_name(\"README.md\").write_text(readme)"
   ]
  },
  {
   "cell_type": "code",
   "execution_count": 18,
   "metadata": {},
   "outputs": [
    {
     "data": {
      "text/plain": [
       "<jdc_utils.core_measures.core_measures.CoreMeasures at 0x25374426f80>"
      ]
     },
     "execution_count": 18,
     "metadata": {},
     "output_type": "execute_result"
    }
   ],
   "source": [
    "core_measures.zip()"
   ]
  },
  {
   "cell_type": "markdown",
   "metadata": {},
   "source": [
    "## Upload to JDC"
   ]
  },
  {
   "cell_type": "code",
   "execution_count": 19,
   "metadata": {},
   "outputs": [
    {
     "name": "stdout",
     "output_type": "stream",
     "text": [
      "[2024-01-24 14:51:52,470][WARNING] failed to write token cache file: C:\\Users\\kranz-michael/.cache/gen3/token_cache_59a84d7ef796aef44d95e557d46cc075\n",
      "[2024-01-24 14:51:52,471][WARNING] [WinError 183] Cannot create a file when that file already exists: 'C:\\\\Users\\\\kranz-michael/.cache/gen3/token_cache_59a84d7ef796aef44d95e557d46cc075.tmp_eraseme_33917_1706129512' -> 'C:\\\\Users\\\\kranz-michael/.cache/gen3/token_cache_59a84d7ef796aef44d95e557d46cc075'\n",
      "[2024-01-24 14:51:52,472][WARNING] backoff: call gen3.auth._write_to_file(<gen3.auth.Gen3Auth object at 0x000002530400BB80>, C:\\Users\\kranz-michael/.cache/gen3/token_cache_59a84d7ef796aef44d95e557d46cc075, eyJhbGciOiJSUzI1NiIsImtpZCI6ImZlbmNlX2tleV8yMDIwLTAxLTAyVDA2OjM1OjA4WiIsInR5cCI6IkpXVCJ9.eyJwdXIiOiJhY2Nlc3MiLCJpc3MiOiJodHRwczovL2pjb2luLmRhdGFjb21tb25zLmlvL3VzZXIiLCJhdWQiOlsiaHR0cHM6Ly9qY29pbi5kYXRhY29tbW9ucy5pby91c2VyIiwib3BlbmlkIiwiZ29vZ2xlX2NyZWRlbnRpYWxzIiwidXNlciIsImFkbWluIiwiZmVuY2UiLCJnb29nbGVfbGluayIsImRhdGEiLCJnb29nbGVfc2VydmljZV9hY2NvdW50Il0sImlhdCI6MTcwNjEyOTUxMiwiZXhwIjoxNzA2MTMzMTEyLCJqdGkiOiJjYjc3ZjYxOC00M2M0LTRiMGYtYjNiZS1lMTM0NTk4N2E1NzYiLCJzY29wZSI6WyJvcGVuaWQiLCJnb29nbGVfY3JlZGVudGlhbHMiLCJ1c2VyIiwiYWRtaW4iLCJmZW5jZSIsImdvb2dsZV9saW5rIiwiZGF0YSIsImdvb2dsZV9zZXJ2aWNlX2FjY291bnQiXSwiY29udGV4dCI6eyJ1c2VyIjp7Im5hbWUiOiJtYmtyYW56QGdtYWlsLmNvbSIsImlzX2FkbWluIjpmYWxzZSwiZ29vZ2xlIjp7InByb3h5X2dyb3VwIjpudWxsfX19LCJhenAiOiIiLCJzdWIiOiI3OSJ9.oHcpZPZVsqh8J4-GnM4BjYALnyeVhDqMYcpu1sBN9sZPtTPx1LxC47TzInEo_SdBeWPSCib2dR37-G6ACYb4hG8sWQVtIPojVIV38k5nSizJxN1EXgoCdllgny4BrLc4aQaHMeHBzur0s8vu0IxBhaB_Qt1HJygTBpsyvAiGvbJoLmf_WMdrk3SzahmxM_zPp97DXjEqd8l4p-dCxZXgTw0YvsSAegEPGD2jXbxi4HQ8J3ZjERWE33L2_g-jhQhqT3UrMSIJEzIz9Xi1RRfjFFTbbCLulSR4SQXcqoO3hSKxMPxi599haUpAXQAcOziwWgOd1vyZizgey5TbdpvB1w) delay 0.6 seconds after 1 tries\n",
      "[2024-01-24 14:51:53,099][WARNING] failed to write token cache file: C:\\Users\\kranz-michael/.cache/gen3/token_cache_59a84d7ef796aef44d95e557d46cc075\n",
      "[2024-01-24 14:51:53,100][WARNING] [WinError 183] Cannot create a file when that file already exists: 'C:\\\\Users\\\\kranz-michael/.cache/gen3/token_cache_59a84d7ef796aef44d95e557d46cc075.tmp_eraseme_41165_1706129513' -> 'C:\\\\Users\\\\kranz-michael/.cache/gen3/token_cache_59a84d7ef796aef44d95e557d46cc075'\n",
      "[2024-01-24 14:51:53,101][WARNING] backoff: call gen3.auth._write_to_file(<gen3.auth.Gen3Auth object at 0x000002530400BB80>, C:\\Users\\kranz-michael/.cache/gen3/token_cache_59a84d7ef796aef44d95e557d46cc075, eyJhbGciOiJSUzI1NiIsImtpZCI6ImZlbmNlX2tleV8yMDIwLTAxLTAyVDA2OjM1OjA4WiIsInR5cCI6IkpXVCJ9.eyJwdXIiOiJhY2Nlc3MiLCJpc3MiOiJodHRwczovL2pjb2luLmRhdGFjb21tb25zLmlvL3VzZXIiLCJhdWQiOlsiaHR0cHM6Ly9qY29pbi5kYXRhY29tbW9ucy5pby91c2VyIiwib3BlbmlkIiwiZ29vZ2xlX2NyZWRlbnRpYWxzIiwidXNlciIsImFkbWluIiwiZmVuY2UiLCJnb29nbGVfbGluayIsImRhdGEiLCJnb29nbGVfc2VydmljZV9hY2NvdW50Il0sImlhdCI6MTcwNjEyOTUxMiwiZXhwIjoxNzA2MTMzMTEyLCJqdGkiOiJjYjc3ZjYxOC00M2M0LTRiMGYtYjNiZS1lMTM0NTk4N2E1NzYiLCJzY29wZSI6WyJvcGVuaWQiLCJnb29nbGVfY3JlZGVudGlhbHMiLCJ1c2VyIiwiYWRtaW4iLCJmZW5jZSIsImdvb2dsZV9saW5rIiwiZGF0YSIsImdvb2dsZV9zZXJ2aWNlX2FjY291bnQiXSwiY29udGV4dCI6eyJ1c2VyIjp7Im5hbWUiOiJtYmtyYW56QGdtYWlsLmNvbSIsImlzX2FkbWluIjpmYWxzZSwiZ29vZ2xlIjp7InByb3h5X2dyb3VwIjpudWxsfX19LCJhenAiOiIiLCJzdWIiOiI3OSJ9.oHcpZPZVsqh8J4-GnM4BjYALnyeVhDqMYcpu1sBN9sZPtTPx1LxC47TzInEo_SdBeWPSCib2dR37-G6ACYb4hG8sWQVtIPojVIV38k5nSizJxN1EXgoCdllgny4BrLc4aQaHMeHBzur0s8vu0IxBhaB_Qt1HJygTBpsyvAiGvbJoLmf_WMdrk3SzahmxM_zPp97DXjEqd8l4p-dCxZXgTw0YvsSAegEPGD2jXbxi4HQ8J3ZjERWE33L2_g-jhQhqT3UrMSIJEzIz9Xi1RRfjFFTbbCLulSR4SQXcqoO3hSKxMPxi599haUpAXQAcOziwWgOd1vyZizgey5TbdpvB1w) delay 0.3 seconds after 2 tries\n",
      "[2024-01-24 14:51:53,447][WARNING] failed to write token cache file: C:\\Users\\kranz-michael/.cache/gen3/token_cache_59a84d7ef796aef44d95e557d46cc075\n",
      "[2024-01-24 14:51:53,449][WARNING] [WinError 183] Cannot create a file when that file already exists: 'C:\\\\Users\\\\kranz-michael/.cache/gen3/token_cache_59a84d7ef796aef44d95e557d46cc075.tmp_eraseme_78528_1706129513' -> 'C:\\\\Users\\\\kranz-michael/.cache/gen3/token_cache_59a84d7ef796aef44d95e557d46cc075'\n",
      "[2024-01-24 14:51:53,449][  ERROR] backoff: gave up call gen3.auth._write_to_file(<gen3.auth.Gen3Auth object at 0x000002530400BB80>, C:\\Users\\kranz-michael/.cache/gen3/token_cache_59a84d7ef796aef44d95e557d46cc075, eyJhbGciOiJSUzI1NiIsImtpZCI6ImZlbmNlX2tleV8yMDIwLTAxLTAyVDA2OjM1OjA4WiIsInR5cCI6IkpXVCJ9.eyJwdXIiOiJhY2Nlc3MiLCJpc3MiOiJodHRwczovL2pjb2luLmRhdGFjb21tb25zLmlvL3VzZXIiLCJhdWQiOlsiaHR0cHM6Ly9qY29pbi5kYXRhY29tbW9ucy5pby91c2VyIiwib3BlbmlkIiwiZ29vZ2xlX2NyZWRlbnRpYWxzIiwidXNlciIsImFkbWluIiwiZmVuY2UiLCJnb29nbGVfbGluayIsImRhdGEiLCJnb29nbGVfc2VydmljZV9hY2NvdW50Il0sImlhdCI6MTcwNjEyOTUxMiwiZXhwIjoxNzA2MTMzMTEyLCJqdGkiOiJjYjc3ZjYxOC00M2M0LTRiMGYtYjNiZS1lMTM0NTk4N2E1NzYiLCJzY29wZSI6WyJvcGVuaWQiLCJnb29nbGVfY3JlZGVudGlhbHMiLCJ1c2VyIiwiYWRtaW4iLCJmZW5jZSIsImdvb2dsZV9saW5rIiwiZGF0YSIsImdvb2dsZV9zZXJ2aWNlX2FjY291bnQiXSwiY29udGV4dCI6eyJ1c2VyIjp7Im5hbWUiOiJtYmtyYW56QGdtYWlsLmNvbSIsImlzX2FkbWluIjpmYWxzZSwiZ29vZ2xlIjp7InByb3h5X2dyb3VwIjpudWxsfX19LCJhenAiOiIiLCJzdWIiOiI3OSJ9.oHcpZPZVsqh8J4-GnM4BjYALnyeVhDqMYcpu1sBN9sZPtTPx1LxC47TzInEo_SdBeWPSCib2dR37-G6ACYb4hG8sWQVtIPojVIV38k5nSizJxN1EXgoCdllgny4BrLc4aQaHMeHBzur0s8vu0IxBhaB_Qt1HJygTBpsyvAiGvbJoLmf_WMdrk3SzahmxM_zPp97DXjEqd8l4p-dCxZXgTw0YvsSAegEPGD2jXbxi4HQ8J3ZjERWE33L2_g-jhQhqT3UrMSIJEzIz9Xi1RRfjFFTbbCLulSR4SQXcqoO3hSKxMPxi599haUpAXQAcOziwWgOd1vyZizgey5TbdpvB1w) after 3 tries; exception: (<class 'FileExistsError'>, FileExistsError(17, 'Cannot create a file when that file already exists'), <traceback object at 0x000002537D39A600>)\n",
      "[2024-01-24 14:51:53,449][WARNING] Unable to write access token to cache file. Exceeded number of retries.\n",
      "The latest sheepdog and indexd have same file:GOOD\n"
     ]
    }
   ],
   "source": [
    "# upload to JDC\n",
    "fileupdate_params = dict(commons_program = \"JCOIN\",\n",
    "commons_project = \"CollaborativeProjects\",\n",
    "commons_bucket = \"s3://jcoinprod-default-258867494168-upload\",\n",
    "new_file_path=f\"{package_name}.zip\",\n",
    "file_guid=\"dg.6VTS/16ddc96d-ce81-4e97-84bf-200a2d60a284\",\n",
    "sheepdog_file_submitter_id=package_name,\n",
    "credentials_path=\"../../credentials.json\")\n",
    "\n",
    "gen3file = jdc_utils.utils.gen3.Gen3FileUpdate(**fileupdate_params)\n",
    "# TODO: add indexd params to Gen3File create and update?\n",
    "# TODO: add authz to indexd params?\n",
    "gen3file.authz = [\"/restricted/collaborative_project/promis\"]"
   ]
  },
  {
   "cell_type": "code",
   "execution_count": 20,
   "metadata": {},
   "outputs": [
    {
     "data": {
      "text/plain": [
       "{'acl': [],\n",
       " 'authz': ['/restricted/collaborative_project/promis'],\n",
       " 'baseid': '89f88d5b-aa85-4234-9d6d-432b2fbb2436',\n",
       " 'content_created_date': None,\n",
       " 'content_updated_date': None,\n",
       " 'created_date': '2024-01-23T15:14:13.597750',\n",
       " 'description': None,\n",
       " 'did': 'dg.6VTS/7591072a-ae60-4d26-9cf0-054f78376e65',\n",
       " 'file_name': 'core-measures-promis.zip',\n",
       " 'form': 'object',\n",
       " 'hashes': {'md5': 'c9fe98227ceaf3b436e8b167e05a7d2e'},\n",
       " 'metadata': {},\n",
       " 'rev': 'd19f1321',\n",
       " 'size': 16238484,\n",
       " 'updated_date': '2024-01-23T15:14:29.304575',\n",
       " 'uploader': None,\n",
       " 'urls': ['s3://jcoinprod-default-258867494168-upload/dg.6VTS/7591072a-ae60-4d26-9cf0-054f78376e65/core-measures-promis.zip'],\n",
       " 'urls_metadata': {'s3://jcoinprod-default-258867494168-upload/dg.6VTS/7591072a-ae60-4d26-9cf0-054f78376e65/core-measures-promis.zip': {}},\n",
       " 'version': None}"
      ]
     },
     "execution_count": 20,
     "metadata": {},
     "output_type": "execute_result"
    }
   ],
   "source": [
    "gen3file.latest_index"
   ]
  },
  {
   "cell_type": "code",
   "execution_count": 21,
   "metadata": {},
   "outputs": [
    {
     "name": "stdout",
     "output_type": "stream",
     "text": [
      "  Submitting 12 records in batches of 100\n",
      "Submission progress: 1/1\n"
     ]
    },
    {
     "data": {
      "text/plain": [
       "<jdc_utils.utils.gen3.files.Gen3FileUpdate at 0x2537ca50070>"
      ]
     },
     "execution_count": 21,
     "metadata": {},
     "output_type": "execute_result"
    }
   ],
   "source": [
    "# gen3file.create(\n",
    "#      file_node_submitter_id=package_name,\n",
    "#         cmc_node_submitter_id=package_name,\n",
    "#         data_category=\"Core Measures\",\n",
    "#         data_format=\"ZIP\",\n",
    "#         data_type=\"Interview\",\n",
    "#     other_cmc_node_metadata={\"title\":\"Core Measures - Only Demographics and PROMIS\"}\n",
    "    \n",
    "#     )\n",
    "gen3file.update()"
   ]
  },
  {
   "attachments": {},
   "cell_type": "markdown",
   "metadata": {},
   "source": [
    "## Deleting test files and records\n",
    "\n",
    "First grab the most recent records from indexd and sheepdog. Confirm this is indeed the file you just created and uploaded:\n",
    "\n",
    "Note, need you need to update the file guid if wanting to test update function after creating a new record."
   ]
  },
  {
   "cell_type": "code",
   "execution_count": null,
   "metadata": {},
   "outputs": [
    {
     "name": "stdout",
     "output_type": "stream",
     "text": [
      "[2023-08-03 11:24:57,281][WARNING] failed to write token cache file: C:\\Users\\kranz-michael/.cache/gen3/token_cache_aa93538a89566456c2ac2f587fc875c1\n",
      "[2023-08-03 11:24:57,282][WARNING] [WinError 183] Cannot create a file when that file already exists: 'C:\\\\Users\\\\kranz-michael/.cache/gen3/token_cache_aa93538a89566456c2ac2f587fc875c1.tmp_eraseme_67471_1691079897' -> 'C:\\\\Users\\\\kranz-michael/.cache/gen3/token_cache_aa93538a89566456c2ac2f587fc875c1'\n",
      "[2023-08-03 11:24:57,282][WARNING] backoff: call gen3.auth._write_to_file(<gen3.auth.Gen3Auth object at 0x0000022C543DEE00>, C:\\Users\\kranz-michael/.cache/gen3/token_cache_aa93538a89566456c2ac2f587fc875c1, eyJhbGciOiJSUzI1NiIsImtpZCI6ImZlbmNlX2tleV8yMDIwLTAxLTAyVDA2OjM1OjA4WiIsInR5cCI6IkpXVCJ9.eyJwdXIiOiJhY2Nlc3MiLCJpc3MiOiJodHRwczovL2pjb2luLmRhdGFjb21tb25zLmlvL3VzZXIiLCJhdWQiOlsiaHR0cHM6Ly9qY29pbi5kYXRhY29tbW9ucy5pby91c2VyIiwib3BlbmlkIiwiZ29vZ2xlX3NlcnZpY2VfYWNjb3VudCIsImFkbWluIiwiZmVuY2UiLCJnb29nbGVfY3JlZGVudGlhbHMiLCJkYXRhIiwidXNlciIsImdvb2dsZV9saW5rIl0sImlhdCI6MTY5MTA3OTg5NiwiZXhwIjoxNjkxMDgzNDk2LCJqdGkiOiIzYjc5ZjUyYy0zYmExLTQ1YzItOTU0YS03Mzg1YzcyOWVlOTUiLCJzY29wZSI6WyJvcGVuaWQiLCJnb29nbGVfc2VydmljZV9hY2NvdW50IiwiYWRtaW4iLCJmZW5jZSIsImdvb2dsZV9jcmVkZW50aWFscyIsImRhdGEiLCJ1c2VyIiwiZ29vZ2xlX2xpbmsiXSwiY29udGV4dCI6eyJ1c2VyIjp7Im5hbWUiOiJtYmtyYW56QGdtYWlsLmNvbSIsImlzX2FkbWluIjpmYWxzZSwiZ29vZ2xlIjp7InByb3h5X2dyb3VwIjpudWxsfX19LCJhenAiOiIiLCJzdWIiOiI3OSJ9.M5GpEzf4UhkvJtgzlWSOxPmHAO-7uiwW4R6gyd0ikMxd2tXDt4uePG2vdPp_PV6r2VvexJY8tpIdLI3NAMcjzhUzgm5vTATEP6gLABD_hOouQtx_G_mlzgHwE3yorK0v6yrwL2VVEnLeRYcLeXEQ4rHBx5aasuWGRNg1kC6mq27z8VcH6qFxg4wfKabajKAb5rWjuf3rEexvau5-N6LmhMkW8Groa4NZAM34tzOp8UWKtuFKLU5xZrTAZsvTtSoc2uw7Ik0XeB40Qm1vH5i-Zbc8T06LeZQbr5Ot5-QnDS1wcuNKSGD2Oucj6rZrPT4puj9OPs6QW9RhWK7de-KQog) delay 0.3 seconds after 1 tries\n",
      "[2023-08-03 11:24:57,659][WARNING] failed to write token cache file: C:\\Users\\kranz-michael/.cache/gen3/token_cache_aa93538a89566456c2ac2f587fc875c1\n",
      "[2023-08-03 11:24:57,660][WARNING] [WinError 183] Cannot create a file when that file already exists: 'C:\\\\Users\\\\kranz-michael/.cache/gen3/token_cache_aa93538a89566456c2ac2f587fc875c1.tmp_eraseme_82835_1691079897' -> 'C:\\\\Users\\\\kranz-michael/.cache/gen3/token_cache_aa93538a89566456c2ac2f587fc875c1'\n",
      "[2023-08-03 11:24:57,661][WARNING] backoff: call gen3.auth._write_to_file(<gen3.auth.Gen3Auth object at 0x0000022C543DEE00>, C:\\Users\\kranz-michael/.cache/gen3/token_cache_aa93538a89566456c2ac2f587fc875c1, eyJhbGciOiJSUzI1NiIsImtpZCI6ImZlbmNlX2tleV8yMDIwLTAxLTAyVDA2OjM1OjA4WiIsInR5cCI6IkpXVCJ9.eyJwdXIiOiJhY2Nlc3MiLCJpc3MiOiJodHRwczovL2pjb2luLmRhdGFjb21tb25zLmlvL3VzZXIiLCJhdWQiOlsiaHR0cHM6Ly9qY29pbi5kYXRhY29tbW9ucy5pby91c2VyIiwib3BlbmlkIiwiZ29vZ2xlX3NlcnZpY2VfYWNjb3VudCIsImFkbWluIiwiZmVuY2UiLCJnb29nbGVfY3JlZGVudGlhbHMiLCJkYXRhIiwidXNlciIsImdvb2dsZV9saW5rIl0sImlhdCI6MTY5MTA3OTg5NiwiZXhwIjoxNjkxMDgzNDk2LCJqdGkiOiIzYjc5ZjUyYy0zYmExLTQ1YzItOTU0YS03Mzg1YzcyOWVlOTUiLCJzY29wZSI6WyJvcGVuaWQiLCJnb29nbGVfc2VydmljZV9hY2NvdW50IiwiYWRtaW4iLCJmZW5jZSIsImdvb2dsZV9jcmVkZW50aWFscyIsImRhdGEiLCJ1c2VyIiwiZ29vZ2xlX2xpbmsiXSwiY29udGV4dCI6eyJ1c2VyIjp7Im5hbWUiOiJtYmtyYW56QGdtYWlsLmNvbSIsImlzX2FkbWluIjpmYWxzZSwiZ29vZ2xlIjp7InByb3h5X2dyb3VwIjpudWxsfX19LCJhenAiOiIiLCJzdWIiOiI3OSJ9.M5GpEzf4UhkvJtgzlWSOxPmHAO-7uiwW4R6gyd0ikMxd2tXDt4uePG2vdPp_PV6r2VvexJY8tpIdLI3NAMcjzhUzgm5vTATEP6gLABD_hOouQtx_G_mlzgHwE3yorK0v6yrwL2VVEnLeRYcLeXEQ4rHBx5aasuWGRNg1kC6mq27z8VcH6qFxg4wfKabajKAb5rWjuf3rEexvau5-N6LmhMkW8Groa4NZAM34tzOp8UWKtuFKLU5xZrTAZsvTtSoc2uw7Ik0XeB40Qm1vH5i-Zbc8T06LeZQbr5Ot5-QnDS1wcuNKSGD2Oucj6rZrPT4puj9OPs6QW9RhWK7de-KQog) delay 1.1 seconds after 2 tries\n",
      "[2023-08-03 11:24:58,737][WARNING] failed to write token cache file: C:\\Users\\kranz-michael/.cache/gen3/token_cache_aa93538a89566456c2ac2f587fc875c1\n",
      "[2023-08-03 11:24:58,738][WARNING] [WinError 183] Cannot create a file when that file already exists: 'C:\\\\Users\\\\kranz-michael/.cache/gen3/token_cache_aa93538a89566456c2ac2f587fc875c1.tmp_eraseme_75149_1691079898' -> 'C:\\\\Users\\\\kranz-michael/.cache/gen3/token_cache_aa93538a89566456c2ac2f587fc875c1'\n",
      "[2023-08-03 11:24:58,738][  ERROR] backoff: gave up call gen3.auth._write_to_file(<gen3.auth.Gen3Auth object at 0x0000022C543DEE00>, C:\\Users\\kranz-michael/.cache/gen3/token_cache_aa93538a89566456c2ac2f587fc875c1, eyJhbGciOiJSUzI1NiIsImtpZCI6ImZlbmNlX2tleV8yMDIwLTAxLTAyVDA2OjM1OjA4WiIsInR5cCI6IkpXVCJ9.eyJwdXIiOiJhY2Nlc3MiLCJpc3MiOiJodHRwczovL2pjb2luLmRhdGFjb21tb25zLmlvL3VzZXIiLCJhdWQiOlsiaHR0cHM6Ly9qY29pbi5kYXRhY29tbW9ucy5pby91c2VyIiwib3BlbmlkIiwiZ29vZ2xlX3NlcnZpY2VfYWNjb3VudCIsImFkbWluIiwiZmVuY2UiLCJnb29nbGVfY3JlZGVudGlhbHMiLCJkYXRhIiwidXNlciIsImdvb2dsZV9saW5rIl0sImlhdCI6MTY5MTA3OTg5NiwiZXhwIjoxNjkxMDgzNDk2LCJqdGkiOiIzYjc5ZjUyYy0zYmExLTQ1YzItOTU0YS03Mzg1YzcyOWVlOTUiLCJzY29wZSI6WyJvcGVuaWQiLCJnb29nbGVfc2VydmljZV9hY2NvdW50IiwiYWRtaW4iLCJmZW5jZSIsImdvb2dsZV9jcmVkZW50aWFscyIsImRhdGEiLCJ1c2VyIiwiZ29vZ2xlX2xpbmsiXSwiY29udGV4dCI6eyJ1c2VyIjp7Im5hbWUiOiJtYmtyYW56QGdtYWlsLmNvbSIsImlzX2FkbWluIjpmYWxzZSwiZ29vZ2xlIjp7InByb3h5X2dyb3VwIjpudWxsfX19LCJhenAiOiIiLCJzdWIiOiI3OSJ9.M5GpEzf4UhkvJtgzlWSOxPmHAO-7uiwW4R6gyd0ikMxd2tXDt4uePG2vdPp_PV6r2VvexJY8tpIdLI3NAMcjzhUzgm5vTATEP6gLABD_hOouQtx_G_mlzgHwE3yorK0v6yrwL2VVEnLeRYcLeXEQ4rHBx5aasuWGRNg1kC6mq27z8VcH6qFxg4wfKabajKAb5rWjuf3rEexvau5-N6LmhMkW8Groa4NZAM34tzOp8UWKtuFKLU5xZrTAZsvTtSoc2uw7Ik0XeB40Qm1vH5i-Zbc8T06LeZQbr5Ot5-QnDS1wcuNKSGD2Oucj6rZrPT4puj9OPs6QW9RhWK7de-KQog) after 3 tries; exception: (<class 'FileExistsError'>, FileExistsError(17, 'Cannot create a file when that file already exists'), <traceback object at 0x0000022C531C0640>)\n",
      "[2023-08-03 11:24:58,739][WARNING] Unable to write access token to cache file. Exceeded number of retries.\n"
     ]
    }
   ],
   "source": [
    "# from gen3.auth import Gen3Auth\n",
    "# from gen3.submission import Gen3Submission\n",
    "# from gen3.index import Gen3Index\n",
    "# from gen3.file import Gen3File\n",
    "# credentials_path = \"../../credentials.json\"\n",
    "# index = Gen3Index(Gen3Auth(refresh_file=credentials_path))\n",
    "# sub = Gen3Submission(Gen3Auth(refresh_file=credentials_path))\n",
    "# files = Gen3File(Gen3Auth(refresh_file=credentials_path))\n",
    "# sheepdog_rec = sub.export_node(\"JCOIN\",\"TEST\",\"reference_file\",fileformat=\"json\")\n",
    "\n",
    "# for record in sheepdog_rec[\"data\"]:\n",
    "#     if \"promis\" in record[\"file_name\"]:\n",
    "#         promis_object_id = record[\"object_id\"]\n",
    "# index_rec = index.get_record(promis_object_id)"
   ]
  },
  {
   "attachments": {},
   "cell_type": "markdown",
   "metadata": {},
   "source": [
    "Then delete all file locations and the sheepdog record:"
   ]
  },
  {
   "cell_type": "code",
   "execution_count": null,
   "metadata": {},
   "outputs": [
    {
     "name": "stdout",
     "output_type": "stream",
     "text": [
      "Error: status code 404; details:\n",
      "{\"message\":\"The requested URL was not found on the server. If you entered the URL manually please check your spelling and try again.\"}\n",
      "\n",
      "\n",
      "{\"message\":\"The requested URL was not found on the server. If you entered the URL manually please check your spelling and try again.\"}\n",
      "\n",
      "Failed to delete uuids: ['dg.6VTS/1e75246d-26ed-4a5d-8f7b-b1790850809c']\n"
     ]
    },
    {
     "ename": "HTTPError",
     "evalue": "404 Client Error: NOT FOUND for url: https://jcoin.datacommons.io/api/v0/submission/JCOIN/TEST/entities/dg.6VTS/1e75246d-26ed-4a5d-8f7b-b1790850809c",
     "output_type": "error",
     "traceback": [
      "\u001b[1;31m---------------------------------------------------------------------------\u001b[0m",
      "\u001b[1;31mHTTPError\u001b[0m                                 Traceback (most recent call last)",
      "\u001b[1;32mc:\\Users\\kranz-michael\\projects\\jdc-utilities\\notebooks\\core_measures\\data-product.ipynb Cell 20\u001b[0m in \u001b[0;36m<cell line: 2>\u001b[1;34m()\u001b[0m\n\u001b[0;32m      <a href='vscode-notebook-cell:/c%3A/Users/kranz-michael/projects/jdc-utilities/notebooks/core_measures/data-product.ipynb#X24sZmlsZQ%3D%3D?line=0'>1</a>\u001b[0m files\u001b[39m.\u001b[39mdelete_file_locations(index_rec[\u001b[39m\"\u001b[39m\u001b[39mdid\u001b[39m\u001b[39m\"\u001b[39m])\n\u001b[1;32m----> <a href='vscode-notebook-cell:/c%3A/Users/kranz-michael/projects/jdc-utilities/notebooks/core_measures/data-product.ipynb#X24sZmlsZQ%3D%3D?line=1'>2</a>\u001b[0m sub\u001b[39m.\u001b[39;49mdelete_record(\u001b[39m\"\u001b[39;49m\u001b[39mJCOIN\u001b[39;49m\u001b[39m\"\u001b[39;49m,\u001b[39m\"\u001b[39;49m\u001b[39mTEST\u001b[39;49m\u001b[39m\"\u001b[39;49m,promis_object_id)\n",
      "File \u001b[1;32mc:\\Users\\kranz-michael\\miniconda3_v2\\envs\\jdc-utils\\lib\\site-packages\\gen3\\submission.py:224\u001b[0m, in \u001b[0;36mGen3Submission.delete_record\u001b[1;34m(self, program, project, uuid)\u001b[0m\n\u001b[0;32m    210\u001b[0m \u001b[39mdef\u001b[39;00m \u001b[39mdelete_record\u001b[39m(\u001b[39mself\u001b[39m, program, project, uuid):\n\u001b[0;32m    211\u001b[0m     \u001b[39m\"\"\"\u001b[39;00m\n\u001b[0;32m    212\u001b[0m \u001b[39m    Delete a record from a project.\u001b[39;00m\n\u001b[0;32m    213\u001b[0m \n\u001b[1;32m   (...)\u001b[0m\n\u001b[0;32m    222\u001b[0m \u001b[39m        >>> Gen3Submission.delete_record(\"DCF\", \"CCLE\", uuid)\u001b[39;00m\n\u001b[0;32m    223\u001b[0m \u001b[39m    \"\"\"\u001b[39;00m\n\u001b[1;32m--> 224\u001b[0m     \u001b[39mreturn\u001b[39;00m \u001b[39mself\u001b[39;49m\u001b[39m.\u001b[39;49mdelete_records(program, project, [uuid])\n",
      "File \u001b[1;32mc:\\Users\\kranz-michael\\miniconda3_v2\\envs\\jdc-utils\\lib\\site-packages\\gen3\\submission.py:253\u001b[0m, in \u001b[0;36mGen3Submission.delete_records\u001b[1;34m(self, program, project, uuids, batch_size)\u001b[0m\n\u001b[0;32m    248\u001b[0m output \u001b[39m=\u001b[39m requests\u001b[39m.\u001b[39mdelete(\n\u001b[0;32m    249\u001b[0m     \u001b[39m\"\u001b[39m\u001b[39m{}\u001b[39;00m\u001b[39m/\u001b[39m\u001b[39m{}\u001b[39;00m\u001b[39m\"\u001b[39m\u001b[39m.\u001b[39mformat(api_url, \u001b[39m\"\u001b[39m\u001b[39m,\u001b[39m\u001b[39m\"\u001b[39m\u001b[39m.\u001b[39mjoin(uuids_to_delete)),\n\u001b[0;32m    250\u001b[0m     auth\u001b[39m=\u001b[39m\u001b[39mself\u001b[39m\u001b[39m.\u001b[39m_auth_provider,\n\u001b[0;32m    251\u001b[0m )\n\u001b[0;32m    252\u001b[0m \u001b[39mtry\u001b[39;00m:\n\u001b[1;32m--> 253\u001b[0m     raise_for_status_and_print_error(output)\n\u001b[0;32m    254\u001b[0m \u001b[39mexcept\u001b[39;00m requests\u001b[39m.\u001b[39mexceptions\u001b[39m.\u001b[39mHTTPError:\n\u001b[0;32m    255\u001b[0m     \u001b[39mprint\u001b[39m(\n\u001b[0;32m    256\u001b[0m         \u001b[39m\"\u001b[39m\u001b[39m\\n\u001b[39;00m\u001b[39m{}\u001b[39;00m\u001b[39m\\n\u001b[39;00m\u001b[39mFailed to delete uuids: \u001b[39m\u001b[39m{}\u001b[39;00m\u001b[39m\"\u001b[39m\u001b[39m.\u001b[39mformat(\n\u001b[0;32m    257\u001b[0m             output\u001b[39m.\u001b[39mtext, uuids_to_delete\n\u001b[0;32m    258\u001b[0m         )\n\u001b[0;32m    259\u001b[0m     )\n",
      "File \u001b[1;32mc:\\Users\\kranz-michael\\miniconda3_v2\\envs\\jdc-utils\\lib\\site-packages\\gen3\\utils.py:55\u001b[0m, in \u001b[0;36mraise_for_status_and_print_error\u001b[1;34m(response)\u001b[0m\n\u001b[0;32m     51\u001b[0m \u001b[39m\"\"\"\u001b[39;00m\n\u001b[0;32m     52\u001b[0m \u001b[39mThis only works for sync requests\u001b[39;00m\n\u001b[0;32m     53\u001b[0m \u001b[39m\"\"\"\u001b[39;00m\n\u001b[0;32m     54\u001b[0m \u001b[39mtry\u001b[39;00m:\n\u001b[1;32m---> 55\u001b[0m     response\u001b[39m.\u001b[39;49mraise_for_status()\n\u001b[0;32m     56\u001b[0m \u001b[39mexcept\u001b[39;00m requests\u001b[39m.\u001b[39mHTTPError \u001b[39mas\u001b[39;00m exception:\n\u001b[0;32m     57\u001b[0m     \u001b[39mprint\u001b[39m(\n\u001b[0;32m     58\u001b[0m         \u001b[39m\"\u001b[39m\u001b[39mError: status code \u001b[39m\u001b[39m{}\u001b[39;00m\u001b[39m; details:\u001b[39m\u001b[39m\\n\u001b[39;00m\u001b[39m{}\u001b[39;00m\u001b[39m\"\u001b[39m\u001b[39m.\u001b[39mformat(\n\u001b[0;32m     59\u001b[0m             response\u001b[39m.\u001b[39mstatus_code, response\u001b[39m.\u001b[39mtext\n\u001b[0;32m     60\u001b[0m         )\n\u001b[0;32m     61\u001b[0m     )\n",
      "File \u001b[1;32mc:\\Users\\kranz-michael\\miniconda3_v2\\envs\\jdc-utils\\lib\\site-packages\\requests\\models.py:1021\u001b[0m, in \u001b[0;36mResponse.raise_for_status\u001b[1;34m(self)\u001b[0m\n\u001b[0;32m   1016\u001b[0m     http_error_msg \u001b[39m=\u001b[39m (\n\u001b[0;32m   1017\u001b[0m         \u001b[39mf\u001b[39m\u001b[39m\"\u001b[39m\u001b[39m{\u001b[39;00m\u001b[39mself\u001b[39m\u001b[39m.\u001b[39mstatus_code\u001b[39m}\u001b[39;00m\u001b[39m Server Error: \u001b[39m\u001b[39m{\u001b[39;00mreason\u001b[39m}\u001b[39;00m\u001b[39m for url: \u001b[39m\u001b[39m{\u001b[39;00m\u001b[39mself\u001b[39m\u001b[39m.\u001b[39murl\u001b[39m}\u001b[39;00m\u001b[39m\"\u001b[39m\n\u001b[0;32m   1018\u001b[0m     )\n\u001b[0;32m   1020\u001b[0m \u001b[39mif\u001b[39;00m http_error_msg:\n\u001b[1;32m-> 1021\u001b[0m     \u001b[39mraise\u001b[39;00m HTTPError(http_error_msg, response\u001b[39m=\u001b[39m\u001b[39mself\u001b[39m)\n",
      "\u001b[1;31mHTTPError\u001b[0m: 404 Client Error: NOT FOUND for url: https://jcoin.datacommons.io/api/v0/submission/JCOIN/TEST/entities/dg.6VTS/1e75246d-26ed-4a5d-8f7b-b1790850809c"
     ]
    }
   ],
   "source": [
    "# files.delete_file_locations(index_rec[\"did\"])\n",
    "# sub.delete_record(\"JCOIN\",\"TEST\",promis_object_id)"
   ]
  }
 ],
 "metadata": {
  "kernelspec": {
   "display_name": "jdc-utils",
   "language": "python",
   "name": "python3"
  },
  "language_info": {
   "codemirror_mode": {
    "name": "ipython",
    "version": 3
   },
   "file_extension": ".py",
   "mimetype": "text/x-python",
   "name": "python",
   "nbconvert_exporter": "python",
   "pygments_lexer": "ipython3",
   "version": "3.10.5"
  },
  "orig_nbformat": 4
 },
 "nbformat": 4,
 "nbformat_minor": 2
}

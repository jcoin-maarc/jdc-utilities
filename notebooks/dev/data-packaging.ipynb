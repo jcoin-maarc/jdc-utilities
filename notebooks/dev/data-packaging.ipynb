{
 "cells": [
  {
   "cell_type": "markdown",
   "metadata": {},
   "source": [
    "# Preparing for JDC uploads\n",
    "\n",
    "This notebook contains the code that will be refactored/packaged into data packaging/upload functions\n",
    "\n",
    "1. compress\n",
    "2. map to sheepdog\n",
    "3. upload both sheepdog and core measure (requiring indexd and sheepdog) files"
   ]
  },
  {
   "cell_type": "code",
   "execution_count": 1,
   "metadata": {},
   "outputs": [],
   "source": [
    "import json\n",
    "from pathlib import Path\n",
    "from jdc_utils.utils import zip_package\n",
    "from jdc_utils.encoding import core_measures as encodings\n",
    "from dataforge.frictionless.categoricals import table_encode\n",
    "from frictionless import Resource,Package,transform\n",
    "\n",
    "from jdc_utils.schema import core_measures as schemas\n",
    "\n",
    "import os"
   ]
  },
  {
   "cell_type": "code",
   "execution_count": 2,
   "metadata": {},
   "outputs": [],
   "source": [
    "datapackage_paths = [\n",
    "    path.resolve() \n",
    "    for path in Path().resolve().parents[1].glob(\"../*/*/core-measures-*/\") \n",
    "    if path.is_dir() and 'test' in path.name and not 'joint' in path.name\n",
    "]"
   ]
  },
  {
   "cell_type": "code",
   "execution_count": 3,
   "metadata": {},
   "outputs": [
    {
     "data": {
      "text/plain": [
       "[WindowsPath('C:/Users/kranz-michael/projects/jcoin-test/data/core-measures-test'),\n",
       " WindowsPath('C:/Users/kranz-michael/projects/jdc-utilities/data/core-measures-test')]"
      ]
     },
     "execution_count": 3,
     "metadata": {},
     "output_type": "execute_result"
    }
   ],
   "source": [
    "datapackage_paths"
   ]
  },
  {
   "cell_type": "code",
   "execution_count": 4,
   "metadata": {},
   "outputs": [],
   "source": [
    "#compress to directory\n",
    "zip_path = Path(\"tmp\").resolve()\n",
    "zip_path.mkdir(exist_ok=True)\n",
    "for path in datapackage_paths:\n",
    "    zip_package(path,zip_path)"
   ]
  },
  {
   "cell_type": "code",
   "execution_count": 5,
   "metadata": {},
   "outputs": [
    {
     "data": {
      "text/plain": [
       "WindowsPath('C:/Users/kranz-michael/projects/jdc-utilities/notebooks/dev/tmp')"
      ]
     },
     "execution_count": 5,
     "metadata": {},
     "output_type": "execute_result"
    }
   ],
   "source": [
    "zip_path"
   ]
  }
 ],
 "metadata": {
  "kernelspec": {
   "display_name": "jdc-utils",
   "language": "python",
   "name": "python3"
  },
  "language_info": {
   "codemirror_mode": {
    "name": "ipython",
    "version": 3
   },
   "file_extension": ".py",
   "mimetype": "text/x-python",
   "name": "python",
   "nbconvert_exporter": "python",
   "pygments_lexer": "ipython3",
   "version": "3.10.5"
  },
  "orig_nbformat": 4,
  "vscode": {
   "interpreter": {
    "hash": "b8703766e0eea0266513ec6bdab0dac9f88eac8cefc00ed0b139b384718afabe"
   }
  }
 },
 "nbformat": 4,
 "nbformat_minor": 2
}

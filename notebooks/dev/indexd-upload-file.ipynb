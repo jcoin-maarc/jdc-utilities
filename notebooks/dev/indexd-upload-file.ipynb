{
 "cells": [
  {
   "cell_type": "code",
   "execution_count": 1,
   "metadata": {},
   "outputs": [],
   "source": [
    "from gen3.auth import Gen3Auth\n",
    "#NOTE: using the Gen3File object to get presigned url so no need for these \n",
    "# (previously used to call directly from fence API)\n",
    "#from urllib.parse import parse_qsl, urlencode, urlparse, urlunparse\n",
    "from gen3.file import Gen3File\n",
    "from gen3.index import Gen3Index\n",
    "from gen3.submission import Gen3Submission\n",
    "import os\n",
    "import requests\n",
    "import hashlib"
   ]
  },
  {
   "cell_type": "code",
   "execution_count": 2,
   "metadata": {},
   "outputs": [],
   "source": [
    "COMMONS = 'https://jcoin.datacommons.io/'\n",
    "CREDS_PATH = 'credentials.json'\n",
    "AWS_BUCKET = \"s3://jcoinprod-default-258867494168-upload\"\n"
   ]
  },
  {
   "cell_type": "code",
   "execution_count": 3,
   "metadata": {},
   "outputs": [],
   "source": [
    "program = \"JCOIN\"\n",
    "project = \"Chestnut\" #project as it appears in fence (ie profile)\n",
    "uploader = \"\" #uploader identifier (ie email)"
   ]
  },
  {
   "cell_type": "code",
   "execution_count": 4,
   "metadata": {},
   "outputs": [],
   "source": [
    "auth = Gen3Auth(COMMONS,CREDS_PATH)\n",
    "index = Gen3Index(auth)\n",
    "sub = Gen3Submission(auth)"
   ]
  },
  {
   "cell_type": "markdown",
   "metadata": {},
   "source": [
    "## Prototype code for one file upload"
   ]
  },
  {
   "cell_type": "markdown",
   "metadata": {},
   "source": [
    "Current gen3 file information \n",
    "(this includes current_object_id of core measures mapped to sheepdog and \n",
    "the indexed info of this sheepdog record)"
   ]
  },
  {
   "cell_type": "code",
   "execution_count": 5,
   "metadata": {},
   "outputs": [],
   "source": [
    "for record in sub.export_node(program,project,\"reference_file\",fileformat='json')['data']:\n",
    "    if f\"core-measures\" in record.get(\"submitter_id\",\"\"):\n",
    "        current_record = record.copy()"
   ]
  },
  {
   "cell_type": "code",
   "execution_count": 6,
   "metadata": {},
   "outputs": [],
   "source": [
    "current_object_id = current_record['object_id']\n",
    "file_name = current_record['file_name']\n",
    "\n",
    "current_index = index.get_record(current_object_id)"
   ]
  },
  {
   "cell_type": "markdown",
   "metadata": {},
   "source": [
    "Local file information"
   ]
  },
  {
   "cell_type": "code",
   "execution_count": 7,
   "metadata": {},
   "outputs": [],
   "source": [
    "file_path = f\"tmp/{file_name}\"\n",
    "with open(file_path, 'rb') as f:\n",
    "    data = f.read()\n",
    "    \n",
    "# get file info\n",
    "new_md5sum = hashlib.md5(data).hexdigest()\n",
    "new_filesize = os.path.getsize(file_path)"
   ]
  },
  {
   "cell_type": "code",
   "execution_count": 8,
   "metadata": {},
   "outputs": [],
   "source": [
    "#generate new version num\n",
    "if current_index['version']:\n",
    "    #make this a command (eg indicating which of the 3 version enhancements it is)\n",
    "    pass\n",
    "else:\n",
    "    new_version_num = '.'.join([\"0\",\"0\",\"1\"]) #form of incremental version change code in above if statemnt \n"
   ]
  },
  {
   "attachments": {},
   "cell_type": "markdown",
   "metadata": {},
   "source": [
    "```python\n",
    "current_index\n",
    "\n",
    "{'acl': [],\n",
    " 'authz': ['/programs/JCOIN/projects/TEST'],\n",
    " 'baseid': 'abdasfdsafdsfdsf',\n",
    " 'created_date': '2099-12-07T21:32:49.549732',\n",
    " 'did': 'dg.6VTS/dasfasdfdf',\n",
    " 'file_name': None,\n",
    " 'form': 'object',\n",
    " 'hashes': {'md5': '7a259dea963796bc678c457356c82d14'},\n",
    " 'metadata': {},\n",
    " 'rev': '62ee5b42',\n",
    " 'size': 850335,\n",
    " 'updated_date': '2022-12-07T21:33:02.764339',\n",
    " 'uploader': None,\n",
    " 'urls': ['s3://jcoinprod-default-258867494168-upload/dg.6VTS/dasfasdfdf/core-measures-test.zip'],\n",
    " 'urls_metadata': {'s3://jcoinprod-default-258867494168-upload/dg.6VTS/dasfasdfdf/core-measures-test.zip': {}},\n",
    " 'version': None}\n",
    " ```"
   ]
  },
  {
   "cell_type": "markdown",
   "metadata": {},
   "source": [
    "Check if new version locally"
   ]
  },
  {
   "cell_type": "code",
   "execution_count": 9,
   "metadata": {},
   "outputs": [],
   "source": [
    "#TODO: check if new version of file\n",
    "is_new_version = new_md5sum!=current_index['hashes']['md5']"
   ]
  },
  {
   "cell_type": "code",
   "execution_count": 10,
   "metadata": {},
   "outputs": [
    {
     "data": {
      "text/plain": [
       "True"
      ]
     },
     "execution_count": 10,
     "metadata": {},
     "output_type": "execute_result"
    }
   ],
   "source": [
    "is_new_version"
   ]
  },
  {
   "cell_type": "markdown",
   "metadata": {},
   "source": [
    "Mint new GUID"
   ]
  },
  {
   "cell_type": "code",
   "execution_count": 11,
   "metadata": {},
   "outputs": [],
   "source": [
    "new_object_id = requests.get(f\"{COMMONS}/index/guid/mint?count=1\").json()[\"guids\"][0]"
   ]
  },
  {
   "cell_type": "markdown",
   "metadata": {},
   "source": [
    "Create new indexd record"
   ]
  },
  {
   "cell_type": "code",
   "execution_count": 12,
   "metadata": {},
   "outputs": [],
   "source": [
    "# update new record more index metadata\n",
    "#TODO: add version string\n",
    "default_authz = '/programs/{}/projects/{}'.format(program, project)\n",
    "authz= [default_authz]\n",
    "\n",
    "new_index = index.create_new_version(\n",
    "    guid=current_object_id,\n",
    "    hashes={'md5':new_md5sum},\n",
    "    size=new_filesize,\n",
    "    did=new_object_id, \n",
    "    authz=authz\n",
    ")"
   ]
  },
  {
   "cell_type": "markdown",
   "metadata": {},
   "source": [
    "Upload new version of file"
   ]
  },
  {
   "cell_type": "code",
   "execution_count": 13,
   "metadata": {},
   "outputs": [],
   "source": [
    "#get presigned url to upload\n",
    "gen3files = Gen3File(auth)\n",
    "new_file_presign = gen3files.upload_file_to_guid(new_object_id, file_name, expires_in=3600)\n",
    "new_file_url = new_file_presign['url']\n",
    "headers = {\n",
    "    \"Content-Type\":\"application/binary\",\n",
    "}\n",
    "upload = requests.put(new_file_url, data=data, headers=headers)\n",
    "upload.raise_for_status()"
   ]
  },
  {
   "cell_type": "code",
   "execution_count": 14,
   "metadata": {},
   "outputs": [],
   "source": [
    "file_url = f\"{AWS_BUCKET}/{new_object_id}/{file_name}\"\n",
    "output = index.update_record(\n",
    "    new_object_id,\n",
    "    urls=[file_url],\n",
    "    # urls_metadata={file_url:{}}\n",
    ")"
   ]
  },
  {
   "attachments": {},
   "cell_type": "markdown",
   "metadata": {},
   "source": [
    "```python\n",
    "output\n",
    "\n",
    "{'acl': [],\n",
    " 'authz': ['/programs/JCOIN/projects/TEST'],\n",
    " 'baseid': 'adsfdsf',\n",
    " 'created_date': '2099-03-17T02:21:05.818203',\n",
    " 'did': 'dg.6VTS/asdfdsfdsfsdf',\n",
    " 'file_name': None,\n",
    " 'form': 'object',\n",
    " 'hashes': {'md5': 'dsfasdf'},\n",
    " 'metadata': {},\n",
    " 'rev': '5ae5d479',\n",
    " 'size': 766615,\n",
    " 'updated_date': '2023-03-17T02:21:22.387864',\n",
    " 'uploader': None,\n",
    " 'urls': ['s3://jcoinprod-default-258867494168-upload/dg.6VTS/asdfdsfdsfsdf/core-measures-ytest.zip'],\n",
    " 'urls_metadata': {'s3://jcoinprod-default-258867494168-upload/dg.6VTS/asdfdsfdsfsdf/core-measures-test.zip': {}},\n",
    " 'version': None}\n",
    " ```"
   ]
  },
  {
   "cell_type": "markdown",
   "metadata": {},
   "source": [
    "Map to sheepdog"
   ]
  },
  {
   "cell_type": "code",
   "execution_count": 15,
   "metadata": {},
   "outputs": [],
   "source": [
    "  sheepdog_rec = {\n",
    "    \"core_metadata_collections\": [\n",
    "      {\n",
    "        \"submitter_id\": f\"core-measures-{project}\"\n",
    "      }\n",
    "  ],\n",
    "  \"type\": \"reference_file\",\n",
    "  \"project_id\": f\"{program}-{project}\",\n",
    "  \"submitter_id\": f\"core-measures-{project}\",\n",
    "  \"data_category\": \"Core Measures\",\n",
    "  \"data_format\": \"ZIP\",\n",
    "  \"data_type\": \"Interview\",\n",
    "  \"md5sum\":new_md5sum,\n",
    "  \"file_size\":new_filesize,\n",
    "  \"file_name\":file_name,\n",
    "  \"object_id\":new_object_id,\n",
    "}"
   ]
  },
  {
   "cell_type": "code",
   "execution_count": 16,
   "metadata": {},
   "outputs": [
    {
     "name": "stdout",
     "output_type": "stream",
     "text": [
      "[2023-03-16 21:35:38,974][   INFO] \n",
      "Using the Sheepdog API URL https://jcoin.datacommons.io/api/v0/submission/JCOIN/Chestnut\n",
      "\n"
     ]
    }
   ],
   "source": [
    "output = sub.submit_record(program,project,json=sheepdog_rec)"
   ]
  },
  {
   "attachments": {},
   "cell_type": "markdown",
   "metadata": {},
   "source": [
    "```python\n",
    "output\n",
    "\n",
    "{'code': 200,\n",
    " 'created_entity_count': 0,\n",
    " 'entities': [{'action': 'update',\n",
    "   'errors': [],\n",
    "   'id': 'abcasdfdsfsdfasdfsd',\n",
    "   'type': 'reference_file',\n",
    "   'unique_keys': [{'project_id': 'JCOIN-TEST',\n",
    "     'submitter_id': 'core-measures-TEST'}],\n",
    "   'valid': True,\n",
    "   'warnings': []}],\n",
    " 'entity_error_count': 0,\n",
    " 'message': 'Transaction successful.',\n",
    " 'success': True,\n",
    " 'transaction_id': 9603,\n",
    " 'transactional_error_count': 0,\n",
    " 'transactional_errors': [],\n",
    " 'updated_entity_count': 1}\n",
    " ```"
   ]
  }
 ],
 "metadata": {
  "kernelspec": {
   "display_name": "Python 3.10.5 ('jdc-utils')",
   "language": "python",
   "name": "python3"
  },
  "language_info": {
   "codemirror_mode": {
    "name": "ipython",
    "version": 3
   },
   "file_extension": ".py",
   "mimetype": "text/x-python",
   "name": "python",
   "nbconvert_exporter": "python",
   "pygments_lexer": "ipython3",
   "version": "3.10.5"
  },
  "orig_nbformat": 4,
  "vscode": {
   "interpreter": {
    "hash": "b8703766e0eea0266513ec6bdab0dac9f88eac8cefc00ed0b139b384718afabe"
   }
  }
 },
 "nbformat": 4,
 "nbformat_minor": 2
}

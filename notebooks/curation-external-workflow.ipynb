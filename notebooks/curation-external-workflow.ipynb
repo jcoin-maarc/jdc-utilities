{
 "cells": [
  {
   "attachments": {},
   "cell_type": "markdown",
   "metadata": {},
   "source": [
    "You've done all your processing and transformations. Now it's time to validate, package, and submit! (dont worry if you dont have some of the core measures, we will add a placeholder field with `Missing`). You also can check your errors and add to your external workflow by checking the `data/core-measures-test/report-summary.txt` file. "
   ]
  },
  {
   "cell_type": "markdown",
   "metadata": {},
   "source": [
    "Import the CoreMeasures object which provides the functionality for the \n",
    "core measure pipeline"
   ]
  },
  {
   "cell_type": "code",
   "execution_count": 1,
   "metadata": {},
   "outputs": [],
   "source": [
    "from jdc_utils.submission import CoreMeasures\n",
    "from pathlib import Path\n",
    "import os"
   ]
  },
  {
   "cell_type": "code",
   "execution_count": 2,
   "metadata": {},
   "outputs": [],
   "source": [
    "datafolder = \"../data/external_workflow\"\n"
   ]
  },
  {
   "cell_type": "code",
   "execution_count": 3,
   "metadata": {},
   "outputs": [
    {
     "data": {
      "text/plain": [
       "['baseline.csv', 'timepoints.csv']"
      ]
     },
     "execution_count": 3,
     "metadata": {},
     "output_type": "execute_result"
    }
   ],
   "source": [
    "os.listdir(datafolder)"
   ]
  },
  {
   "cell_type": "code",
   "execution_count": 4,
   "metadata": {},
   "outputs": [
    {
     "data": {
      "text/plain": [
       "WindowsPath('C:/Users/kranz-michael/projects/jdc-utilities/data/external_workflow/baseline.csv')"
      ]
     },
     "execution_count": 4,
     "metadata": {},
     "output_type": "execute_result"
    }
   ],
   "source": [
    "Path(datafolder).resolve()/\"baseline.csv\""
   ]
  },
  {
   "cell_type": "code",
   "execution_count": 5,
   "metadata": {},
   "outputs": [],
   "source": [
    "core_measures = CoreMeasures(transform_steps=[\"add_new_names\",\"add_missing_fields\"])\n",
    "core_measures.add_baseline(Path(datafolder)/\"baseline.csv\")\n",
    "core_measures.add_timepoints(Path(datafolder)/\"timepoints.csv\")"
   ]
  },
  {
   "attachments": {},
   "cell_type": "markdown",
   "metadata": {},
   "source": [
    "Now you have read in your core measure datasets (called `resources`):"
   ]
  },
  {
   "cell_type": "code",
   "execution_count": 6,
   "metadata": {},
   "outputs": [
    {
     "data": {
      "text/plain": [
       "['baseline', 'timepoints']"
      ]
     },
     "execution_count": 6,
     "metadata": {},
     "output_type": "execute_result"
    }
   ],
   "source": [
    "core_measures.package.resource_names"
   ]
  },
  {
   "attachments": {},
   "cell_type": "markdown",
   "metadata": {},
   "source": [
    "Validate and write your package to the standardized packaging format your core measures"
   ]
  },
  {
   "cell_type": "code",
   "execution_count": 7,
   "metadata": {},
   "outputs": [
    {
     "data": {
      "text/plain": [
       "<jdc_utils.submission.core_measures.CoreMeasures at 0x1eb1d797790>"
      ]
     },
     "execution_count": 7,
     "metadata": {},
     "output_type": "execute_result"
    }
   ],
   "source": [
    "core_measures.write(\"../data/core-measures-test\")"
   ]
  },
  {
   "cell_type": "code",
   "execution_count": 8,
   "metadata": {},
   "outputs": [
    {
     "name": "stdout",
     "output_type": "stream",
     "text": [
      "\n",
      "# -----\n",
      "# valid: data/baseline.csv \n",
      "# -----\n",
      "\n",
      "## Summary \n",
      "\n",
      "+------------------------+-------------------+\n",
      "| Description            | Size/Name/Count   |\n",
      "+========================+===================+\n",
      "| File name              | data/baseline.csv |\n",
      "+------------------------+-------------------+\n",
      "| File size (KB)         | 2018              |\n",
      "+------------------------+-------------------+\n",
      "| Total Time Taken (sec) | 0.1               |\n",
      "+------------------------+-------------------+\n",
      "\n",
      "\n",
      "# -----\n",
      "# valid: data/timepoints.csv \n",
      "# -----\n",
      "\n",
      "## Summary \n",
      "\n",
      "+------------------------+---------------------+\n",
      "| Description            | Size/Name/Count     |\n",
      "+========================+=====================+\n",
      "| File name              | data/timepoints.csv |\n",
      "+------------------------+---------------------+\n",
      "| File size (KB)         | 27358               |\n",
      "+------------------------+---------------------+\n",
      "| Total Time Taken (sec) | 0.205               |\n",
      "+------------------------+---------------------+\n",
      "\n",
      "\n"
     ]
    }
   ],
   "source": [
    "print(core_measures.written_package_report.to_summary())"
   ]
  },
  {
   "attachments": {},
   "cell_type": "markdown",
   "metadata": {},
   "source": [
    "Once validated zip up as this will be uploaded to the data commons. If you've specified an output directory (`outdir`), it will zip alongside your validated package folder. If you prefer to zip to a different location, specify outdir when zipping with `core_measures.zip(zipdir=\"this/is/my/newdirectory\")`"
   ]
  },
  {
   "cell_type": "code",
   "execution_count": 9,
   "metadata": {},
   "outputs": [
    {
     "data": {
      "text/plain": [
       "<jdc_utils.submission.core_measures.CoreMeasures at 0x1eb1d797790>"
      ]
     },
     "execution_count": 9,
     "metadata": {},
     "output_type": "execute_result"
    }
   ],
   "source": [
    "core_measures.zip()"
   ]
  },
  {
   "cell_type": "code",
   "execution_count": null,
   "metadata": {},
   "outputs": [],
   "source": []
  }
 ],
 "metadata": {
  "kernelspec": {
   "display_name": "jdc-utils",
   "language": "python",
   "name": "python3"
  },
  "language_info": {
   "codemirror_mode": {
    "name": "ipython",
    "version": 3
   },
   "file_extension": ".py",
   "mimetype": "text/x-python",
   "name": "python",
   "nbconvert_exporter": "python",
   "pygments_lexer": "ipython3",
   "version": "3.10.5"
  },
  "orig_nbformat": 4
 },
 "nbformat": 4,
 "nbformat_minor": 2
}

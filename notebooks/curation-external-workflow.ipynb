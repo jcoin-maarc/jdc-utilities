{
 "cells": [
  {
   "attachments": {},
   "cell_type": "markdown",
   "metadata": {},
   "source": [
    "You've done all your processing and transformations. Now it's time to validate, package, and submit! (dont worry if you dont have some of the core measures, we will add a placeholder field with `Missing`). You also can check your errors and add to your external workflow by checking the `data/core-measures-test/report-summary.txt` file. "
   ]
  },
  {
   "cell_type": "markdown",
   "metadata": {},
   "source": [
    "Import the CoreMeasures object which provides the functionality for the \n",
    "core measure pipeline"
   ]
  },
  {
   "cell_type": "code",
   "execution_count": 8,
   "metadata": {},
   "outputs": [],
   "source": [
    "from jdc_utils.submission import CoreMeasures\n",
    "from pathlib import Path\n",
    "import os"
   ]
  },
  {
   "cell_type": "code",
   "execution_count": 9,
   "metadata": {},
   "outputs": [
    {
     "name": "stdout",
     "output_type": "stream",
     "text": [
      "c:\\Users\\kranz-michael\\projects\\jdc-utilities\\notebooks\n",
      "C:\\Users\\kranz-michael\\projects\\jdc-utilities\\data\\external_workflow\n"
     ]
    }
   ],
   "source": [
    "datafolder = \"../data/external_workflow\"\n",
    "core_measures = CoreMeasures(datafolder,is_core_measures=True)"
   ]
  },
  {
   "attachments": {},
   "cell_type": "markdown",
   "metadata": {},
   "source": [
    "Now you have read in your core measure datasets (called `resources`):"
   ]
  },
  {
   "cell_type": "code",
   "execution_count": 10,
   "metadata": {},
   "outputs": [
    {
     "data": {
      "text/plain": [
       "['baseline', 'timepoints']"
      ]
     },
     "execution_count": 10,
     "metadata": {},
     "output_type": "execute_result"
    }
   ],
   "source": [
    "core_measures.package.resource_names"
   ]
  },
  {
   "attachments": {},
   "cell_type": "markdown",
   "metadata": {},
   "source": [
    "Validate and write your package to the standardized packaging format your core measures"
   ]
  },
  {
   "cell_type": "code",
   "execution_count": 11,
   "metadata": {},
   "outputs": [
    {
     "data": {
      "text/plain": [
       "<jdc_utils.submission.core_measures.CoreMeasures at 0x1f71b563c40>"
      ]
     },
     "execution_count": 11,
     "metadata": {},
     "output_type": "execute_result"
    }
   ],
   "source": [
    "core_measures.write(\"../data/core-measures-test\")"
   ]
  },
  {
   "cell_type": "code",
   "execution_count": 12,
   "metadata": {},
   "outputs": [
    {
     "name": "stdout",
     "output_type": "stream",
     "text": [
      "\n",
      "# -----\n",
      "# valid: data/baseline.csv \n",
      "# -----\n",
      "\n",
      "## Summary \n",
      "\n",
      "+------------------------+-------------------+\n",
      "| Description            | Size/Name/Count   |\n",
      "+========================+===================+\n",
      "| File name              | data/baseline.csv |\n",
      "+------------------------+-------------------+\n",
      "| File size (KB)         | 1733              |\n",
      "+------------------------+-------------------+\n",
      "| Total Time Taken (sec) | 0.113             |\n",
      "+------------------------+-------------------+\n",
      "\n",
      "\n",
      "# -----\n",
      "# valid: data/timepoints.csv \n",
      "# -----\n",
      "\n",
      "## Summary \n",
      "\n",
      "+------------------------+---------------------+\n",
      "| Description            | Size/Name/Count     |\n",
      "+========================+=====================+\n",
      "| File name              | data/timepoints.csv |\n",
      "+------------------------+---------------------+\n",
      "| File size (KB)         | 27358               |\n",
      "+------------------------+---------------------+\n",
      "| Total Time Taken (sec) | 0.389               |\n",
      "+------------------------+---------------------+\n",
      "\n",
      "\n"
     ]
    }
   ],
   "source": [
    "print(core_measures.written_package_report.to_summary())"
   ]
  },
  {
   "attachments": {},
   "cell_type": "markdown",
   "metadata": {},
   "source": [
    "Once validated zip up as this will be uploaded to the data commons. If you've specified an output directory (`outdir`), it will zip alongside your validated package folder. If you prefer to zip to a different location, specify outdir when zipping with `core_measures.zip(zipdir=\"this/is/my/newdirectory\")`"
   ]
  },
  {
   "cell_type": "code",
   "execution_count": 7,
   "metadata": {},
   "outputs": [
    {
     "name": "stdout",
     "output_type": "stream",
     "text": [
      "\u001b[1;31mSignature:\u001b[0m \u001b[0mcore_measures\u001b[0m\u001b[1;33m.\u001b[0m\u001b[0mzip\u001b[0m\u001b[1;33m(\u001b[0m\u001b[0mzipdir\u001b[0m\u001b[1;33m=\u001b[0m\u001b[1;32mNone\u001b[0m\u001b[1;33m)\u001b[0m\u001b[1;33m\u001b[0m\u001b[1;33m\u001b[0m\u001b[0m\n",
      "\u001b[1;31mDocstring:\u001b[0m <no docstring>\n",
      "\u001b[1;31mFile:\u001b[0m      c:\\users\\kranz-michael\\projects\\jdc-utilities\\jdc_utils\\submission\\core_measures.py\n",
      "\u001b[1;31mType:\u001b[0m      method\n"
     ]
    }
   ],
   "source": [
    "core_measures.zip()"
   ]
  }
 ],
 "metadata": {
  "kernelspec": {
   "display_name": "jdc-utils",
   "language": "python",
   "name": "python3"
  },
  "language_info": {
   "codemirror_mode": {
    "name": "ipython",
    "version": 3
   },
   "file_extension": ".py",
   "mimetype": "text/x-python",
   "name": "python",
   "nbconvert_exporter": "python",
   "pygments_lexer": "ipython3",
   "version": "3.10.5"
  },
  "orig_nbformat": 4
 },
 "nbformat": 4,
 "nbformat_minor": 2
}

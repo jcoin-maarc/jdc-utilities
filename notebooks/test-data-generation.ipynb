{
 "cells": [
  {
   "cell_type": "code",
   "execution_count": 1,
   "metadata": {},
   "outputs": [],
   "source": [
    "import pandas as pd\n",
    "import pandera as pa\n",
    "from pandera.io import from_frictionless_schema\n",
    "from jdc_utils.schema import core_measures"
   ]
  },
  {
   "attachments": {},
   "cell_type": "markdown",
   "metadata": {},
   "source": [
    "Initiate the data schema from frictionless spec and write to script"
   ]
  },
  {
   "cell_type": "code",
   "execution_count": 8,
   "metadata": {},
   "outputs": [],
   "source": [
    "baseline = pa.io.from_frictionless_schema(core_measures.baseline)\n",
    "baseline.to_script('baseline.py')\n",
    "\n",
    "timepoints = pa.io.from_frictionless_schema(core_measures.baseline)\n",
    "timepoints.to_script('timepoints.py')"
   ]
  },
  {
   "cell_type": "code",
   "execution_count": 11,
   "metadata": {},
   "outputs": [],
   "source": [
    "import baseline"
   ]
  },
  {
   "cell_type": "code",
   "execution_count": 12,
   "metadata": {},
   "outputs": [
    {
     "ename": "TypeError",
     "evalue": "data generation for the Category dtype is currently unsupported. Consider using a string or int dtype and Check.isin(values) to ensure a finite set of values.",
     "output_type": "error",
     "traceback": [
      "\u001b[1;31m---------------------------------------------------------------------------\u001b[0m",
      "\u001b[1;31mTypeError\u001b[0m                                 Traceback (most recent call last)",
      "\u001b[1;32mc:\\Users\\kranz-michael\\projects\\jdc-utilities\\notebooks\\test-data-generation.ipynb Cell 5\u001b[0m in \u001b[0;36m<cell line: 1>\u001b[1;34m()\u001b[0m\n\u001b[1;32m----> <a href='vscode-notebook-cell:/c%3A/Users/kranz-michael/projects/jdc-utilities/notebooks/test-data-generation.ipynb#W6sZmlsZQ%3D%3D?line=0'>1</a>\u001b[0m baseline\u001b[39m.\u001b[39;49mschema\u001b[39m.\u001b[39;49mexample(size\u001b[39m=\u001b[39;49m\u001b[39m3\u001b[39;49m)\n",
      "File \u001b[1;32mc:\\Users\\kranz-michael\\miniconda3_v2\\envs\\jdc-utils\\lib\\site-packages\\pandera\\schemas.py:924\u001b[0m, in \u001b[0;36mDataFrameSchema.example\u001b[1;34m(self, size, n_regex_columns)\u001b[0m\n\u001b[0;32m    917\u001b[0m \u001b[39mwith\u001b[39;00m warnings\u001b[39m.\u001b[39mcatch_warnings():\n\u001b[0;32m    918\u001b[0m     warnings\u001b[39m.\u001b[39msimplefilter(\n\u001b[0;32m    919\u001b[0m         \u001b[39m\"\u001b[39m\u001b[39mignore\u001b[39m\u001b[39m\"\u001b[39m,\n\u001b[0;32m    920\u001b[0m         category\u001b[39m=\u001b[39mhypothesis\u001b[39m.\u001b[39merrors\u001b[39m.\u001b[39mNonInteractiveExampleWarning,\n\u001b[0;32m    921\u001b[0m     )\n\u001b[0;32m    922\u001b[0m     \u001b[39mreturn\u001b[39;00m \u001b[39mself\u001b[39;49m\u001b[39m.\u001b[39;49mstrategy(\n\u001b[0;32m    923\u001b[0m         size\u001b[39m=\u001b[39;49msize, n_regex_columns\u001b[39m=\u001b[39;49mn_regex_columns\n\u001b[1;32m--> 924\u001b[0m     )\u001b[39m.\u001b[39;49mexample()\n",
      "File \u001b[1;32mc:\\Users\\kranz-michael\\miniconda3_v2\\envs\\jdc-utils\\lib\\site-packages\\hypothesis\\strategies\\_internal\\strategies.py:337\u001b[0m, in \u001b[0;36mSearchStrategy.example\u001b[1;34m(self)\u001b[0m\n\u001b[0;32m    325\u001b[0m \u001b[39m@given\u001b[39m(\u001b[39mself\u001b[39m)\n\u001b[0;32m    326\u001b[0m \u001b[39m@settings\u001b[39m(\n\u001b[0;32m    327\u001b[0m     database\u001b[39m=\u001b[39m\u001b[39mNone\u001b[39;00m,\n\u001b[1;32m   (...)\u001b[0m\n\u001b[0;32m    333\u001b[0m )\n\u001b[0;32m    334\u001b[0m \u001b[39mdef\u001b[39;00m \u001b[39mexample_generating_inner_function\u001b[39m(ex):\n\u001b[0;32m    335\u001b[0m     \u001b[39mself\u001b[39m\u001b[39m.\u001b[39m__examples\u001b[39m.\u001b[39mappend(ex)\n\u001b[1;32m--> 337\u001b[0m example_generating_inner_function()\n\u001b[0;32m    338\u001b[0m shuffle(\u001b[39mself\u001b[39m\u001b[39m.\u001b[39m__examples)\n\u001b[0;32m    339\u001b[0m \u001b[39mreturn\u001b[39;00m \u001b[39mself\u001b[39m\u001b[39m.\u001b[39m__examples\u001b[39m.\u001b[39mpop()\n",
      "File \u001b[1;32mc:\\Users\\kranz-michael\\miniconda3_v2\\envs\\jdc-utils\\lib\\site-packages\\hypothesis\\strategies\\_internal\\strategies.py:326\u001b[0m, in \u001b[0;36mSearchStrategy.example.<locals>.example_generating_inner_function\u001b[1;34m()\u001b[0m\n\u001b[0;32m    321\u001b[0m \u001b[39mfrom\u001b[39;00m \u001b[39mhypothesis\u001b[39;00m\u001b[39m.\u001b[39;00m\u001b[39mcore\u001b[39;00m \u001b[39mimport\u001b[39;00m given\n\u001b[0;32m    323\u001b[0m \u001b[39m# Note: this function has a weird name because it might appear in\u001b[39;00m\n\u001b[0;32m    324\u001b[0m \u001b[39m# tracebacks, and we want users to know that they can ignore it.\u001b[39;00m\n\u001b[0;32m    325\u001b[0m \u001b[39m@given\u001b[39m(\u001b[39mself\u001b[39m)\n\u001b[1;32m--> 326\u001b[0m \u001b[39m@settings\u001b[39m(\n\u001b[0;32m    327\u001b[0m     database\u001b[39m=\u001b[39m\u001b[39mNone\u001b[39;00m,\n\u001b[0;32m    328\u001b[0m     max_examples\u001b[39m=\u001b[39m\u001b[39m100\u001b[39m,\n\u001b[0;32m    329\u001b[0m     deadline\u001b[39m=\u001b[39m\u001b[39mNone\u001b[39;00m,\n\u001b[0;32m    330\u001b[0m     verbosity\u001b[39m=\u001b[39mVerbosity\u001b[39m.\u001b[39mquiet,\n\u001b[0;32m    331\u001b[0m     phases\u001b[39m=\u001b[39m(Phase\u001b[39m.\u001b[39mgenerate,),\n\u001b[0;32m    332\u001b[0m     suppress_health_check\u001b[39m=\u001b[39mHealthCheck\u001b[39m.\u001b[39mall(),\n\u001b[0;32m    333\u001b[0m )\n\u001b[0;32m    334\u001b[0m \u001b[39mdef\u001b[39;00m \u001b[39mexample_generating_inner_function\u001b[39m(ex):\n\u001b[0;32m    335\u001b[0m     \u001b[39mself\u001b[39m\u001b[39m.\u001b[39m__examples\u001b[39m.\u001b[39mappend(ex)\n\u001b[0;32m    337\u001b[0m example_generating_inner_function()\n",
      "    \u001b[1;31m[... skipping hidden 1 frame]\u001b[0m\n",
      "File \u001b[1;32mc:\\Users\\kranz-michael\\miniconda3_v2\\envs\\jdc-utils\\lib\\site-packages\\pandera\\strategies.py:1094\u001b[0m, in \u001b[0;36mdataframe_strategy.<locals>._dataframe_strategy\u001b[1;34m(draw)\u001b[0m\n\u001b[0;32m   1085\u001b[0m \u001b[39mif\u001b[39;00m row_strategy_checks:\n\u001b[0;32m   1086\u001b[0m     row_strategy \u001b[39m=\u001b[39m st\u001b[39m.\u001b[39mfixed_dictionaries(\n\u001b[0;32m   1087\u001b[0m         {\n\u001b[0;32m   1088\u001b[0m             col_name: make_row_strategy(col, row_strategy_checks)\n\u001b[0;32m   1089\u001b[0m             \u001b[39mfor\u001b[39;00m col_name, col \u001b[39min\u001b[39;00m expanded_columns\u001b[39m.\u001b[39mitems()\n\u001b[0;32m   1090\u001b[0m         }\n\u001b[0;32m   1091\u001b[0m     )\n\u001b[0;32m   1093\u001b[0m strategy \u001b[39m=\u001b[39m pdst\u001b[39m.\u001b[39mdata_frames(\n\u001b[1;32m-> 1094\u001b[0m     columns\u001b[39m=\u001b[39m[\n\u001b[0;32m   1095\u001b[0m         column\u001b[39m.\u001b[39mstrategy_component()\n\u001b[0;32m   1096\u001b[0m         \u001b[39mfor\u001b[39;00m column \u001b[39min\u001b[39;00m expanded_columns\u001b[39m.\u001b[39mvalues()\n\u001b[0;32m   1097\u001b[0m     ],\n\u001b[0;32m   1098\u001b[0m     rows\u001b[39m=\u001b[39mrow_strategy,\n\u001b[0;32m   1099\u001b[0m     index\u001b[39m=\u001b[39mpdst\u001b[39m.\u001b[39mrange_indexes(\n\u001b[0;32m   1100\u001b[0m         min_size\u001b[39m=\u001b[39m\u001b[39m0\u001b[39m \u001b[39mif\u001b[39;00m size \u001b[39mis\u001b[39;00m \u001b[39mNone\u001b[39;00m \u001b[39melse\u001b[39;00m size, max_size\u001b[39m=\u001b[39msize\n\u001b[0;32m   1101\u001b[0m     ),\n\u001b[0;32m   1102\u001b[0m )\n\u001b[0;32m   1104\u001b[0m \u001b[39m# this is a hack to convert np.str_ data values into native python str.\u001b[39;00m\n\u001b[0;32m   1105\u001b[0m \u001b[39mfor\u001b[39;00m col_name, col_dtype \u001b[39min\u001b[39;00m col_dtypes\u001b[39m.\u001b[39mitems():\n",
      "File \u001b[1;32mc:\\Users\\kranz-michael\\miniconda3_v2\\envs\\jdc-utils\\lib\\site-packages\\pandera\\strategies.py:1095\u001b[0m, in \u001b[0;36m<listcomp>\u001b[1;34m(.0)\u001b[0m\n\u001b[0;32m   1085\u001b[0m \u001b[39mif\u001b[39;00m row_strategy_checks:\n\u001b[0;32m   1086\u001b[0m     row_strategy \u001b[39m=\u001b[39m st\u001b[39m.\u001b[39mfixed_dictionaries(\n\u001b[0;32m   1087\u001b[0m         {\n\u001b[0;32m   1088\u001b[0m             col_name: make_row_strategy(col, row_strategy_checks)\n\u001b[0;32m   1089\u001b[0m             \u001b[39mfor\u001b[39;00m col_name, col \u001b[39min\u001b[39;00m expanded_columns\u001b[39m.\u001b[39mitems()\n\u001b[0;32m   1090\u001b[0m         }\n\u001b[0;32m   1091\u001b[0m     )\n\u001b[0;32m   1093\u001b[0m strategy \u001b[39m=\u001b[39m pdst\u001b[39m.\u001b[39mdata_frames(\n\u001b[0;32m   1094\u001b[0m     columns\u001b[39m=\u001b[39m[\n\u001b[1;32m-> 1095\u001b[0m         column\u001b[39m.\u001b[39;49mstrategy_component()\n\u001b[0;32m   1096\u001b[0m         \u001b[39mfor\u001b[39;00m column \u001b[39min\u001b[39;00m expanded_columns\u001b[39m.\u001b[39mvalues()\n\u001b[0;32m   1097\u001b[0m     ],\n\u001b[0;32m   1098\u001b[0m     rows\u001b[39m=\u001b[39mrow_strategy,\n\u001b[0;32m   1099\u001b[0m     index\u001b[39m=\u001b[39mpdst\u001b[39m.\u001b[39mrange_indexes(\n\u001b[0;32m   1100\u001b[0m         min_size\u001b[39m=\u001b[39m\u001b[39m0\u001b[39m \u001b[39mif\u001b[39;00m size \u001b[39mis\u001b[39;00m \u001b[39mNone\u001b[39;00m \u001b[39melse\u001b[39;00m size, max_size\u001b[39m=\u001b[39msize\n\u001b[0;32m   1101\u001b[0m     ),\n\u001b[0;32m   1102\u001b[0m )\n\u001b[0;32m   1104\u001b[0m \u001b[39m# this is a hack to convert np.str_ data values into native python str.\u001b[39;00m\n\u001b[0;32m   1105\u001b[0m \u001b[39mfor\u001b[39;00m col_name, col_dtype \u001b[39min\u001b[39;00m col_dtypes\u001b[39m.\u001b[39mitems():\n",
      "File \u001b[1;32mc:\\Users\\kranz-michael\\miniconda3_v2\\envs\\jdc-utils\\lib\\site-packages\\pandera\\strategies.py:173\u001b[0m, in \u001b[0;36mstrategy_import_error.<locals>._wrapper\u001b[1;34m(*args, **kwargs)\u001b[0m\n\u001b[0;32m    166\u001b[0m \u001b[39mif\u001b[39;00m \u001b[39mnot\u001b[39;00m HAS_HYPOTHESIS:  \u001b[39m# pragma: no cover\u001b[39;00m\n\u001b[0;32m    167\u001b[0m     \u001b[39mraise\u001b[39;00m \u001b[39mImportError\u001b[39;00m(\n\u001b[0;32m    168\u001b[0m         \u001b[39m'\u001b[39m\u001b[39mStrategies for generating data requires \u001b[39m\u001b[39m\"\u001b[39m\u001b[39mhypothesis\u001b[39m\u001b[39m\"\u001b[39m\u001b[39m to be \u001b[39m\u001b[39m\\n\u001b[39;00m\u001b[39m'\u001b[39m\n\u001b[0;32m    169\u001b[0m         \u001b[39m\"\u001b[39m\u001b[39minstalled. You can install pandera together with the IO \u001b[39m\u001b[39m\\n\u001b[39;00m\u001b[39m\"\u001b[39m\n\u001b[0;32m    170\u001b[0m         \u001b[39m\"\u001b[39m\u001b[39mdependencies with:\u001b[39m\u001b[39m\\n\u001b[39;00m\u001b[39m\"\u001b[39m\n\u001b[0;32m    171\u001b[0m         \u001b[39m\"\u001b[39m\u001b[39mpip install pandera[strategies]\u001b[39m\u001b[39m\"\u001b[39m\n\u001b[0;32m    172\u001b[0m     )\n\u001b[1;32m--> 173\u001b[0m \u001b[39mreturn\u001b[39;00m fn(\u001b[39m*\u001b[39margs, \u001b[39m*\u001b[39m\u001b[39m*\u001b[39mkwargs)\n",
      "File \u001b[1;32mc:\\Users\\kranz-michael\\miniconda3_v2\\envs\\jdc-utils\\lib\\site-packages\\pandera\\schema_components.py:279\u001b[0m, in \u001b[0;36mColumn.strategy_component\u001b[1;34m(self)\u001b[0m\n\u001b[0;32m    276\u001b[0m \u001b[39m@st\u001b[39m\u001b[39m.\u001b[39mstrategy_import_error\n\u001b[0;32m    277\u001b[0m \u001b[39mdef\u001b[39;00m \u001b[39mstrategy_component\u001b[39m(\u001b[39mself\u001b[39m):\n\u001b[0;32m    278\u001b[0m     \u001b[39m\"\"\"Generate column data object for use by DataFrame strategy.\"\"\"\u001b[39;00m\n\u001b[1;32m--> 279\u001b[0m     \u001b[39mreturn\u001b[39;00m st\u001b[39m.\u001b[39;49mcolumn_strategy(\n\u001b[0;32m    280\u001b[0m         \u001b[39mself\u001b[39;49m\u001b[39m.\u001b[39;49mdtype,\n\u001b[0;32m    281\u001b[0m         checks\u001b[39m=\u001b[39;49m\u001b[39mself\u001b[39;49m\u001b[39m.\u001b[39;49mchecks,\n\u001b[0;32m    282\u001b[0m         unique\u001b[39m=\u001b[39;49m\u001b[39mself\u001b[39;49m\u001b[39m.\u001b[39;49munique,\n\u001b[0;32m    283\u001b[0m         name\u001b[39m=\u001b[39;49m\u001b[39mself\u001b[39;49m\u001b[39m.\u001b[39;49mname,\n\u001b[0;32m    284\u001b[0m     )\n",
      "File \u001b[1;32mc:\\Users\\kranz-michael\\miniconda3_v2\\envs\\jdc-utils\\lib\\site-packages\\pandera\\strategies.py:876\u001b[0m, in \u001b[0;36mcolumn_strategy\u001b[1;34m(pandera_dtype, strategy, checks, unique, name)\u001b[0m\n\u001b[0;32m    864\u001b[0m \u001b[39m\"\"\"Create a data object describing a column in a DataFrame.\u001b[39;00m\n\u001b[0;32m    865\u001b[0m \n\u001b[0;32m    866\u001b[0m \u001b[39m:param pandera_dtype: :class:`pandera.dtypes.DataType` instance.\u001b[39;00m\n\u001b[1;32m   (...)\u001b[0m\n\u001b[0;32m    873\u001b[0m \u001b[39m:returns: a `column <https://hypothesis.readthedocs.io/en/latest/numpy.html#hypothesis.extra.pandas.column>`_ object.\u001b[39;00m\n\u001b[0;32m    874\u001b[0m \u001b[39m\"\"\"\u001b[39;00m\n\u001b[0;32m    875\u001b[0m verify_dtype(pandera_dtype, schema_type\u001b[39m=\u001b[39m\u001b[39m\"\u001b[39m\u001b[39mcolumn\u001b[39m\u001b[39m\"\u001b[39m, name\u001b[39m=\u001b[39mname)\n\u001b[1;32m--> 876\u001b[0m elements \u001b[39m=\u001b[39m field_element_strategy(pandera_dtype, strategy, checks\u001b[39m=\u001b[39;49mchecks)\n\u001b[0;32m    877\u001b[0m \u001b[39mreturn\u001b[39;00m pdst\u001b[39m.\u001b[39mcolumn(\n\u001b[0;32m    878\u001b[0m     name\u001b[39m=\u001b[39mname,\n\u001b[0;32m    879\u001b[0m     elements\u001b[39m=\u001b[39melements,\n\u001b[0;32m    880\u001b[0m     dtype\u001b[39m=\u001b[39mto_numpy_dtype(pandera_dtype),\n\u001b[0;32m    881\u001b[0m     unique\u001b[39m=\u001b[39munique,\n\u001b[0;32m    882\u001b[0m )\n",
      "File \u001b[1;32mc:\\Users\\kranz-michael\\miniconda3_v2\\envs\\jdc-utils\\lib\\site-packages\\pandera\\strategies.py:778\u001b[0m, in \u001b[0;36mfield_element_strategy\u001b[1;34m(pandera_dtype, strategy, checks)\u001b[0m\n\u001b[0;32m    776\u001b[0m \u001b[39mfor\u001b[39;00m check \u001b[39min\u001b[39;00m checks:\n\u001b[0;32m    777\u001b[0m     \u001b[39mif\u001b[39;00m \u001b[39mhasattr\u001b[39m(check, \u001b[39m\"\u001b[39m\u001b[39mstrategy\u001b[39m\u001b[39m\"\u001b[39m):\n\u001b[1;32m--> 778\u001b[0m         elements \u001b[39m=\u001b[39m check\u001b[39m.\u001b[39;49mstrategy(pandera_dtype, elements)\n\u001b[0;32m    779\u001b[0m     \u001b[39melif\u001b[39;00m check\u001b[39m.\u001b[39melement_wise:\n\u001b[0;32m    780\u001b[0m         elements \u001b[39m=\u001b[39m undefined_check_strategy(elements, check)\n",
      "File \u001b[1;32mc:\\Users\\kranz-michael\\miniconda3_v2\\envs\\jdc-utils\\lib\\site-packages\\pandera\\strategies.py:586\u001b[0m, in \u001b[0;36misin_strategy\u001b[1;34m(pandera_dtype, strategy, allowed_values)\u001b[0m\n\u001b[0;32m    577\u001b[0m \u001b[39m\"\"\"Strategy to generate values within a finite set.\u001b[39;00m\n\u001b[0;32m    578\u001b[0m \n\u001b[0;32m    579\u001b[0m \u001b[39m:param pandera_dtype: :class:`pandera.dtypes.DataType` instance.\u001b[39;00m\n\u001b[1;32m   (...)\u001b[0m\n\u001b[0;32m    583\u001b[0m \u001b[39m:returns: ``hypothesis`` strategy\u001b[39;00m\n\u001b[0;32m    584\u001b[0m \u001b[39m\"\"\"\u001b[39;00m\n\u001b[0;32m    585\u001b[0m \u001b[39mif\u001b[39;00m strategy \u001b[39mis\u001b[39;00m \u001b[39mNone\u001b[39;00m:\n\u001b[1;32m--> 586\u001b[0m     \u001b[39mreturn\u001b[39;00m pandas_dtype_strategy(\n\u001b[0;32m    587\u001b[0m         pandera_dtype, st\u001b[39m.\u001b[39;49msampled_from(allowed_values)\n\u001b[0;32m    588\u001b[0m     )\n\u001b[0;32m    589\u001b[0m \u001b[39mreturn\u001b[39;00m strategy\u001b[39m.\u001b[39mfilter(\u001b[39mlambda\u001b[39;00m x: x \u001b[39min\u001b[39;00m allowed_values)\n",
      "File \u001b[1;32mc:\\Users\\kranz-michael\\miniconda3_v2\\envs\\jdc-utils\\lib\\site-packages\\pandera\\strategies.py:373\u001b[0m, in \u001b[0;36mpandas_dtype_strategy\u001b[1;34m(pandera_dtype, strategy, **kwargs)\u001b[0m\n\u001b[0;32m    370\u001b[0m \u001b[39m# hypothesis doesn't support categoricals or objects, so we'll will need to\u001b[39;00m\n\u001b[0;32m    371\u001b[0m \u001b[39m# build a pandera-specific solution.\u001b[39;00m\n\u001b[0;32m    372\u001b[0m \u001b[39mif\u001b[39;00m is_category(pandera_dtype):\n\u001b[1;32m--> 373\u001b[0m     \u001b[39mraise\u001b[39;00m \u001b[39mTypeError\u001b[39;00m(\n\u001b[0;32m    374\u001b[0m         \u001b[39m\"\u001b[39m\u001b[39mdata generation for the Category dtype is currently \u001b[39m\u001b[39m\"\u001b[39m\n\u001b[0;32m    375\u001b[0m         \u001b[39m\"\u001b[39m\u001b[39munsupported. Consider using a string or int dtype and \u001b[39m\u001b[39m\"\u001b[39m\n\u001b[0;32m    376\u001b[0m         \u001b[39m\"\u001b[39m\u001b[39mCheck.isin(values) to ensure a finite set of values.\u001b[39m\u001b[39m\"\u001b[39m\n\u001b[0;32m    377\u001b[0m     )\n\u001b[0;32m    379\u001b[0m np_dtype \u001b[39m=\u001b[39m to_numpy_dtype(pandera_dtype)\n\u001b[0;32m    380\u001b[0m \u001b[39mif\u001b[39;00m strategy:\n",
      "\u001b[1;31mTypeError\u001b[0m: data generation for the Category dtype is currently unsupported. Consider using a string or int dtype and Check.isin(values) to ensure a finite set of values."
     ]
    }
   ],
   "source": [
    "baseline.schema.example(size=3)"
   ]
  },
  {
   "cell_type": "code",
   "execution_count": null,
   "metadata": {},
   "outputs": [],
   "source": []
  }
 ],
 "metadata": {
  "kernelspec": {
   "display_name": "jdc-utils",
   "language": "python",
   "name": "python3"
  },
  "language_info": {
   "codemirror_mode": {
    "name": "ipython",
    "version": 3
   },
   "file_extension": ".py",
   "mimetype": "text/x-python",
   "name": "python",
   "nbconvert_exporter": "python",
   "pygments_lexer": "ipython3",
   "version": "3.10.5 | packaged by conda-forge | (main, Jun 14 2022, 06:57:50) [MSC v.1929 64 bit (AMD64)]"
  },
  "orig_nbformat": 4,
  "vscode": {
   "interpreter": {
    "hash": "b8703766e0eea0266513ec6bdab0dac9f88eac8cefc00ed0b139b384718afabe"
   }
  }
 },
 "nbformat": 4,
 "nbformat_minor": 2
}

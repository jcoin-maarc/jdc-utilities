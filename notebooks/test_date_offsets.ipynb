{
 "cells": [
  {
   "attachments": {},
   "cell_type": "markdown",
   "metadata": {},
   "source": [
    "# Date offset"
   ]
  },
  {
   "cell_type": "code",
   "execution_count": 1,
   "metadata": {},
   "outputs": [],
   "source": [
    "# %%writefile ../tests/transforms/test_deidentify.py\n",
    "import shutil\n",
    "import pandas as pd\n",
    "from pathlib import Path\n",
    "import numpy as np\n",
    "from dataforge import tools\n",
    "from git import Repo\n",
    "import git"
   ]
  },
  {
   "cell_type": "code",
   "execution_count": 2,
   "metadata": {},
   "outputs": [],
   "source": [
    "# %%writefile -a ../tests/transforms/test_deidentify.py\n",
    "\n",
    "df = pd.DataFrame(\n",
    "    {\n",
    "    'record_id': {0: 1, 1: 1, 2: 2, 3: 2, 4: 3},\n",
    "    'test_var': {0: 'hello', 1: 'world', 2: 'this', 3: 'is', 4: 'roger'},\n",
    "    'date_var': {0: '1/1/2023',\n",
    "    1: '1/1/2023',\n",
    "    2: '1/1/2023',\n",
    "    3: '1/1/2023',\n",
    "    4: '1/1/2023'}\n",
    "  }\n",
    ")\n",
    "offset_file = \"offsets.csv\""
   ]
  },
  {
   "cell_type": "code",
   "execution_count": 4,
   "metadata": {},
   "outputs": [
    {
     "name": "stdout",
     "output_type": "stream",
     "text": [
      "WARNING: File offsets.csv not under version control\n"
     ]
    }
   ],
   "source": [
    "# %%writefile -a ../tests/transforms/test_deidentify.py\n",
    "\n",
    "def test_date_offset_no_version_cntrl():\n",
    "    \"\"\" test the dataforge tools.date_offset without version control \"\"\" \n",
    "\n",
    "    offsets = tools.date_offset(\n",
    "        key=df['record_id'],\n",
    "        offset_file=offset_file,\n",
    "        name='days_for_shift_date',\n",
    "        seed=[2])\n",
    "        \n",
    "    assert offsets.values.tolist()==[124, -87, -142]\n",
    "\n",
    "    os.remove(offset_file)"
   ]
  },
  {
   "cell_type": "code",
   "execution_count": 5,
   "metadata": {},
   "outputs": [],
   "source": [
    "# %%writefile -a ../tests/transforms/test_deidentify.py\n",
    "def test_date_offset_with_version_control():\n",
    "    \"\"\"test offsets with git bare repo (ie remote url)\"\"\"\n",
    "\n",
    "    # create a git bare repo\n",
    "    test_remote_url = Path(\"./offsets.git\").resolve().as_posix()\n",
    "    remoterepo = Repo.init(test_remote_url,bare=True)"
   ]
  },
  {
   "cell_type": "code",
   "execution_count": 6,
   "metadata": {},
   "outputs": [],
   "source": [
    "# %%writefile -a ../tests/transforms/test_deidentify.py\n",
    "\n",
    "ids = df['record_id'].iloc[:-2]\n",
    "offsets = tools.date_offset(\n",
    "    key=ids,\n",
    "    offset_file=offset_file,\n",
    "    offset_url=test_remote_url,\n",
    "    name='days_for_shift_date',\n",
    "    seed=[2])"
   ]
  },
  {
   "cell_type": "code",
   "execution_count": 7,
   "metadata": {},
   "outputs": [],
   "source": [
    "# %%writefile -a ../tests/transforms/test_deidentify.py\n",
    "\n",
    "localrepo = Repo(f\"tmp/git/{Path(offset_file).stem}\")\n",
    "assert len(list(localrepo.iter_commits()))==1\n",
    "assert len(list(remoterepo.iter_commits()))==1\n",
    "assert offsets.values.tolist()==[124,-87]"
   ]
  },
  {
   "cell_type": "code",
   "execution_count": 8,
   "metadata": {},
   "outputs": [],
   "source": [
    "# %%writefile -a ../tests/transforms/test_deidentify.py\n",
    "\n",
    "ids2 = df['record_id']\n",
    "offsets2 = tools.date_offset(\n",
    "    key=ids2,\n",
    "    offset_file=offset_file,\n",
    "    offset_url=test_remote_url,\n",
    "    name='days_for_shift_date',\n",
    "    seed=[2])\n",
    "\n",
    "assert offsets2.values.tolist()==[124,-87,-142]\n",
    "assert len(list(localrepo.iter_commits()))==2\n",
    "assert len(list(remoterepo.iter_commits()))==2"
   ]
  },
  {
   "cell_type": "code",
   "execution_count": 13,
   "metadata": {},
   "outputs": [],
   "source": [
    "# remove test repos\n",
    "localrepo.close()\n",
    "git.rmtree(\"tmp/git/offsets\")\n",
    "remoterepo.close()\n",
    "git.rmtree(\"offsets.git\")\n",
    "shutil.rmtree(\"tmp\")"
   ]
  },
  {
   "cell_type": "code",
   "execution_count": 14,
   "metadata": {},
   "outputs": [],
   "source": []
  },
  {
   "cell_type": "code",
   "execution_count": null,
   "metadata": {},
   "outputs": [],
   "source": []
  }
 ],
 "metadata": {
  "kernelspec": {
   "display_name": "jdc-utils",
   "language": "python",
   "name": "python3"
  },
  "language_info": {
   "codemirror_mode": {
    "name": "ipython",
    "version": 3
   },
   "file_extension": ".py",
   "mimetype": "text/x-python",
   "name": "python",
   "nbconvert_exporter": "python",
   "pygments_lexer": "ipython3",
   "version": "3.10.5"
  },
  "orig_nbformat": 4,
  "vscode": {
   "interpreter": {
    "hash": "b8703766e0eea0266513ec6bdab0dac9f88eac8cefc00ed0b139b384718afabe"
   }
  }
 },
 "nbformat": 4,
 "nbformat_minor": 2
}

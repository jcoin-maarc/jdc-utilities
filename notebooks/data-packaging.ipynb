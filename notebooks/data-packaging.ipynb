{
 "cells": [
  {
   "cell_type": "markdown",
   "metadata": {},
   "source": [
    "# Preparing for JDC uploads\n",
    "\n",
    "1. writing core measures to Stata and SPSS files\n",
    "2. compress\n",
    "3. map to sheepdog\n",
    "4. upload both sheepdog and core measure files"
   ]
  },
  {
   "cell_type": "code",
   "execution_count": 1,
   "metadata": {},
   "outputs": [],
   "source": [
    "import json\n",
    "from pathlib import Path\n",
    "from jdc_utils.utils import zip_package\n",
    "from jdc_utils.encoding import core_measures as encodings\n",
    "from dataforge.frictionless.categoricals import table_encode\n",
    "from frictionless import Package,transform"
   ]
  },
  {
   "cell_type": "code",
   "execution_count": 2,
   "metadata": {},
   "outputs": [],
   "source": [
    "jdc_utils_pwd = Path().resolve().parent"
   ]
  },
  {
   "cell_type": "markdown",
   "metadata": {},
   "source": [
    "## Write package"
   ]
  },
  {
   "cell_type": "markdown",
   "metadata": {},
   "source": [
    "## Write Stata and SPSS"
   ]
  },
  {
   "cell_type": "code",
   "execution_count": 3,
   "metadata": {},
   "outputs": [],
   "source": [
    "os.chdir(jdc_utils_pwd)\n",
    "datapackage_paths = [\n",
    "    path.resolve() \n",
    "    for path in Path().glob(\"../*/*/core-measures-*/\") \n",
    "    if path.is_dir()\n",
    "]"
   ]
  },
  {
   "cell_type": "code",
   "execution_count": 4,
   "metadata": {},
   "outputs": [
    {
     "data": {
      "text/plain": [
       "[WindowsPath('C:/Users/kranz-michael/projects/jcoin-chestnut/tmp/core-measures-chestnut'),\n",
       " WindowsPath('C:/Users/kranz-michael/projects/jcoin-nyu/tmp/core-measures-nyu'),\n",
       " WindowsPath('C:/Users/kranz-michael/projects/jcoin-uky/tmp/core-measures-uky'),\n",
       " WindowsPath('C:/Users/kranz-michael/projects/jcoin-yale-hiv/tmp/core-measures-yale_hiv')]"
      ]
     },
     "execution_count": 4,
     "metadata": {},
     "output_type": "execute_result"
    }
   ],
   "source": [
    "datapackage_paths"
   ]
  },
  {
   "cell_type": "code",
   "execution_count": 5,
   "metadata": {},
   "outputs": [
    {
     "name": "stdout",
     "output_type": "stream",
     "text": [
      "core-measures-chestnut\n",
      "-->baseline\n",
      "-->time-points\n",
      "core-measures-nyu\n",
      "-->baseline\n",
      "-->time-points\n",
      "core-measures-uky\n",
      "-->baseline\n",
      "-->time-points\n",
      "core-measures-yale_hiv\n",
      "-->baseline\n",
      "-->time-points\n"
     ]
    }
   ],
   "source": [
    "os.chdir(jdc_utils_pwd)\n",
    "\n",
    "for path in datapackage_paths:\n",
    "    os.chdir(path)\n",
    "    report_path = Path('report.json')\n",
    "    if report_path.exists():\n",
    "        report = json.loads(report_path.read_text()) #this is a cherry picked version just to indicate whether datapackage is valid\n",
    "        package = Package('data-package.json')\n",
    "    else:\n",
    "        report = {'valid':False}\n",
    "    if report['valid']:\n",
    "        print(package['name'])\n",
    "        #write stata and spss\n",
    "        for source in package['resources']:\n",
    "            print(f\"-->{source['name']}\")\n",
    "            source_path = Path(source['path'])\n",
    "            target_spss = transform(source,steps=[table_encode(encodings.fields,encodings.reserve['spss'])])\n",
    "            target_stata = transform(source,steps=[table_encode(encodings.fields,encodings.reserve['stata'])])\n",
    "            target_spss_params = target_spss.write(source_path.with_suffix(\".sav\"))\n",
    "            target_stata_params = target_stata.write(source_path.with_suffix(\".dta\"))\n",
    "    else:\n",
    "        print(f\"{path.stem} is not valid or report.json not generated so skipping stata/spss generation\")"
   ]
  },
  {
   "cell_type": "code",
   "execution_count": 9,
   "metadata": {},
   "outputs": [],
   "source": [
    "#compress to directory\n",
    "for path in datapackage_paths:\n",
    "    zip_path = jdc_utils_pwd/'tmp'\n",
    "    zip_path.mkdir(exist_ok=True)\n",
    "    zip_package(path,jdc_utils_pwd/'tmp')"
   ]
  }
 ],
 "metadata": {
  "kernelspec": {
   "display_name": "Python 3.10.2 ('venv': venv)",
   "language": "python",
   "name": "python3"
  },
  "language_info": {
   "codemirror_mode": {
    "name": "ipython",
    "version": 3
   },
   "file_extension": ".py",
   "mimetype": "text/x-python",
   "name": "python",
   "nbconvert_exporter": "python",
   "pygments_lexer": "ipython3",
   "version": "3.9.13"
  },
  "orig_nbformat": 4,
  "vscode": {
   "interpreter": {
    "hash": "dbd6b0b5c3fe628ca64fd1e9aef93b72528e1fff0f84c232313423b59d9c5570"
   }
  }
 },
 "nbformat": 4,
 "nbformat_minor": 2
}

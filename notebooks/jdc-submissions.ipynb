{
 "cells": [
  {
   "attachments": {},
   "cell_type": "markdown",
   "metadata": {},
   "source": [
    "> **UNDER CONSTRUCTION WITH NEW ORGANIZATION**"
   ]
  },
  {
   "attachments": {},
   "cell_type": "markdown",
   "metadata": {},
   "source": [
    "# Submitting (uploading) data to the JCOIN Data Commons"
   ]
  },
  {
   "attachments": {},
   "cell_type": "markdown",
   "metadata": {},
   "source": [
    "## Create a new file record (does have any old version- entirely new file)"
   ]
  },
  {
   "cell_type": "code",
   "execution_count": 1,
   "metadata": {},
   "outputs": [],
   "source": [
    "# from jdc_utils.submission import submit_package_to_jdc,map_core_measures_to_sheepdog\n",
    "# from frictionless import Package\n",
    "# import os"
   ]
  },
  {
   "cell_type": "code",
   "execution_count": 4,
   "metadata": {},
   "outputs": [],
   "source": [
    "# from gen3.auth import Gen3Auth\n",
    "# from gen3.submission import Gen3Submission\n",
    "# from gen3.index import Gen3Index\n",
    "# from gen3.file import Gen3File\n",
    "# index = Gen3Index(Gen3Auth(refresh_file=\"credentials.json\"))\n",
    "# sub = Gen3Submission(Gen3Auth(refresh_file=\"credentials.json\"))\n",
    "# files = Gen3File(Gen3Auth(refresh_file=\"credentials.json\"))\n",
    "# sheepdog_rec = sub.export_node(\"JCOIN\",\"TEST\",\"reference_file\",fileformat=\"json\")\n",
    "# index_rec = index.get_record(sheepdog_rec[\"data\"][-1][\"object_id\"])\n",
    "## files.delete_file_locations(index_rec[\"object_id\"])\n",
    "## sub.delete_record(\"JCOIN\",\"TEST\",sheepdog_rec[\"data\"][-1][\"id\"])"
   ]
  },
  {
   "cell_type": "code",
   "execution_count": null,
   "metadata": {},
   "outputs": [],
   "source": [
    "# # create new record - do this only one  time!\n",
    "# # NOTE: no file guid because the record has not been created yet\n",
    "# # NOTE: if want to test with new file records, delete the ones added by\n",
    "#  # uncommenting the deletion methods in above cell\n",
    "# gen3_file = submit_package_to_jdc(\n",
    "#     package_path=\"../data/core-measures-test.zip\",\n",
    "#     commons_project=commons_project,\n",
    "#     sheepdog_file_submitter_id='core-measures-TEST',\n",
    "#     sheepdog_data_type=\"Interview\",\n",
    "#     sheepdog_data_category=\"Core Measures\",\n",
    "#     sheepdog_data_format=\"ZIP\",\n",
    "#     submission_type=\"create\",\n",
    "# )"
   ]
  },
  {
   "attachments": {},
   "cell_type": "markdown",
   "metadata": {},
   "source": [
    "Save the metadata to a file for later reference when updating file"
   ]
  },
  {
   "attachments": {},
   "cell_type": "markdown",
   "metadata": {},
   "source": [
    "## Update file record\n",
    "\n",
    "To simulate an update: Change something in package, rezip, and run upload/sheepdog mapping"
   ]
  },
  {
   "cell_type": "code",
   "execution_count": 1,
   "metadata": {},
   "outputs": [],
   "source": [
    "from jdc_utils.submission import CoreMeasures\n",
    "\n",
    "commons_project = \"TEST\"\n",
    "file_guid = 'dg.6VTS/80b0372c-a90f-44f9-87a4-c699ed11d051'\n",
    "sheepdog_file_submitter_id = 'core-measures-test'\n",
    "credentials_path=\"credentials.json\""
   ]
  },
  {
   "cell_type": "code",
   "execution_count": null,
   "metadata": {},
   "outputs": [],
   "source": []
  }
 ],
 "metadata": {
  "kernelspec": {
   "display_name": "jdc-utils",
   "language": "python",
   "name": "python3"
  },
  "language_info": {
   "codemirror_mode": {
    "name": "ipython",
    "version": 3
   },
   "file_extension": ".py",
   "mimetype": "text/x-python",
   "name": "python",
   "nbconvert_exporter": "python",
   "pygments_lexer": "ipython3",
   "version": "3.10.5"
  },
  "orig_nbformat": 4
 },
 "nbformat": 4,
 "nbformat_minor": 2
}

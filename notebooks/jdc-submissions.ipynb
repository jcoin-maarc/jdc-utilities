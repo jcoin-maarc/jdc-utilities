{
 "cells": [
  {
   "attachments": {},
   "cell_type": "markdown",
   "metadata": {},
   "source": [
    "# Submitting (uploading) data to the JCOIN Data Commons"
   ]
  },
  {
   "attachments": {},
   "cell_type": "markdown",
   "metadata": {},
   "source": [
    "To upload (and update) a core measure (or other package or file for that matter) to the JDC, one can use the `submit_package_to_jdc` and `map_to_sheepdog` functions (in this case, we use `map_core_measures_to_sheepdog` which runs a set of transforms to go from a validated core measure data package to a sheepdog submission and then uses `map_to_sheepdog` in the `jdc_utils.utils.gen3` module). Sheepdog maps a subset of variables for quicker discovery on the JDC.\n"
   ]
  },
  {
   "attachments": {},
   "cell_type": "markdown",
   "metadata": {},
   "source": [
    "## Create a new file record (does have any old version- entirely new file)"
   ]
  },
  {
   "cell_type": "code",
   "execution_count": 1,
   "metadata": {},
   "outputs": [],
   "source": [
    "from jdc_utils.submission import submit_package_to_jdc,map_core_measures_to_sheepdog\n",
    "from frictionless import Package\n",
    "import os"
   ]
  },
  {
   "cell_type": "code",
   "execution_count": 4,
   "metadata": {},
   "outputs": [],
   "source": [
    "from gen3.auth import Gen3Auth\n",
    "from gen3.submission import Gen3Submission\n",
    "from gen3.index import Gen3Index\n",
    "from gen3.file import Gen3File\n",
    "index = Gen3Index(Gen3Auth(refresh_file=\"credentials.json\"))\n",
    "sub = Gen3Submission(Gen3Auth(refresh_file=\"credentials.json\"))\n",
    "files = Gen3File(Gen3Auth(refresh_file=\"credentials.json\"))\n",
    "sheepdog_rec = sub.export_node(\"JCOIN\",\"TEST\",\"reference_file\",fileformat=\"json\")\n",
    "index_rec = index.get_record(sheepdog_rec[\"data\"][-1][\"object_id\"])\n",
    "# files.delete_file_locations(index_rec[\"object_id\"])\n",
    "# sub.delete_record(\"JCOIN\",\"TEST\",sheepdog_rec[\"data\"][-1][\"id\"])"
   ]
  },
  {
   "cell_type": "code",
   "execution_count": null,
   "metadata": {},
   "outputs": [],
   "source": [
    "# create new record - do this only one  time!\n",
    "# NOTE: no file guid because the record has not been created yet\n",
    "# NOTE: if want to test with new file records, delete the ones added by\n",
    " # uncommenting the deletion methods in above cell\n",
    "gen3_file = submit_package_to_jdc(\n",
    "    package_path=\"../data/core-measures-test.zip\",\n",
    "    commons_project=commons_project,\n",
    "    sheepdog_file_submitter_id='core-measures-TEST',\n",
    "    sheepdog_data_type=\"Interview\",\n",
    "    sheepdog_data_category=\"Core Measures\",\n",
    "    sheepdog_data_format=\"ZIP\",\n",
    "    submission_type=\"create\",\n",
    ")"
   ]
  },
  {
   "attachments": {},
   "cell_type": "markdown",
   "metadata": {},
   "source": [
    "Save the metadata to a file for later reference when updating file"
   ]
  },
  {
   "cell_type": "code",
   "execution_count": 30,
   "metadata": {},
   "outputs": [],
   "source": [
    "#TODO"
   ]
  },
  {
   "attachments": {},
   "cell_type": "markdown",
   "metadata": {},
   "source": [
    "## Map variables to sheepdog \n",
    "This uses the specific `map_core_measures_to_sheepdog` which calls the \n",
    "more general `map_to_sheepdog` function"
   ]
  },
  {
   "cell_type": "code",
   "execution_count": 7,
   "metadata": {},
   "outputs": [
    {
     "name": "stdout",
     "output_type": "stream",
     "text": [
      "Validating records for participant\n",
      "Validating records for enrollment\n",
      "Validating records for demographic_baseline\n",
      "Validating records for time_point\n",
      "Deleting records for time_point\n",
      "\n",
      "Output written to file: tmp/sheepdog/time_point.json\n",
      "time_point.\n",
      "Deleting records for demographic_baseline\n",
      "\n",
      "Output written to file: tmp/sheepdog/demographic_baseline.json\n",
      "demographic_baseline.\n",
      "Deleting records for enrollment\n",
      "\n",
      "Output written to file: tmp/sheepdog/enrollment.json\n",
      "enrollment.\n",
      "Deleting records for participant\n",
      "\n",
      "Output written to file: tmp/sheepdog/participant.json\n",
      "participant.\n",
      "Submitting records for participant\n",
      "[2023-04-12 11:26:26,734][   INFO] \n",
      "Using the Sheepdog API URL https://jcoin.datacommons.io/api/v0/submission/JCOIN/TEST\n",
      "\n",
      "Submitting records for enrollment\n",
      "[2023-04-12 11:26:27,543][   INFO] \n",
      "Using the Sheepdog API URL https://jcoin.datacommons.io/api/v0/submission/JCOIN/TEST\n",
      "\n",
      "Submitting records for demographic_baseline\n",
      "[2023-04-12 11:26:28,325][   INFO] \n",
      "Using the Sheepdog API URL https://jcoin.datacommons.io/api/v0/submission/JCOIN/TEST\n",
      "\n",
      "Submitting records for time_point\n",
      "[2023-04-12 11:26:29,306][   INFO] \n",
      "Using the Sheepdog API URL https://jcoin.datacommons.io/api/v0/submission/JCOIN/TEST\n",
      "\n"
     ]
    }
   ],
   "source": [
    "package_path = \"../data/core-measures-test/data-package.json\"\n",
    "core_measures = Package(package_path)\n",
    "baseline_df = core_measures.get_resource(\"baseline\").to_pandas()\n",
    "baseline_df[\"role_in_project\"] = \"Client\"\n",
    "timepoints_df = core_measures.get_resource(\"timepoints\").to_pandas()\n",
    "last_node_output = map_core_measures_to_sheepdog(\n",
    "    baseline_df=baseline_df,\n",
    "    timepoints_df=timepoints_df,\n",
    "    program=\"JCOIN\",\n",
    "    project=\"TEST\",\n",
    "    credentials_path=\"credentials.json\"\n",
    ")"
   ]
  },
  {
   "attachments": {},
   "cell_type": "markdown",
   "metadata": {},
   "source": [
    "## Update file record\n",
    "\n",
    "To simulate an update: Change something in package, rezip, and run upload/sheepdog mapping"
   ]
  },
  {
   "cell_type": "code",
   "execution_count": 12,
   "metadata": {},
   "outputs": [],
   "source": [
    "from jdc_utils.submission import CoreMeasures,map_core_measures_to_sheepdog,submit_package_to_jdc\n",
    "from pathlib import Path\n",
    "import os\n",
    "from gen3.auth import Gen3Auth\n",
    "from gen3.submission import Gen3Submission"
   ]
  },
  {
   "cell_type": "code",
   "execution_count": 2,
   "metadata": {},
   "outputs": [
    {
     "name": "stdout",
     "output_type": "stream",
     "text": [
      "c:\\Users\\kranz-michael\\projects\\jdc-utilities\\notebooks\n",
      "C:\\Users\\kranz-michael\\projects\\jdc-utilities\\data\\external_workflow_slight_update\n"
     ]
    },
    {
     "data": {
      "text/plain": [
       "<jdc_utils.submission.core_measures.CoreMeasures at 0x28ce0e3a440>"
      ]
     },
     "execution_count": 2,
     "metadata": {},
     "output_type": "execute_result"
    }
   ],
   "source": [
    "# make slightly updated zipped file\n",
    "core_measures = CoreMeasures(\"../data/external_workflow_slight_update\",is_core_measures=True)\n",
    "core_measures.write(outdir=\"../data/core-measures-slight-update-test\")\n",
    "core_measures.zip()"
   ]
  },
  {
   "cell_type": "code",
   "execution_count": 3,
   "metadata": {},
   "outputs": [
    {
     "name": "stdout",
     "output_type": "stream",
     "text": [
      "[2023-04-07 11:48:12,785][WARNING] failed to write token cache file: C:\\Users\\kranz-michael/.cache/gen3/token_cache_243db9dca6c478c2a6ee5ce88b9e5916\n",
      "[2023-04-07 11:48:12,786][WARNING] [WinError 183] Cannot create a file when that file already exists: 'C:\\\\Users\\\\kranz-michael/.cache/gen3/token_cache_243db9dca6c478c2a6ee5ce88b9e5916.tmp_eraseme_92758_1680886092' -> 'C:\\\\Users\\\\kranz-michael/.cache/gen3/token_cache_243db9dca6c478c2a6ee5ce88b9e5916'\n",
      "[2023-04-07 11:48:12,790][WARNING] backoff: call gen3.auth._write_to_file(<gen3.auth.Gen3Auth object at 0x0000028CE13E7D90>, C:\\Users\\kranz-michael/.cache/gen3/token_cache_243db9dca6c478c2a6ee5ce88b9e5916, eyJ0eXAiOiJKV1QiLCJhbGciOiJSUzI1NiIsImtpZCI6ImZlbmNlX2tleV8yMDIwLTAxLTAyVDA2OjM1OjA4WiJ9.eyJwdXIiOiJhY2Nlc3MiLCJpc3MiOiJodHRwczovL2pjb2luLmRhdGFjb21tb25zLmlvL3VzZXIiLCJhdWQiOlsiaHR0cHM6Ly9qY29pbi5kYXRhY29tbW9ucy5pby91c2VyIiwiZ29vZ2xlX3NlcnZpY2VfYWNjb3VudCIsInVzZXIiLCJvcGVuaWQiLCJmZW5jZSIsImRhdGEiLCJnb29nbGVfY3JlZGVudGlhbHMiLCJhZG1pbiIsImdvb2dsZV9saW5rIl0sImlhdCI6MTY4MDg4NjA5MiwiZXhwIjoxNjgwODg5NjkyLCJqdGkiOiJmZTAxYjBkOS0zZjA2LTRjNjItYTY3Yy05MjhjN2QxMGI2ZjAiLCJzY29wZSI6WyJnb29nbGVfc2VydmljZV9hY2NvdW50IiwidXNlciIsIm9wZW5pZCIsImZlbmNlIiwiZGF0YSIsImdvb2dsZV9jcmVkZW50aWFscyIsImFkbWluIiwiZ29vZ2xlX2xpbmsiXSwiY29udGV4dCI6eyJ1c2VyIjp7Im5hbWUiOiJtYmtyYW56QGdtYWlsLmNvbSIsImlzX2FkbWluIjpmYWxzZSwiZ29vZ2xlIjp7InByb3h5X2dyb3VwIjpudWxsfX19LCJhenAiOiIiLCJzdWIiOiI3OSJ9.ctPwRRgzRSXkSvtYwEND5p4FFxtmhjK2Li3Vpt5CaFJdGhn9lc4EHnkfdE388MLVKk-Leua2ZEY5DOLVOctK_JA9jB6ve6ly1s5AC4k6R8YVFJmQmImPRnhbjm2Aw5kDxrAHTNchaqJwRmESCTLc5SmEMSO4E9ISO1Bw7_DbjUSvZLASG8CUJdxeZ9aZXoWDfRFtUR_at87jhCDSUQmUmpuIxYRNKriqf6HbAfYQCZ_fxW0M4sKXWFsr20yHUMxIQWyrQh0ofNYppCcqh2OBJri-j7g4CAuc8VGoLZaRx2NzpC6Q19uEOkxwPjjs8SzgBEB6Dy6k95HGaq4VfnHarg) delay 1.0 seconds after 1 tries\n",
      "[2023-04-07 11:48:13,792][WARNING] failed to write token cache file: C:\\Users\\kranz-michael/.cache/gen3/token_cache_243db9dca6c478c2a6ee5ce88b9e5916\n",
      "[2023-04-07 11:48:13,793][WARNING] [WinError 183] Cannot create a file when that file already exists: 'C:\\\\Users\\\\kranz-michael/.cache/gen3/token_cache_243db9dca6c478c2a6ee5ce88b9e5916.tmp_eraseme_5922_1680886093' -> 'C:\\\\Users\\\\kranz-michael/.cache/gen3/token_cache_243db9dca6c478c2a6ee5ce88b9e5916'\n",
      "[2023-04-07 11:48:13,795][WARNING] backoff: call gen3.auth._write_to_file(<gen3.auth.Gen3Auth object at 0x0000028CE13E7D90>, C:\\Users\\kranz-michael/.cache/gen3/token_cache_243db9dca6c478c2a6ee5ce88b9e5916, eyJ0eXAiOiJKV1QiLCJhbGciOiJSUzI1NiIsImtpZCI6ImZlbmNlX2tleV8yMDIwLTAxLTAyVDA2OjM1OjA4WiJ9.eyJwdXIiOiJhY2Nlc3MiLCJpc3MiOiJodHRwczovL2pjb2luLmRhdGFjb21tb25zLmlvL3VzZXIiLCJhdWQiOlsiaHR0cHM6Ly9qY29pbi5kYXRhY29tbW9ucy5pby91c2VyIiwiZ29vZ2xlX3NlcnZpY2VfYWNjb3VudCIsInVzZXIiLCJvcGVuaWQiLCJmZW5jZSIsImRhdGEiLCJnb29nbGVfY3JlZGVudGlhbHMiLCJhZG1pbiIsImdvb2dsZV9saW5rIl0sImlhdCI6MTY4MDg4NjA5MiwiZXhwIjoxNjgwODg5NjkyLCJqdGkiOiJmZTAxYjBkOS0zZjA2LTRjNjItYTY3Yy05MjhjN2QxMGI2ZjAiLCJzY29wZSI6WyJnb29nbGVfc2VydmljZV9hY2NvdW50IiwidXNlciIsIm9wZW5pZCIsImZlbmNlIiwiZGF0YSIsImdvb2dsZV9jcmVkZW50aWFscyIsImFkbWluIiwiZ29vZ2xlX2xpbmsiXSwiY29udGV4dCI6eyJ1c2VyIjp7Im5hbWUiOiJtYmtyYW56QGdtYWlsLmNvbSIsImlzX2FkbWluIjpmYWxzZSwiZ29vZ2xlIjp7InByb3h5X2dyb3VwIjpudWxsfX19LCJhenAiOiIiLCJzdWIiOiI3OSJ9.ctPwRRgzRSXkSvtYwEND5p4FFxtmhjK2Li3Vpt5CaFJdGhn9lc4EHnkfdE388MLVKk-Leua2ZEY5DOLVOctK_JA9jB6ve6ly1s5AC4k6R8YVFJmQmImPRnhbjm2Aw5kDxrAHTNchaqJwRmESCTLc5SmEMSO4E9ISO1Bw7_DbjUSvZLASG8CUJdxeZ9aZXoWDfRFtUR_at87jhCDSUQmUmpuIxYRNKriqf6HbAfYQCZ_fxW0M4sKXWFsr20yHUMxIQWyrQh0ofNYppCcqh2OBJri-j7g4CAuc8VGoLZaRx2NzpC6Q19uEOkxwPjjs8SzgBEB6Dy6k95HGaq4VfnHarg) delay 0.7 seconds after 2 tries\n",
      "[2023-04-07 11:48:14,529][WARNING] failed to write token cache file: C:\\Users\\kranz-michael/.cache/gen3/token_cache_243db9dca6c478c2a6ee5ce88b9e5916\n",
      "[2023-04-07 11:48:14,531][WARNING] [WinError 183] Cannot create a file when that file already exists: 'C:\\\\Users\\\\kranz-michael/.cache/gen3/token_cache_243db9dca6c478c2a6ee5ce88b9e5916.tmp_eraseme_93436_1680886094' -> 'C:\\\\Users\\\\kranz-michael/.cache/gen3/token_cache_243db9dca6c478c2a6ee5ce88b9e5916'\n",
      "[2023-04-07 11:48:14,532][  ERROR] backoff: gave up call gen3.auth._write_to_file(<gen3.auth.Gen3Auth object at 0x0000028CE13E7D90>, C:\\Users\\kranz-michael/.cache/gen3/token_cache_243db9dca6c478c2a6ee5ce88b9e5916, eyJ0eXAiOiJKV1QiLCJhbGciOiJSUzI1NiIsImtpZCI6ImZlbmNlX2tleV8yMDIwLTAxLTAyVDA2OjM1OjA4WiJ9.eyJwdXIiOiJhY2Nlc3MiLCJpc3MiOiJodHRwczovL2pjb2luLmRhdGFjb21tb25zLmlvL3VzZXIiLCJhdWQiOlsiaHR0cHM6Ly9qY29pbi5kYXRhY29tbW9ucy5pby91c2VyIiwiZ29vZ2xlX3NlcnZpY2VfYWNjb3VudCIsInVzZXIiLCJvcGVuaWQiLCJmZW5jZSIsImRhdGEiLCJnb29nbGVfY3JlZGVudGlhbHMiLCJhZG1pbiIsImdvb2dsZV9saW5rIl0sImlhdCI6MTY4MDg4NjA5MiwiZXhwIjoxNjgwODg5NjkyLCJqdGkiOiJmZTAxYjBkOS0zZjA2LTRjNjItYTY3Yy05MjhjN2QxMGI2ZjAiLCJzY29wZSI6WyJnb29nbGVfc2VydmljZV9hY2NvdW50IiwidXNlciIsIm9wZW5pZCIsImZlbmNlIiwiZGF0YSIsImdvb2dsZV9jcmVkZW50aWFscyIsImFkbWluIiwiZ29vZ2xlX2xpbmsiXSwiY29udGV4dCI6eyJ1c2VyIjp7Im5hbWUiOiJtYmtyYW56QGdtYWlsLmNvbSIsImlzX2FkbWluIjpmYWxzZSwiZ29vZ2xlIjp7InByb3h5X2dyb3VwIjpudWxsfX19LCJhenAiOiIiLCJzdWIiOiI3OSJ9.ctPwRRgzRSXkSvtYwEND5p4FFxtmhjK2Li3Vpt5CaFJdGhn9lc4EHnkfdE388MLVKk-Leua2ZEY5DOLVOctK_JA9jB6ve6ly1s5AC4k6R8YVFJmQmImPRnhbjm2Aw5kDxrAHTNchaqJwRmESCTLc5SmEMSO4E9ISO1Bw7_DbjUSvZLASG8CUJdxeZ9aZXoWDfRFtUR_at87jhCDSUQmUmpuIxYRNKriqf6HbAfYQCZ_fxW0M4sKXWFsr20yHUMxIQWyrQh0ofNYppCcqh2OBJri-j7g4CAuc8VGoLZaRx2NzpC6Q19uEOkxwPjjs8SzgBEB6Dy6k95HGaq4VfnHarg) after 3 tries; exception: (<class 'FileExistsError'>, FileExistsError(17, 'Cannot create a file when that file already exists'), <traceback object at 0x0000028CE17AC4C0>)\n",
      "[2023-04-07 11:48:14,534][WARNING] Unable to write access token to cache file. Exceeded number of retries.\n"
     ]
    }
   ],
   "source": [
    "commons_project = \"TEST\"\n",
    "sub = Gen3Submission(Gen3Auth(refresh_file=\"credentials.json\"))\n",
    "sheepdog_rec = sub.export_node(\"JCOIN\",\"TEST\",\"reference_file\",fileformat=\"json\")\n",
    "file_guid = sheepdog_rec[\"data\"][-1][\"object_id\"] # assumes you just ran the \"create\" section of notebook"
   ]
  },
  {
   "cell_type": "code",
   "execution_count": 4,
   "metadata": {},
   "outputs": [
    {
     "name": "stdout",
     "output_type": "stream",
     "text": [
      "dg.6VTS/ebb26cad-3acb-4969-8a4c-2869a2e6121f\n"
     ]
    }
   ],
   "source": [
    "print(file_guid)"
   ]
  },
  {
   "cell_type": "code",
   "execution_count": 6,
   "metadata": {},
   "outputs": [
    {
     "name": "stdout",
     "output_type": "stream",
     "text": [
      "[2023-04-07 12:22:22,146][WARNING] failed to write token cache file: C:\\Users\\kranz-michael/.cache/gen3/token_cache_243db9dca6c478c2a6ee5ce88b9e5916\n",
      "[2023-04-07 12:22:22,147][WARNING] [WinError 183] Cannot create a file when that file already exists: 'C:\\\\Users\\\\kranz-michael/.cache/gen3/token_cache_243db9dca6c478c2a6ee5ce88b9e5916.tmp_eraseme_97699_1680888142' -> 'C:\\\\Users\\\\kranz-michael/.cache/gen3/token_cache_243db9dca6c478c2a6ee5ce88b9e5916'\n",
      "[2023-04-07 12:22:22,148][WARNING] backoff: call gen3.auth._write_to_file(<gen3.auth.Gen3Auth object at 0x0000028CE1E3B4F0>, C:\\Users\\kranz-michael/.cache/gen3/token_cache_243db9dca6c478c2a6ee5ce88b9e5916, eyJ0eXAiOiJKV1QiLCJhbGciOiJSUzI1NiIsImtpZCI6ImZlbmNlX2tleV8yMDIwLTAxLTAyVDA2OjM1OjA4WiJ9.eyJwdXIiOiJhY2Nlc3MiLCJpc3MiOiJodHRwczovL2pjb2luLmRhdGFjb21tb25zLmlvL3VzZXIiLCJhdWQiOlsiaHR0cHM6Ly9qY29pbi5kYXRhY29tbW9ucy5pby91c2VyIiwiZ29vZ2xlX3NlcnZpY2VfYWNjb3VudCIsInVzZXIiLCJvcGVuaWQiLCJmZW5jZSIsImRhdGEiLCJnb29nbGVfY3JlZGVudGlhbHMiLCJhZG1pbiIsImdvb2dsZV9saW5rIl0sImlhdCI6MTY4MDg4ODE0MiwiZXhwIjoxNjgwODkxNzQyLCJqdGkiOiI4YThmNGViYi0xZWM4LTRkYTMtODk1Zi1jZTc1NjljMGM1NjgiLCJzY29wZSI6WyJnb29nbGVfc2VydmljZV9hY2NvdW50IiwidXNlciIsIm9wZW5pZCIsImZlbmNlIiwiZGF0YSIsImdvb2dsZV9jcmVkZW50aWFscyIsImFkbWluIiwiZ29vZ2xlX2xpbmsiXSwiY29udGV4dCI6eyJ1c2VyIjp7Im5hbWUiOiJtYmtyYW56QGdtYWlsLmNvbSIsImlzX2FkbWluIjpmYWxzZSwiZ29vZ2xlIjp7InByb3h5X2dyb3VwIjpudWxsfX19LCJhenAiOiIiLCJzdWIiOiI3OSJ9.bkq-7uFhtL-TUUQD-X_m-rPWe-32uRDEsSFVw9N7Y3IuQFfVxQqpcxi8srxAuR1u5HwTIvZgvUEh73mdXQfdGxnKupfdETLS2ePP0IvZ3qpF6fv_hd6OKQsNvuHyNftaBDe6PyF8wf4hPTomUO6h_h1dJP9IKMysPNDdXZp9q4KlYBvn0nKRvR-LbqRcfEG7K-Gt1MqKbetfO-W2Sw7Tnm3GZzcZUY0EaPGEUe1yLU8rArBblFAQ6KgRkOAwGt3TrbjmtyFkBYWdp7LUxESJnnnI37pMUeSeQ09Z-iRI9aAJpy9l_-sYeExkGsecdhFR_RFV5eI-vbxpF2trImKiog) delay 0.8 seconds after 1 tries\n",
      "[2023-04-07 12:22:23,015][WARNING] failed to write token cache file: C:\\Users\\kranz-michael/.cache/gen3/token_cache_243db9dca6c478c2a6ee5ce88b9e5916\n",
      "[2023-04-07 12:22:23,016][WARNING] [WinError 183] Cannot create a file when that file already exists: 'C:\\\\Users\\\\kranz-michael/.cache/gen3/token_cache_243db9dca6c478c2a6ee5ce88b9e5916.tmp_eraseme_94055_1680888142' -> 'C:\\\\Users\\\\kranz-michael/.cache/gen3/token_cache_243db9dca6c478c2a6ee5ce88b9e5916'\n",
      "[2023-04-07 12:22:23,017][WARNING] backoff: call gen3.auth._write_to_file(<gen3.auth.Gen3Auth object at 0x0000028CE1E3B4F0>, C:\\Users\\kranz-michael/.cache/gen3/token_cache_243db9dca6c478c2a6ee5ce88b9e5916, eyJ0eXAiOiJKV1QiLCJhbGciOiJSUzI1NiIsImtpZCI6ImZlbmNlX2tleV8yMDIwLTAxLTAyVDA2OjM1OjA4WiJ9.eyJwdXIiOiJhY2Nlc3MiLCJpc3MiOiJodHRwczovL2pjb2luLmRhdGFjb21tb25zLmlvL3VzZXIiLCJhdWQiOlsiaHR0cHM6Ly9qY29pbi5kYXRhY29tbW9ucy5pby91c2VyIiwiZ29vZ2xlX3NlcnZpY2VfYWNjb3VudCIsInVzZXIiLCJvcGVuaWQiLCJmZW5jZSIsImRhdGEiLCJnb29nbGVfY3JlZGVudGlhbHMiLCJhZG1pbiIsImdvb2dsZV9saW5rIl0sImlhdCI6MTY4MDg4ODE0MiwiZXhwIjoxNjgwODkxNzQyLCJqdGkiOiI4YThmNGViYi0xZWM4LTRkYTMtODk1Zi1jZTc1NjljMGM1NjgiLCJzY29wZSI6WyJnb29nbGVfc2VydmljZV9hY2NvdW50IiwidXNlciIsIm9wZW5pZCIsImZlbmNlIiwiZGF0YSIsImdvb2dsZV9jcmVkZW50aWFscyIsImFkbWluIiwiZ29vZ2xlX2xpbmsiXSwiY29udGV4dCI6eyJ1c2VyIjp7Im5hbWUiOiJtYmtyYW56QGdtYWlsLmNvbSIsImlzX2FkbWluIjpmYWxzZSwiZ29vZ2xlIjp7InByb3h5X2dyb3VwIjpudWxsfX19LCJhenAiOiIiLCJzdWIiOiI3OSJ9.bkq-7uFhtL-TUUQD-X_m-rPWe-32uRDEsSFVw9N7Y3IuQFfVxQqpcxi8srxAuR1u5HwTIvZgvUEh73mdXQfdGxnKupfdETLS2ePP0IvZ3qpF6fv_hd6OKQsNvuHyNftaBDe6PyF8wf4hPTomUO6h_h1dJP9IKMysPNDdXZp9q4KlYBvn0nKRvR-LbqRcfEG7K-Gt1MqKbetfO-W2Sw7Tnm3GZzcZUY0EaPGEUe1yLU8rArBblFAQ6KgRkOAwGt3TrbjmtyFkBYWdp7LUxESJnnnI37pMUeSeQ09Z-iRI9aAJpy9l_-sYeExkGsecdhFR_RFV5eI-vbxpF2trImKiog) delay 0.7 seconds after 2 tries\n",
      "[2023-04-07 12:22:23,732][WARNING] failed to write token cache file: C:\\Users\\kranz-michael/.cache/gen3/token_cache_243db9dca6c478c2a6ee5ce88b9e5916\n",
      "[2023-04-07 12:22:23,733][WARNING] [WinError 183] Cannot create a file when that file already exists: 'C:\\\\Users\\\\kranz-michael/.cache/gen3/token_cache_243db9dca6c478c2a6ee5ce88b9e5916.tmp_eraseme_54985_1680888143' -> 'C:\\\\Users\\\\kranz-michael/.cache/gen3/token_cache_243db9dca6c478c2a6ee5ce88b9e5916'\n",
      "[2023-04-07 12:22:23,734][  ERROR] backoff: gave up call gen3.auth._write_to_file(<gen3.auth.Gen3Auth object at 0x0000028CE1E3B4F0>, C:\\Users\\kranz-michael/.cache/gen3/token_cache_243db9dca6c478c2a6ee5ce88b9e5916, eyJ0eXAiOiJKV1QiLCJhbGciOiJSUzI1NiIsImtpZCI6ImZlbmNlX2tleV8yMDIwLTAxLTAyVDA2OjM1OjA4WiJ9.eyJwdXIiOiJhY2Nlc3MiLCJpc3MiOiJodHRwczovL2pjb2luLmRhdGFjb21tb25zLmlvL3VzZXIiLCJhdWQiOlsiaHR0cHM6Ly9qY29pbi5kYXRhY29tbW9ucy5pby91c2VyIiwiZ29vZ2xlX3NlcnZpY2VfYWNjb3VudCIsInVzZXIiLCJvcGVuaWQiLCJmZW5jZSIsImRhdGEiLCJnb29nbGVfY3JlZGVudGlhbHMiLCJhZG1pbiIsImdvb2dsZV9saW5rIl0sImlhdCI6MTY4MDg4ODE0MiwiZXhwIjoxNjgwODkxNzQyLCJqdGkiOiI4YThmNGViYi0xZWM4LTRkYTMtODk1Zi1jZTc1NjljMGM1NjgiLCJzY29wZSI6WyJnb29nbGVfc2VydmljZV9hY2NvdW50IiwidXNlciIsIm9wZW5pZCIsImZlbmNlIiwiZGF0YSIsImdvb2dsZV9jcmVkZW50aWFscyIsImFkbWluIiwiZ29vZ2xlX2xpbmsiXSwiY29udGV4dCI6eyJ1c2VyIjp7Im5hbWUiOiJtYmtyYW56QGdtYWlsLmNvbSIsImlzX2FkbWluIjpmYWxzZSwiZ29vZ2xlIjp7InByb3h5X2dyb3VwIjpudWxsfX19LCJhenAiOiIiLCJzdWIiOiI3OSJ9.bkq-7uFhtL-TUUQD-X_m-rPWe-32uRDEsSFVw9N7Y3IuQFfVxQqpcxi8srxAuR1u5HwTIvZgvUEh73mdXQfdGxnKupfdETLS2ePP0IvZ3qpF6fv_hd6OKQsNvuHyNftaBDe6PyF8wf4hPTomUO6h_h1dJP9IKMysPNDdXZp9q4KlYBvn0nKRvR-LbqRcfEG7K-Gt1MqKbetfO-W2Sw7Tnm3GZzcZUY0EaPGEUe1yLU8rArBblFAQ6KgRkOAwGt3TrbjmtyFkBYWdp7LUxESJnnnI37pMUeSeQ09Z-iRI9aAJpy9l_-sYeExkGsecdhFR_RFV5eI-vbxpF2trImKiog) after 3 tries; exception: (<class 'FileExistsError'>, FileExistsError(17, 'Cannot create a file when that file already exists'), <traceback object at 0x0000028CE1E44180>)\n",
      "[2023-04-07 12:22:23,735][WARNING] Unable to write access token to cache file. Exceeded number of retries.\n",
      "The latest sheepdog and indexd have same file:GOOD\n",
      "[2023-04-07 12:22:43,521][   INFO] \n",
      "Using the Sheepdog API URL https://jcoin.datacommons.io/api/v0/submission/JCOIN/TEST\n",
      "\n"
     ]
    }
   ],
   "source": [
    "gen3_file = submit_package_to_jdc(\n",
    "    package_path=\"../data/core-measures-slight-update-test.zip\",\n",
    "    commons_project=commons_project,\n",
    "    file_guid=file_guid,\n",
    "    submission_type=\"update\",\n",
    ")"
   ]
  },
  {
   "attachments": {},
   "cell_type": "markdown",
   "metadata": {},
   "source": [
    "After this step would then map to sheepdog"
   ]
  },
  {
   "cell_type": "code",
   "execution_count": 5,
   "metadata": {},
   "outputs": [
    {
     "ename": "NameError",
     "evalue": "name 'core_measures' is not defined",
     "output_type": "error",
     "traceback": [
      "\u001b[0;31m---------------------------------------------------------------------------\u001b[0m",
      "\u001b[0;31mNameError\u001b[0m                                 Traceback (most recent call last)",
      "Cell \u001b[0;32mIn[5], line 1\u001b[0m\n\u001b[0;32m----> 1\u001b[0m baseline_df \u001b[39m=\u001b[39m core_measures\u001b[39m.\u001b[39mpackage\u001b[39m.\u001b[39mget_resource(\u001b[39m\"\u001b[39m\u001b[39mbaseline\u001b[39m\u001b[39m\"\u001b[39m)\u001b[39m.\u001b[39mto_pandas()\n\u001b[1;32m      2\u001b[0m baseline_df[\u001b[39m\"\u001b[39m\u001b[39mrole_in_project\u001b[39m\u001b[39m\"\u001b[39m] \u001b[39m=\u001b[39m \u001b[39m\"\u001b[39m\u001b[39mClient\u001b[39m\u001b[39m\"\u001b[39m \u001b[39m# TODO: add staff\u001b[39;00m\n\u001b[1;32m      3\u001b[0m timepoints_df \u001b[39m=\u001b[39m core_measures\u001b[39m.\u001b[39mpackage\u001b[39m.\u001b[39mget_resource(\u001b[39m\"\u001b[39m\u001b[39mtimepoints\u001b[39m\u001b[39m\"\u001b[39m)\u001b[39m.\u001b[39mto_pandas()\n",
      "\u001b[0;31mNameError\u001b[0m: name 'core_measures' is not defined"
     ]
    }
   ],
   "source": [
    "baseline_df = core_measures.package.get_resource(\"baseline\").to_pandas()\n",
    "baseline_df[\"role_in_project\"] = \"Client\" # TODO: add staff\n",
    "timepoints_df = core_measures.package.get_resource(\"timepoints\").to_pandas()\n",
    "last_node_output = map_core_measures_to_sheepdog(\n",
    "    baseline_df=baseline_df,\n",
    "    timepoints_df=timepoints_df,\n",
    "    program=\"JCOIN\",\n",
    "    project=\"TEST\",\n",
    "    credentials_path=\"credentials.json\"\n",
    ")"
   ]
  }
 ],
 "metadata": {
  "kernelspec": {
   "display_name": "jdc-utils",
   "language": "python",
   "name": "python3"
  },
  "language_info": {
   "codemirror_mode": {
    "name": "ipython",
    "version": 3
   },
   "file_extension": ".py",
   "mimetype": "text/x-python",
   "name": "python",
   "nbconvert_exporter": "python",
   "pygments_lexer": "ipython3",
   "version": "3.10.10"
  },
  "orig_nbformat": 4
 },
 "nbformat": 4,
 "nbformat_minor": 2
}

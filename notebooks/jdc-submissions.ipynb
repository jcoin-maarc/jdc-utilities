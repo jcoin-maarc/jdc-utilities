{
 "cells": [
  {
   "attachments": {},
   "cell_type": "markdown",
   "metadata": {},
   "source": [
    "# Submitting (uploading) data to the JCOIN Data Commons"
   ]
  },
  {
   "attachments": {},
   "cell_type": "markdown",
   "metadata": {},
   "source": [
    "To upload (and update) a core measure (or other package or file for that matter) to the JDC, one can use the `submit_package_to_jdc` and `map_to_sheepdog` functions (in this case, we use `map_core_measures_to_sheepdog` which runs a set of transforms to go from a validated core measure data package to a sheepdog submission and then uses `map_to_sheepdog` in the `jdc_utils.utils.gen3` module). Sheepdog maps a subset of variables for quicker discovery on the JDC.\n"
   ]
  },
  {
   "attachments": {},
   "cell_type": "markdown",
   "metadata": {},
   "source": [
    "## Create a new file record (does have any old version- entirely new file)"
   ]
  },
  {
   "cell_type": "code",
   "execution_count": 1,
   "metadata": {},
   "outputs": [],
   "source": [
    "from jdc_utils.submission import submit_package_to_jdc,map_core_measures_to_sheepdog\n",
    "from frictionless import Package\n",
    "import os"
   ]
  },
  {
   "cell_type": "code",
   "execution_count": 7,
   "metadata": {},
   "outputs": [
    {
     "name": "stdout",
     "output_type": "stream",
     "text": [
      "[2023-04-07 11:27:48,314][WARNING] failed to write token cache file: C:\\Users\\kranz-michael/.cache/gen3/token_cache_243db9dca6c478c2a6ee5ce88b9e5916\n",
      "[2023-04-07 11:27:48,315][WARNING] [WinError 183] Cannot create a file when that file already exists: 'C:\\\\Users\\\\kranz-michael/.cache/gen3/token_cache_243db9dca6c478c2a6ee5ce88b9e5916.tmp_eraseme_3647_1680884868' -> 'C:\\\\Users\\\\kranz-michael/.cache/gen3/token_cache_243db9dca6c478c2a6ee5ce88b9e5916'\n",
      "[2023-04-07 11:27:48,316][WARNING] backoff: call gen3.auth._write_to_file(<gen3.auth.Gen3Auth object at 0x0000020467BE2B30>, C:\\Users\\kranz-michael/.cache/gen3/token_cache_243db9dca6c478c2a6ee5ce88b9e5916, eyJ0eXAiOiJKV1QiLCJhbGciOiJSUzI1NiIsImtpZCI6ImZlbmNlX2tleV8yMDIwLTAxLTAyVDA2OjM1OjA4WiJ9.eyJwdXIiOiJhY2Nlc3MiLCJpc3MiOiJodHRwczovL2pjb2luLmRhdGFjb21tb25zLmlvL3VzZXIiLCJhdWQiOlsiaHR0cHM6Ly9qY29pbi5kYXRhY29tbW9ucy5pby91c2VyIiwiZ29vZ2xlX3NlcnZpY2VfYWNjb3VudCIsInVzZXIiLCJvcGVuaWQiLCJmZW5jZSIsImRhdGEiLCJnb29nbGVfY3JlZGVudGlhbHMiLCJhZG1pbiIsImdvb2dsZV9saW5rIl0sImlhdCI6MTY4MDg4NDg2OCwiZXhwIjoxNjgwODg4NDY4LCJqdGkiOiI1MjBiZWIzZS0wNTlhLTQ2ZjAtYmYxNS05OTcwMzA1ZTQ0OWYiLCJzY29wZSI6WyJnb29nbGVfc2VydmljZV9hY2NvdW50IiwidXNlciIsIm9wZW5pZCIsImZlbmNlIiwiZGF0YSIsImdvb2dsZV9jcmVkZW50aWFscyIsImFkbWluIiwiZ29vZ2xlX2xpbmsiXSwiY29udGV4dCI6eyJ1c2VyIjp7Im5hbWUiOiJtYmtyYW56QGdtYWlsLmNvbSIsImlzX2FkbWluIjpmYWxzZSwiZ29vZ2xlIjp7InByb3h5X2dyb3VwIjpudWxsfX19LCJhenAiOiIiLCJzdWIiOiI3OSJ9.c2ehEEeYQFwdDNEBQgqBlcgVBQHNwDZYbUhTqINGyGS8lVJymp1Z3wVmAmd3thK1YaWDpjC2W5EUD0cD_jntRjr_KAVbN7DBiWx7MGJku1UKrFSwOJGHSx_KDBW7ysADcfr9uR4_GLP2H6rhkkWzX69mgyISIIJTkLivceyuSsHpoI9uO1AHMy8AdFZAefFXXB2gqDWL0VHYxRMyPvlbHrmzJEfXOGkJzah20pivKCdMUywyFoIrT8h2hf-kt8GIG0xS0_ZjH2RURnD8FjGv0OzPl8-Hde3mG0Aj_IybcK9t-b3_mcNwki_ZXJi6fhska0_t__dhpFpQv3NULptXwA) delay 0.0 seconds after 1 tries\n",
      "[2023-04-07 11:27:48,336][WARNING] failed to write token cache file: C:\\Users\\kranz-michael/.cache/gen3/token_cache_243db9dca6c478c2a6ee5ce88b9e5916\n",
      "[2023-04-07 11:27:48,336][WARNING] [WinError 183] Cannot create a file when that file already exists: 'C:\\\\Users\\\\kranz-michael/.cache/gen3/token_cache_243db9dca6c478c2a6ee5ce88b9e5916.tmp_eraseme_52968_1680884868' -> 'C:\\\\Users\\\\kranz-michael/.cache/gen3/token_cache_243db9dca6c478c2a6ee5ce88b9e5916'\n",
      "[2023-04-07 11:27:48,337][WARNING] backoff: call gen3.auth._write_to_file(<gen3.auth.Gen3Auth object at 0x0000020467BE2B30>, C:\\Users\\kranz-michael/.cache/gen3/token_cache_243db9dca6c478c2a6ee5ce88b9e5916, eyJ0eXAiOiJKV1QiLCJhbGciOiJSUzI1NiIsImtpZCI6ImZlbmNlX2tleV8yMDIwLTAxLTAyVDA2OjM1OjA4WiJ9.eyJwdXIiOiJhY2Nlc3MiLCJpc3MiOiJodHRwczovL2pjb2luLmRhdGFjb21tb25zLmlvL3VzZXIiLCJhdWQiOlsiaHR0cHM6Ly9qY29pbi5kYXRhY29tbW9ucy5pby91c2VyIiwiZ29vZ2xlX3NlcnZpY2VfYWNjb3VudCIsInVzZXIiLCJvcGVuaWQiLCJmZW5jZSIsImRhdGEiLCJnb29nbGVfY3JlZGVudGlhbHMiLCJhZG1pbiIsImdvb2dsZV9saW5rIl0sImlhdCI6MTY4MDg4NDg2OCwiZXhwIjoxNjgwODg4NDY4LCJqdGkiOiI1MjBiZWIzZS0wNTlhLTQ2ZjAtYmYxNS05OTcwMzA1ZTQ0OWYiLCJzY29wZSI6WyJnb29nbGVfc2VydmljZV9hY2NvdW50IiwidXNlciIsIm9wZW5pZCIsImZlbmNlIiwiZGF0YSIsImdvb2dsZV9jcmVkZW50aWFscyIsImFkbWluIiwiZ29vZ2xlX2xpbmsiXSwiY29udGV4dCI6eyJ1c2VyIjp7Im5hbWUiOiJtYmtyYW56QGdtYWlsLmNvbSIsImlzX2FkbWluIjpmYWxzZSwiZ29vZ2xlIjp7InByb3h5X2dyb3VwIjpudWxsfX19LCJhenAiOiIiLCJzdWIiOiI3OSJ9.c2ehEEeYQFwdDNEBQgqBlcgVBQHNwDZYbUhTqINGyGS8lVJymp1Z3wVmAmd3thK1YaWDpjC2W5EUD0cD_jntRjr_KAVbN7DBiWx7MGJku1UKrFSwOJGHSx_KDBW7ysADcfr9uR4_GLP2H6rhkkWzX69mgyISIIJTkLivceyuSsHpoI9uO1AHMy8AdFZAefFXXB2gqDWL0VHYxRMyPvlbHrmzJEfXOGkJzah20pivKCdMUywyFoIrT8h2hf-kt8GIG0xS0_ZjH2RURnD8FjGv0OzPl8-Hde3mG0Aj_IybcK9t-b3_mcNwki_ZXJi6fhska0_t__dhpFpQv3NULptXwA) delay 1.5 seconds after 2 tries\n",
      "[2023-04-07 11:27:49,882][WARNING] failed to write token cache file: C:\\Users\\kranz-michael/.cache/gen3/token_cache_243db9dca6c478c2a6ee5ce88b9e5916\n",
      "[2023-04-07 11:27:49,882][WARNING] [WinError 183] Cannot create a file when that file already exists: 'C:\\\\Users\\\\kranz-michael/.cache/gen3/token_cache_243db9dca6c478c2a6ee5ce88b9e5916.tmp_eraseme_69847_1680884869' -> 'C:\\\\Users\\\\kranz-michael/.cache/gen3/token_cache_243db9dca6c478c2a6ee5ce88b9e5916'\n",
      "[2023-04-07 11:27:49,883][  ERROR] backoff: gave up call gen3.auth._write_to_file(<gen3.auth.Gen3Auth object at 0x0000020467BE2B30>, C:\\Users\\kranz-michael/.cache/gen3/token_cache_243db9dca6c478c2a6ee5ce88b9e5916, eyJ0eXAiOiJKV1QiLCJhbGciOiJSUzI1NiIsImtpZCI6ImZlbmNlX2tleV8yMDIwLTAxLTAyVDA2OjM1OjA4WiJ9.eyJwdXIiOiJhY2Nlc3MiLCJpc3MiOiJodHRwczovL2pjb2luLmRhdGFjb21tb25zLmlvL3VzZXIiLCJhdWQiOlsiaHR0cHM6Ly9qY29pbi5kYXRhY29tbW9ucy5pby91c2VyIiwiZ29vZ2xlX3NlcnZpY2VfYWNjb3VudCIsInVzZXIiLCJvcGVuaWQiLCJmZW5jZSIsImRhdGEiLCJnb29nbGVfY3JlZGVudGlhbHMiLCJhZG1pbiIsImdvb2dsZV9saW5rIl0sImlhdCI6MTY4MDg4NDg2OCwiZXhwIjoxNjgwODg4NDY4LCJqdGkiOiI1MjBiZWIzZS0wNTlhLTQ2ZjAtYmYxNS05OTcwMzA1ZTQ0OWYiLCJzY29wZSI6WyJnb29nbGVfc2VydmljZV9hY2NvdW50IiwidXNlciIsIm9wZW5pZCIsImZlbmNlIiwiZGF0YSIsImdvb2dsZV9jcmVkZW50aWFscyIsImFkbWluIiwiZ29vZ2xlX2xpbmsiXSwiY29udGV4dCI6eyJ1c2VyIjp7Im5hbWUiOiJtYmtyYW56QGdtYWlsLmNvbSIsImlzX2FkbWluIjpmYWxzZSwiZ29vZ2xlIjp7InByb3h5X2dyb3VwIjpudWxsfX19LCJhenAiOiIiLCJzdWIiOiI3OSJ9.c2ehEEeYQFwdDNEBQgqBlcgVBQHNwDZYbUhTqINGyGS8lVJymp1Z3wVmAmd3thK1YaWDpjC2W5EUD0cD_jntRjr_KAVbN7DBiWx7MGJku1UKrFSwOJGHSx_KDBW7ysADcfr9uR4_GLP2H6rhkkWzX69mgyISIIJTkLivceyuSsHpoI9uO1AHMy8AdFZAefFXXB2gqDWL0VHYxRMyPvlbHrmzJEfXOGkJzah20pivKCdMUywyFoIrT8h2hf-kt8GIG0xS0_ZjH2RURnD8FjGv0OzPl8-Hde3mG0Aj_IybcK9t-b3_mcNwki_ZXJi6fhska0_t__dhpFpQv3NULptXwA) after 3 tries; exception: (<class 'FileExistsError'>, FileExistsError(17, 'Cannot create a file when that file already exists'), <traceback object at 0x000002046749AA80>)\n",
      "[2023-04-07 11:27:49,883][WARNING] Unable to write access token to cache file. Exceeded number of retries.\n"
     ]
    }
   ],
   "source": [
    "from gen3.auth import Gen3Auth\n",
    "from gen3.submission import Gen3Submission\n",
    "from gen3.index import Gen3Index\n",
    "from gen3.file import Gen3File\n",
    "index = Gen3Index(Gen3Auth(refresh_file=\"credentials.json\"))\n",
    "sub = Gen3Submission(Gen3Auth(refresh_file=\"credentials.json\"))\n",
    "files = Gen3File(Gen3Auth(refresh_file=\"credentials.json\"))\n",
    "sheepdog_rec = sub.export_node(\"JCOIN\",\"TEST\",\"reference_file\",fileformat=\"json\")\n",
    "index_rec = index.get_record(sheepdog_rec[\"data\"][-1][\"object_id\"])\n",
    "# files.delete_file_locations(index_rec[\"object_id\"])\n",
    "# sub.delete_record(\"JCOIN\",\"TEST\",sheepdog_rec[\"data\"][-1][\"id\"])"
   ]
  },
  {
   "cell_type": "code",
   "execution_count": null,
   "metadata": {},
   "outputs": [],
   "source": [
    "# create new record - do this only one  time!\n",
    "# NOTE: no file guid because the record has not been created yet\n",
    "# NOTE: if want to test with new file records, delete the ones added by\n",
    " # uncommenting the deletion methods in above cell\n",
    "gen3_file = submit_package_to_jdc(\n",
    "    package_path=zipped_package_path,\n",
    "    commons_project=commons_project,\n",
    "    sheepdog_file_submitter_id='core-measures-TEST',\n",
    "    sheepdog_data_type=\"Interview\",\n",
    "    sheepdog_data_category=\"Core Measures\",\n",
    "    sheepdog_data_format=\"ZIP\",\n",
    "    submission_type=\"create\",\n",
    ")"
   ]
  },
  {
   "attachments": {},
   "cell_type": "markdown",
   "metadata": {},
   "source": [
    "Save the metadata to a file for later reference when updating file"
   ]
  },
  {
   "cell_type": "code",
   "execution_count": 30,
   "metadata": {},
   "outputs": [],
   "source": [
    "#TODO"
   ]
  },
  {
   "attachments": {},
   "cell_type": "markdown",
   "metadata": {},
   "source": [
    "## Map variables to sheepdog \n",
    "This uses the specific `map_core_measures_to_sheepdog` which calls the \n",
    "more general `map_to_sheepdog` function"
   ]
  },
  {
   "cell_type": "code",
   "execution_count": null,
   "metadata": {},
   "outputs": [],
   "source": [
    "package_path = zipped_package_path.replace(\".zip\",\"\")+\"/data-package.json\"\n",
    "core_measures = Package(package_path)\n",
    "baseline_df = core_measures.get_resource(\"baseline\").to_pandas()\n",
    "baseline_df[\"role_in_project\"] = \"Client\"\n",
    "timepoints_df = core_measures.get_resource(\"timepoints\").to_pandas()\n",
    "last_node_output = map_core_measures_to_sheepdog(\n",
    "    baseline_df=baseline_df,\n",
    "    timepoints_df=timepoints_df,\n",
    "    program=\"JCOIN\",\n",
    "    project=\"TEST\",\n",
    "    credentials_path=\"credentials.json\"\n",
    ")"
   ]
  },
  {
   "attachments": {},
   "cell_type": "markdown",
   "metadata": {},
   "source": [
    "## Update file record\n",
    "\n",
    "To simulate an update: Change something in package, rezip, and run upload/sheepdog mapping"
   ]
  },
  {
   "cell_type": "code",
   "execution_count": 12,
   "metadata": {},
   "outputs": [],
   "source": [
    "from jdc_utils.submission import CoreMeasures,map_core_measures_to_sheepdog,submit_package_to_jdc\n",
    "from pathlib import Path\n",
    "import os\n",
    "from gen3.auth import Gen3Auth\n",
    "from gen3.submission import Gen3Submission"
   ]
  },
  {
   "cell_type": "code",
   "execution_count": 2,
   "metadata": {},
   "outputs": [
    {
     "name": "stdout",
     "output_type": "stream",
     "text": [
      "c:\\Users\\kranz-michael\\projects\\jdc-utilities\\notebooks\n",
      "C:\\Users\\kranz-michael\\projects\\jdc-utilities\\data\\external_workflow_slight_update\n"
     ]
    },
    {
     "data": {
      "text/plain": [
       "<jdc_utils.submission.core_measures.CoreMeasures at 0x28ce0e3a440>"
      ]
     },
     "execution_count": 2,
     "metadata": {},
     "output_type": "execute_result"
    }
   ],
   "source": [
    "# make slightly updated zipped file\n",
    "core_measures = CoreMeasures(\"../data/external_workflow_slight_update\",is_core_measures=True)\n",
    "core_measures.write(outdir=\"../data/core-measures-slight-update-test\")\n",
    "core_measures.zip()"
   ]
  },
  {
   "cell_type": "code",
   "execution_count": 3,
   "metadata": {},
   "outputs": [
    {
     "name": "stdout",
     "output_type": "stream",
     "text": [
      "[2023-04-07 11:48:12,785][WARNING] failed to write token cache file: C:\\Users\\kranz-michael/.cache/gen3/token_cache_243db9dca6c478c2a6ee5ce88b9e5916\n",
      "[2023-04-07 11:48:12,786][WARNING] [WinError 183] Cannot create a file when that file already exists: 'C:\\\\Users\\\\kranz-michael/.cache/gen3/token_cache_243db9dca6c478c2a6ee5ce88b9e5916.tmp_eraseme_92758_1680886092' -> 'C:\\\\Users\\\\kranz-michael/.cache/gen3/token_cache_243db9dca6c478c2a6ee5ce88b9e5916'\n",
      "[2023-04-07 11:48:12,790][WARNING] backoff: call gen3.auth._write_to_file(<gen3.auth.Gen3Auth object at 0x0000028CE13E7D90>, C:\\Users\\kranz-michael/.cache/gen3/token_cache_243db9dca6c478c2a6ee5ce88b9e5916, eyJ0eXAiOiJKV1QiLCJhbGciOiJSUzI1NiIsImtpZCI6ImZlbmNlX2tleV8yMDIwLTAxLTAyVDA2OjM1OjA4WiJ9.eyJwdXIiOiJhY2Nlc3MiLCJpc3MiOiJodHRwczovL2pjb2luLmRhdGFjb21tb25zLmlvL3VzZXIiLCJhdWQiOlsiaHR0cHM6Ly9qY29pbi5kYXRhY29tbW9ucy5pby91c2VyIiwiZ29vZ2xlX3NlcnZpY2VfYWNjb3VudCIsInVzZXIiLCJvcGVuaWQiLCJmZW5jZSIsImRhdGEiLCJnb29nbGVfY3JlZGVudGlhbHMiLCJhZG1pbiIsImdvb2dsZV9saW5rIl0sImlhdCI6MTY4MDg4NjA5MiwiZXhwIjoxNjgwODg5NjkyLCJqdGkiOiJmZTAxYjBkOS0zZjA2LTRjNjItYTY3Yy05MjhjN2QxMGI2ZjAiLCJzY29wZSI6WyJnb29nbGVfc2VydmljZV9hY2NvdW50IiwidXNlciIsIm9wZW5pZCIsImZlbmNlIiwiZGF0YSIsImdvb2dsZV9jcmVkZW50aWFscyIsImFkbWluIiwiZ29vZ2xlX2xpbmsiXSwiY29udGV4dCI6eyJ1c2VyIjp7Im5hbWUiOiJtYmtyYW56QGdtYWlsLmNvbSIsImlzX2FkbWluIjpmYWxzZSwiZ29vZ2xlIjp7InByb3h5X2dyb3VwIjpudWxsfX19LCJhenAiOiIiLCJzdWIiOiI3OSJ9.ctPwRRgzRSXkSvtYwEND5p4FFxtmhjK2Li3Vpt5CaFJdGhn9lc4EHnkfdE388MLVKk-Leua2ZEY5DOLVOctK_JA9jB6ve6ly1s5AC4k6R8YVFJmQmImPRnhbjm2Aw5kDxrAHTNchaqJwRmESCTLc5SmEMSO4E9ISO1Bw7_DbjUSvZLASG8CUJdxeZ9aZXoWDfRFtUR_at87jhCDSUQmUmpuIxYRNKriqf6HbAfYQCZ_fxW0M4sKXWFsr20yHUMxIQWyrQh0ofNYppCcqh2OBJri-j7g4CAuc8VGoLZaRx2NzpC6Q19uEOkxwPjjs8SzgBEB6Dy6k95HGaq4VfnHarg) delay 1.0 seconds after 1 tries\n",
      "[2023-04-07 11:48:13,792][WARNING] failed to write token cache file: C:\\Users\\kranz-michael/.cache/gen3/token_cache_243db9dca6c478c2a6ee5ce88b9e5916\n",
      "[2023-04-07 11:48:13,793][WARNING] [WinError 183] Cannot create a file when that file already exists: 'C:\\\\Users\\\\kranz-michael/.cache/gen3/token_cache_243db9dca6c478c2a6ee5ce88b9e5916.tmp_eraseme_5922_1680886093' -> 'C:\\\\Users\\\\kranz-michael/.cache/gen3/token_cache_243db9dca6c478c2a6ee5ce88b9e5916'\n",
      "[2023-04-07 11:48:13,795][WARNING] backoff: call gen3.auth._write_to_file(<gen3.auth.Gen3Auth object at 0x0000028CE13E7D90>, C:\\Users\\kranz-michael/.cache/gen3/token_cache_243db9dca6c478c2a6ee5ce88b9e5916, eyJ0eXAiOiJKV1QiLCJhbGciOiJSUzI1NiIsImtpZCI6ImZlbmNlX2tleV8yMDIwLTAxLTAyVDA2OjM1OjA4WiJ9.eyJwdXIiOiJhY2Nlc3MiLCJpc3MiOiJodHRwczovL2pjb2luLmRhdGFjb21tb25zLmlvL3VzZXIiLCJhdWQiOlsiaHR0cHM6Ly9qY29pbi5kYXRhY29tbW9ucy5pby91c2VyIiwiZ29vZ2xlX3NlcnZpY2VfYWNjb3VudCIsInVzZXIiLCJvcGVuaWQiLCJmZW5jZSIsImRhdGEiLCJnb29nbGVfY3JlZGVudGlhbHMiLCJhZG1pbiIsImdvb2dsZV9saW5rIl0sImlhdCI6MTY4MDg4NjA5MiwiZXhwIjoxNjgwODg5NjkyLCJqdGkiOiJmZTAxYjBkOS0zZjA2LTRjNjItYTY3Yy05MjhjN2QxMGI2ZjAiLCJzY29wZSI6WyJnb29nbGVfc2VydmljZV9hY2NvdW50IiwidXNlciIsIm9wZW5pZCIsImZlbmNlIiwiZGF0YSIsImdvb2dsZV9jcmVkZW50aWFscyIsImFkbWluIiwiZ29vZ2xlX2xpbmsiXSwiY29udGV4dCI6eyJ1c2VyIjp7Im5hbWUiOiJtYmtyYW56QGdtYWlsLmNvbSIsImlzX2FkbWluIjpmYWxzZSwiZ29vZ2xlIjp7InByb3h5X2dyb3VwIjpudWxsfX19LCJhenAiOiIiLCJzdWIiOiI3OSJ9.ctPwRRgzRSXkSvtYwEND5p4FFxtmhjK2Li3Vpt5CaFJdGhn9lc4EHnkfdE388MLVKk-Leua2ZEY5DOLVOctK_JA9jB6ve6ly1s5AC4k6R8YVFJmQmImPRnhbjm2Aw5kDxrAHTNchaqJwRmESCTLc5SmEMSO4E9ISO1Bw7_DbjUSvZLASG8CUJdxeZ9aZXoWDfRFtUR_at87jhCDSUQmUmpuIxYRNKriqf6HbAfYQCZ_fxW0M4sKXWFsr20yHUMxIQWyrQh0ofNYppCcqh2OBJri-j7g4CAuc8VGoLZaRx2NzpC6Q19uEOkxwPjjs8SzgBEB6Dy6k95HGaq4VfnHarg) delay 0.7 seconds after 2 tries\n",
      "[2023-04-07 11:48:14,529][WARNING] failed to write token cache file: C:\\Users\\kranz-michael/.cache/gen3/token_cache_243db9dca6c478c2a6ee5ce88b9e5916\n",
      "[2023-04-07 11:48:14,531][WARNING] [WinError 183] Cannot create a file when that file already exists: 'C:\\\\Users\\\\kranz-michael/.cache/gen3/token_cache_243db9dca6c478c2a6ee5ce88b9e5916.tmp_eraseme_93436_1680886094' -> 'C:\\\\Users\\\\kranz-michael/.cache/gen3/token_cache_243db9dca6c478c2a6ee5ce88b9e5916'\n",
      "[2023-04-07 11:48:14,532][  ERROR] backoff: gave up call gen3.auth._write_to_file(<gen3.auth.Gen3Auth object at 0x0000028CE13E7D90>, C:\\Users\\kranz-michael/.cache/gen3/token_cache_243db9dca6c478c2a6ee5ce88b9e5916, eyJ0eXAiOiJKV1QiLCJhbGciOiJSUzI1NiIsImtpZCI6ImZlbmNlX2tleV8yMDIwLTAxLTAyVDA2OjM1OjA4WiJ9.eyJwdXIiOiJhY2Nlc3MiLCJpc3MiOiJodHRwczovL2pjb2luLmRhdGFjb21tb25zLmlvL3VzZXIiLCJhdWQiOlsiaHR0cHM6Ly9qY29pbi5kYXRhY29tbW9ucy5pby91c2VyIiwiZ29vZ2xlX3NlcnZpY2VfYWNjb3VudCIsInVzZXIiLCJvcGVuaWQiLCJmZW5jZSIsImRhdGEiLCJnb29nbGVfY3JlZGVudGlhbHMiLCJhZG1pbiIsImdvb2dsZV9saW5rIl0sImlhdCI6MTY4MDg4NjA5MiwiZXhwIjoxNjgwODg5NjkyLCJqdGkiOiJmZTAxYjBkOS0zZjA2LTRjNjItYTY3Yy05MjhjN2QxMGI2ZjAiLCJzY29wZSI6WyJnb29nbGVfc2VydmljZV9hY2NvdW50IiwidXNlciIsIm9wZW5pZCIsImZlbmNlIiwiZGF0YSIsImdvb2dsZV9jcmVkZW50aWFscyIsImFkbWluIiwiZ29vZ2xlX2xpbmsiXSwiY29udGV4dCI6eyJ1c2VyIjp7Im5hbWUiOiJtYmtyYW56QGdtYWlsLmNvbSIsImlzX2FkbWluIjpmYWxzZSwiZ29vZ2xlIjp7InByb3h5X2dyb3VwIjpudWxsfX19LCJhenAiOiIiLCJzdWIiOiI3OSJ9.ctPwRRgzRSXkSvtYwEND5p4FFxtmhjK2Li3Vpt5CaFJdGhn9lc4EHnkfdE388MLVKk-Leua2ZEY5DOLVOctK_JA9jB6ve6ly1s5AC4k6R8YVFJmQmImPRnhbjm2Aw5kDxrAHTNchaqJwRmESCTLc5SmEMSO4E9ISO1Bw7_DbjUSvZLASG8CUJdxeZ9aZXoWDfRFtUR_at87jhCDSUQmUmpuIxYRNKriqf6HbAfYQCZ_fxW0M4sKXWFsr20yHUMxIQWyrQh0ofNYppCcqh2OBJri-j7g4CAuc8VGoLZaRx2NzpC6Q19uEOkxwPjjs8SzgBEB6Dy6k95HGaq4VfnHarg) after 3 tries; exception: (<class 'FileExistsError'>, FileExistsError(17, 'Cannot create a file when that file already exists'), <traceback object at 0x0000028CE17AC4C0>)\n",
      "[2023-04-07 11:48:14,534][WARNING] Unable to write access token to cache file. Exceeded number of retries.\n"
     ]
    }
   ],
   "source": [
    "commons_project = \"TEST\"\n",
    "sub = Gen3Submission(Gen3Auth(refresh_file=\"credentials.json\"))\n",
    "sheepdog_rec = sub.export_node(\"JCOIN\",\"TEST\",\"reference_file\",fileformat=\"json\")\n",
    "file_guid = sheepdog_rec[\"data\"][-1][\"object_id\"] # assumes you just ran the \"create\" section of notebook"
   ]
  },
  {
   "cell_type": "code",
   "execution_count": 4,
   "metadata": {},
   "outputs": [
    {
     "name": "stdout",
     "output_type": "stream",
     "text": [
      "dg.6VTS/ebb26cad-3acb-4969-8a4c-2869a2e6121f\n"
     ]
    }
   ],
   "source": [
    "print(file_guid)"
   ]
  },
  {
   "cell_type": "code",
   "execution_count": 6,
   "metadata": {},
   "outputs": [
    {
     "name": "stdout",
     "output_type": "stream",
     "text": [
      "[2023-04-07 12:22:22,146][WARNING] failed to write token cache file: C:\\Users\\kranz-michael/.cache/gen3/token_cache_243db9dca6c478c2a6ee5ce88b9e5916\n",
      "[2023-04-07 12:22:22,147][WARNING] [WinError 183] Cannot create a file when that file already exists: 'C:\\\\Users\\\\kranz-michael/.cache/gen3/token_cache_243db9dca6c478c2a6ee5ce88b9e5916.tmp_eraseme_97699_1680888142' -> 'C:\\\\Users\\\\kranz-michael/.cache/gen3/token_cache_243db9dca6c478c2a6ee5ce88b9e5916'\n",
      "[2023-04-07 12:22:22,148][WARNING] backoff: call gen3.auth._write_to_file(<gen3.auth.Gen3Auth object at 0x0000028CE1E3B4F0>, C:\\Users\\kranz-michael/.cache/gen3/token_cache_243db9dca6c478c2a6ee5ce88b9e5916, eyJ0eXAiOiJKV1QiLCJhbGciOiJSUzI1NiIsImtpZCI6ImZlbmNlX2tleV8yMDIwLTAxLTAyVDA2OjM1OjA4WiJ9.eyJwdXIiOiJhY2Nlc3MiLCJpc3MiOiJodHRwczovL2pjb2luLmRhdGFjb21tb25zLmlvL3VzZXIiLCJhdWQiOlsiaHR0cHM6Ly9qY29pbi5kYXRhY29tbW9ucy5pby91c2VyIiwiZ29vZ2xlX3NlcnZpY2VfYWNjb3VudCIsInVzZXIiLCJvcGVuaWQiLCJmZW5jZSIsImRhdGEiLCJnb29nbGVfY3JlZGVudGlhbHMiLCJhZG1pbiIsImdvb2dsZV9saW5rIl0sImlhdCI6MTY4MDg4ODE0MiwiZXhwIjoxNjgwODkxNzQyLCJqdGkiOiI4YThmNGViYi0xZWM4LTRkYTMtODk1Zi1jZTc1NjljMGM1NjgiLCJzY29wZSI6WyJnb29nbGVfc2VydmljZV9hY2NvdW50IiwidXNlciIsIm9wZW5pZCIsImZlbmNlIiwiZGF0YSIsImdvb2dsZV9jcmVkZW50aWFscyIsImFkbWluIiwiZ29vZ2xlX2xpbmsiXSwiY29udGV4dCI6eyJ1c2VyIjp7Im5hbWUiOiJtYmtyYW56QGdtYWlsLmNvbSIsImlzX2FkbWluIjpmYWxzZSwiZ29vZ2xlIjp7InByb3h5X2dyb3VwIjpudWxsfX19LCJhenAiOiIiLCJzdWIiOiI3OSJ9.bkq-7uFhtL-TUUQD-X_m-rPWe-32uRDEsSFVw9N7Y3IuQFfVxQqpcxi8srxAuR1u5HwTIvZgvUEh73mdXQfdGxnKupfdETLS2ePP0IvZ3qpF6fv_hd6OKQsNvuHyNftaBDe6PyF8wf4hPTomUO6h_h1dJP9IKMysPNDdXZp9q4KlYBvn0nKRvR-LbqRcfEG7K-Gt1MqKbetfO-W2Sw7Tnm3GZzcZUY0EaPGEUe1yLU8rArBblFAQ6KgRkOAwGt3TrbjmtyFkBYWdp7LUxESJnnnI37pMUeSeQ09Z-iRI9aAJpy9l_-sYeExkGsecdhFR_RFV5eI-vbxpF2trImKiog) delay 0.8 seconds after 1 tries\n",
      "[2023-04-07 12:22:23,015][WARNING] failed to write token cache file: C:\\Users\\kranz-michael/.cache/gen3/token_cache_243db9dca6c478c2a6ee5ce88b9e5916\n",
      "[2023-04-07 12:22:23,016][WARNING] [WinError 183] Cannot create a file when that file already exists: 'C:\\\\Users\\\\kranz-michael/.cache/gen3/token_cache_243db9dca6c478c2a6ee5ce88b9e5916.tmp_eraseme_94055_1680888142' -> 'C:\\\\Users\\\\kranz-michael/.cache/gen3/token_cache_243db9dca6c478c2a6ee5ce88b9e5916'\n",
      "[2023-04-07 12:22:23,017][WARNING] backoff: call gen3.auth._write_to_file(<gen3.auth.Gen3Auth object at 0x0000028CE1E3B4F0>, C:\\Users\\kranz-michael/.cache/gen3/token_cache_243db9dca6c478c2a6ee5ce88b9e5916, eyJ0eXAiOiJKV1QiLCJhbGciOiJSUzI1NiIsImtpZCI6ImZlbmNlX2tleV8yMDIwLTAxLTAyVDA2OjM1OjA4WiJ9.eyJwdXIiOiJhY2Nlc3MiLCJpc3MiOiJodHRwczovL2pjb2luLmRhdGFjb21tb25zLmlvL3VzZXIiLCJhdWQiOlsiaHR0cHM6Ly9qY29pbi5kYXRhY29tbW9ucy5pby91c2VyIiwiZ29vZ2xlX3NlcnZpY2VfYWNjb3VudCIsInVzZXIiLCJvcGVuaWQiLCJmZW5jZSIsImRhdGEiLCJnb29nbGVfY3JlZGVudGlhbHMiLCJhZG1pbiIsImdvb2dsZV9saW5rIl0sImlhdCI6MTY4MDg4ODE0MiwiZXhwIjoxNjgwODkxNzQyLCJqdGkiOiI4YThmNGViYi0xZWM4LTRkYTMtODk1Zi1jZTc1NjljMGM1NjgiLCJzY29wZSI6WyJnb29nbGVfc2VydmljZV9hY2NvdW50IiwidXNlciIsIm9wZW5pZCIsImZlbmNlIiwiZGF0YSIsImdvb2dsZV9jcmVkZW50aWFscyIsImFkbWluIiwiZ29vZ2xlX2xpbmsiXSwiY29udGV4dCI6eyJ1c2VyIjp7Im5hbWUiOiJtYmtyYW56QGdtYWlsLmNvbSIsImlzX2FkbWluIjpmYWxzZSwiZ29vZ2xlIjp7InByb3h5X2dyb3VwIjpudWxsfX19LCJhenAiOiIiLCJzdWIiOiI3OSJ9.bkq-7uFhtL-TUUQD-X_m-rPWe-32uRDEsSFVw9N7Y3IuQFfVxQqpcxi8srxAuR1u5HwTIvZgvUEh73mdXQfdGxnKupfdETLS2ePP0IvZ3qpF6fv_hd6OKQsNvuHyNftaBDe6PyF8wf4hPTomUO6h_h1dJP9IKMysPNDdXZp9q4KlYBvn0nKRvR-LbqRcfEG7K-Gt1MqKbetfO-W2Sw7Tnm3GZzcZUY0EaPGEUe1yLU8rArBblFAQ6KgRkOAwGt3TrbjmtyFkBYWdp7LUxESJnnnI37pMUeSeQ09Z-iRI9aAJpy9l_-sYeExkGsecdhFR_RFV5eI-vbxpF2trImKiog) delay 0.7 seconds after 2 tries\n",
      "[2023-04-07 12:22:23,732][WARNING] failed to write token cache file: C:\\Users\\kranz-michael/.cache/gen3/token_cache_243db9dca6c478c2a6ee5ce88b9e5916\n",
      "[2023-04-07 12:22:23,733][WARNING] [WinError 183] Cannot create a file when that file already exists: 'C:\\\\Users\\\\kranz-michael/.cache/gen3/token_cache_243db9dca6c478c2a6ee5ce88b9e5916.tmp_eraseme_54985_1680888143' -> 'C:\\\\Users\\\\kranz-michael/.cache/gen3/token_cache_243db9dca6c478c2a6ee5ce88b9e5916'\n",
      "[2023-04-07 12:22:23,734][  ERROR] backoff: gave up call gen3.auth._write_to_file(<gen3.auth.Gen3Auth object at 0x0000028CE1E3B4F0>, C:\\Users\\kranz-michael/.cache/gen3/token_cache_243db9dca6c478c2a6ee5ce88b9e5916, eyJ0eXAiOiJKV1QiLCJhbGciOiJSUzI1NiIsImtpZCI6ImZlbmNlX2tleV8yMDIwLTAxLTAyVDA2OjM1OjA4WiJ9.eyJwdXIiOiJhY2Nlc3MiLCJpc3MiOiJodHRwczovL2pjb2luLmRhdGFjb21tb25zLmlvL3VzZXIiLCJhdWQiOlsiaHR0cHM6Ly9qY29pbi5kYXRhY29tbW9ucy5pby91c2VyIiwiZ29vZ2xlX3NlcnZpY2VfYWNjb3VudCIsInVzZXIiLCJvcGVuaWQiLCJmZW5jZSIsImRhdGEiLCJnb29nbGVfY3JlZGVudGlhbHMiLCJhZG1pbiIsImdvb2dsZV9saW5rIl0sImlhdCI6MTY4MDg4ODE0MiwiZXhwIjoxNjgwODkxNzQyLCJqdGkiOiI4YThmNGViYi0xZWM4LTRkYTMtODk1Zi1jZTc1NjljMGM1NjgiLCJzY29wZSI6WyJnb29nbGVfc2VydmljZV9hY2NvdW50IiwidXNlciIsIm9wZW5pZCIsImZlbmNlIiwiZGF0YSIsImdvb2dsZV9jcmVkZW50aWFscyIsImFkbWluIiwiZ29vZ2xlX2xpbmsiXSwiY29udGV4dCI6eyJ1c2VyIjp7Im5hbWUiOiJtYmtyYW56QGdtYWlsLmNvbSIsImlzX2FkbWluIjpmYWxzZSwiZ29vZ2xlIjp7InByb3h5X2dyb3VwIjpudWxsfX19LCJhenAiOiIiLCJzdWIiOiI3OSJ9.bkq-7uFhtL-TUUQD-X_m-rPWe-32uRDEsSFVw9N7Y3IuQFfVxQqpcxi8srxAuR1u5HwTIvZgvUEh73mdXQfdGxnKupfdETLS2ePP0IvZ3qpF6fv_hd6OKQsNvuHyNftaBDe6PyF8wf4hPTomUO6h_h1dJP9IKMysPNDdXZp9q4KlYBvn0nKRvR-LbqRcfEG7K-Gt1MqKbetfO-W2Sw7Tnm3GZzcZUY0EaPGEUe1yLU8rArBblFAQ6KgRkOAwGt3TrbjmtyFkBYWdp7LUxESJnnnI37pMUeSeQ09Z-iRI9aAJpy9l_-sYeExkGsecdhFR_RFV5eI-vbxpF2trImKiog) after 3 tries; exception: (<class 'FileExistsError'>, FileExistsError(17, 'Cannot create a file when that file already exists'), <traceback object at 0x0000028CE1E44180>)\n",
      "[2023-04-07 12:22:23,735][WARNING] Unable to write access token to cache file. Exceeded number of retries.\n",
      "The latest sheepdog and indexd have same file:GOOD\n",
      "[2023-04-07 12:22:43,521][   INFO] \n",
      "Using the Sheepdog API URL https://jcoin.datacommons.io/api/v0/submission/JCOIN/TEST\n",
      "\n"
     ]
    }
   ],
   "source": [
    "gen3_file = submit_package_to_jdc(\n",
    "    package_path=\"../data/core-measures-slight-update-test.zip\",\n",
    "    commons_project=commons_project,\n",
    "    file_guid=file_guid,\n",
    "    sheepdog_file_submitter_id='core-measures-test',\n",
    "    sheepdog_data_type=\"Interview\",\n",
    "    sheepdog_data_category=\"Core Measures\",\n",
    "    sheepdog_data_format=\"ZIP\",\n",
    "    submission_type=\"update\",\n",
    ")"
   ]
  },
  {
   "attachments": {},
   "cell_type": "markdown",
   "metadata": {},
   "source": [
    "After this step would then map to sheepdog"
   ]
  },
  {
   "cell_type": "code",
   "execution_count": 13,
   "metadata": {},
   "outputs": [
    {
     "name": "stdout",
     "output_type": "stream",
     "text": [
      "Validating records for participant\n",
      "Validating records for enrollment\n",
      "Validating records for demographic_baseline\n",
      "Validating records for time_point\n",
      "Deleting records for time_point\n",
      "[2023-04-07 12:29:08,723][WARNING] failed to write token cache file: C:\\Users\\kranz-michael/.cache/gen3/token_cache_243db9dca6c478c2a6ee5ce88b9e5916\n",
      "[2023-04-07 12:29:08,723][WARNING] [WinError 183] Cannot create a file when that file already exists: 'C:\\\\Users\\\\kranz-michael/.cache/gen3/token_cache_243db9dca6c478c2a6ee5ce88b9e5916.tmp_eraseme_34386_1680888548' -> 'C:\\\\Users\\\\kranz-michael/.cache/gen3/token_cache_243db9dca6c478c2a6ee5ce88b9e5916'\n",
      "[2023-04-07 12:29:08,724][WARNING] backoff: call gen3.auth._write_to_file(<gen3.auth.Gen3Auth object at 0x0000028CE10A1630>, C:\\Users\\kranz-michael/.cache/gen3/token_cache_243db9dca6c478c2a6ee5ce88b9e5916, eyJ0eXAiOiJKV1QiLCJhbGciOiJSUzI1NiIsImtpZCI6ImZlbmNlX2tleV8yMDIwLTAxLTAyVDA2OjM1OjA4WiJ9.eyJwdXIiOiJhY2Nlc3MiLCJpc3MiOiJodHRwczovL2pjb2luLmRhdGFjb21tb25zLmlvL3VzZXIiLCJhdWQiOlsiaHR0cHM6Ly9qY29pbi5kYXRhY29tbW9ucy5pby91c2VyIiwiZ29vZ2xlX3NlcnZpY2VfYWNjb3VudCIsInVzZXIiLCJvcGVuaWQiLCJmZW5jZSIsImRhdGEiLCJnb29nbGVfY3JlZGVudGlhbHMiLCJhZG1pbiIsImdvb2dsZV9saW5rIl0sImlhdCI6MTY4MDg4ODU0OCwiZXhwIjoxNjgwODkyMTQ4LCJqdGkiOiIxNTY0ZmMyYi0zMzRhLTRmZjYtODBiNy1iYTAwMmY3NmE5MTkiLCJzY29wZSI6WyJnb29nbGVfc2VydmljZV9hY2NvdW50IiwidXNlciIsIm9wZW5pZCIsImZlbmNlIiwiZGF0YSIsImdvb2dsZV9jcmVkZW50aWFscyIsImFkbWluIiwiZ29vZ2xlX2xpbmsiXSwiY29udGV4dCI6eyJ1c2VyIjp7Im5hbWUiOiJtYmtyYW56QGdtYWlsLmNvbSIsImlzX2FkbWluIjpmYWxzZSwiZ29vZ2xlIjp7InByb3h5X2dyb3VwIjpudWxsfX19LCJhenAiOiIiLCJzdWIiOiI3OSJ9.lecmzHbtW_FxC141G46fPsJz4g13mjUZJboITG_-8Cljk05Pjpk45u8vB1uZdi9HDJdQtcLG43jfvRXtnNMNMgWG0ctDS3l1CraCDB_yIuyRAO6AtJDk4ZM3g40jECR7AYYjL-EzcQbFdu8AtMERfbJEI-QW7lCVRr7VC9aNla3wdsjOmaQe9DKLxVaMtdaMQuhez87P9zd_4hqZwlisBFCrUHkFZfK8iIXPOpd-vtw8kUmGJFHuanUXb6LLrJPjRJwyHV5r0AR84quyPind7mdmYWeB7RiSGuKgNae4eORF7jj5fjKtsEkEsfbveY-cGHwmOHZPvBMKpv-2sO5MuA) delay 0.9 seconds after 1 tries\n",
      "[2023-04-07 12:29:09,654][WARNING] failed to write token cache file: C:\\Users\\kranz-michael/.cache/gen3/token_cache_243db9dca6c478c2a6ee5ce88b9e5916\n",
      "[2023-04-07 12:29:09,655][WARNING] [WinError 183] Cannot create a file when that file already exists: 'C:\\\\Users\\\\kranz-michael/.cache/gen3/token_cache_243db9dca6c478c2a6ee5ce88b9e5916.tmp_eraseme_19565_1680888549' -> 'C:\\\\Users\\\\kranz-michael/.cache/gen3/token_cache_243db9dca6c478c2a6ee5ce88b9e5916'\n",
      "[2023-04-07 12:29:09,656][WARNING] backoff: call gen3.auth._write_to_file(<gen3.auth.Gen3Auth object at 0x0000028CE10A1630>, C:\\Users\\kranz-michael/.cache/gen3/token_cache_243db9dca6c478c2a6ee5ce88b9e5916, eyJ0eXAiOiJKV1QiLCJhbGciOiJSUzI1NiIsImtpZCI6ImZlbmNlX2tleV8yMDIwLTAxLTAyVDA2OjM1OjA4WiJ9.eyJwdXIiOiJhY2Nlc3MiLCJpc3MiOiJodHRwczovL2pjb2luLmRhdGFjb21tb25zLmlvL3VzZXIiLCJhdWQiOlsiaHR0cHM6Ly9qY29pbi5kYXRhY29tbW9ucy5pby91c2VyIiwiZ29vZ2xlX3NlcnZpY2VfYWNjb3VudCIsInVzZXIiLCJvcGVuaWQiLCJmZW5jZSIsImRhdGEiLCJnb29nbGVfY3JlZGVudGlhbHMiLCJhZG1pbiIsImdvb2dsZV9saW5rIl0sImlhdCI6MTY4MDg4ODU0OCwiZXhwIjoxNjgwODkyMTQ4LCJqdGkiOiIxNTY0ZmMyYi0zMzRhLTRmZjYtODBiNy1iYTAwMmY3NmE5MTkiLCJzY29wZSI6WyJnb29nbGVfc2VydmljZV9hY2NvdW50IiwidXNlciIsIm9wZW5pZCIsImZlbmNlIiwiZGF0YSIsImdvb2dsZV9jcmVkZW50aWFscyIsImFkbWluIiwiZ29vZ2xlX2xpbmsiXSwiY29udGV4dCI6eyJ1c2VyIjp7Im5hbWUiOiJtYmtyYW56QGdtYWlsLmNvbSIsImlzX2FkbWluIjpmYWxzZSwiZ29vZ2xlIjp7InByb3h5X2dyb3VwIjpudWxsfX19LCJhenAiOiIiLCJzdWIiOiI3OSJ9.lecmzHbtW_FxC141G46fPsJz4g13mjUZJboITG_-8Cljk05Pjpk45u8vB1uZdi9HDJdQtcLG43jfvRXtnNMNMgWG0ctDS3l1CraCDB_yIuyRAO6AtJDk4ZM3g40jECR7AYYjL-EzcQbFdu8AtMERfbJEI-QW7lCVRr7VC9aNla3wdsjOmaQe9DKLxVaMtdaMQuhez87P9zd_4hqZwlisBFCrUHkFZfK8iIXPOpd-vtw8kUmGJFHuanUXb6LLrJPjRJwyHV5r0AR84quyPind7mdmYWeB7RiSGuKgNae4eORF7jj5fjKtsEkEsfbveY-cGHwmOHZPvBMKpv-2sO5MuA) delay 0.8 seconds after 2 tries\n",
      "[2023-04-07 12:29:10,502][WARNING] failed to write token cache file: C:\\Users\\kranz-michael/.cache/gen3/token_cache_243db9dca6c478c2a6ee5ce88b9e5916\n",
      "[2023-04-07 12:29:10,502][WARNING] [WinError 183] Cannot create a file when that file already exists: 'C:\\\\Users\\\\kranz-michael/.cache/gen3/token_cache_243db9dca6c478c2a6ee5ce88b9e5916.tmp_eraseme_55573_1680888550' -> 'C:\\\\Users\\\\kranz-michael/.cache/gen3/token_cache_243db9dca6c478c2a6ee5ce88b9e5916'\n",
      "[2023-04-07 12:29:10,503][  ERROR] backoff: gave up call gen3.auth._write_to_file(<gen3.auth.Gen3Auth object at 0x0000028CE10A1630>, C:\\Users\\kranz-michael/.cache/gen3/token_cache_243db9dca6c478c2a6ee5ce88b9e5916, eyJ0eXAiOiJKV1QiLCJhbGciOiJSUzI1NiIsImtpZCI6ImZlbmNlX2tleV8yMDIwLTAxLTAyVDA2OjM1OjA4WiJ9.eyJwdXIiOiJhY2Nlc3MiLCJpc3MiOiJodHRwczovL2pjb2luLmRhdGFjb21tb25zLmlvL3VzZXIiLCJhdWQiOlsiaHR0cHM6Ly9qY29pbi5kYXRhY29tbW9ucy5pby91c2VyIiwiZ29vZ2xlX3NlcnZpY2VfYWNjb3VudCIsInVzZXIiLCJvcGVuaWQiLCJmZW5jZSIsImRhdGEiLCJnb29nbGVfY3JlZGVudGlhbHMiLCJhZG1pbiIsImdvb2dsZV9saW5rIl0sImlhdCI6MTY4MDg4ODU0OCwiZXhwIjoxNjgwODkyMTQ4LCJqdGkiOiIxNTY0ZmMyYi0zMzRhLTRmZjYtODBiNy1iYTAwMmY3NmE5MTkiLCJzY29wZSI6WyJnb29nbGVfc2VydmljZV9hY2NvdW50IiwidXNlciIsIm9wZW5pZCIsImZlbmNlIiwiZGF0YSIsImdvb2dsZV9jcmVkZW50aWFscyIsImFkbWluIiwiZ29vZ2xlX2xpbmsiXSwiY29udGV4dCI6eyJ1c2VyIjp7Im5hbWUiOiJtYmtyYW56QGdtYWlsLmNvbSIsImlzX2FkbWluIjpmYWxzZSwiZ29vZ2xlIjp7InByb3h5X2dyb3VwIjpudWxsfX19LCJhenAiOiIiLCJzdWIiOiI3OSJ9.lecmzHbtW_FxC141G46fPsJz4g13mjUZJboITG_-8Cljk05Pjpk45u8vB1uZdi9HDJdQtcLG43jfvRXtnNMNMgWG0ctDS3l1CraCDB_yIuyRAO6AtJDk4ZM3g40jECR7AYYjL-EzcQbFdu8AtMERfbJEI-QW7lCVRr7VC9aNla3wdsjOmaQe9DKLxVaMtdaMQuhez87P9zd_4hqZwlisBFCrUHkFZfK8iIXPOpd-vtw8kUmGJFHuanUXb6LLrJPjRJwyHV5r0AR84quyPind7mdmYWeB7RiSGuKgNae4eORF7jj5fjKtsEkEsfbveY-cGHwmOHZPvBMKpv-2sO5MuA) after 3 tries; exception: (<class 'FileExistsError'>, FileExistsError(17, 'Cannot create a file when that file already exists'), <traceback object at 0x0000028CE4143A00>)\n",
      "[2023-04-07 12:29:10,503][WARNING] Unable to write access token to cache file. Exceeded number of retries.\n",
      "\n",
      "Output written to file: tmp/sheepdog/time_point.json\n",
      "time_point.\n",
      "Deleting records for demographic_baseline\n",
      "[2023-04-07 12:29:24,836][WARNING] failed to write token cache file: C:\\Users\\kranz-michael/.cache/gen3/token_cache_243db9dca6c478c2a6ee5ce88b9e5916\n",
      "[2023-04-07 12:29:24,837][WARNING] [WinError 183] Cannot create a file when that file already exists: 'C:\\\\Users\\\\kranz-michael/.cache/gen3/token_cache_243db9dca6c478c2a6ee5ce88b9e5916.tmp_eraseme_74870_1680888564' -> 'C:\\\\Users\\\\kranz-michael/.cache/gen3/token_cache_243db9dca6c478c2a6ee5ce88b9e5916'\n",
      "[2023-04-07 12:29:24,838][WARNING] backoff: call gen3.auth._write_to_file(<gen3.auth.Gen3Auth object at 0x0000028CE10A3A30>, C:\\Users\\kranz-michael/.cache/gen3/token_cache_243db9dca6c478c2a6ee5ce88b9e5916, eyJ0eXAiOiJKV1QiLCJhbGciOiJSUzI1NiIsImtpZCI6ImZlbmNlX2tleV8yMDIwLTAxLTAyVDA2OjM1OjA4WiJ9.eyJwdXIiOiJhY2Nlc3MiLCJpc3MiOiJodHRwczovL2pjb2luLmRhdGFjb21tb25zLmlvL3VzZXIiLCJhdWQiOlsiaHR0cHM6Ly9qY29pbi5kYXRhY29tbW9ucy5pby91c2VyIiwiZ29vZ2xlX3NlcnZpY2VfYWNjb3VudCIsInVzZXIiLCJvcGVuaWQiLCJmZW5jZSIsImRhdGEiLCJnb29nbGVfY3JlZGVudGlhbHMiLCJhZG1pbiIsImdvb2dsZV9saW5rIl0sImlhdCI6MTY4MDg4ODU2NCwiZXhwIjoxNjgwODkyMTY0LCJqdGkiOiIzNWI2ZmQxYS0yZDNjLTRjMGEtOTcwYy0yZjE1M2JjYTAwNTQiLCJzY29wZSI6WyJnb29nbGVfc2VydmljZV9hY2NvdW50IiwidXNlciIsIm9wZW5pZCIsImZlbmNlIiwiZGF0YSIsImdvb2dsZV9jcmVkZW50aWFscyIsImFkbWluIiwiZ29vZ2xlX2xpbmsiXSwiY29udGV4dCI6eyJ1c2VyIjp7Im5hbWUiOiJtYmtyYW56QGdtYWlsLmNvbSIsImlzX2FkbWluIjpmYWxzZSwiZ29vZ2xlIjp7InByb3h5X2dyb3VwIjpudWxsfX19LCJhenAiOiIiLCJzdWIiOiI3OSJ9.n0Ixp-O0RvhG4WtLhiXJe1YQ4ocRT26fAJkrDEemfyX4uPT9W6qJBnzEqApoVSPgSAwtz9EVoPk1epSeL6ZjiUh1gzn3Ucs83Rjq72LEaL94F2r9fGzwRKp4y3dqMrWRgkeWPUE5fKLygCl0IQDHVpLVTPNqUSdtpLZZUOD1htDE7yoX47zoU79IDbN1GqhyGDwt_aLsYi_V80yTH0QBVLbdIwBignIps1IM0Ot98z0blvVQciclCSmhNcSYl93_0DkFo9-dCqjJ6FmOJzkzsN2FKmJ_vKp35PTtxcbl5MTI5axyuChpvt0H7-K5VE46XGX7LAk9gQUSAB2FT2lUmw) delay 0.2 seconds after 1 tries\n",
      "[2023-04-07 12:29:25,039][WARNING] failed to write token cache file: C:\\Users\\kranz-michael/.cache/gen3/token_cache_243db9dca6c478c2a6ee5ce88b9e5916\n",
      "[2023-04-07 12:29:25,040][WARNING] [WinError 183] Cannot create a file when that file already exists: 'C:\\\\Users\\\\kranz-michael/.cache/gen3/token_cache_243db9dca6c478c2a6ee5ce88b9e5916.tmp_eraseme_57571_1680888565' -> 'C:\\\\Users\\\\kranz-michael/.cache/gen3/token_cache_243db9dca6c478c2a6ee5ce88b9e5916'\n",
      "[2023-04-07 12:29:25,040][WARNING] backoff: call gen3.auth._write_to_file(<gen3.auth.Gen3Auth object at 0x0000028CE10A3A30>, C:\\Users\\kranz-michael/.cache/gen3/token_cache_243db9dca6c478c2a6ee5ce88b9e5916, eyJ0eXAiOiJKV1QiLCJhbGciOiJSUzI1NiIsImtpZCI6ImZlbmNlX2tleV8yMDIwLTAxLTAyVDA2OjM1OjA4WiJ9.eyJwdXIiOiJhY2Nlc3MiLCJpc3MiOiJodHRwczovL2pjb2luLmRhdGFjb21tb25zLmlvL3VzZXIiLCJhdWQiOlsiaHR0cHM6Ly9qY29pbi5kYXRhY29tbW9ucy5pby91c2VyIiwiZ29vZ2xlX3NlcnZpY2VfYWNjb3VudCIsInVzZXIiLCJvcGVuaWQiLCJmZW5jZSIsImRhdGEiLCJnb29nbGVfY3JlZGVudGlhbHMiLCJhZG1pbiIsImdvb2dsZV9saW5rIl0sImlhdCI6MTY4MDg4ODU2NCwiZXhwIjoxNjgwODkyMTY0LCJqdGkiOiIzNWI2ZmQxYS0yZDNjLTRjMGEtOTcwYy0yZjE1M2JjYTAwNTQiLCJzY29wZSI6WyJnb29nbGVfc2VydmljZV9hY2NvdW50IiwidXNlciIsIm9wZW5pZCIsImZlbmNlIiwiZGF0YSIsImdvb2dsZV9jcmVkZW50aWFscyIsImFkbWluIiwiZ29vZ2xlX2xpbmsiXSwiY29udGV4dCI6eyJ1c2VyIjp7Im5hbWUiOiJtYmtyYW56QGdtYWlsLmNvbSIsImlzX2FkbWluIjpmYWxzZSwiZ29vZ2xlIjp7InByb3h5X2dyb3VwIjpudWxsfX19LCJhenAiOiIiLCJzdWIiOiI3OSJ9.n0Ixp-O0RvhG4WtLhiXJe1YQ4ocRT26fAJkrDEemfyX4uPT9W6qJBnzEqApoVSPgSAwtz9EVoPk1epSeL6ZjiUh1gzn3Ucs83Rjq72LEaL94F2r9fGzwRKp4y3dqMrWRgkeWPUE5fKLygCl0IQDHVpLVTPNqUSdtpLZZUOD1htDE7yoX47zoU79IDbN1GqhyGDwt_aLsYi_V80yTH0QBVLbdIwBignIps1IM0Ot98z0blvVQciclCSmhNcSYl93_0DkFo9-dCqjJ6FmOJzkzsN2FKmJ_vKp35PTtxcbl5MTI5axyuChpvt0H7-K5VE46XGX7LAk9gQUSAB2FT2lUmw) delay 0.9 seconds after 2 tries\n",
      "[2023-04-07 12:29:25,973][WARNING] failed to write token cache file: C:\\Users\\kranz-michael/.cache/gen3/token_cache_243db9dca6c478c2a6ee5ce88b9e5916\n",
      "[2023-04-07 12:29:25,974][WARNING] [WinError 183] Cannot create a file when that file already exists: 'C:\\\\Users\\\\kranz-michael/.cache/gen3/token_cache_243db9dca6c478c2a6ee5ce88b9e5916.tmp_eraseme_7078_1680888565' -> 'C:\\\\Users\\\\kranz-michael/.cache/gen3/token_cache_243db9dca6c478c2a6ee5ce88b9e5916'\n",
      "[2023-04-07 12:29:25,975][  ERROR] backoff: gave up call gen3.auth._write_to_file(<gen3.auth.Gen3Auth object at 0x0000028CE10A3A30>, C:\\Users\\kranz-michael/.cache/gen3/token_cache_243db9dca6c478c2a6ee5ce88b9e5916, eyJ0eXAiOiJKV1QiLCJhbGciOiJSUzI1NiIsImtpZCI6ImZlbmNlX2tleV8yMDIwLTAxLTAyVDA2OjM1OjA4WiJ9.eyJwdXIiOiJhY2Nlc3MiLCJpc3MiOiJodHRwczovL2pjb2luLmRhdGFjb21tb25zLmlvL3VzZXIiLCJhdWQiOlsiaHR0cHM6Ly9qY29pbi5kYXRhY29tbW9ucy5pby91c2VyIiwiZ29vZ2xlX3NlcnZpY2VfYWNjb3VudCIsInVzZXIiLCJvcGVuaWQiLCJmZW5jZSIsImRhdGEiLCJnb29nbGVfY3JlZGVudGlhbHMiLCJhZG1pbiIsImdvb2dsZV9saW5rIl0sImlhdCI6MTY4MDg4ODU2NCwiZXhwIjoxNjgwODkyMTY0LCJqdGkiOiIzNWI2ZmQxYS0yZDNjLTRjMGEtOTcwYy0yZjE1M2JjYTAwNTQiLCJzY29wZSI6WyJnb29nbGVfc2VydmljZV9hY2NvdW50IiwidXNlciIsIm9wZW5pZCIsImZlbmNlIiwiZGF0YSIsImdvb2dsZV9jcmVkZW50aWFscyIsImFkbWluIiwiZ29vZ2xlX2xpbmsiXSwiY29udGV4dCI6eyJ1c2VyIjp7Im5hbWUiOiJtYmtyYW56QGdtYWlsLmNvbSIsImlzX2FkbWluIjpmYWxzZSwiZ29vZ2xlIjp7InByb3h5X2dyb3VwIjpudWxsfX19LCJhenAiOiIiLCJzdWIiOiI3OSJ9.n0Ixp-O0RvhG4WtLhiXJe1YQ4ocRT26fAJkrDEemfyX4uPT9W6qJBnzEqApoVSPgSAwtz9EVoPk1epSeL6ZjiUh1gzn3Ucs83Rjq72LEaL94F2r9fGzwRKp4y3dqMrWRgkeWPUE5fKLygCl0IQDHVpLVTPNqUSdtpLZZUOD1htDE7yoX47zoU79IDbN1GqhyGDwt_aLsYi_V80yTH0QBVLbdIwBignIps1IM0Ot98z0blvVQciclCSmhNcSYl93_0DkFo9-dCqjJ6FmOJzkzsN2FKmJ_vKp35PTtxcbl5MTI5axyuChpvt0H7-K5VE46XGX7LAk9gQUSAB2FT2lUmw) after 3 tries; exception: (<class 'FileExistsError'>, FileExistsError(17, 'Cannot create a file when that file already exists'), <traceback object at 0x0000028CE4121500>)\n",
      "[2023-04-07 12:29:25,975][WARNING] Unable to write access token to cache file. Exceeded number of retries.\n",
      "\n",
      "Output written to file: tmp/sheepdog/demographic_baseline.json\n",
      "demographic_baseline.\n",
      "Deleting records for enrollment\n",
      "[2023-04-07 12:29:45,579][WARNING] failed to write token cache file: C:\\Users\\kranz-michael/.cache/gen3/token_cache_243db9dca6c478c2a6ee5ce88b9e5916\n",
      "[2023-04-07 12:29:45,580][WARNING] [WinError 183] Cannot create a file when that file already exists: 'C:\\\\Users\\\\kranz-michael/.cache/gen3/token_cache_243db9dca6c478c2a6ee5ce88b9e5916.tmp_eraseme_97766_1680888585' -> 'C:\\\\Users\\\\kranz-michael/.cache/gen3/token_cache_243db9dca6c478c2a6ee5ce88b9e5916'\n",
      "[2023-04-07 12:29:45,581][WARNING] backoff: call gen3.auth._write_to_file(<gen3.auth.Gen3Auth object at 0x0000028CE10A3460>, C:\\Users\\kranz-michael/.cache/gen3/token_cache_243db9dca6c478c2a6ee5ce88b9e5916, eyJ0eXAiOiJKV1QiLCJhbGciOiJSUzI1NiIsImtpZCI6ImZlbmNlX2tleV8yMDIwLTAxLTAyVDA2OjM1OjA4WiJ9.eyJwdXIiOiJhY2Nlc3MiLCJpc3MiOiJodHRwczovL2pjb2luLmRhdGFjb21tb25zLmlvL3VzZXIiLCJhdWQiOlsiaHR0cHM6Ly9qY29pbi5kYXRhY29tbW9ucy5pby91c2VyIiwiZ29vZ2xlX3NlcnZpY2VfYWNjb3VudCIsInVzZXIiLCJvcGVuaWQiLCJmZW5jZSIsImRhdGEiLCJnb29nbGVfY3JlZGVudGlhbHMiLCJhZG1pbiIsImdvb2dsZV9saW5rIl0sImlhdCI6MTY4MDg4ODU4NSwiZXhwIjoxNjgwODkyMTg1LCJqdGkiOiJmN2Y1MDU4MS1mYTZlLTQwMGQtYjIzOS05MDU5NjRjZTQzM2EiLCJzY29wZSI6WyJnb29nbGVfc2VydmljZV9hY2NvdW50IiwidXNlciIsIm9wZW5pZCIsImZlbmNlIiwiZGF0YSIsImdvb2dsZV9jcmVkZW50aWFscyIsImFkbWluIiwiZ29vZ2xlX2xpbmsiXSwiY29udGV4dCI6eyJ1c2VyIjp7Im5hbWUiOiJtYmtyYW56QGdtYWlsLmNvbSIsImlzX2FkbWluIjpmYWxzZSwiZ29vZ2xlIjp7InByb3h5X2dyb3VwIjpudWxsfX19LCJhenAiOiIiLCJzdWIiOiI3OSJ9.BRFWEgGIg-LZ-KHPJhBSnl-mxGp7Ntp5fwN4POpnMgkhsbLOUpXopujuvDMTCiWFyZ3NU_5Xi1hX_YiXP_K8ohhbj0yfmBzrC_9_RWsFsmv_5YswXteciFyxNqumdyi1Lb7okUplSNeaheYXET3WNZXKm8NveeaYEERCsIJzA7qqs7TFO3pAXRAzLXlK4Qsc3d24co_MATkbgjXjqhoBMlUbvS4fkHyfdKs2eLOSSg4S-7Np8h_btV9mhJOHREmlyPfc15aPjO1ZLdnNB0ieNKBEl2Z4TXmC_hI0pkJ_Dx0-5GeHgqSt7Z-G18sQJNBGHYDmaaAi5x3I4yyAQCqgGg) delay 0.8 seconds after 1 tries\n",
      "[2023-04-07 12:29:46,354][WARNING] failed to write token cache file: C:\\Users\\kranz-michael/.cache/gen3/token_cache_243db9dca6c478c2a6ee5ce88b9e5916\n",
      "[2023-04-07 12:29:46,355][WARNING] [WinError 183] Cannot create a file when that file already exists: 'C:\\\\Users\\\\kranz-michael/.cache/gen3/token_cache_243db9dca6c478c2a6ee5ce88b9e5916.tmp_eraseme_16616_1680888586' -> 'C:\\\\Users\\\\kranz-michael/.cache/gen3/token_cache_243db9dca6c478c2a6ee5ce88b9e5916'\n",
      "[2023-04-07 12:29:46,356][WARNING] backoff: call gen3.auth._write_to_file(<gen3.auth.Gen3Auth object at 0x0000028CE10A3460>, C:\\Users\\kranz-michael/.cache/gen3/token_cache_243db9dca6c478c2a6ee5ce88b9e5916, eyJ0eXAiOiJKV1QiLCJhbGciOiJSUzI1NiIsImtpZCI6ImZlbmNlX2tleV8yMDIwLTAxLTAyVDA2OjM1OjA4WiJ9.eyJwdXIiOiJhY2Nlc3MiLCJpc3MiOiJodHRwczovL2pjb2luLmRhdGFjb21tb25zLmlvL3VzZXIiLCJhdWQiOlsiaHR0cHM6Ly9qY29pbi5kYXRhY29tbW9ucy5pby91c2VyIiwiZ29vZ2xlX3NlcnZpY2VfYWNjb3VudCIsInVzZXIiLCJvcGVuaWQiLCJmZW5jZSIsImRhdGEiLCJnb29nbGVfY3JlZGVudGlhbHMiLCJhZG1pbiIsImdvb2dsZV9saW5rIl0sImlhdCI6MTY4MDg4ODU4NSwiZXhwIjoxNjgwODkyMTg1LCJqdGkiOiJmN2Y1MDU4MS1mYTZlLTQwMGQtYjIzOS05MDU5NjRjZTQzM2EiLCJzY29wZSI6WyJnb29nbGVfc2VydmljZV9hY2NvdW50IiwidXNlciIsIm9wZW5pZCIsImZlbmNlIiwiZGF0YSIsImdvb2dsZV9jcmVkZW50aWFscyIsImFkbWluIiwiZ29vZ2xlX2xpbmsiXSwiY29udGV4dCI6eyJ1c2VyIjp7Im5hbWUiOiJtYmtyYW56QGdtYWlsLmNvbSIsImlzX2FkbWluIjpmYWxzZSwiZ29vZ2xlIjp7InByb3h5X2dyb3VwIjpudWxsfX19LCJhenAiOiIiLCJzdWIiOiI3OSJ9.BRFWEgGIg-LZ-KHPJhBSnl-mxGp7Ntp5fwN4POpnMgkhsbLOUpXopujuvDMTCiWFyZ3NU_5Xi1hX_YiXP_K8ohhbj0yfmBzrC_9_RWsFsmv_5YswXteciFyxNqumdyi1Lb7okUplSNeaheYXET3WNZXKm8NveeaYEERCsIJzA7qqs7TFO3pAXRAzLXlK4Qsc3d24co_MATkbgjXjqhoBMlUbvS4fkHyfdKs2eLOSSg4S-7Np8h_btV9mhJOHREmlyPfc15aPjO1ZLdnNB0ieNKBEl2Z4TXmC_hI0pkJ_Dx0-5GeHgqSt7Z-G18sQJNBGHYDmaaAi5x3I4yyAQCqgGg) delay 1.7 seconds after 2 tries\n",
      "[2023-04-07 12:29:48,104][WARNING] failed to write token cache file: C:\\Users\\kranz-michael/.cache/gen3/token_cache_243db9dca6c478c2a6ee5ce88b9e5916\n",
      "[2023-04-07 12:29:48,106][WARNING] [WinError 183] Cannot create a file when that file already exists: 'C:\\\\Users\\\\kranz-michael/.cache/gen3/token_cache_243db9dca6c478c2a6ee5ce88b9e5916.tmp_eraseme_57915_1680888588' -> 'C:\\\\Users\\\\kranz-michael/.cache/gen3/token_cache_243db9dca6c478c2a6ee5ce88b9e5916'\n",
      "[2023-04-07 12:29:48,107][  ERROR] backoff: gave up call gen3.auth._write_to_file(<gen3.auth.Gen3Auth object at 0x0000028CE10A3460>, C:\\Users\\kranz-michael/.cache/gen3/token_cache_243db9dca6c478c2a6ee5ce88b9e5916, eyJ0eXAiOiJKV1QiLCJhbGciOiJSUzI1NiIsImtpZCI6ImZlbmNlX2tleV8yMDIwLTAxLTAyVDA2OjM1OjA4WiJ9.eyJwdXIiOiJhY2Nlc3MiLCJpc3MiOiJodHRwczovL2pjb2luLmRhdGFjb21tb25zLmlvL3VzZXIiLCJhdWQiOlsiaHR0cHM6Ly9qY29pbi5kYXRhY29tbW9ucy5pby91c2VyIiwiZ29vZ2xlX3NlcnZpY2VfYWNjb3VudCIsInVzZXIiLCJvcGVuaWQiLCJmZW5jZSIsImRhdGEiLCJnb29nbGVfY3JlZGVudGlhbHMiLCJhZG1pbiIsImdvb2dsZV9saW5rIl0sImlhdCI6MTY4MDg4ODU4NSwiZXhwIjoxNjgwODkyMTg1LCJqdGkiOiJmN2Y1MDU4MS1mYTZlLTQwMGQtYjIzOS05MDU5NjRjZTQzM2EiLCJzY29wZSI6WyJnb29nbGVfc2VydmljZV9hY2NvdW50IiwidXNlciIsIm9wZW5pZCIsImZlbmNlIiwiZGF0YSIsImdvb2dsZV9jcmVkZW50aWFscyIsImFkbWluIiwiZ29vZ2xlX2xpbmsiXSwiY29udGV4dCI6eyJ1c2VyIjp7Im5hbWUiOiJtYmtyYW56QGdtYWlsLmNvbSIsImlzX2FkbWluIjpmYWxzZSwiZ29vZ2xlIjp7InByb3h5X2dyb3VwIjpudWxsfX19LCJhenAiOiIiLCJzdWIiOiI3OSJ9.BRFWEgGIg-LZ-KHPJhBSnl-mxGp7Ntp5fwN4POpnMgkhsbLOUpXopujuvDMTCiWFyZ3NU_5Xi1hX_YiXP_K8ohhbj0yfmBzrC_9_RWsFsmv_5YswXteciFyxNqumdyi1Lb7okUplSNeaheYXET3WNZXKm8NveeaYEERCsIJzA7qqs7TFO3pAXRAzLXlK4Qsc3d24co_MATkbgjXjqhoBMlUbvS4fkHyfdKs2eLOSSg4S-7Np8h_btV9mhJOHREmlyPfc15aPjO1ZLdnNB0ieNKBEl2Z4TXmC_hI0pkJ_Dx0-5GeHgqSt7Z-G18sQJNBGHYDmaaAi5x3I4yyAQCqgGg) after 3 tries; exception: (<class 'FileExistsError'>, FileExistsError(17, 'Cannot create a file when that file already exists'), <traceback object at 0x0000028CE3A7DD40>)\n",
      "[2023-04-07 12:29:48,109][WARNING] Unable to write access token to cache file. Exceeded number of retries.\n",
      "\n",
      "Output written to file: tmp/sheepdog/enrollment.json\n",
      "enrollment.\n",
      "Deleting records for participant\n",
      "[2023-04-07 12:30:05,531][WARNING] failed to write token cache file: C:\\Users\\kranz-michael/.cache/gen3/token_cache_243db9dca6c478c2a6ee5ce88b9e5916\n",
      "[2023-04-07 12:30:05,532][WARNING] [WinError 183] Cannot create a file when that file already exists: 'C:\\\\Users\\\\kranz-michael/.cache/gen3/token_cache_243db9dca6c478c2a6ee5ce88b9e5916.tmp_eraseme_38054_1680888605' -> 'C:\\\\Users\\\\kranz-michael/.cache/gen3/token_cache_243db9dca6c478c2a6ee5ce88b9e5916'\n",
      "[2023-04-07 12:30:05,534][WARNING] backoff: call gen3.auth._write_to_file(<gen3.auth.Gen3Auth object at 0x0000028CE10A01C0>, C:\\Users\\kranz-michael/.cache/gen3/token_cache_243db9dca6c478c2a6ee5ce88b9e5916, eyJ0eXAiOiJKV1QiLCJhbGciOiJSUzI1NiIsImtpZCI6ImZlbmNlX2tleV8yMDIwLTAxLTAyVDA2OjM1OjA4WiJ9.eyJwdXIiOiJhY2Nlc3MiLCJpc3MiOiJodHRwczovL2pjb2luLmRhdGFjb21tb25zLmlvL3VzZXIiLCJhdWQiOlsiaHR0cHM6Ly9qY29pbi5kYXRhY29tbW9ucy5pby91c2VyIiwiZ29vZ2xlX3NlcnZpY2VfYWNjb3VudCIsInVzZXIiLCJvcGVuaWQiLCJmZW5jZSIsImRhdGEiLCJnb29nbGVfY3JlZGVudGlhbHMiLCJhZG1pbiIsImdvb2dsZV9saW5rIl0sImlhdCI6MTY4MDg4ODYwNSwiZXhwIjoxNjgwODkyMjA1LCJqdGkiOiJiZThiZjg3NC04YzE0LTRkODMtYjA1OC0xMTMzN2MwMGMxMzQiLCJzY29wZSI6WyJnb29nbGVfc2VydmljZV9hY2NvdW50IiwidXNlciIsIm9wZW5pZCIsImZlbmNlIiwiZGF0YSIsImdvb2dsZV9jcmVkZW50aWFscyIsImFkbWluIiwiZ29vZ2xlX2xpbmsiXSwiY29udGV4dCI6eyJ1c2VyIjp7Im5hbWUiOiJtYmtyYW56QGdtYWlsLmNvbSIsImlzX2FkbWluIjpmYWxzZSwiZ29vZ2xlIjp7InByb3h5X2dyb3VwIjpudWxsfX19LCJhenAiOiIiLCJzdWIiOiI3OSJ9.WgjS3c7UWiiXMGwCh_xEESlyQtssEsftBLFiHKtN4NrcjsqqTO9jZ7JMDrRt80a_DVCOgXLJRPL_uowRYFWe9R_Qpk6hzTE6nla3UP3_D7MWQTM25kXqAM0TbYeRMKyjfMoQjwuY-OQXPqi49n8_4sy8DuZCFrmTJDS2-YF7sZJD-zF8iDK-lN3p-GaoTSrL4V71Jiu18quj3OjDTxdx-pLWT8l-nilYTRYhhYHn2LN969yWVVezJwgdMNURT2CC5gj2728GT4KyALYvB4xIRjZMahmlG0TAHLdv89mdKiRgUApZgTjT1Jqx8g7eO8YsY3CHv6RUv9smjt-mob5AhQ) delay 0.8 seconds after 1 tries\n",
      "[2023-04-07 12:30:06,333][WARNING] failed to write token cache file: C:\\Users\\kranz-michael/.cache/gen3/token_cache_243db9dca6c478c2a6ee5ce88b9e5916\n",
      "[2023-04-07 12:30:06,334][WARNING] [WinError 183] Cannot create a file when that file already exists: 'C:\\\\Users\\\\kranz-michael/.cache/gen3/token_cache_243db9dca6c478c2a6ee5ce88b9e5916.tmp_eraseme_67845_1680888606' -> 'C:\\\\Users\\\\kranz-michael/.cache/gen3/token_cache_243db9dca6c478c2a6ee5ce88b9e5916'\n",
      "[2023-04-07 12:30:06,336][WARNING] backoff: call gen3.auth._write_to_file(<gen3.auth.Gen3Auth object at 0x0000028CE10A01C0>, C:\\Users\\kranz-michael/.cache/gen3/token_cache_243db9dca6c478c2a6ee5ce88b9e5916, eyJ0eXAiOiJKV1QiLCJhbGciOiJSUzI1NiIsImtpZCI6ImZlbmNlX2tleV8yMDIwLTAxLTAyVDA2OjM1OjA4WiJ9.eyJwdXIiOiJhY2Nlc3MiLCJpc3MiOiJodHRwczovL2pjb2luLmRhdGFjb21tb25zLmlvL3VzZXIiLCJhdWQiOlsiaHR0cHM6Ly9qY29pbi5kYXRhY29tbW9ucy5pby91c2VyIiwiZ29vZ2xlX3NlcnZpY2VfYWNjb3VudCIsInVzZXIiLCJvcGVuaWQiLCJmZW5jZSIsImRhdGEiLCJnb29nbGVfY3JlZGVudGlhbHMiLCJhZG1pbiIsImdvb2dsZV9saW5rIl0sImlhdCI6MTY4MDg4ODYwNSwiZXhwIjoxNjgwODkyMjA1LCJqdGkiOiJiZThiZjg3NC04YzE0LTRkODMtYjA1OC0xMTMzN2MwMGMxMzQiLCJzY29wZSI6WyJnb29nbGVfc2VydmljZV9hY2NvdW50IiwidXNlciIsIm9wZW5pZCIsImZlbmNlIiwiZGF0YSIsImdvb2dsZV9jcmVkZW50aWFscyIsImFkbWluIiwiZ29vZ2xlX2xpbmsiXSwiY29udGV4dCI6eyJ1c2VyIjp7Im5hbWUiOiJtYmtyYW56QGdtYWlsLmNvbSIsImlzX2FkbWluIjpmYWxzZSwiZ29vZ2xlIjp7InByb3h5X2dyb3VwIjpudWxsfX19LCJhenAiOiIiLCJzdWIiOiI3OSJ9.WgjS3c7UWiiXMGwCh_xEESlyQtssEsftBLFiHKtN4NrcjsqqTO9jZ7JMDrRt80a_DVCOgXLJRPL_uowRYFWe9R_Qpk6hzTE6nla3UP3_D7MWQTM25kXqAM0TbYeRMKyjfMoQjwuY-OQXPqi49n8_4sy8DuZCFrmTJDS2-YF7sZJD-zF8iDK-lN3p-GaoTSrL4V71Jiu18quj3OjDTxdx-pLWT8l-nilYTRYhhYHn2LN969yWVVezJwgdMNURT2CC5gj2728GT4KyALYvB4xIRjZMahmlG0TAHLdv89mdKiRgUApZgTjT1Jqx8g7eO8YsY3CHv6RUv9smjt-mob5AhQ) delay 0.8 seconds after 2 tries\n",
      "[2023-04-07 12:30:07,138][WARNING] failed to write token cache file: C:\\Users\\kranz-michael/.cache/gen3/token_cache_243db9dca6c478c2a6ee5ce88b9e5916\n",
      "[2023-04-07 12:30:07,139][WARNING] [WinError 183] Cannot create a file when that file already exists: 'C:\\\\Users\\\\kranz-michael/.cache/gen3/token_cache_243db9dca6c478c2a6ee5ce88b9e5916.tmp_eraseme_35903_1680888607' -> 'C:\\\\Users\\\\kranz-michael/.cache/gen3/token_cache_243db9dca6c478c2a6ee5ce88b9e5916'\n",
      "[2023-04-07 12:30:07,141][  ERROR] backoff: gave up call gen3.auth._write_to_file(<gen3.auth.Gen3Auth object at 0x0000028CE10A01C0>, C:\\Users\\kranz-michael/.cache/gen3/token_cache_243db9dca6c478c2a6ee5ce88b9e5916, eyJ0eXAiOiJKV1QiLCJhbGciOiJSUzI1NiIsImtpZCI6ImZlbmNlX2tleV8yMDIwLTAxLTAyVDA2OjM1OjA4WiJ9.eyJwdXIiOiJhY2Nlc3MiLCJpc3MiOiJodHRwczovL2pjb2luLmRhdGFjb21tb25zLmlvL3VzZXIiLCJhdWQiOlsiaHR0cHM6Ly9qY29pbi5kYXRhY29tbW9ucy5pby91c2VyIiwiZ29vZ2xlX3NlcnZpY2VfYWNjb3VudCIsInVzZXIiLCJvcGVuaWQiLCJmZW5jZSIsImRhdGEiLCJnb29nbGVfY3JlZGVudGlhbHMiLCJhZG1pbiIsImdvb2dsZV9saW5rIl0sImlhdCI6MTY4MDg4ODYwNSwiZXhwIjoxNjgwODkyMjA1LCJqdGkiOiJiZThiZjg3NC04YzE0LTRkODMtYjA1OC0xMTMzN2MwMGMxMzQiLCJzY29wZSI6WyJnb29nbGVfc2VydmljZV9hY2NvdW50IiwidXNlciIsIm9wZW5pZCIsImZlbmNlIiwiZGF0YSIsImdvb2dsZV9jcmVkZW50aWFscyIsImFkbWluIiwiZ29vZ2xlX2xpbmsiXSwiY29udGV4dCI6eyJ1c2VyIjp7Im5hbWUiOiJtYmtyYW56QGdtYWlsLmNvbSIsImlzX2FkbWluIjpmYWxzZSwiZ29vZ2xlIjp7InByb3h5X2dyb3VwIjpudWxsfX19LCJhenAiOiIiLCJzdWIiOiI3OSJ9.WgjS3c7UWiiXMGwCh_xEESlyQtssEsftBLFiHKtN4NrcjsqqTO9jZ7JMDrRt80a_DVCOgXLJRPL_uowRYFWe9R_Qpk6hzTE6nla3UP3_D7MWQTM25kXqAM0TbYeRMKyjfMoQjwuY-OQXPqi49n8_4sy8DuZCFrmTJDS2-YF7sZJD-zF8iDK-lN3p-GaoTSrL4V71Jiu18quj3OjDTxdx-pLWT8l-nilYTRYhhYHn2LN969yWVVezJwgdMNURT2CC5gj2728GT4KyALYvB4xIRjZMahmlG0TAHLdv89mdKiRgUApZgTjT1Jqx8g7eO8YsY3CHv6RUv9smjt-mob5AhQ) after 3 tries; exception: (<class 'FileExistsError'>, FileExistsError(17, 'Cannot create a file when that file already exists'), <traceback object at 0x0000028CE412C840>)\n",
      "[2023-04-07 12:30:07,142][WARNING] Unable to write access token to cache file. Exceeded number of retries.\n",
      "\n",
      "Output written to file: tmp/sheepdog/participant.json\n",
      "participant.\n",
      "Submitting records for participant\n",
      "[2023-04-07 12:30:22,066][   INFO] \n",
      "Using the Sheepdog API URL https://jcoin.datacommons.io/api/v0/submission/JCOIN/TEST\n",
      "\n",
      "[2023-04-07 12:30:24,636][WARNING] failed to write token cache file: C:\\Users\\kranz-michael/.cache/gen3/token_cache_243db9dca6c478c2a6ee5ce88b9e5916\n",
      "[2023-04-07 12:30:24,637][WARNING] [WinError 183] Cannot create a file when that file already exists: 'C:\\\\Users\\\\kranz-michael/.cache/gen3/token_cache_243db9dca6c478c2a6ee5ce88b9e5916.tmp_eraseme_16202_1680888624' -> 'C:\\\\Users\\\\kranz-michael/.cache/gen3/token_cache_243db9dca6c478c2a6ee5ce88b9e5916'\n",
      "[2023-04-07 12:30:24,638][WARNING] backoff: call gen3.auth._write_to_file(<gen3.auth.Gen3Auth object at 0x0000028CE10A2A70>, C:\\Users\\kranz-michael/.cache/gen3/token_cache_243db9dca6c478c2a6ee5ce88b9e5916, eyJ0eXAiOiJKV1QiLCJhbGciOiJSUzI1NiIsImtpZCI6ImZlbmNlX2tleV8yMDIwLTAxLTAyVDA2OjM1OjA4WiJ9.eyJwdXIiOiJhY2Nlc3MiLCJpc3MiOiJodHRwczovL2pjb2luLmRhdGFjb21tb25zLmlvL3VzZXIiLCJhdWQiOlsiaHR0cHM6Ly9qY29pbi5kYXRhY29tbW9ucy5pby91c2VyIiwiZ29vZ2xlX3NlcnZpY2VfYWNjb3VudCIsInVzZXIiLCJvcGVuaWQiLCJmZW5jZSIsImRhdGEiLCJnb29nbGVfY3JlZGVudGlhbHMiLCJhZG1pbiIsImdvb2dsZV9saW5rIl0sImlhdCI6MTY4MDg4ODYyNCwiZXhwIjoxNjgwODkyMjI0LCJqdGkiOiI4Y2Q1YTM5NC1jMDYwLTRiYWUtOWI0Zi0yMGYxY2M3Yjg2MDUiLCJzY29wZSI6WyJnb29nbGVfc2VydmljZV9hY2NvdW50IiwidXNlciIsIm9wZW5pZCIsImZlbmNlIiwiZGF0YSIsImdvb2dsZV9jcmVkZW50aWFscyIsImFkbWluIiwiZ29vZ2xlX2xpbmsiXSwiY29udGV4dCI6eyJ1c2VyIjp7Im5hbWUiOiJtYmtyYW56QGdtYWlsLmNvbSIsImlzX2FkbWluIjpmYWxzZSwiZ29vZ2xlIjp7InByb3h5X2dyb3VwIjpudWxsfX19LCJhenAiOiIiLCJzdWIiOiI3OSJ9.GYMMgrQdfal7bI_t7TbTVNksUlbS5jTJ0JqdAN3u_2d1io9Z6a_RirUBc9acretwXgTHWs_xnLmknAJXhcXlgkhlQ4uJ-CZZGKMt14Ul88X_2f7WwoQKW0yOJhOpRyh7z_T3alhGGflIexLvETz3kiRANgRULf-XsYYZqBQoA2qvxU4pXUTtubMaXI5TTQ54IAl9IhrzIktccnbqHQpUIV7SJ1T7TKGYkF9lL69GoWy76qCZ9uY3j7IX3hZxgiTzRnWjW330dvhchNON2d0j2CaYleook1lYBAHOFh5GgZgN5FRndyS75bA6ovsc1tSo0--I6FwAART9OJCDVF17Tw) delay 0.6 seconds after 1 tries\n",
      "[2023-04-07 12:30:25,288][WARNING] failed to write token cache file: C:\\Users\\kranz-michael/.cache/gen3/token_cache_243db9dca6c478c2a6ee5ce88b9e5916\n",
      "[2023-04-07 12:30:25,290][WARNING] [WinError 183] Cannot create a file when that file already exists: 'C:\\\\Users\\\\kranz-michael/.cache/gen3/token_cache_243db9dca6c478c2a6ee5ce88b9e5916.tmp_eraseme_60473_1680888625' -> 'C:\\\\Users\\\\kranz-michael/.cache/gen3/token_cache_243db9dca6c478c2a6ee5ce88b9e5916'\n",
      "[2023-04-07 12:30:25,291][WARNING] backoff: call gen3.auth._write_to_file(<gen3.auth.Gen3Auth object at 0x0000028CE10A2A70>, C:\\Users\\kranz-michael/.cache/gen3/token_cache_243db9dca6c478c2a6ee5ce88b9e5916, eyJ0eXAiOiJKV1QiLCJhbGciOiJSUzI1NiIsImtpZCI6ImZlbmNlX2tleV8yMDIwLTAxLTAyVDA2OjM1OjA4WiJ9.eyJwdXIiOiJhY2Nlc3MiLCJpc3MiOiJodHRwczovL2pjb2luLmRhdGFjb21tb25zLmlvL3VzZXIiLCJhdWQiOlsiaHR0cHM6Ly9qY29pbi5kYXRhY29tbW9ucy5pby91c2VyIiwiZ29vZ2xlX3NlcnZpY2VfYWNjb3VudCIsInVzZXIiLCJvcGVuaWQiLCJmZW5jZSIsImRhdGEiLCJnb29nbGVfY3JlZGVudGlhbHMiLCJhZG1pbiIsImdvb2dsZV9saW5rIl0sImlhdCI6MTY4MDg4ODYyNCwiZXhwIjoxNjgwODkyMjI0LCJqdGkiOiI4Y2Q1YTM5NC1jMDYwLTRiYWUtOWI0Zi0yMGYxY2M3Yjg2MDUiLCJzY29wZSI6WyJnb29nbGVfc2VydmljZV9hY2NvdW50IiwidXNlciIsIm9wZW5pZCIsImZlbmNlIiwiZGF0YSIsImdvb2dsZV9jcmVkZW50aWFscyIsImFkbWluIiwiZ29vZ2xlX2xpbmsiXSwiY29udGV4dCI6eyJ1c2VyIjp7Im5hbWUiOiJtYmtyYW56QGdtYWlsLmNvbSIsImlzX2FkbWluIjpmYWxzZSwiZ29vZ2xlIjp7InByb3h5X2dyb3VwIjpudWxsfX19LCJhenAiOiIiLCJzdWIiOiI3OSJ9.GYMMgrQdfal7bI_t7TbTVNksUlbS5jTJ0JqdAN3u_2d1io9Z6a_RirUBc9acretwXgTHWs_xnLmknAJXhcXlgkhlQ4uJ-CZZGKMt14Ul88X_2f7WwoQKW0yOJhOpRyh7z_T3alhGGflIexLvETz3kiRANgRULf-XsYYZqBQoA2qvxU4pXUTtubMaXI5TTQ54IAl9IhrzIktccnbqHQpUIV7SJ1T7TKGYkF9lL69GoWy76qCZ9uY3j7IX3hZxgiTzRnWjW330dvhchNON2d0j2CaYleook1lYBAHOFh5GgZgN5FRndyS75bA6ovsc1tSo0--I6FwAART9OJCDVF17Tw) delay 0.2 seconds after 2 tries\n",
      "[2023-04-07 12:30:25,520][WARNING] failed to write token cache file: C:\\Users\\kranz-michael/.cache/gen3/token_cache_243db9dca6c478c2a6ee5ce88b9e5916\n",
      "[2023-04-07 12:30:25,522][WARNING] [WinError 183] Cannot create a file when that file already exists: 'C:\\\\Users\\\\kranz-michael/.cache/gen3/token_cache_243db9dca6c478c2a6ee5ce88b9e5916.tmp_eraseme_1110_1680888625' -> 'C:\\\\Users\\\\kranz-michael/.cache/gen3/token_cache_243db9dca6c478c2a6ee5ce88b9e5916'\n",
      "[2023-04-07 12:30:25,522][  ERROR] backoff: gave up call gen3.auth._write_to_file(<gen3.auth.Gen3Auth object at 0x0000028CE10A2A70>, C:\\Users\\kranz-michael/.cache/gen3/token_cache_243db9dca6c478c2a6ee5ce88b9e5916, eyJ0eXAiOiJKV1QiLCJhbGciOiJSUzI1NiIsImtpZCI6ImZlbmNlX2tleV8yMDIwLTAxLTAyVDA2OjM1OjA4WiJ9.eyJwdXIiOiJhY2Nlc3MiLCJpc3MiOiJodHRwczovL2pjb2luLmRhdGFjb21tb25zLmlvL3VzZXIiLCJhdWQiOlsiaHR0cHM6Ly9qY29pbi5kYXRhY29tbW9ucy5pby91c2VyIiwiZ29vZ2xlX3NlcnZpY2VfYWNjb3VudCIsInVzZXIiLCJvcGVuaWQiLCJmZW5jZSIsImRhdGEiLCJnb29nbGVfY3JlZGVudGlhbHMiLCJhZG1pbiIsImdvb2dsZV9saW5rIl0sImlhdCI6MTY4MDg4ODYyNCwiZXhwIjoxNjgwODkyMjI0LCJqdGkiOiI4Y2Q1YTM5NC1jMDYwLTRiYWUtOWI0Zi0yMGYxY2M3Yjg2MDUiLCJzY29wZSI6WyJnb29nbGVfc2VydmljZV9hY2NvdW50IiwidXNlciIsIm9wZW5pZCIsImZlbmNlIiwiZGF0YSIsImdvb2dsZV9jcmVkZW50aWFscyIsImFkbWluIiwiZ29vZ2xlX2xpbmsiXSwiY29udGV4dCI6eyJ1c2VyIjp7Im5hbWUiOiJtYmtyYW56QGdtYWlsLmNvbSIsImlzX2FkbWluIjpmYWxzZSwiZ29vZ2xlIjp7InByb3h5X2dyb3VwIjpudWxsfX19LCJhenAiOiIiLCJzdWIiOiI3OSJ9.GYMMgrQdfal7bI_t7TbTVNksUlbS5jTJ0JqdAN3u_2d1io9Z6a_RirUBc9acretwXgTHWs_xnLmknAJXhcXlgkhlQ4uJ-CZZGKMt14Ul88X_2f7WwoQKW0yOJhOpRyh7z_T3alhGGflIexLvETz3kiRANgRULf-XsYYZqBQoA2qvxU4pXUTtubMaXI5TTQ54IAl9IhrzIktccnbqHQpUIV7SJ1T7TKGYkF9lL69GoWy76qCZ9uY3j7IX3hZxgiTzRnWjW330dvhchNON2d0j2CaYleook1lYBAHOFh5GgZgN5FRndyS75bA6ovsc1tSo0--I6FwAART9OJCDVF17Tw) after 3 tries; exception: (<class 'FileExistsError'>, FileExistsError(17, 'Cannot create a file when that file already exists'), <traceback object at 0x0000028CE4122D80>)\n",
      "[2023-04-07 12:30:25,522][WARNING] Unable to write access token to cache file. Exceeded number of retries.\n",
      "Submitting records for enrollment\n",
      "[2023-04-07 12:30:31,250][   INFO] \n",
      "Using the Sheepdog API URL https://jcoin.datacommons.io/api/v0/submission/JCOIN/TEST\n",
      "\n",
      "[2023-04-07 12:30:33,790][WARNING] failed to write token cache file: C:\\Users\\kranz-michael/.cache/gen3/token_cache_243db9dca6c478c2a6ee5ce88b9e5916\n",
      "[2023-04-07 12:30:33,791][WARNING] [WinError 183] Cannot create a file when that file already exists: 'C:\\\\Users\\\\kranz-michael/.cache/gen3/token_cache_243db9dca6c478c2a6ee5ce88b9e5916.tmp_eraseme_14224_1680888633' -> 'C:\\\\Users\\\\kranz-michael/.cache/gen3/token_cache_243db9dca6c478c2a6ee5ce88b9e5916'\n",
      "[2023-04-07 12:30:33,792][WARNING] backoff: call gen3.auth._write_to_file(<gen3.auth.Gen3Auth object at 0x0000028CE10A13F0>, C:\\Users\\kranz-michael/.cache/gen3/token_cache_243db9dca6c478c2a6ee5ce88b9e5916, eyJ0eXAiOiJKV1QiLCJhbGciOiJSUzI1NiIsImtpZCI6ImZlbmNlX2tleV8yMDIwLTAxLTAyVDA2OjM1OjA4WiJ9.eyJwdXIiOiJhY2Nlc3MiLCJpc3MiOiJodHRwczovL2pjb2luLmRhdGFjb21tb25zLmlvL3VzZXIiLCJhdWQiOlsiaHR0cHM6Ly9qY29pbi5kYXRhY29tbW9ucy5pby91c2VyIiwiZ29vZ2xlX3NlcnZpY2VfYWNjb3VudCIsInVzZXIiLCJvcGVuaWQiLCJmZW5jZSIsImRhdGEiLCJnb29nbGVfY3JlZGVudGlhbHMiLCJhZG1pbiIsImdvb2dsZV9saW5rIl0sImlhdCI6MTY4MDg4ODYzMywiZXhwIjoxNjgwODkyMjMzLCJqdGkiOiI2OGQ5MWRiYi0xNTYwLTQ3MGEtOWRkMC01OTRmNjYwMjAxOWMiLCJzY29wZSI6WyJnb29nbGVfc2VydmljZV9hY2NvdW50IiwidXNlciIsIm9wZW5pZCIsImZlbmNlIiwiZGF0YSIsImdvb2dsZV9jcmVkZW50aWFscyIsImFkbWluIiwiZ29vZ2xlX2xpbmsiXSwiY29udGV4dCI6eyJ1c2VyIjp7Im5hbWUiOiJtYmtyYW56QGdtYWlsLmNvbSIsImlzX2FkbWluIjpmYWxzZSwiZ29vZ2xlIjp7InByb3h5X2dyb3VwIjpudWxsfX19LCJhenAiOiIiLCJzdWIiOiI3OSJ9.KR2uGhI15j95w-p9I0ih0h_8bXeAKZsK2FeTAxxE3wDEa1wZ_lEhWNuEfTsAz2joeCVv87SeiwyBLJjj1JzlNk2Qw2ISaGg07dUl56aeyzPBxyTP69ZD1MFo4xnFAJ9bwGmY4NlDlzkssZk3kGrlDKnkHN7o4Pc1hSrbS-lP0pac9io9IMifigkOVP0gfTNpiOGbfhdICZ9GQ5UNqFlnuZyW1PKO64rTECSF05zg3eX5aXsLCnAhBkZ3bUWwlH7NhboZnCtQyfS_4q9tZFvqL0re-bclfut_E1bBll9JxMLj9pBQK_Wj7iL1yrT8RNCxBRVTC8-aIlhS1B3r5ijXow) delay 0.6 seconds after 1 tries\n",
      "[2023-04-07 12:30:34,447][WARNING] failed to write token cache file: C:\\Users\\kranz-michael/.cache/gen3/token_cache_243db9dca6c478c2a6ee5ce88b9e5916\n",
      "[2023-04-07 12:30:34,447][WARNING] [WinError 183] Cannot create a file when that file already exists: 'C:\\\\Users\\\\kranz-michael/.cache/gen3/token_cache_243db9dca6c478c2a6ee5ce88b9e5916.tmp_eraseme_45106_1680888634' -> 'C:\\\\Users\\\\kranz-michael/.cache/gen3/token_cache_243db9dca6c478c2a6ee5ce88b9e5916'\n",
      "[2023-04-07 12:30:34,448][WARNING] backoff: call gen3.auth._write_to_file(<gen3.auth.Gen3Auth object at 0x0000028CE10A13F0>, C:\\Users\\kranz-michael/.cache/gen3/token_cache_243db9dca6c478c2a6ee5ce88b9e5916, eyJ0eXAiOiJKV1QiLCJhbGciOiJSUzI1NiIsImtpZCI6ImZlbmNlX2tleV8yMDIwLTAxLTAyVDA2OjM1OjA4WiJ9.eyJwdXIiOiJhY2Nlc3MiLCJpc3MiOiJodHRwczovL2pjb2luLmRhdGFjb21tb25zLmlvL3VzZXIiLCJhdWQiOlsiaHR0cHM6Ly9qY29pbi5kYXRhY29tbW9ucy5pby91c2VyIiwiZ29vZ2xlX3NlcnZpY2VfYWNjb3VudCIsInVzZXIiLCJvcGVuaWQiLCJmZW5jZSIsImRhdGEiLCJnb29nbGVfY3JlZGVudGlhbHMiLCJhZG1pbiIsImdvb2dsZV9saW5rIl0sImlhdCI6MTY4MDg4ODYzMywiZXhwIjoxNjgwODkyMjMzLCJqdGkiOiI2OGQ5MWRiYi0xNTYwLTQ3MGEtOWRkMC01OTRmNjYwMjAxOWMiLCJzY29wZSI6WyJnb29nbGVfc2VydmljZV9hY2NvdW50IiwidXNlciIsIm9wZW5pZCIsImZlbmNlIiwiZGF0YSIsImdvb2dsZV9jcmVkZW50aWFscyIsImFkbWluIiwiZ29vZ2xlX2xpbmsiXSwiY29udGV4dCI6eyJ1c2VyIjp7Im5hbWUiOiJtYmtyYW56QGdtYWlsLmNvbSIsImlzX2FkbWluIjpmYWxzZSwiZ29vZ2xlIjp7InByb3h5X2dyb3VwIjpudWxsfX19LCJhenAiOiIiLCJzdWIiOiI3OSJ9.KR2uGhI15j95w-p9I0ih0h_8bXeAKZsK2FeTAxxE3wDEa1wZ_lEhWNuEfTsAz2joeCVv87SeiwyBLJjj1JzlNk2Qw2ISaGg07dUl56aeyzPBxyTP69ZD1MFo4xnFAJ9bwGmY4NlDlzkssZk3kGrlDKnkHN7o4Pc1hSrbS-lP0pac9io9IMifigkOVP0gfTNpiOGbfhdICZ9GQ5UNqFlnuZyW1PKO64rTECSF05zg3eX5aXsLCnAhBkZ3bUWwlH7NhboZnCtQyfS_4q9tZFvqL0re-bclfut_E1bBll9JxMLj9pBQK_Wj7iL1yrT8RNCxBRVTC8-aIlhS1B3r5ijXow) delay 1.1 seconds after 2 tries\n",
      "[2023-04-07 12:30:35,585][WARNING] failed to write token cache file: C:\\Users\\kranz-michael/.cache/gen3/token_cache_243db9dca6c478c2a6ee5ce88b9e5916\n",
      "[2023-04-07 12:30:35,586][WARNING] [WinError 183] Cannot create a file when that file already exists: 'C:\\\\Users\\\\kranz-michael/.cache/gen3/token_cache_243db9dca6c478c2a6ee5ce88b9e5916.tmp_eraseme_71201_1680888635' -> 'C:\\\\Users\\\\kranz-michael/.cache/gen3/token_cache_243db9dca6c478c2a6ee5ce88b9e5916'\n",
      "[2023-04-07 12:30:35,587][  ERROR] backoff: gave up call gen3.auth._write_to_file(<gen3.auth.Gen3Auth object at 0x0000028CE10A13F0>, C:\\Users\\kranz-michael/.cache/gen3/token_cache_243db9dca6c478c2a6ee5ce88b9e5916, eyJ0eXAiOiJKV1QiLCJhbGciOiJSUzI1NiIsImtpZCI6ImZlbmNlX2tleV8yMDIwLTAxLTAyVDA2OjM1OjA4WiJ9.eyJwdXIiOiJhY2Nlc3MiLCJpc3MiOiJodHRwczovL2pjb2luLmRhdGFjb21tb25zLmlvL3VzZXIiLCJhdWQiOlsiaHR0cHM6Ly9qY29pbi5kYXRhY29tbW9ucy5pby91c2VyIiwiZ29vZ2xlX3NlcnZpY2VfYWNjb3VudCIsInVzZXIiLCJvcGVuaWQiLCJmZW5jZSIsImRhdGEiLCJnb29nbGVfY3JlZGVudGlhbHMiLCJhZG1pbiIsImdvb2dsZV9saW5rIl0sImlhdCI6MTY4MDg4ODYzMywiZXhwIjoxNjgwODkyMjMzLCJqdGkiOiI2OGQ5MWRiYi0xNTYwLTQ3MGEtOWRkMC01OTRmNjYwMjAxOWMiLCJzY29wZSI6WyJnb29nbGVfc2VydmljZV9hY2NvdW50IiwidXNlciIsIm9wZW5pZCIsImZlbmNlIiwiZGF0YSIsImdvb2dsZV9jcmVkZW50aWFscyIsImFkbWluIiwiZ29vZ2xlX2xpbmsiXSwiY29udGV4dCI6eyJ1c2VyIjp7Im5hbWUiOiJtYmtyYW56QGdtYWlsLmNvbSIsImlzX2FkbWluIjpmYWxzZSwiZ29vZ2xlIjp7InByb3h5X2dyb3VwIjpudWxsfX19LCJhenAiOiIiLCJzdWIiOiI3OSJ9.KR2uGhI15j95w-p9I0ih0h_8bXeAKZsK2FeTAxxE3wDEa1wZ_lEhWNuEfTsAz2joeCVv87SeiwyBLJjj1JzlNk2Qw2ISaGg07dUl56aeyzPBxyTP69ZD1MFo4xnFAJ9bwGmY4NlDlzkssZk3kGrlDKnkHN7o4Pc1hSrbS-lP0pac9io9IMifigkOVP0gfTNpiOGbfhdICZ9GQ5UNqFlnuZyW1PKO64rTECSF05zg3eX5aXsLCnAhBkZ3bUWwlH7NhboZnCtQyfS_4q9tZFvqL0re-bclfut_E1bBll9JxMLj9pBQK_Wj7iL1yrT8RNCxBRVTC8-aIlhS1B3r5ijXow) after 3 tries; exception: (<class 'FileExistsError'>, FileExistsError(17, 'Cannot create a file when that file already exists'), <traceback object at 0x0000028CE4121540>)\n",
      "[2023-04-07 12:30:35,588][WARNING] Unable to write access token to cache file. Exceeded number of retries.\n",
      "Submitting records for demographic_baseline\n",
      "[2023-04-07 12:30:39,940][   INFO] \n",
      "Using the Sheepdog API URL https://jcoin.datacommons.io/api/v0/submission/JCOIN/TEST\n",
      "\n",
      "[2023-04-07 12:30:42,298][WARNING] failed to write token cache file: C:\\Users\\kranz-michael/.cache/gen3/token_cache_243db9dca6c478c2a6ee5ce88b9e5916\n",
      "[2023-04-07 12:30:42,299][WARNING] [WinError 183] Cannot create a file when that file already exists: 'C:\\\\Users\\\\kranz-michael/.cache/gen3/token_cache_243db9dca6c478c2a6ee5ce88b9e5916.tmp_eraseme_23955_1680888642' -> 'C:\\\\Users\\\\kranz-michael/.cache/gen3/token_cache_243db9dca6c478c2a6ee5ce88b9e5916'\n",
      "[2023-04-07 12:30:42,299][WARNING] backoff: call gen3.auth._write_to_file(<gen3.auth.Gen3Auth object at 0x0000028CE11B8E50>, C:\\Users\\kranz-michael/.cache/gen3/token_cache_243db9dca6c478c2a6ee5ce88b9e5916, eyJ0eXAiOiJKV1QiLCJhbGciOiJSUzI1NiIsImtpZCI6ImZlbmNlX2tleV8yMDIwLTAxLTAyVDA2OjM1OjA4WiJ9.eyJwdXIiOiJhY2Nlc3MiLCJpc3MiOiJodHRwczovL2pjb2luLmRhdGFjb21tb25zLmlvL3VzZXIiLCJhdWQiOlsiaHR0cHM6Ly9qY29pbi5kYXRhY29tbW9ucy5pby91c2VyIiwiZ29vZ2xlX3NlcnZpY2VfYWNjb3VudCIsInVzZXIiLCJvcGVuaWQiLCJmZW5jZSIsImRhdGEiLCJnb29nbGVfY3JlZGVudGlhbHMiLCJhZG1pbiIsImdvb2dsZV9saW5rIl0sImlhdCI6MTY4MDg4ODY0MiwiZXhwIjoxNjgwODkyMjQyLCJqdGkiOiIzMmU0NmM2My1kNWNiLTQ0OGMtYTg3MS04YmMwZGIxZDdlYTEiLCJzY29wZSI6WyJnb29nbGVfc2VydmljZV9hY2NvdW50IiwidXNlciIsIm9wZW5pZCIsImZlbmNlIiwiZGF0YSIsImdvb2dsZV9jcmVkZW50aWFscyIsImFkbWluIiwiZ29vZ2xlX2xpbmsiXSwiY29udGV4dCI6eyJ1c2VyIjp7Im5hbWUiOiJtYmtyYW56QGdtYWlsLmNvbSIsImlzX2FkbWluIjpmYWxzZSwiZ29vZ2xlIjp7InByb3h5X2dyb3VwIjpudWxsfX19LCJhenAiOiIiLCJzdWIiOiI3OSJ9.IxCISK6bOEObHiWbtcLCbAytDcOCtWYZrmmHFjWJGuLOYnT39MS5SJXgM7PrQz149d5BIV0xHO2trDcctUiw1lp-8Hy45I8-RchnLcgFqZfwCXM0wU3ecEym2fD6d0vclIu15sEZsmBRJna8tkrxg83bwYbMs7qL2UF9QxhcrQI6V1GP5DfQs1fmFJARCBBIPyxFaeNLp6faIG7vehlaffszebXyRLXQTAQUCl-OJpuygPxw4zv_fvJXrgZIP-Ph9NZCGBKsiyJj7YkJUYE_ltqI0R4dq-ID1YIrRkE8aLCdcdGt5YNx1TrNa-FyMQEs6yLgzRntH-UJE0evvb33hA) delay 0.4 seconds after 1 tries\n",
      "[2023-04-07 12:30:42,751][WARNING] failed to write token cache file: C:\\Users\\kranz-michael/.cache/gen3/token_cache_243db9dca6c478c2a6ee5ce88b9e5916\n",
      "[2023-04-07 12:30:42,752][WARNING] [WinError 183] Cannot create a file when that file already exists: 'C:\\\\Users\\\\kranz-michael/.cache/gen3/token_cache_243db9dca6c478c2a6ee5ce88b9e5916.tmp_eraseme_30774_1680888642' -> 'C:\\\\Users\\\\kranz-michael/.cache/gen3/token_cache_243db9dca6c478c2a6ee5ce88b9e5916'\n",
      "[2023-04-07 12:30:42,753][WARNING] backoff: call gen3.auth._write_to_file(<gen3.auth.Gen3Auth object at 0x0000028CE11B8E50>, C:\\Users\\kranz-michael/.cache/gen3/token_cache_243db9dca6c478c2a6ee5ce88b9e5916, eyJ0eXAiOiJKV1QiLCJhbGciOiJSUzI1NiIsImtpZCI6ImZlbmNlX2tleV8yMDIwLTAxLTAyVDA2OjM1OjA4WiJ9.eyJwdXIiOiJhY2Nlc3MiLCJpc3MiOiJodHRwczovL2pjb2luLmRhdGFjb21tb25zLmlvL3VzZXIiLCJhdWQiOlsiaHR0cHM6Ly9qY29pbi5kYXRhY29tbW9ucy5pby91c2VyIiwiZ29vZ2xlX3NlcnZpY2VfYWNjb3VudCIsInVzZXIiLCJvcGVuaWQiLCJmZW5jZSIsImRhdGEiLCJnb29nbGVfY3JlZGVudGlhbHMiLCJhZG1pbiIsImdvb2dsZV9saW5rIl0sImlhdCI6MTY4MDg4ODY0MiwiZXhwIjoxNjgwODkyMjQyLCJqdGkiOiIzMmU0NmM2My1kNWNiLTQ0OGMtYTg3MS04YmMwZGIxZDdlYTEiLCJzY29wZSI6WyJnb29nbGVfc2VydmljZV9hY2NvdW50IiwidXNlciIsIm9wZW5pZCIsImZlbmNlIiwiZGF0YSIsImdvb2dsZV9jcmVkZW50aWFscyIsImFkbWluIiwiZ29vZ2xlX2xpbmsiXSwiY29udGV4dCI6eyJ1c2VyIjp7Im5hbWUiOiJtYmtyYW56QGdtYWlsLmNvbSIsImlzX2FkbWluIjpmYWxzZSwiZ29vZ2xlIjp7InByb3h5X2dyb3VwIjpudWxsfX19LCJhenAiOiIiLCJzdWIiOiI3OSJ9.IxCISK6bOEObHiWbtcLCbAytDcOCtWYZrmmHFjWJGuLOYnT39MS5SJXgM7PrQz149d5BIV0xHO2trDcctUiw1lp-8Hy45I8-RchnLcgFqZfwCXM0wU3ecEym2fD6d0vclIu15sEZsmBRJna8tkrxg83bwYbMs7qL2UF9QxhcrQI6V1GP5DfQs1fmFJARCBBIPyxFaeNLp6faIG7vehlaffszebXyRLXQTAQUCl-OJpuygPxw4zv_fvJXrgZIP-Ph9NZCGBKsiyJj7YkJUYE_ltqI0R4dq-ID1YIrRkE8aLCdcdGt5YNx1TrNa-FyMQEs6yLgzRntH-UJE0evvb33hA) delay 0.1 seconds after 2 tries\n",
      "[2023-04-07 12:30:42,890][WARNING] failed to write token cache file: C:\\Users\\kranz-michael/.cache/gen3/token_cache_243db9dca6c478c2a6ee5ce88b9e5916\n",
      "[2023-04-07 12:30:42,891][WARNING] [WinError 183] Cannot create a file when that file already exists: 'C:\\\\Users\\\\kranz-michael/.cache/gen3/token_cache_243db9dca6c478c2a6ee5ce88b9e5916.tmp_eraseme_94724_1680888642' -> 'C:\\\\Users\\\\kranz-michael/.cache/gen3/token_cache_243db9dca6c478c2a6ee5ce88b9e5916'\n",
      "[2023-04-07 12:30:42,892][  ERROR] backoff: gave up call gen3.auth._write_to_file(<gen3.auth.Gen3Auth object at 0x0000028CE11B8E50>, C:\\Users\\kranz-michael/.cache/gen3/token_cache_243db9dca6c478c2a6ee5ce88b9e5916, eyJ0eXAiOiJKV1QiLCJhbGciOiJSUzI1NiIsImtpZCI6ImZlbmNlX2tleV8yMDIwLTAxLTAyVDA2OjM1OjA4WiJ9.eyJwdXIiOiJhY2Nlc3MiLCJpc3MiOiJodHRwczovL2pjb2luLmRhdGFjb21tb25zLmlvL3VzZXIiLCJhdWQiOlsiaHR0cHM6Ly9qY29pbi5kYXRhY29tbW9ucy5pby91c2VyIiwiZ29vZ2xlX3NlcnZpY2VfYWNjb3VudCIsInVzZXIiLCJvcGVuaWQiLCJmZW5jZSIsImRhdGEiLCJnb29nbGVfY3JlZGVudGlhbHMiLCJhZG1pbiIsImdvb2dsZV9saW5rIl0sImlhdCI6MTY4MDg4ODY0MiwiZXhwIjoxNjgwODkyMjQyLCJqdGkiOiIzMmU0NmM2My1kNWNiLTQ0OGMtYTg3MS04YmMwZGIxZDdlYTEiLCJzY29wZSI6WyJnb29nbGVfc2VydmljZV9hY2NvdW50IiwidXNlciIsIm9wZW5pZCIsImZlbmNlIiwiZGF0YSIsImdvb2dsZV9jcmVkZW50aWFscyIsImFkbWluIiwiZ29vZ2xlX2xpbmsiXSwiY29udGV4dCI6eyJ1c2VyIjp7Im5hbWUiOiJtYmtyYW56QGdtYWlsLmNvbSIsImlzX2FkbWluIjpmYWxzZSwiZ29vZ2xlIjp7InByb3h5X2dyb3VwIjpudWxsfX19LCJhenAiOiIiLCJzdWIiOiI3OSJ9.IxCISK6bOEObHiWbtcLCbAytDcOCtWYZrmmHFjWJGuLOYnT39MS5SJXgM7PrQz149d5BIV0xHO2trDcctUiw1lp-8Hy45I8-RchnLcgFqZfwCXM0wU3ecEym2fD6d0vclIu15sEZsmBRJna8tkrxg83bwYbMs7qL2UF9QxhcrQI6V1GP5DfQs1fmFJARCBBIPyxFaeNLp6faIG7vehlaffszebXyRLXQTAQUCl-OJpuygPxw4zv_fvJXrgZIP-Ph9NZCGBKsiyJj7YkJUYE_ltqI0R4dq-ID1YIrRkE8aLCdcdGt5YNx1TrNa-FyMQEs6yLgzRntH-UJE0evvb33hA) after 3 tries; exception: (<class 'FileExistsError'>, FileExistsError(17, 'Cannot create a file when that file already exists'), <traceback object at 0x0000028CE4112280>)\n",
      "[2023-04-07 12:30:42,893][WARNING] Unable to write access token to cache file. Exceeded number of retries.\n",
      "Submitting records for time_point\n",
      "[2023-04-07 12:30:48,040][   INFO] \n",
      "Using the Sheepdog API URL https://jcoin.datacommons.io/api/v0/submission/JCOIN/TEST\n",
      "\n",
      "[2023-04-07 12:30:50,572][WARNING] failed to write token cache file: C:\\Users\\kranz-michael/.cache/gen3/token_cache_243db9dca6c478c2a6ee5ce88b9e5916\n",
      "[2023-04-07 12:30:50,573][WARNING] [WinError 183] Cannot create a file when that file already exists: 'C:\\\\Users\\\\kranz-michael/.cache/gen3/token_cache_243db9dca6c478c2a6ee5ce88b9e5916.tmp_eraseme_26600_1680888650' -> 'C:\\\\Users\\\\kranz-michael/.cache/gen3/token_cache_243db9dca6c478c2a6ee5ce88b9e5916'\n",
      "[2023-04-07 12:30:50,574][WARNING] backoff: call gen3.auth._write_to_file(<gen3.auth.Gen3Auth object at 0x0000028CE1AB3E80>, C:\\Users\\kranz-michael/.cache/gen3/token_cache_243db9dca6c478c2a6ee5ce88b9e5916, eyJ0eXAiOiJKV1QiLCJhbGciOiJSUzI1NiIsImtpZCI6ImZlbmNlX2tleV8yMDIwLTAxLTAyVDA2OjM1OjA4WiJ9.eyJwdXIiOiJhY2Nlc3MiLCJpc3MiOiJodHRwczovL2pjb2luLmRhdGFjb21tb25zLmlvL3VzZXIiLCJhdWQiOlsiaHR0cHM6Ly9qY29pbi5kYXRhY29tbW9ucy5pby91c2VyIiwiZ29vZ2xlX3NlcnZpY2VfYWNjb3VudCIsInVzZXIiLCJvcGVuaWQiLCJmZW5jZSIsImRhdGEiLCJnb29nbGVfY3JlZGVudGlhbHMiLCJhZG1pbiIsImdvb2dsZV9saW5rIl0sImlhdCI6MTY4MDg4ODY1MCwiZXhwIjoxNjgwODkyMjUwLCJqdGkiOiI3MTA2NmY0MS1kYjUyLTRiZmUtYWQyMC0zMDNiOGIyYmM4ODgiLCJzY29wZSI6WyJnb29nbGVfc2VydmljZV9hY2NvdW50IiwidXNlciIsIm9wZW5pZCIsImZlbmNlIiwiZGF0YSIsImdvb2dsZV9jcmVkZW50aWFscyIsImFkbWluIiwiZ29vZ2xlX2xpbmsiXSwiY29udGV4dCI6eyJ1c2VyIjp7Im5hbWUiOiJtYmtyYW56QGdtYWlsLmNvbSIsImlzX2FkbWluIjpmYWxzZSwiZ29vZ2xlIjp7InByb3h5X2dyb3VwIjpudWxsfX19LCJhenAiOiIiLCJzdWIiOiI3OSJ9.lQjlMgx-ApS97UCYqWkml0RAj4DW5kRAjGnPdnlKsC4UrixEWsHjh-6F9Jt17Xvt3VC6dX2w_Lr1mYfhZ-BuN-0ElB2ZyZislBfdl4pOBYpgJxdFAEPjH1yjFRb_MemHpl1RMUAkZPkO7RdqJEKwwLteCxYCovrzg62l6QbXl1fzEIWNuWju53vOBTnrtoKEB1CG1GvR3NcYqmWyhC6v-6zw6YRP8EbAciYrJpKs9eP60gPWHPloHBMGGCHjNdC25qMjTh1P1t5g4gnuDridgSl_4LrFokdxlpQl0aFbxFV4mywpyB5WZ3fv7Y4xfVuOXi0FCBWe-aBPYZi5Hk4lNw) delay 0.7 seconds after 1 tries\n",
      "[2023-04-07 12:30:51,324][WARNING] failed to write token cache file: C:\\Users\\kranz-michael/.cache/gen3/token_cache_243db9dca6c478c2a6ee5ce88b9e5916\n",
      "[2023-04-07 12:30:51,325][WARNING] [WinError 183] Cannot create a file when that file already exists: 'C:\\\\Users\\\\kranz-michael/.cache/gen3/token_cache_243db9dca6c478c2a6ee5ce88b9e5916.tmp_eraseme_42447_1680888651' -> 'C:\\\\Users\\\\kranz-michael/.cache/gen3/token_cache_243db9dca6c478c2a6ee5ce88b9e5916'\n",
      "[2023-04-07 12:30:51,326][WARNING] backoff: call gen3.auth._write_to_file(<gen3.auth.Gen3Auth object at 0x0000028CE1AB3E80>, C:\\Users\\kranz-michael/.cache/gen3/token_cache_243db9dca6c478c2a6ee5ce88b9e5916, eyJ0eXAiOiJKV1QiLCJhbGciOiJSUzI1NiIsImtpZCI6ImZlbmNlX2tleV8yMDIwLTAxLTAyVDA2OjM1OjA4WiJ9.eyJwdXIiOiJhY2Nlc3MiLCJpc3MiOiJodHRwczovL2pjb2luLmRhdGFjb21tb25zLmlvL3VzZXIiLCJhdWQiOlsiaHR0cHM6Ly9qY29pbi5kYXRhY29tbW9ucy5pby91c2VyIiwiZ29vZ2xlX3NlcnZpY2VfYWNjb3VudCIsInVzZXIiLCJvcGVuaWQiLCJmZW5jZSIsImRhdGEiLCJnb29nbGVfY3JlZGVudGlhbHMiLCJhZG1pbiIsImdvb2dsZV9saW5rIl0sImlhdCI6MTY4MDg4ODY1MCwiZXhwIjoxNjgwODkyMjUwLCJqdGkiOiI3MTA2NmY0MS1kYjUyLTRiZmUtYWQyMC0zMDNiOGIyYmM4ODgiLCJzY29wZSI6WyJnb29nbGVfc2VydmljZV9hY2NvdW50IiwidXNlciIsIm9wZW5pZCIsImZlbmNlIiwiZGF0YSIsImdvb2dsZV9jcmVkZW50aWFscyIsImFkbWluIiwiZ29vZ2xlX2xpbmsiXSwiY29udGV4dCI6eyJ1c2VyIjp7Im5hbWUiOiJtYmtyYW56QGdtYWlsLmNvbSIsImlzX2FkbWluIjpmYWxzZSwiZ29vZ2xlIjp7InByb3h5X2dyb3VwIjpudWxsfX19LCJhenAiOiIiLCJzdWIiOiI3OSJ9.lQjlMgx-ApS97UCYqWkml0RAj4DW5kRAjGnPdnlKsC4UrixEWsHjh-6F9Jt17Xvt3VC6dX2w_Lr1mYfhZ-BuN-0ElB2ZyZislBfdl4pOBYpgJxdFAEPjH1yjFRb_MemHpl1RMUAkZPkO7RdqJEKwwLteCxYCovrzg62l6QbXl1fzEIWNuWju53vOBTnrtoKEB1CG1GvR3NcYqmWyhC6v-6zw6YRP8EbAciYrJpKs9eP60gPWHPloHBMGGCHjNdC25qMjTh1P1t5g4gnuDridgSl_4LrFokdxlpQl0aFbxFV4mywpyB5WZ3fv7Y4xfVuOXi0FCBWe-aBPYZi5Hk4lNw) delay 2.0 seconds after 2 tries\n",
      "[2023-04-07 12:30:53,316][WARNING] failed to write token cache file: C:\\Users\\kranz-michael/.cache/gen3/token_cache_243db9dca6c478c2a6ee5ce88b9e5916\n",
      "[2023-04-07 12:30:53,318][WARNING] [WinError 183] Cannot create a file when that file already exists: 'C:\\\\Users\\\\kranz-michael/.cache/gen3/token_cache_243db9dca6c478c2a6ee5ce88b9e5916.tmp_eraseme_71362_1680888653' -> 'C:\\\\Users\\\\kranz-michael/.cache/gen3/token_cache_243db9dca6c478c2a6ee5ce88b9e5916'\n",
      "[2023-04-07 12:30:53,318][  ERROR] backoff: gave up call gen3.auth._write_to_file(<gen3.auth.Gen3Auth object at 0x0000028CE1AB3E80>, C:\\Users\\kranz-michael/.cache/gen3/token_cache_243db9dca6c478c2a6ee5ce88b9e5916, eyJ0eXAiOiJKV1QiLCJhbGciOiJSUzI1NiIsImtpZCI6ImZlbmNlX2tleV8yMDIwLTAxLTAyVDA2OjM1OjA4WiJ9.eyJwdXIiOiJhY2Nlc3MiLCJpc3MiOiJodHRwczovL2pjb2luLmRhdGFjb21tb25zLmlvL3VzZXIiLCJhdWQiOlsiaHR0cHM6Ly9qY29pbi5kYXRhY29tbW9ucy5pby91c2VyIiwiZ29vZ2xlX3NlcnZpY2VfYWNjb3VudCIsInVzZXIiLCJvcGVuaWQiLCJmZW5jZSIsImRhdGEiLCJnb29nbGVfY3JlZGVudGlhbHMiLCJhZG1pbiIsImdvb2dsZV9saW5rIl0sImlhdCI6MTY4MDg4ODY1MCwiZXhwIjoxNjgwODkyMjUwLCJqdGkiOiI3MTA2NmY0MS1kYjUyLTRiZmUtYWQyMC0zMDNiOGIyYmM4ODgiLCJzY29wZSI6WyJnb29nbGVfc2VydmljZV9hY2NvdW50IiwidXNlciIsIm9wZW5pZCIsImZlbmNlIiwiZGF0YSIsImdvb2dsZV9jcmVkZW50aWFscyIsImFkbWluIiwiZ29vZ2xlX2xpbmsiXSwiY29udGV4dCI6eyJ1c2VyIjp7Im5hbWUiOiJtYmtyYW56QGdtYWlsLmNvbSIsImlzX2FkbWluIjpmYWxzZSwiZ29vZ2xlIjp7InByb3h5X2dyb3VwIjpudWxsfX19LCJhenAiOiIiLCJzdWIiOiI3OSJ9.lQjlMgx-ApS97UCYqWkml0RAj4DW5kRAjGnPdnlKsC4UrixEWsHjh-6F9Jt17Xvt3VC6dX2w_Lr1mYfhZ-BuN-0ElB2ZyZislBfdl4pOBYpgJxdFAEPjH1yjFRb_MemHpl1RMUAkZPkO7RdqJEKwwLteCxYCovrzg62l6QbXl1fzEIWNuWju53vOBTnrtoKEB1CG1GvR3NcYqmWyhC6v-6zw6YRP8EbAciYrJpKs9eP60gPWHPloHBMGGCHjNdC25qMjTh1P1t5g4gnuDridgSl_4LrFokdxlpQl0aFbxFV4mywpyB5WZ3fv7Y4xfVuOXi0FCBWe-aBPYZi5Hk4lNw) after 3 tries; exception: (<class 'FileExistsError'>, FileExistsError(17, 'Cannot create a file when that file already exists'), <traceback object at 0x0000028CE414BE40>)\n",
      "[2023-04-07 12:30:53,319][WARNING] Unable to write access token to cache file. Exceeded number of retries.\n"
     ]
    }
   ],
   "source": [
    "baseline_df = core_measures.package.get_resource(\"baseline\").to_pandas()\n",
    "baseline_df[\"role_in_project\"] = \"Client\" # TODO: add staff\n",
    "timepoints_df = core_measures.package.get_resource(\"timepoints\").to_pandas()\n",
    "last_node_output = map_core_measures_to_sheepdog(\n",
    "    baseline_df=baseline_df,\n",
    "    timepoints_df=timepoints_df,\n",
    "    program=\"JCOIN\",\n",
    "    project=\"TEST\",\n",
    "    credentials_path=\"credentials.json\"\n",
    ")"
   ]
  }
 ],
 "metadata": {
  "kernelspec": {
   "display_name": "jdc-utils",
   "language": "python",
   "name": "python3"
  },
  "language_info": {
   "codemirror_mode": {
    "name": "ipython",
    "version": 3
   },
   "file_extension": ".py",
   "mimetype": "text/x-python",
   "name": "python",
   "nbconvert_exporter": "python",
   "pygments_lexer": "ipython3",
   "version": "3.10.5"
  },
  "orig_nbformat": 4
 },
 "nbformat": 4,
 "nbformat_minor": 2
}

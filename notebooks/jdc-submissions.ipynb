{
 "cells": [
  {
   "attachments": {},
   "cell_type": "markdown",
   "metadata": {},
   "source": [
    "# Submitting (uploading) data to the JCOIN Data Commons"
   ]
  },
  {
   "attachments": {},
   "cell_type": "markdown",
   "metadata": {},
   "source": [
    "To upload (and update) a core measure (or other package or file for that matter) to the JDC, one can use the `submit_package_to_jdc` and `map_to_sheepdog` functions (in this case, we use `map_core_measures_to_sheepdog` which runs a set of transforms to go from a validated core measure data package to a sheepdog submission and then uses `map_to_sheepdog` in the `jdc_utils.utils.gen3` module). Sheepdog maps a subset of variables for quicker discovery on the JDC.\n"
   ]
  },
  {
   "attachments": {},
   "cell_type": "markdown",
   "metadata": {},
   "source": [
    "## Create a new file record (does have any old version- entirely new file)\n",
    "\n",
    "> This is commented out as a TEST project file exists"
   ]
  },
  {
   "cell_type": "code",
   "execution_count": 1,
   "metadata": {},
   "outputs": [],
   "source": [
    "# from jdc_utils.submission import submit_package_to_jdc,map_core_measures_to_sheepdog\n",
    "# from frictionless import Package\n",
    "# import os"
   ]
  },
  {
   "cell_type": "code",
   "execution_count": 4,
   "metadata": {},
   "outputs": [],
   "source": [
    "# from gen3.auth import Gen3Auth\n",
    "# from gen3.submission import Gen3Submission\n",
    "# from gen3.index import Gen3Index\n",
    "# from gen3.file import Gen3File\n",
    "# index = Gen3Index(Gen3Auth(refresh_file=\"credentials.json\"))\n",
    "# sub = Gen3Submission(Gen3Auth(refresh_file=\"credentials.json\"))\n",
    "# files = Gen3File(Gen3Auth(refresh_file=\"credentials.json\"))\n",
    "# sheepdog_rec = sub.export_node(\"JCOIN\",\"TEST\",\"reference_file\",fileformat=\"json\")\n",
    "# index_rec = index.get_record(sheepdog_rec[\"data\"][-1][\"object_id\"])\n",
    "## files.delete_file_locations(index_rec[\"object_id\"])\n",
    "## sub.delete_record(\"JCOIN\",\"TEST\",sheepdog_rec[\"data\"][-1][\"id\"])"
   ]
  },
  {
   "cell_type": "code",
   "execution_count": null,
   "metadata": {},
   "outputs": [],
   "source": [
    "# # create new record - do this only one  time!\n",
    "# # NOTE: no file guid because the record has not been created yet\n",
    "# # NOTE: if want to test with new file records, delete the ones added by\n",
    "#  # uncommenting the deletion methods in above cell\n",
    "# gen3_file = submit_package_to_jdc(\n",
    "#     package_path=\"../data/core-measures-test.zip\",\n",
    "#     commons_project=commons_project,\n",
    "#     sheepdog_file_submitter_id='core-measures-TEST',\n",
    "#     sheepdog_data_type=\"Interview\",\n",
    "#     sheepdog_data_category=\"Core Measures\",\n",
    "#     sheepdog_data_format=\"ZIP\",\n",
    "#     submission_type=\"create\",\n",
    "# )"
   ]
  },
  {
   "attachments": {},
   "cell_type": "markdown",
   "metadata": {},
   "source": [
    "Save the metadata to a file for later reference when updating file"
   ]
  },
  {
   "cell_type": "code",
   "execution_count": 30,
   "metadata": {},
   "outputs": [],
   "source": [
    "#TODO"
   ]
  },
  {
   "attachments": {},
   "cell_type": "markdown",
   "metadata": {},
   "source": [
    "## Map variables to sheepdog \n",
    "This uses the specific `map_core_measures_to_sheepdog` which calls the \n",
    "more general `map_to_sheepdog` function"
   ]
  },
  {
   "cell_type": "code",
   "execution_count": 7,
   "metadata": {},
   "outputs": [
    {
     "name": "stdout",
     "output_type": "stream",
     "text": [
      "Validating records for participant\n",
      "Validating records for enrollment\n",
      "Validating records for demographic_baseline\n",
      "Validating records for time_point\n",
      "Deleting records for time_point\n",
      "\n",
      "Output written to file: tmp/sheepdog/time_point.json\n",
      "time_point.\n",
      "Deleting records for demographic_baseline\n",
      "\n",
      "Output written to file: tmp/sheepdog/demographic_baseline.json\n",
      "demographic_baseline.\n",
      "Deleting records for enrollment\n",
      "\n",
      "Output written to file: tmp/sheepdog/enrollment.json\n",
      "enrollment.\n",
      "Deleting records for participant\n",
      "\n",
      "Output written to file: tmp/sheepdog/participant.json\n",
      "participant.\n",
      "Submitting records for participant\n",
      "[2023-04-12 11:26:26,734][   INFO] \n",
      "Using the Sheepdog API URL https://jcoin.datacommons.io/api/v0/submission/JCOIN/TEST\n",
      "\n",
      "Submitting records for enrollment\n",
      "[2023-04-12 11:26:27,543][   INFO] \n",
      "Using the Sheepdog API URL https://jcoin.datacommons.io/api/v0/submission/JCOIN/TEST\n",
      "\n",
      "Submitting records for demographic_baseline\n",
      "[2023-04-12 11:26:28,325][   INFO] \n",
      "Using the Sheepdog API URL https://jcoin.datacommons.io/api/v0/submission/JCOIN/TEST\n",
      "\n",
      "Submitting records for time_point\n",
      "[2023-04-12 11:26:29,306][   INFO] \n",
      "Using the Sheepdog API URL https://jcoin.datacommons.io/api/v0/submission/JCOIN/TEST\n",
      "\n"
     ]
    }
   ],
   "source": [
    "# package_path = \"../data/core-measures-test/data-package.json\"\n",
    "# core_measures = Package(package_path)\n",
    "# baseline_df = core_measures.get_resource(\"baseline\").to_pandas()\n",
    "# baseline_df[\"role_in_project\"] = \"Client\"\n",
    "# timepoints_df = core_measures.get_resource(\"timepoints\").to_pandas()\n",
    "# last_node_output = map_core_measures_to_sheepdog(\n",
    "#     baseline_df=baseline_df,\n",
    "#     timepoints_df=timepoints_df,\n",
    "#     program=\"JCOIN\",\n",
    "#     project=\"TEST\",\n",
    "#     credentials_path=\"credentials.json\"\n",
    "# )"
   ]
  },
  {
   "attachments": {},
   "cell_type": "markdown",
   "metadata": {},
   "source": [
    "## Update file record\n",
    "\n",
    "To simulate an update: Change something in package, rezip, and run upload/sheepdog mapping"
   ]
  },
  {
   "cell_type": "code",
   "execution_count": 1,
   "metadata": {},
   "outputs": [],
   "source": [
    "from jdc_utils.submission import CoreMeasures\n",
    "\n",
    "commons_project = \"TEST\"\n",
    "file_guid = 'dg.6VTS/80b0372c-a90f-44f9-87a4-c699ed11d051'\n",
    "sheepdog_file_submitter_id = 'core-measures-test'\n",
    "credentials_path=\"credentials.json\""
   ]
  },
  {
   "cell_type": "code",
   "execution_count": 2,
   "metadata": {},
   "outputs": [
    {
     "name": "stdout",
     "output_type": "stream",
     "text": [
      "/Users/michaelkranz/Documents/norc-projects/jcoin/jdc-utilities/notebooks\n",
      "/Users/michaelkranz/Documents/norc-projects/jcoin/jdc-utilities/data/external_workflow_slight_update\n"
     ]
    },
    {
     "name": "stderr",
     "output_type": "stream",
     "text": [
      "/Users/michaelkranz/anaconda/envs/jdc-utilities/lib/python3.10/site-packages/frictionless/plugins/pandas/parser.py:64: FutureWarning: iteritems is deprecated and will be removed in a future version. Use .items instead.\n",
      "  for name, dtype in dataframe.dtypes.iteritems():\n",
      "/Users/michaelkranz/anaconda/envs/jdc-utilities/lib/python3.10/site-packages/frictionless/plugins/pandas/parser.py:64: FutureWarning: iteritems is deprecated and will be removed in a future version. Use .items instead.\n",
      "  for name, dtype in dataframe.dtypes.iteritems():\n",
      "/Users/michaelkranz/anaconda/envs/jdc-utilities/lib/python3.10/site-packages/frictionless/plugins/pandas/parser.py:64: FutureWarning: iteritems is deprecated and will be removed in a future version. Use .items instead.\n",
      "  for name, dtype in dataframe.dtypes.iteritems():\n",
      "/Users/michaelkranz/anaconda/envs/jdc-utilities/lib/python3.10/site-packages/frictionless/plugins/pandas/parser.py:64: FutureWarning: iteritems is deprecated and will be removed in a future version. Use .items instead.\n",
      "  for name, dtype in dataframe.dtypes.iteritems():\n",
      "/Users/michaelkranz/anaconda/envs/jdc-utilities/lib/python3.10/site-packages/frictionless/plugins/pandas/parser.py:64: FutureWarning: iteritems is deprecated and will be removed in a future version. Use .items instead.\n",
      "  for name, dtype in dataframe.dtypes.iteritems():\n"
     ]
    },
    {
     "data": {
      "text/plain": [
       "<jdc_utils.submission.core_measures.CoreMeasures at 0x1317ab8e0>"
      ]
     },
     "execution_count": 2,
     "metadata": {},
     "output_type": "execute_result"
    }
   ],
   "source": [
    "# make slightly updated zipped file\n",
    "core_measures = CoreMeasures(\"../data/external_workflow_slight_update\",is_core_measures=True)\n",
    "core_measures.write(outdir=\"../data/core-measures-slight-update-test\")"
   ]
  },
  {
   "cell_type": "code",
   "execution_count": 4,
   "metadata": {},
   "outputs": [
    {
     "name": "stdout",
     "output_type": "stream",
     "text": [
      "The latest sheepdog and indexd have same file:GOOD\n",
      "  Submitting 12 records in batches of 100\n",
      "Submission progress: 1/1\n"
     ]
    },
    {
     "name": "stderr",
     "output_type": "stream",
     "text": [
      "/Users/michaelkranz/anaconda/envs/jdc-utilities/lib/python3.10/site-packages/frictionless/plugins/pandas/parser.py:64: FutureWarning: iteritems is deprecated and will be removed in a future version. Use .items instead.\n",
      "  for name, dtype in dataframe.dtypes.iteritems():\n",
      "/Users/michaelkranz/anaconda/envs/jdc-utilities/lib/python3.10/site-packages/frictionless/plugins/pandas/parser.py:64: FutureWarning: iteritems is deprecated and will be removed in a future version. Use .items instead.\n",
      "  for name, dtype in dataframe.dtypes.iteritems():\n"
     ]
    },
    {
     "name": "stdout",
     "output_type": "stream",
     "text": [
      "Validating records for participant\n",
      "Validating records for enrollment\n",
      "Validating records for demographic_baseline\n",
      "Validating records for time_point\n",
      "Deleting records for time_point\n",
      "\n",
      "Output written to file: tmp/sheepdog/time_point.json\n",
      "time_point.\n",
      "Deleting records for demographic_baseline\n",
      "\n",
      "Output written to file: tmp/sheepdog/demographic_baseline.json\n",
      "demographic_baseline.\n",
      "Deleting records for enrollment\n",
      "\n",
      "Output written to file: tmp/sheepdog/enrollment.json\n",
      "enrollment.\n",
      "Deleting records for participant\n",
      "\n",
      "Output written to file: tmp/sheepdog/participant.json\n",
      "participant.\n",
      "Submitting records for participant\n",
      "  Submitting 4 records in batches of 100\n",
      "Submission progress: 1/1\n",
      "Submitting records for enrollment\n",
      "  Submitting 4 records in batches of 100\n",
      "Submission progress: 1/1\n",
      "Submitting records for demographic_baseline\n",
      "  Submitting 4 records in batches of 100\n",
      "Submission progress: 1/1\n",
      "Submitting records for time_point\n",
      "  Submitting 11 records in batches of 100\n",
      "Submission progress: 1/1\n"
     ]
    }
   ],
   "source": [
    "core_measures.submit(\n",
    "    commons_project_code=commons_project,\n",
    "    commons_file_guid=file_guid,\n",
    "    commons_file_submitter_id=sheepdog_file_submitter_id,\n",
    "    commons_credentials_path=credentials_path\n",
    ")"
   ]
  },
  {
   "cell_type": "code",
   "execution_count": null,
   "metadata": {},
   "outputs": [],
   "source": []
  }
 ],
 "metadata": {
  "kernelspec": {
   "display_name": "jdc-utils",
   "language": "python",
   "name": "python3"
  },
  "language_info": {
   "codemirror_mode": {
    "name": "ipython",
    "version": 3
   },
   "file_extension": ".py",
   "mimetype": "text/x-python",
   "name": "python",
   "nbconvert_exporter": "python",
   "pygments_lexer": "ipython3",
   "version": "3.10.10"
  },
  "orig_nbformat": 4
 },
 "nbformat": 4,
 "nbformat_minor": 2
}

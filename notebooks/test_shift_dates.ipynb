{
 "cells": [
  {
   "attachments": {},
   "cell_type": "markdown",
   "metadata": {},
   "source": [
    "Date offset and shift dates"
   ]
  },
  {
   "cell_type": "code",
   "execution_count": 2,
   "metadata": {},
   "outputs": [],
   "source": [
    "import pandas as pd\n",
    "from pathlib import Path\n",
    "import shutil\n",
    "import stat\n",
    "import numpy as np\n",
    "from dataforge import tools\n",
    "from jdc_utils.transforms import deidentify\n",
    "from git import Repo"
   ]
  },
  {
   "cell_type": "code",
   "execution_count": 3,
   "metadata": {},
   "outputs": [],
   "source": [
    "#https://stackoverflow.com/questions/4829043/how-to-remove-read-only-attrib-directory-with-python-in-windows\n",
    "def on_rm_error( func, path, exc_info):\n",
    "    # path contains the path of the file that couldn't be removed\n",
    "    # let's just assume that it's read-only and unlink it.\n",
    "    os.chmod( path, stat.S_IWRITE )\n",
    "    os.unlink( path )"
   ]
  },
  {
   "cell_type": "code",
   "execution_count": 4,
   "metadata": {},
   "outputs": [],
   "source": [
    "df = pd.read_csv(\"../tests/data/transform-tests/test-1-long-format.csv\")\n",
    "mapping_file = Path(\"../tests/data/transform-tests/test_mappings.csv\").resolve().as_posix()"
   ]
  },
  {
   "cell_type": "code",
   "execution_count": 5,
   "metadata": {},
   "outputs": [
    {
     "name": "stdout",
     "output_type": "stream",
     "text": [
      "WARNING: File days_for_shift_date.csv not under version control\n"
     ]
    }
   ],
   "source": [
    "# %%writefile -a ../tests/transforms/test_deidentify.py\n",
    "\n",
    "\"\"\" test shift dates without git bare repo \"\"\"\n",
    "deidentify.shift_dates(\n",
    "    df=df,\n",
    "    id_column='record_id',\n",
    "    date_columns='date_var',\n",
    "    map_file=mapping_file)\n",
    "\n",
    "    \n",
    "os.remove('days_for_shift_date.csv')"
   ]
  },
  {
   "cell_type": "code",
   "execution_count": 6,
   "metadata": {},
   "outputs": [],
   "source": [
    "# %%writefile -a ../tests/transforms/test_deidentify.py\n",
    "\n",
    "\"\"\"test shift dates with git bare repo (ie remote url)\"\"\"\n",
    "\n",
    "\n",
    "# create a git bare repo\n",
    "test_remote_url = Path(mapping_file).with_suffix('.git').as_posix()\n",
    "repo = Repo.init(test_remote_url,bare=True)\n",
    "repo.close()\n",
    "\n",
    "#run shift dates with git bare repo url\n",
    "dates1 = deidentify.shift_dates(\n",
    "    df=df,\n",
    "    id_column='record_id',\n",
    "    date_columns='date_var',\n",
    "    map_file=mapping_file,\n",
    "    map_url=test_remote_url)\n",
    "\n",
    "# show evidence that it has been added to history\n",
    "repo = Repo(test_remote_url)\n",
    "assert len(list(repo.iter_commits()))==1\n",
    "repo.close()\n",
    "assert (df['date_var'].dt.strftime('%Y%m%d')!=dates1[\"shifted_date_var\"]).all()\n",
    "# delete git bare repo and tmp/git\n",
    "shutil.rmtree(\"tmp/git\",onerror=on_rm_error)\n",
    "shutil.rmtree(repo.working_dir,onerror=on_rm_error)"
   ]
  },
  {
   "cell_type": "code",
   "execution_count": 21,
   "metadata": {},
   "outputs": [
    {
     "name": "stdout",
     "output_type": "stream",
     "text": [
      "\u001b[1;31mType:\u001b[0m           Repo\n",
      "\u001b[1;31mString form:\u001b[0m    <git.repo.base.Repo 'C:\\\\Users\\\\kranz-michael\\\\projects\\\\jdc-utilities\\\\tests\\\\data\\\\transform-tests\\\\test_mappings.git'>\n",
      "\u001b[1;31mFile:\u001b[0m           c:\\users\\kranz-michael\\miniconda3_v2\\envs\\jdc-utils\\lib\\site-packages\\git\\repo\\base.py\n",
      "\u001b[1;31mDocstring:\u001b[0m     \n",
      "Represents a git repository and allows you to query references,\n",
      "gather commit information, generate diffs, create and clone repositories query\n",
      "the log.\n",
      "\n",
      "The following attributes are worth using:\n",
      "\n",
      "'working_dir' is the working directory of the git command, which is the working tree\n",
      "directory if available or the .git directory in case of bare repositories\n",
      "\n",
      "'working_tree_dir' is the working tree directory, but will raise AssertionError\n",
      "if we are a bare repository.\n",
      "\n",
      "'git_dir' is the .git repository directory, which is always set.\n",
      "\u001b[1;31mInit docstring:\u001b[0m\n",
      "Create a new Repo instance\n",
      "\n",
      ":param path:\n",
      "    the path to either the root git directory or the bare git repo::\n",
      "\n",
      "        repo = Repo(\"/Users/mtrier/Development/git-python\")\n",
      "        repo = Repo(\"/Users/mtrier/Development/git-python.git\")\n",
      "        repo = Repo(\"~/Development/git-python.git\")\n",
      "        repo = Repo(\"$REPOSITORIES/Development/git-python.git\")\n",
      "        repo = Repo(\"C:\\Users\\mtrier\\Development\\git-python\\.git\")\n",
      "\n",
      "    - In *Cygwin*, path may be a `'cygdrive/...'` prefixed path.\n",
      "    - If it evaluates to false, :envvar:`GIT_DIR` is used, and if this also evals to false,\n",
      "      the current-directory is used.\n",
      ":param odbt:\n",
      "    Object DataBase type - a type which is constructed by providing\n",
      "    the directory containing the database objects, i.e. .git/objects. It will\n",
      "    be used to access all object data\n",
      ":param search_parent_directories:\n",
      "    if True, all parent directories will be searched for a valid repo as well.\n",
      "\n",
      "    Please note that this was the default behaviour in older versions of GitPython,\n",
      "    which is considered a bug though.\n",
      ":raise InvalidGitRepositoryError:\n",
      ":raise NoSuchPathError:\n",
      ":return: git.Repo \n"
     ]
    }
   ],
   "source": [
    "repo?"
   ]
  },
  {
   "cell_type": "code",
   "execution_count": 19,
   "metadata": {},
   "outputs": [
    {
     "ename": "PermissionError",
     "evalue": "[WinError 5] Access is denied: 'C:\\\\Users\\\\kranz-michael\\\\projects\\\\jdc-utilities\\\\tests\\\\data\\\\transform-tests\\\\test_mappings.git\\\\objects\\\\c4\\\\4ce4998dadfa486f86fa0b37e539e4cb6ab3b4'",
     "output_type": "error",
     "traceback": [
      "\u001b[1;31m---------------------------------------------------------------------------\u001b[0m",
      "\u001b[1;31mPermissionError\u001b[0m                           Traceback (most recent call last)",
      "\u001b[1;32mc:\\Users\\kranz-michael\\projects\\jdc-utilities\\notebooks\\test_shift_dates.ipynb Cell 7\u001b[0m in \u001b[0;36m<cell line: 1>\u001b[1;34m()\u001b[0m\n\u001b[1;32m----> <a href='vscode-notebook-cell:/c%3A/Users/kranz-michael/projects/jdc-utilities/notebooks/test_shift_dates.ipynb#X23sZmlsZQ%3D%3D?line=0'>1</a>\u001b[0m shutil\u001b[39m.\u001b[39;49mrmtree(repo\u001b[39m.\u001b[39;49mworking_dir)\n",
      "File \u001b[1;32mc:\\Users\\kranz-michael\\miniconda3_v2\\envs\\jdc-utils\\lib\\shutil.py:749\u001b[0m, in \u001b[0;36mrmtree\u001b[1;34m(path, ignore_errors, onerror)\u001b[0m\n\u001b[0;32m    747\u001b[0m     \u001b[39m# can't continue even if onerror hook returns\u001b[39;00m\n\u001b[0;32m    748\u001b[0m     \u001b[39mreturn\u001b[39;00m\n\u001b[1;32m--> 749\u001b[0m \u001b[39mreturn\u001b[39;00m _rmtree_unsafe(path, onerror)\n",
      "File \u001b[1;32mc:\\Users\\kranz-michael\\miniconda3_v2\\envs\\jdc-utils\\lib\\shutil.py:614\u001b[0m, in \u001b[0;36m_rmtree_unsafe\u001b[1;34m(path, onerror)\u001b[0m\n\u001b[0;32m    612\u001b[0m         onerror(os\u001b[39m.\u001b[39mpath\u001b[39m.\u001b[39mislink, fullname, sys\u001b[39m.\u001b[39mexc_info())\n\u001b[0;32m    613\u001b[0m         \u001b[39mcontinue\u001b[39;00m\n\u001b[1;32m--> 614\u001b[0m     _rmtree_unsafe(fullname, onerror)\n\u001b[0;32m    615\u001b[0m \u001b[39melse\u001b[39;00m:\n\u001b[0;32m    616\u001b[0m     \u001b[39mtry\u001b[39;00m:\n",
      "File \u001b[1;32mc:\\Users\\kranz-michael\\miniconda3_v2\\envs\\jdc-utils\\lib\\shutil.py:614\u001b[0m, in \u001b[0;36m_rmtree_unsafe\u001b[1;34m(path, onerror)\u001b[0m\n\u001b[0;32m    612\u001b[0m         onerror(os\u001b[39m.\u001b[39mpath\u001b[39m.\u001b[39mislink, fullname, sys\u001b[39m.\u001b[39mexc_info())\n\u001b[0;32m    613\u001b[0m         \u001b[39mcontinue\u001b[39;00m\n\u001b[1;32m--> 614\u001b[0m     _rmtree_unsafe(fullname, onerror)\n\u001b[0;32m    615\u001b[0m \u001b[39melse\u001b[39;00m:\n\u001b[0;32m    616\u001b[0m     \u001b[39mtry\u001b[39;00m:\n",
      "File \u001b[1;32mc:\\Users\\kranz-michael\\miniconda3_v2\\envs\\jdc-utils\\lib\\shutil.py:619\u001b[0m, in \u001b[0;36m_rmtree_unsafe\u001b[1;34m(path, onerror)\u001b[0m\n\u001b[0;32m    617\u001b[0m             os\u001b[39m.\u001b[39munlink(fullname)\n\u001b[0;32m    618\u001b[0m         \u001b[39mexcept\u001b[39;00m \u001b[39mOSError\u001b[39;00m:\n\u001b[1;32m--> 619\u001b[0m             onerror(os\u001b[39m.\u001b[39;49munlink, fullname, sys\u001b[39m.\u001b[39;49mexc_info())\n\u001b[0;32m    620\u001b[0m \u001b[39mtry\u001b[39;00m:\n\u001b[0;32m    621\u001b[0m     os\u001b[39m.\u001b[39mrmdir(path)\n",
      "File \u001b[1;32mc:\\Users\\kranz-michael\\miniconda3_v2\\envs\\jdc-utils\\lib\\shutil.py:617\u001b[0m, in \u001b[0;36m_rmtree_unsafe\u001b[1;34m(path, onerror)\u001b[0m\n\u001b[0;32m    615\u001b[0m \u001b[39melse\u001b[39;00m:\n\u001b[0;32m    616\u001b[0m     \u001b[39mtry\u001b[39;00m:\n\u001b[1;32m--> 617\u001b[0m         os\u001b[39m.\u001b[39;49munlink(fullname)\n\u001b[0;32m    618\u001b[0m     \u001b[39mexcept\u001b[39;00m \u001b[39mOSError\u001b[39;00m:\n\u001b[0;32m    619\u001b[0m         onerror(os\u001b[39m.\u001b[39munlink, fullname, sys\u001b[39m.\u001b[39mexc_info())\n",
      "\u001b[1;31mPermissionError\u001b[0m: [WinError 5] Access is denied: 'C:\\\\Users\\\\kranz-michael\\\\projects\\\\jdc-utilities\\\\tests\\\\data\\\\transform-tests\\\\test_mappings.git\\\\objects\\\\c4\\\\4ce4998dadfa486f86fa0b37e539e4cb6ab3b4'"
     ]
    }
   ],
   "source": [
    "shutil.rmtree(repo.working_dir)"
   ]
  },
  {
   "cell_type": "code",
   "execution_count": null,
   "metadata": {},
   "outputs": [],
   "source": []
  }
 ],
 "metadata": {
  "kernelspec": {
   "display_name": "jdc-utils",
   "language": "python",
   "name": "python3"
  },
  "language_info": {
   "codemirror_mode": {
    "name": "ipython",
    "version": 3
   },
   "file_extension": ".py",
   "mimetype": "text/x-python",
   "name": "python",
   "nbconvert_exporter": "python",
   "pygments_lexer": "ipython3",
   "version": "3.10.5"
  },
  "orig_nbformat": 4,
  "vscode": {
   "interpreter": {
    "hash": "b8703766e0eea0266513ec6bdab0dac9f88eac8cefc00ed0b139b384718afabe"
   }
  }
 },
 "nbformat": 4,
 "nbformat_minor": 2
}
